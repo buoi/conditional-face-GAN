{
  "nbformat": 4,
  "nbformat_minor": 0,
  "metadata": {
    "accelerator": "GPU",
    "colab": {
      "name": "evaluate GAN.ipynb",
      "provenance": [],
      "collapsed_sections": [
        "gMBqo7it5ghH",
        "U3jle7WzlIpz",
        "l-vj_z3Pleut"
      ],
      "toc_visible": true,
      "include_colab_link": true
    },
    "kernelspec": {
      "display_name": "Python 3",
      "name": "python3"
    },
    "language_info": {
      "name": "python"
    },
    "widgets": {
      "application/vnd.jupyter.widget-state+json": {
        "b914ed1409214523b326a97a9daaf749": {
          "model_module": "@jupyter-widgets/controls",
          "model_name": "VBoxModel",
          "model_module_version": "1.5.0",
          "state": {
            "_view_name": "VBoxView",
            "_dom_classes": [],
            "_model_name": "VBoxModel",
            "_view_module": "@jupyter-widgets/controls",
            "_model_module_version": "1.5.0",
            "_view_count": null,
            "_view_module_version": "1.5.0",
            "box_style": "",
            "layout": "IPY_MODEL_8001dfc337f940ccbb4b90ad5b1a534a",
            "_model_module": "@jupyter-widgets/controls",
            "children": [
              "IPY_MODEL_b7c0ff2fa3994b28be20f3b2bf0634e0",
              "IPY_MODEL_7fcbd80d3f8e4707bdf5032983299828"
            ]
          }
        },
        "8001dfc337f940ccbb4b90ad5b1a534a": {
          "model_module": "@jupyter-widgets/base",
          "model_name": "LayoutModel",
          "model_module_version": "1.2.0",
          "state": {
            "_view_name": "LayoutView",
            "grid_template_rows": null,
            "right": null,
            "justify_content": null,
            "_view_module": "@jupyter-widgets/base",
            "overflow": null,
            "_model_module_version": "1.2.0",
            "_view_count": null,
            "flex_flow": null,
            "width": null,
            "min_width": null,
            "border": null,
            "align_items": null,
            "bottom": null,
            "_model_module": "@jupyter-widgets/base",
            "top": null,
            "grid_column": null,
            "overflow_y": null,
            "overflow_x": null,
            "grid_auto_flow": null,
            "grid_area": null,
            "grid_template_columns": null,
            "flex": null,
            "_model_name": "LayoutModel",
            "justify_items": null,
            "grid_row": null,
            "max_height": null,
            "align_content": null,
            "visibility": null,
            "align_self": null,
            "height": null,
            "min_height": null,
            "padding": null,
            "grid_auto_rows": null,
            "grid_gap": null,
            "max_width": null,
            "order": null,
            "_view_module_version": "1.2.0",
            "grid_template_areas": null,
            "object_position": null,
            "object_fit": null,
            "grid_auto_columns": null,
            "margin": null,
            "display": null,
            "left": null
          }
        },
        "b7c0ff2fa3994b28be20f3b2bf0634e0": {
          "model_module": "@jupyter-widgets/controls",
          "model_name": "LabelModel",
          "model_module_version": "1.5.0",
          "state": {
            "_view_name": "LabelView",
            "style": "IPY_MODEL_8833a3c9ff514712a4fd4220631f2a4f",
            "_dom_classes": [],
            "description": "",
            "_model_name": "LabelModel",
            "placeholder": "​",
            "_view_module": "@jupyter-widgets/controls",
            "_model_module_version": "1.5.0",
            "value": " 0.00MB of 0.00MB uploaded (0.00MB deduped)\r",
            "_view_count": null,
            "_view_module_version": "1.5.0",
            "description_tooltip": null,
            "_model_module": "@jupyter-widgets/controls",
            "layout": "IPY_MODEL_050d6a2caa6043778d3a6c53067104f6"
          }
        },
        "7fcbd80d3f8e4707bdf5032983299828": {
          "model_module": "@jupyter-widgets/controls",
          "model_name": "FloatProgressModel",
          "model_module_version": "1.5.0",
          "state": {
            "_view_name": "ProgressView",
            "style": "IPY_MODEL_0656c27c7f814e6097a29553c3dc9bfe",
            "_dom_classes": [],
            "description": "",
            "_model_name": "FloatProgressModel",
            "bar_style": "",
            "max": 1,
            "_view_module": "@jupyter-widgets/controls",
            "_model_module_version": "1.5.0",
            "value": 1,
            "_view_count": null,
            "_view_module_version": "1.5.0",
            "orientation": "horizontal",
            "min": 0,
            "description_tooltip": null,
            "_model_module": "@jupyter-widgets/controls",
            "layout": "IPY_MODEL_e2ec7937fad441e7aef1a3fd72063032"
          }
        },
        "8833a3c9ff514712a4fd4220631f2a4f": {
          "model_module": "@jupyter-widgets/controls",
          "model_name": "DescriptionStyleModel",
          "model_module_version": "1.5.0",
          "state": {
            "_view_name": "StyleView",
            "_model_name": "DescriptionStyleModel",
            "description_width": "",
            "_view_module": "@jupyter-widgets/base",
            "_model_module_version": "1.5.0",
            "_view_count": null,
            "_view_module_version": "1.2.0",
            "_model_module": "@jupyter-widgets/controls"
          }
        },
        "050d6a2caa6043778d3a6c53067104f6": {
          "model_module": "@jupyter-widgets/base",
          "model_name": "LayoutModel",
          "model_module_version": "1.2.0",
          "state": {
            "_view_name": "LayoutView",
            "grid_template_rows": null,
            "right": null,
            "justify_content": null,
            "_view_module": "@jupyter-widgets/base",
            "overflow": null,
            "_model_module_version": "1.2.0",
            "_view_count": null,
            "flex_flow": null,
            "width": null,
            "min_width": null,
            "border": null,
            "align_items": null,
            "bottom": null,
            "_model_module": "@jupyter-widgets/base",
            "top": null,
            "grid_column": null,
            "overflow_y": null,
            "overflow_x": null,
            "grid_auto_flow": null,
            "grid_area": null,
            "grid_template_columns": null,
            "flex": null,
            "_model_name": "LayoutModel",
            "justify_items": null,
            "grid_row": null,
            "max_height": null,
            "align_content": null,
            "visibility": null,
            "align_self": null,
            "height": null,
            "min_height": null,
            "padding": null,
            "grid_auto_rows": null,
            "grid_gap": null,
            "max_width": null,
            "order": null,
            "_view_module_version": "1.2.0",
            "grid_template_areas": null,
            "object_position": null,
            "object_fit": null,
            "grid_auto_columns": null,
            "margin": null,
            "display": null,
            "left": null
          }
        },
        "0656c27c7f814e6097a29553c3dc9bfe": {
          "model_module": "@jupyter-widgets/controls",
          "model_name": "ProgressStyleModel",
          "model_module_version": "1.5.0",
          "state": {
            "_view_name": "StyleView",
            "_model_name": "ProgressStyleModel",
            "description_width": "",
            "_view_module": "@jupyter-widgets/base",
            "_model_module_version": "1.5.0",
            "_view_count": null,
            "_view_module_version": "1.2.0",
            "bar_color": null,
            "_model_module": "@jupyter-widgets/controls"
          }
        },
        "e2ec7937fad441e7aef1a3fd72063032": {
          "model_module": "@jupyter-widgets/base",
          "model_name": "LayoutModel",
          "model_module_version": "1.2.0",
          "state": {
            "_view_name": "LayoutView",
            "grid_template_rows": null,
            "right": null,
            "justify_content": null,
            "_view_module": "@jupyter-widgets/base",
            "overflow": null,
            "_model_module_version": "1.2.0",
            "_view_count": null,
            "flex_flow": null,
            "width": null,
            "min_width": null,
            "border": null,
            "align_items": null,
            "bottom": null,
            "_model_module": "@jupyter-widgets/base",
            "top": null,
            "grid_column": null,
            "overflow_y": null,
            "overflow_x": null,
            "grid_auto_flow": null,
            "grid_area": null,
            "grid_template_columns": null,
            "flex": null,
            "_model_name": "LayoutModel",
            "justify_items": null,
            "grid_row": null,
            "max_height": null,
            "align_content": null,
            "visibility": null,
            "align_self": null,
            "height": null,
            "min_height": null,
            "padding": null,
            "grid_auto_rows": null,
            "grid_gap": null,
            "max_width": null,
            "order": null,
            "_view_module_version": "1.2.0",
            "grid_template_areas": null,
            "object_position": null,
            "object_fit": null,
            "grid_auto_columns": null,
            "margin": null,
            "display": null,
            "left": null
          }
        },
        "98a0e5c9a6d1401690849085a0677fd9": {
          "model_module": "@jupyter-widgets/controls",
          "model_name": "VBoxModel",
          "model_module_version": "1.5.0",
          "state": {
            "_view_name": "VBoxView",
            "_dom_classes": [],
            "_model_name": "VBoxModel",
            "_view_module": "@jupyter-widgets/controls",
            "_model_module_version": "1.5.0",
            "_view_count": null,
            "_view_module_version": "1.5.0",
            "box_style": "",
            "layout": "IPY_MODEL_8f00c6a6f9b04252836cfa79f3d7bd9d",
            "_model_module": "@jupyter-widgets/controls",
            "children": [
              "IPY_MODEL_d14d3417502149f19aa2d9f31c982b57",
              "IPY_MODEL_8ee6340f0de84f1384a93f24e1a6f7b7"
            ]
          }
        },
        "8f00c6a6f9b04252836cfa79f3d7bd9d": {
          "model_module": "@jupyter-widgets/base",
          "model_name": "LayoutModel",
          "model_module_version": "1.2.0",
          "state": {
            "_view_name": "LayoutView",
            "grid_template_rows": null,
            "right": null,
            "justify_content": null,
            "_view_module": "@jupyter-widgets/base",
            "overflow": null,
            "_model_module_version": "1.2.0",
            "_view_count": null,
            "flex_flow": null,
            "width": null,
            "min_width": null,
            "border": null,
            "align_items": null,
            "bottom": null,
            "_model_module": "@jupyter-widgets/base",
            "top": null,
            "grid_column": null,
            "overflow_y": null,
            "overflow_x": null,
            "grid_auto_flow": null,
            "grid_area": null,
            "grid_template_columns": null,
            "flex": null,
            "_model_name": "LayoutModel",
            "justify_items": null,
            "grid_row": null,
            "max_height": null,
            "align_content": null,
            "visibility": null,
            "align_self": null,
            "height": null,
            "min_height": null,
            "padding": null,
            "grid_auto_rows": null,
            "grid_gap": null,
            "max_width": null,
            "order": null,
            "_view_module_version": "1.2.0",
            "grid_template_areas": null,
            "object_position": null,
            "object_fit": null,
            "grid_auto_columns": null,
            "margin": null,
            "display": null,
            "left": null
          }
        },
        "d14d3417502149f19aa2d9f31c982b57": {
          "model_module": "@jupyter-widgets/controls",
          "model_name": "LabelModel",
          "model_module_version": "1.5.0",
          "state": {
            "_view_name": "LabelView",
            "style": "IPY_MODEL_b7c0dcd7a32543f18b5a374e2bafec88",
            "_dom_classes": [],
            "description": "",
            "_model_name": "LabelModel",
            "placeholder": "​",
            "_view_module": "@jupyter-widgets/controls",
            "_model_module_version": "1.5.0",
            "value": " 0.00MB of 0.00MB uploaded (0.00MB deduped)\r",
            "_view_count": null,
            "_view_module_version": "1.5.0",
            "description_tooltip": null,
            "_model_module": "@jupyter-widgets/controls",
            "layout": "IPY_MODEL_7f51d9273c924224bcb1ac674d0b7dc5"
          }
        },
        "8ee6340f0de84f1384a93f24e1a6f7b7": {
          "model_module": "@jupyter-widgets/controls",
          "model_name": "FloatProgressModel",
          "model_module_version": "1.5.0",
          "state": {
            "_view_name": "ProgressView",
            "style": "IPY_MODEL_d2d0747dadcb49e1b9df3d8ebd848ae9",
            "_dom_classes": [],
            "description": "",
            "_model_name": "FloatProgressModel",
            "bar_style": "",
            "max": 1,
            "_view_module": "@jupyter-widgets/controls",
            "_model_module_version": "1.5.0",
            "value": 1,
            "_view_count": null,
            "_view_module_version": "1.5.0",
            "orientation": "horizontal",
            "min": 0,
            "description_tooltip": null,
            "_model_module": "@jupyter-widgets/controls",
            "layout": "IPY_MODEL_7076648a62a9453ab23141c50918d2ad"
          }
        },
        "b7c0dcd7a32543f18b5a374e2bafec88": {
          "model_module": "@jupyter-widgets/controls",
          "model_name": "DescriptionStyleModel",
          "model_module_version": "1.5.0",
          "state": {
            "_view_name": "StyleView",
            "_model_name": "DescriptionStyleModel",
            "description_width": "",
            "_view_module": "@jupyter-widgets/base",
            "_model_module_version": "1.5.0",
            "_view_count": null,
            "_view_module_version": "1.2.0",
            "_model_module": "@jupyter-widgets/controls"
          }
        },
        "7f51d9273c924224bcb1ac674d0b7dc5": {
          "model_module": "@jupyter-widgets/base",
          "model_name": "LayoutModel",
          "model_module_version": "1.2.0",
          "state": {
            "_view_name": "LayoutView",
            "grid_template_rows": null,
            "right": null,
            "justify_content": null,
            "_view_module": "@jupyter-widgets/base",
            "overflow": null,
            "_model_module_version": "1.2.0",
            "_view_count": null,
            "flex_flow": null,
            "width": null,
            "min_width": null,
            "border": null,
            "align_items": null,
            "bottom": null,
            "_model_module": "@jupyter-widgets/base",
            "top": null,
            "grid_column": null,
            "overflow_y": null,
            "overflow_x": null,
            "grid_auto_flow": null,
            "grid_area": null,
            "grid_template_columns": null,
            "flex": null,
            "_model_name": "LayoutModel",
            "justify_items": null,
            "grid_row": null,
            "max_height": null,
            "align_content": null,
            "visibility": null,
            "align_self": null,
            "height": null,
            "min_height": null,
            "padding": null,
            "grid_auto_rows": null,
            "grid_gap": null,
            "max_width": null,
            "order": null,
            "_view_module_version": "1.2.0",
            "grid_template_areas": null,
            "object_position": null,
            "object_fit": null,
            "grid_auto_columns": null,
            "margin": null,
            "display": null,
            "left": null
          }
        },
        "d2d0747dadcb49e1b9df3d8ebd848ae9": {
          "model_module": "@jupyter-widgets/controls",
          "model_name": "ProgressStyleModel",
          "model_module_version": "1.5.0",
          "state": {
            "_view_name": "StyleView",
            "_model_name": "ProgressStyleModel",
            "description_width": "",
            "_view_module": "@jupyter-widgets/base",
            "_model_module_version": "1.5.0",
            "_view_count": null,
            "_view_module_version": "1.2.0",
            "bar_color": null,
            "_model_module": "@jupyter-widgets/controls"
          }
        },
        "7076648a62a9453ab23141c50918d2ad": {
          "model_module": "@jupyter-widgets/base",
          "model_name": "LayoutModel",
          "model_module_version": "1.2.0",
          "state": {
            "_view_name": "LayoutView",
            "grid_template_rows": null,
            "right": null,
            "justify_content": null,
            "_view_module": "@jupyter-widgets/base",
            "overflow": null,
            "_model_module_version": "1.2.0",
            "_view_count": null,
            "flex_flow": null,
            "width": null,
            "min_width": null,
            "border": null,
            "align_items": null,
            "bottom": null,
            "_model_module": "@jupyter-widgets/base",
            "top": null,
            "grid_column": null,
            "overflow_y": null,
            "overflow_x": null,
            "grid_auto_flow": null,
            "grid_area": null,
            "grid_template_columns": null,
            "flex": null,
            "_model_name": "LayoutModel",
            "justify_items": null,
            "grid_row": null,
            "max_height": null,
            "align_content": null,
            "visibility": null,
            "align_self": null,
            "height": null,
            "min_height": null,
            "padding": null,
            "grid_auto_rows": null,
            "grid_gap": null,
            "max_width": null,
            "order": null,
            "_view_module_version": "1.2.0",
            "grid_template_areas": null,
            "object_position": null,
            "object_fit": null,
            "grid_auto_columns": null,
            "margin": null,
            "display": null,
            "left": null
          }
        },
        "bc088985f44643aea6e6c673c0778d70": {
          "model_module": "@jupyter-widgets/controls",
          "model_name": "HBoxModel",
          "model_module_version": "1.5.0",
          "state": {
            "_view_name": "HBoxView",
            "_dom_classes": [],
            "_model_name": "HBoxModel",
            "_view_module": "@jupyter-widgets/controls",
            "_model_module_version": "1.5.0",
            "_view_count": null,
            "_view_module_version": "1.5.0",
            "box_style": "",
            "layout": "IPY_MODEL_2aee373265e44f58951c06c417646cbf",
            "_model_module": "@jupyter-widgets/controls",
            "children": [
              "IPY_MODEL_80163d8b28ba412fa7d8bc6ec8daef38",
              "IPY_MODEL_a0f9b9ca22c24afd9bafb4e599a65ee5",
              "IPY_MODEL_440c7d79c064413ab06d788f317ffbf1"
            ]
          }
        },
        "2aee373265e44f58951c06c417646cbf": {
          "model_module": "@jupyter-widgets/base",
          "model_name": "LayoutModel",
          "model_module_version": "1.2.0",
          "state": {
            "_view_name": "LayoutView",
            "grid_template_rows": null,
            "right": null,
            "justify_content": null,
            "_view_module": "@jupyter-widgets/base",
            "overflow": null,
            "_model_module_version": "1.2.0",
            "_view_count": null,
            "flex_flow": null,
            "width": null,
            "min_width": null,
            "border": null,
            "align_items": null,
            "bottom": null,
            "_model_module": "@jupyter-widgets/base",
            "top": null,
            "grid_column": null,
            "overflow_y": null,
            "overflow_x": null,
            "grid_auto_flow": null,
            "grid_area": null,
            "grid_template_columns": null,
            "flex": null,
            "_model_name": "LayoutModel",
            "justify_items": null,
            "grid_row": null,
            "max_height": null,
            "align_content": null,
            "visibility": null,
            "align_self": null,
            "height": null,
            "min_height": null,
            "padding": null,
            "grid_auto_rows": null,
            "grid_gap": null,
            "max_width": null,
            "order": null,
            "_view_module_version": "1.2.0",
            "grid_template_areas": null,
            "object_position": null,
            "object_fit": null,
            "grid_auto_columns": null,
            "margin": null,
            "display": null,
            "left": null
          }
        },
        "80163d8b28ba412fa7d8bc6ec8daef38": {
          "model_module": "@jupyter-widgets/controls",
          "model_name": "HTMLModel",
          "model_module_version": "1.5.0",
          "state": {
            "_view_name": "HTMLView",
            "style": "IPY_MODEL_d5e54f29ee134793bed4396e07ed9c0b",
            "_dom_classes": [],
            "description": "",
            "_model_name": "HTMLModel",
            "placeholder": "​",
            "_view_module": "@jupyter-widgets/controls",
            "_model_module_version": "1.5.0",
            "value": "100%",
            "_view_count": null,
            "_view_module_version": "1.5.0",
            "description_tooltip": null,
            "_model_module": "@jupyter-widgets/controls",
            "layout": "IPY_MODEL_ed5e4e0b6f4345d7a636d021c20d518b"
          }
        },
        "a0f9b9ca22c24afd9bafb4e599a65ee5": {
          "model_module": "@jupyter-widgets/controls",
          "model_name": "FloatProgressModel",
          "model_module_version": "1.5.0",
          "state": {
            "_view_name": "ProgressView",
            "style": "IPY_MODEL_3d426a51bd01489ba07c66d6a45ae2a9",
            "_dom_classes": [],
            "description": "",
            "_model_name": "FloatProgressModel",
            "bar_style": "success",
            "max": 100,
            "_view_module": "@jupyter-widgets/controls",
            "_model_module_version": "1.5.0",
            "value": 100,
            "_view_count": null,
            "_view_module_version": "1.5.0",
            "orientation": "horizontal",
            "min": 0,
            "description_tooltip": null,
            "_model_module": "@jupyter-widgets/controls",
            "layout": "IPY_MODEL_53567fc2bd404105a4de6c4cc84b66dc"
          }
        },
        "440c7d79c064413ab06d788f317ffbf1": {
          "model_module": "@jupyter-widgets/controls",
          "model_name": "HTMLModel",
          "model_module_version": "1.5.0",
          "state": {
            "_view_name": "HTMLView",
            "style": "IPY_MODEL_c308afda737b4453850961e4655e4c27",
            "_dom_classes": [],
            "description": "",
            "_model_name": "HTMLModel",
            "placeholder": "​",
            "_view_module": "@jupyter-widgets/controls",
            "_model_module_version": "1.5.0",
            "value": " 100/100 [00:58&lt;00:00,  1.71it/s]",
            "_view_count": null,
            "_view_module_version": "1.5.0",
            "description_tooltip": null,
            "_model_module": "@jupyter-widgets/controls",
            "layout": "IPY_MODEL_a025b467ce23461e981f2356ee69cbad"
          }
        },
        "d5e54f29ee134793bed4396e07ed9c0b": {
          "model_module": "@jupyter-widgets/controls",
          "model_name": "DescriptionStyleModel",
          "model_module_version": "1.5.0",
          "state": {
            "_view_name": "StyleView",
            "_model_name": "DescriptionStyleModel",
            "description_width": "",
            "_view_module": "@jupyter-widgets/base",
            "_model_module_version": "1.5.0",
            "_view_count": null,
            "_view_module_version": "1.2.0",
            "_model_module": "@jupyter-widgets/controls"
          }
        },
        "ed5e4e0b6f4345d7a636d021c20d518b": {
          "model_module": "@jupyter-widgets/base",
          "model_name": "LayoutModel",
          "model_module_version": "1.2.0",
          "state": {
            "_view_name": "LayoutView",
            "grid_template_rows": null,
            "right": null,
            "justify_content": null,
            "_view_module": "@jupyter-widgets/base",
            "overflow": null,
            "_model_module_version": "1.2.0",
            "_view_count": null,
            "flex_flow": null,
            "width": null,
            "min_width": null,
            "border": null,
            "align_items": null,
            "bottom": null,
            "_model_module": "@jupyter-widgets/base",
            "top": null,
            "grid_column": null,
            "overflow_y": null,
            "overflow_x": null,
            "grid_auto_flow": null,
            "grid_area": null,
            "grid_template_columns": null,
            "flex": null,
            "_model_name": "LayoutModel",
            "justify_items": null,
            "grid_row": null,
            "max_height": null,
            "align_content": null,
            "visibility": null,
            "align_self": null,
            "height": null,
            "min_height": null,
            "padding": null,
            "grid_auto_rows": null,
            "grid_gap": null,
            "max_width": null,
            "order": null,
            "_view_module_version": "1.2.0",
            "grid_template_areas": null,
            "object_position": null,
            "object_fit": null,
            "grid_auto_columns": null,
            "margin": null,
            "display": null,
            "left": null
          }
        },
        "3d426a51bd01489ba07c66d6a45ae2a9": {
          "model_module": "@jupyter-widgets/controls",
          "model_name": "ProgressStyleModel",
          "model_module_version": "1.5.0",
          "state": {
            "_view_name": "StyleView",
            "_model_name": "ProgressStyleModel",
            "description_width": "",
            "_view_module": "@jupyter-widgets/base",
            "_model_module_version": "1.5.0",
            "_view_count": null,
            "_view_module_version": "1.2.0",
            "bar_color": null,
            "_model_module": "@jupyter-widgets/controls"
          }
        },
        "53567fc2bd404105a4de6c4cc84b66dc": {
          "model_module": "@jupyter-widgets/base",
          "model_name": "LayoutModel",
          "model_module_version": "1.2.0",
          "state": {
            "_view_name": "LayoutView",
            "grid_template_rows": null,
            "right": null,
            "justify_content": null,
            "_view_module": "@jupyter-widgets/base",
            "overflow": null,
            "_model_module_version": "1.2.0",
            "_view_count": null,
            "flex_flow": null,
            "width": null,
            "min_width": null,
            "border": null,
            "align_items": null,
            "bottom": null,
            "_model_module": "@jupyter-widgets/base",
            "top": null,
            "grid_column": null,
            "overflow_y": null,
            "overflow_x": null,
            "grid_auto_flow": null,
            "grid_area": null,
            "grid_template_columns": null,
            "flex": null,
            "_model_name": "LayoutModel",
            "justify_items": null,
            "grid_row": null,
            "max_height": null,
            "align_content": null,
            "visibility": null,
            "align_self": null,
            "height": null,
            "min_height": null,
            "padding": null,
            "grid_auto_rows": null,
            "grid_gap": null,
            "max_width": null,
            "order": null,
            "_view_module_version": "1.2.0",
            "grid_template_areas": null,
            "object_position": null,
            "object_fit": null,
            "grid_auto_columns": null,
            "margin": null,
            "display": null,
            "left": null
          }
        },
        "c308afda737b4453850961e4655e4c27": {
          "model_module": "@jupyter-widgets/controls",
          "model_name": "DescriptionStyleModel",
          "model_module_version": "1.5.0",
          "state": {
            "_view_name": "StyleView",
            "_model_name": "DescriptionStyleModel",
            "description_width": "",
            "_view_module": "@jupyter-widgets/base",
            "_model_module_version": "1.5.0",
            "_view_count": null,
            "_view_module_version": "1.2.0",
            "_model_module": "@jupyter-widgets/controls"
          }
        },
        "a025b467ce23461e981f2356ee69cbad": {
          "model_module": "@jupyter-widgets/base",
          "model_name": "LayoutModel",
          "model_module_version": "1.2.0",
          "state": {
            "_view_name": "LayoutView",
            "grid_template_rows": null,
            "right": null,
            "justify_content": null,
            "_view_module": "@jupyter-widgets/base",
            "overflow": null,
            "_model_module_version": "1.2.0",
            "_view_count": null,
            "flex_flow": null,
            "width": null,
            "min_width": null,
            "border": null,
            "align_items": null,
            "bottom": null,
            "_model_module": "@jupyter-widgets/base",
            "top": null,
            "grid_column": null,
            "overflow_y": null,
            "overflow_x": null,
            "grid_auto_flow": null,
            "grid_area": null,
            "grid_template_columns": null,
            "flex": null,
            "_model_name": "LayoutModel",
            "justify_items": null,
            "grid_row": null,
            "max_height": null,
            "align_content": null,
            "visibility": null,
            "align_self": null,
            "height": null,
            "min_height": null,
            "padding": null,
            "grid_auto_rows": null,
            "grid_gap": null,
            "max_width": null,
            "order": null,
            "_view_module_version": "1.2.0",
            "grid_template_areas": null,
            "object_position": null,
            "object_fit": null,
            "grid_auto_columns": null,
            "margin": null,
            "display": null,
            "left": null
          }
        },
        "a2c531dec81147019786cf579d258b65": {
          "model_module": "@jupyter-widgets/controls",
          "model_name": "HBoxModel",
          "model_module_version": "1.5.0",
          "state": {
            "_view_name": "HBoxView",
            "_dom_classes": [],
            "_model_name": "HBoxModel",
            "_view_module": "@jupyter-widgets/controls",
            "_model_module_version": "1.5.0",
            "_view_count": null,
            "_view_module_version": "1.5.0",
            "box_style": "",
            "layout": "IPY_MODEL_2260ba9cc3fd456aaa39e2ac2c50a84e",
            "_model_module": "@jupyter-widgets/controls",
            "children": [
              "IPY_MODEL_0af77ad0d79c46cf85a43c65ed6834b9",
              "IPY_MODEL_7574075a2ff3435ea7503b847aab6eb6",
              "IPY_MODEL_a59a5beb5eac4463ae57e442ba909e0a"
            ]
          }
        },
        "2260ba9cc3fd456aaa39e2ac2c50a84e": {
          "model_module": "@jupyter-widgets/base",
          "model_name": "LayoutModel",
          "model_module_version": "1.2.0",
          "state": {
            "_view_name": "LayoutView",
            "grid_template_rows": null,
            "right": null,
            "justify_content": null,
            "_view_module": "@jupyter-widgets/base",
            "overflow": null,
            "_model_module_version": "1.2.0",
            "_view_count": null,
            "flex_flow": null,
            "width": null,
            "min_width": null,
            "border": null,
            "align_items": null,
            "bottom": null,
            "_model_module": "@jupyter-widgets/base",
            "top": null,
            "grid_column": null,
            "overflow_y": null,
            "overflow_x": null,
            "grid_auto_flow": null,
            "grid_area": null,
            "grid_template_columns": null,
            "flex": null,
            "_model_name": "LayoutModel",
            "justify_items": null,
            "grid_row": null,
            "max_height": null,
            "align_content": null,
            "visibility": null,
            "align_self": null,
            "height": null,
            "min_height": null,
            "padding": null,
            "grid_auto_rows": null,
            "grid_gap": null,
            "max_width": null,
            "order": null,
            "_view_module_version": "1.2.0",
            "grid_template_areas": null,
            "object_position": null,
            "object_fit": null,
            "grid_auto_columns": null,
            "margin": null,
            "display": null,
            "left": null
          }
        },
        "0af77ad0d79c46cf85a43c65ed6834b9": {
          "model_module": "@jupyter-widgets/controls",
          "model_name": "HTMLModel",
          "model_module_version": "1.5.0",
          "state": {
            "_view_name": "HTMLView",
            "style": "IPY_MODEL_6794249e54c04119a05c51bad87fddee",
            "_dom_classes": [],
            "description": "",
            "_model_name": "HTMLModel",
            "placeholder": "​",
            "_view_module": "@jupyter-widgets/controls",
            "_model_module_version": "1.5.0",
            "value": "100%",
            "_view_count": null,
            "_view_module_version": "1.5.0",
            "description_tooltip": null,
            "_model_module": "@jupyter-widgets/controls",
            "layout": "IPY_MODEL_a5658e853a4147eca407179784f53747"
          }
        },
        "7574075a2ff3435ea7503b847aab6eb6": {
          "model_module": "@jupyter-widgets/controls",
          "model_name": "FloatProgressModel",
          "model_module_version": "1.5.0",
          "state": {
            "_view_name": "ProgressView",
            "style": "IPY_MODEL_325fd3824d69477b9088df87ea08c309",
            "_dom_classes": [],
            "description": "",
            "_model_name": "FloatProgressModel",
            "bar_style": "success",
            "max": 100,
            "_view_module": "@jupyter-widgets/controls",
            "_model_module_version": "1.5.0",
            "value": 100,
            "_view_count": null,
            "_view_module_version": "1.5.0",
            "orientation": "horizontal",
            "min": 0,
            "description_tooltip": null,
            "_model_module": "@jupyter-widgets/controls",
            "layout": "IPY_MODEL_31137a35d7f84f2da6c3d73855ae9ad3"
          }
        },
        "a59a5beb5eac4463ae57e442ba909e0a": {
          "model_module": "@jupyter-widgets/controls",
          "model_name": "HTMLModel",
          "model_module_version": "1.5.0",
          "state": {
            "_view_name": "HTMLView",
            "style": "IPY_MODEL_24400f4ff17541ed8a03a2caf3b94a3c",
            "_dom_classes": [],
            "description": "",
            "_model_name": "HTMLModel",
            "placeholder": "​",
            "_view_module": "@jupyter-widgets/controls",
            "_model_module_version": "1.5.0",
            "value": " 100/100 [00:58&lt;00:00,  1.72it/s]",
            "_view_count": null,
            "_view_module_version": "1.5.0",
            "description_tooltip": null,
            "_model_module": "@jupyter-widgets/controls",
            "layout": "IPY_MODEL_f858ead283494c2584b98a2bbca25cb0"
          }
        },
        "6794249e54c04119a05c51bad87fddee": {
          "model_module": "@jupyter-widgets/controls",
          "model_name": "DescriptionStyleModel",
          "model_module_version": "1.5.0",
          "state": {
            "_view_name": "StyleView",
            "_model_name": "DescriptionStyleModel",
            "description_width": "",
            "_view_module": "@jupyter-widgets/base",
            "_model_module_version": "1.5.0",
            "_view_count": null,
            "_view_module_version": "1.2.0",
            "_model_module": "@jupyter-widgets/controls"
          }
        },
        "a5658e853a4147eca407179784f53747": {
          "model_module": "@jupyter-widgets/base",
          "model_name": "LayoutModel",
          "model_module_version": "1.2.0",
          "state": {
            "_view_name": "LayoutView",
            "grid_template_rows": null,
            "right": null,
            "justify_content": null,
            "_view_module": "@jupyter-widgets/base",
            "overflow": null,
            "_model_module_version": "1.2.0",
            "_view_count": null,
            "flex_flow": null,
            "width": null,
            "min_width": null,
            "border": null,
            "align_items": null,
            "bottom": null,
            "_model_module": "@jupyter-widgets/base",
            "top": null,
            "grid_column": null,
            "overflow_y": null,
            "overflow_x": null,
            "grid_auto_flow": null,
            "grid_area": null,
            "grid_template_columns": null,
            "flex": null,
            "_model_name": "LayoutModel",
            "justify_items": null,
            "grid_row": null,
            "max_height": null,
            "align_content": null,
            "visibility": null,
            "align_self": null,
            "height": null,
            "min_height": null,
            "padding": null,
            "grid_auto_rows": null,
            "grid_gap": null,
            "max_width": null,
            "order": null,
            "_view_module_version": "1.2.0",
            "grid_template_areas": null,
            "object_position": null,
            "object_fit": null,
            "grid_auto_columns": null,
            "margin": null,
            "display": null,
            "left": null
          }
        },
        "325fd3824d69477b9088df87ea08c309": {
          "model_module": "@jupyter-widgets/controls",
          "model_name": "ProgressStyleModel",
          "model_module_version": "1.5.0",
          "state": {
            "_view_name": "StyleView",
            "_model_name": "ProgressStyleModel",
            "description_width": "",
            "_view_module": "@jupyter-widgets/base",
            "_model_module_version": "1.5.0",
            "_view_count": null,
            "_view_module_version": "1.2.0",
            "bar_color": null,
            "_model_module": "@jupyter-widgets/controls"
          }
        },
        "31137a35d7f84f2da6c3d73855ae9ad3": {
          "model_module": "@jupyter-widgets/base",
          "model_name": "LayoutModel",
          "model_module_version": "1.2.0",
          "state": {
            "_view_name": "LayoutView",
            "grid_template_rows": null,
            "right": null,
            "justify_content": null,
            "_view_module": "@jupyter-widgets/base",
            "overflow": null,
            "_model_module_version": "1.2.0",
            "_view_count": null,
            "flex_flow": null,
            "width": null,
            "min_width": null,
            "border": null,
            "align_items": null,
            "bottom": null,
            "_model_module": "@jupyter-widgets/base",
            "top": null,
            "grid_column": null,
            "overflow_y": null,
            "overflow_x": null,
            "grid_auto_flow": null,
            "grid_area": null,
            "grid_template_columns": null,
            "flex": null,
            "_model_name": "LayoutModel",
            "justify_items": null,
            "grid_row": null,
            "max_height": null,
            "align_content": null,
            "visibility": null,
            "align_self": null,
            "height": null,
            "min_height": null,
            "padding": null,
            "grid_auto_rows": null,
            "grid_gap": null,
            "max_width": null,
            "order": null,
            "_view_module_version": "1.2.0",
            "grid_template_areas": null,
            "object_position": null,
            "object_fit": null,
            "grid_auto_columns": null,
            "margin": null,
            "display": null,
            "left": null
          }
        },
        "24400f4ff17541ed8a03a2caf3b94a3c": {
          "model_module": "@jupyter-widgets/controls",
          "model_name": "DescriptionStyleModel",
          "model_module_version": "1.5.0",
          "state": {
            "_view_name": "StyleView",
            "_model_name": "DescriptionStyleModel",
            "description_width": "",
            "_view_module": "@jupyter-widgets/base",
            "_model_module_version": "1.5.0",
            "_view_count": null,
            "_view_module_version": "1.2.0",
            "_model_module": "@jupyter-widgets/controls"
          }
        },
        "f858ead283494c2584b98a2bbca25cb0": {
          "model_module": "@jupyter-widgets/base",
          "model_name": "LayoutModel",
          "model_module_version": "1.2.0",
          "state": {
            "_view_name": "LayoutView",
            "grid_template_rows": null,
            "right": null,
            "justify_content": null,
            "_view_module": "@jupyter-widgets/base",
            "overflow": null,
            "_model_module_version": "1.2.0",
            "_view_count": null,
            "flex_flow": null,
            "width": null,
            "min_width": null,
            "border": null,
            "align_items": null,
            "bottom": null,
            "_model_module": "@jupyter-widgets/base",
            "top": null,
            "grid_column": null,
            "overflow_y": null,
            "overflow_x": null,
            "grid_auto_flow": null,
            "grid_area": null,
            "grid_template_columns": null,
            "flex": null,
            "_model_name": "LayoutModel",
            "justify_items": null,
            "grid_row": null,
            "max_height": null,
            "align_content": null,
            "visibility": null,
            "align_self": null,
            "height": null,
            "min_height": null,
            "padding": null,
            "grid_auto_rows": null,
            "grid_gap": null,
            "max_width": null,
            "order": null,
            "_view_module_version": "1.2.0",
            "grid_template_areas": null,
            "object_position": null,
            "object_fit": null,
            "grid_auto_columns": null,
            "margin": null,
            "display": null,
            "left": null
          }
        },
        "f8988f8e6b254a2bb4bcb5ffa252001d": {
          "model_module": "@jupyter-widgets/controls",
          "model_name": "HBoxModel",
          "model_module_version": "1.5.0",
          "state": {
            "_view_name": "HBoxView",
            "_dom_classes": [],
            "_model_name": "HBoxModel",
            "_view_module": "@jupyter-widgets/controls",
            "_model_module_version": "1.5.0",
            "_view_count": null,
            "_view_module_version": "1.5.0",
            "box_style": "",
            "layout": "IPY_MODEL_a37f52e9a4af4082ade26c99dcd37391",
            "_model_module": "@jupyter-widgets/controls",
            "children": [
              "IPY_MODEL_b54a2ec70fe74c4889c9340be0ce0267",
              "IPY_MODEL_a5cec140e26544799d250f7782443ca4",
              "IPY_MODEL_8d62dc670bf74a7a8d90032b1e9f30f1"
            ]
          }
        },
        "a37f52e9a4af4082ade26c99dcd37391": {
          "model_module": "@jupyter-widgets/base",
          "model_name": "LayoutModel",
          "model_module_version": "1.2.0",
          "state": {
            "_view_name": "LayoutView",
            "grid_template_rows": null,
            "right": null,
            "justify_content": null,
            "_view_module": "@jupyter-widgets/base",
            "overflow": null,
            "_model_module_version": "1.2.0",
            "_view_count": null,
            "flex_flow": null,
            "width": null,
            "min_width": null,
            "border": null,
            "align_items": null,
            "bottom": null,
            "_model_module": "@jupyter-widgets/base",
            "top": null,
            "grid_column": null,
            "overflow_y": null,
            "overflow_x": null,
            "grid_auto_flow": null,
            "grid_area": null,
            "grid_template_columns": null,
            "flex": null,
            "_model_name": "LayoutModel",
            "justify_items": null,
            "grid_row": null,
            "max_height": null,
            "align_content": null,
            "visibility": null,
            "align_self": null,
            "height": null,
            "min_height": null,
            "padding": null,
            "grid_auto_rows": null,
            "grid_gap": null,
            "max_width": null,
            "order": null,
            "_view_module_version": "1.2.0",
            "grid_template_areas": null,
            "object_position": null,
            "object_fit": null,
            "grid_auto_columns": null,
            "margin": null,
            "display": null,
            "left": null
          }
        },
        "b54a2ec70fe74c4889c9340be0ce0267": {
          "model_module": "@jupyter-widgets/controls",
          "model_name": "HTMLModel",
          "model_module_version": "1.5.0",
          "state": {
            "_view_name": "HTMLView",
            "style": "IPY_MODEL_1eaec1ca18564269b9d172fc109d666f",
            "_dom_classes": [],
            "description": "",
            "_model_name": "HTMLModel",
            "placeholder": "​",
            "_view_module": "@jupyter-widgets/controls",
            "_model_module_version": "1.5.0",
            "value": "100%",
            "_view_count": null,
            "_view_module_version": "1.5.0",
            "description_tooltip": null,
            "_model_module": "@jupyter-widgets/controls",
            "layout": "IPY_MODEL_ebeeb1cc8a7e46b39dc6c4e6d5d6425d"
          }
        },
        "a5cec140e26544799d250f7782443ca4": {
          "model_module": "@jupyter-widgets/controls",
          "model_name": "FloatProgressModel",
          "model_module_version": "1.5.0",
          "state": {
            "_view_name": "ProgressView",
            "style": "IPY_MODEL_520944eb861445d4b95b9755f996cc60",
            "_dom_classes": [],
            "description": "",
            "_model_name": "FloatProgressModel",
            "bar_style": "success",
            "max": 100,
            "_view_module": "@jupyter-widgets/controls",
            "_model_module_version": "1.5.0",
            "value": 100,
            "_view_count": null,
            "_view_module_version": "1.5.0",
            "orientation": "horizontal",
            "min": 0,
            "description_tooltip": null,
            "_model_module": "@jupyter-widgets/controls",
            "layout": "IPY_MODEL_7f86530508b840d1ae394a997043b479"
          }
        },
        "8d62dc670bf74a7a8d90032b1e9f30f1": {
          "model_module": "@jupyter-widgets/controls",
          "model_name": "HTMLModel",
          "model_module_version": "1.5.0",
          "state": {
            "_view_name": "HTMLView",
            "style": "IPY_MODEL_26561eb4d15c4817932c7bcc7212d2dd",
            "_dom_classes": [],
            "description": "",
            "_model_name": "HTMLModel",
            "placeholder": "​",
            "_view_module": "@jupyter-widgets/controls",
            "_model_module_version": "1.5.0",
            "value": " 100/100 [00:58&lt;00:00,  1.72it/s]",
            "_view_count": null,
            "_view_module_version": "1.5.0",
            "description_tooltip": null,
            "_model_module": "@jupyter-widgets/controls",
            "layout": "IPY_MODEL_3d7f50f0aaa84f5d993be66ee459b7fd"
          }
        },
        "1eaec1ca18564269b9d172fc109d666f": {
          "model_module": "@jupyter-widgets/controls",
          "model_name": "DescriptionStyleModel",
          "model_module_version": "1.5.0",
          "state": {
            "_view_name": "StyleView",
            "_model_name": "DescriptionStyleModel",
            "description_width": "",
            "_view_module": "@jupyter-widgets/base",
            "_model_module_version": "1.5.0",
            "_view_count": null,
            "_view_module_version": "1.2.0",
            "_model_module": "@jupyter-widgets/controls"
          }
        },
        "ebeeb1cc8a7e46b39dc6c4e6d5d6425d": {
          "model_module": "@jupyter-widgets/base",
          "model_name": "LayoutModel",
          "model_module_version": "1.2.0",
          "state": {
            "_view_name": "LayoutView",
            "grid_template_rows": null,
            "right": null,
            "justify_content": null,
            "_view_module": "@jupyter-widgets/base",
            "overflow": null,
            "_model_module_version": "1.2.0",
            "_view_count": null,
            "flex_flow": null,
            "width": null,
            "min_width": null,
            "border": null,
            "align_items": null,
            "bottom": null,
            "_model_module": "@jupyter-widgets/base",
            "top": null,
            "grid_column": null,
            "overflow_y": null,
            "overflow_x": null,
            "grid_auto_flow": null,
            "grid_area": null,
            "grid_template_columns": null,
            "flex": null,
            "_model_name": "LayoutModel",
            "justify_items": null,
            "grid_row": null,
            "max_height": null,
            "align_content": null,
            "visibility": null,
            "align_self": null,
            "height": null,
            "min_height": null,
            "padding": null,
            "grid_auto_rows": null,
            "grid_gap": null,
            "max_width": null,
            "order": null,
            "_view_module_version": "1.2.0",
            "grid_template_areas": null,
            "object_position": null,
            "object_fit": null,
            "grid_auto_columns": null,
            "margin": null,
            "display": null,
            "left": null
          }
        },
        "520944eb861445d4b95b9755f996cc60": {
          "model_module": "@jupyter-widgets/controls",
          "model_name": "ProgressStyleModel",
          "model_module_version": "1.5.0",
          "state": {
            "_view_name": "StyleView",
            "_model_name": "ProgressStyleModel",
            "description_width": "",
            "_view_module": "@jupyter-widgets/base",
            "_model_module_version": "1.5.0",
            "_view_count": null,
            "_view_module_version": "1.2.0",
            "bar_color": null,
            "_model_module": "@jupyter-widgets/controls"
          }
        },
        "7f86530508b840d1ae394a997043b479": {
          "model_module": "@jupyter-widgets/base",
          "model_name": "LayoutModel",
          "model_module_version": "1.2.0",
          "state": {
            "_view_name": "LayoutView",
            "grid_template_rows": null,
            "right": null,
            "justify_content": null,
            "_view_module": "@jupyter-widgets/base",
            "overflow": null,
            "_model_module_version": "1.2.0",
            "_view_count": null,
            "flex_flow": null,
            "width": null,
            "min_width": null,
            "border": null,
            "align_items": null,
            "bottom": null,
            "_model_module": "@jupyter-widgets/base",
            "top": null,
            "grid_column": null,
            "overflow_y": null,
            "overflow_x": null,
            "grid_auto_flow": null,
            "grid_area": null,
            "grid_template_columns": null,
            "flex": null,
            "_model_name": "LayoutModel",
            "justify_items": null,
            "grid_row": null,
            "max_height": null,
            "align_content": null,
            "visibility": null,
            "align_self": null,
            "height": null,
            "min_height": null,
            "padding": null,
            "grid_auto_rows": null,
            "grid_gap": null,
            "max_width": null,
            "order": null,
            "_view_module_version": "1.2.0",
            "grid_template_areas": null,
            "object_position": null,
            "object_fit": null,
            "grid_auto_columns": null,
            "margin": null,
            "display": null,
            "left": null
          }
        },
        "26561eb4d15c4817932c7bcc7212d2dd": {
          "model_module": "@jupyter-widgets/controls",
          "model_name": "DescriptionStyleModel",
          "model_module_version": "1.5.0",
          "state": {
            "_view_name": "StyleView",
            "_model_name": "DescriptionStyleModel",
            "description_width": "",
            "_view_module": "@jupyter-widgets/base",
            "_model_module_version": "1.5.0",
            "_view_count": null,
            "_view_module_version": "1.2.0",
            "_model_module": "@jupyter-widgets/controls"
          }
        },
        "3d7f50f0aaa84f5d993be66ee459b7fd": {
          "model_module": "@jupyter-widgets/base",
          "model_name": "LayoutModel",
          "model_module_version": "1.2.0",
          "state": {
            "_view_name": "LayoutView",
            "grid_template_rows": null,
            "right": null,
            "justify_content": null,
            "_view_module": "@jupyter-widgets/base",
            "overflow": null,
            "_model_module_version": "1.2.0",
            "_view_count": null,
            "flex_flow": null,
            "width": null,
            "min_width": null,
            "border": null,
            "align_items": null,
            "bottom": null,
            "_model_module": "@jupyter-widgets/base",
            "top": null,
            "grid_column": null,
            "overflow_y": null,
            "overflow_x": null,
            "grid_auto_flow": null,
            "grid_area": null,
            "grid_template_columns": null,
            "flex": null,
            "_model_name": "LayoutModel",
            "justify_items": null,
            "grid_row": null,
            "max_height": null,
            "align_content": null,
            "visibility": null,
            "align_self": null,
            "height": null,
            "min_height": null,
            "padding": null,
            "grid_auto_rows": null,
            "grid_gap": null,
            "max_width": null,
            "order": null,
            "_view_module_version": "1.2.0",
            "grid_template_areas": null,
            "object_position": null,
            "object_fit": null,
            "grid_auto_columns": null,
            "margin": null,
            "display": null,
            "left": null
          }
        },
        "4dc8acb351934801addcfd3c5d300320": {
          "model_module": "@jupyter-widgets/controls",
          "model_name": "HBoxModel",
          "model_module_version": "1.5.0",
          "state": {
            "_view_name": "HBoxView",
            "_dom_classes": [],
            "_model_name": "HBoxModel",
            "_view_module": "@jupyter-widgets/controls",
            "_model_module_version": "1.5.0",
            "_view_count": null,
            "_view_module_version": "1.5.0",
            "box_style": "",
            "layout": "IPY_MODEL_2d9c0505e5b94a9982d272678bf10fe8",
            "_model_module": "@jupyter-widgets/controls",
            "children": [
              "IPY_MODEL_ba5b2c98c4994dad972b8570f153ebe8",
              "IPY_MODEL_c1a8f42ed90f4749b030274703cbbd7f",
              "IPY_MODEL_e57ad7e1bf084d8e8f73c1146c2a30f0"
            ]
          }
        },
        "2d9c0505e5b94a9982d272678bf10fe8": {
          "model_module": "@jupyter-widgets/base",
          "model_name": "LayoutModel",
          "model_module_version": "1.2.0",
          "state": {
            "_view_name": "LayoutView",
            "grid_template_rows": null,
            "right": null,
            "justify_content": null,
            "_view_module": "@jupyter-widgets/base",
            "overflow": null,
            "_model_module_version": "1.2.0",
            "_view_count": null,
            "flex_flow": null,
            "width": null,
            "min_width": null,
            "border": null,
            "align_items": null,
            "bottom": null,
            "_model_module": "@jupyter-widgets/base",
            "top": null,
            "grid_column": null,
            "overflow_y": null,
            "overflow_x": null,
            "grid_auto_flow": null,
            "grid_area": null,
            "grid_template_columns": null,
            "flex": null,
            "_model_name": "LayoutModel",
            "justify_items": null,
            "grid_row": null,
            "max_height": null,
            "align_content": null,
            "visibility": null,
            "align_self": null,
            "height": null,
            "min_height": null,
            "padding": null,
            "grid_auto_rows": null,
            "grid_gap": null,
            "max_width": null,
            "order": null,
            "_view_module_version": "1.2.0",
            "grid_template_areas": null,
            "object_position": null,
            "object_fit": null,
            "grid_auto_columns": null,
            "margin": null,
            "display": null,
            "left": null
          }
        },
        "ba5b2c98c4994dad972b8570f153ebe8": {
          "model_module": "@jupyter-widgets/controls",
          "model_name": "HTMLModel",
          "model_module_version": "1.5.0",
          "state": {
            "_view_name": "HTMLView",
            "style": "IPY_MODEL_deb3f91dfca3447ea84abc6b431cfab9",
            "_dom_classes": [],
            "description": "",
            "_model_name": "HTMLModel",
            "placeholder": "​",
            "_view_module": "@jupyter-widgets/controls",
            "_model_module_version": "1.5.0",
            "value": "100%",
            "_view_count": null,
            "_view_module_version": "1.5.0",
            "description_tooltip": null,
            "_model_module": "@jupyter-widgets/controls",
            "layout": "IPY_MODEL_21fe126e7f9f4fe7bf10d71f424b0bde"
          }
        },
        "c1a8f42ed90f4749b030274703cbbd7f": {
          "model_module": "@jupyter-widgets/controls",
          "model_name": "FloatProgressModel",
          "model_module_version": "1.5.0",
          "state": {
            "_view_name": "ProgressView",
            "style": "IPY_MODEL_24db002179d64af793a3e5e5f4f9f291",
            "_dom_classes": [],
            "description": "",
            "_model_name": "FloatProgressModel",
            "bar_style": "success",
            "max": 100,
            "_view_module": "@jupyter-widgets/controls",
            "_model_module_version": "1.5.0",
            "value": 100,
            "_view_count": null,
            "_view_module_version": "1.5.0",
            "orientation": "horizontal",
            "min": 0,
            "description_tooltip": null,
            "_model_module": "@jupyter-widgets/controls",
            "layout": "IPY_MODEL_882f9ea3c69d47edba7d009f4819e6bd"
          }
        },
        "e57ad7e1bf084d8e8f73c1146c2a30f0": {
          "model_module": "@jupyter-widgets/controls",
          "model_name": "HTMLModel",
          "model_module_version": "1.5.0",
          "state": {
            "_view_name": "HTMLView",
            "style": "IPY_MODEL_252198f8191e4d449cbc58c266fd2125",
            "_dom_classes": [],
            "description": "",
            "_model_name": "HTMLModel",
            "placeholder": "​",
            "_view_module": "@jupyter-widgets/controls",
            "_model_module_version": "1.5.0",
            "value": " 100/100 [00:58&lt;00:00,  1.70it/s]",
            "_view_count": null,
            "_view_module_version": "1.5.0",
            "description_tooltip": null,
            "_model_module": "@jupyter-widgets/controls",
            "layout": "IPY_MODEL_251f55820efc4550b504b719eea178ff"
          }
        },
        "deb3f91dfca3447ea84abc6b431cfab9": {
          "model_module": "@jupyter-widgets/controls",
          "model_name": "DescriptionStyleModel",
          "model_module_version": "1.5.0",
          "state": {
            "_view_name": "StyleView",
            "_model_name": "DescriptionStyleModel",
            "description_width": "",
            "_view_module": "@jupyter-widgets/base",
            "_model_module_version": "1.5.0",
            "_view_count": null,
            "_view_module_version": "1.2.0",
            "_model_module": "@jupyter-widgets/controls"
          }
        },
        "21fe126e7f9f4fe7bf10d71f424b0bde": {
          "model_module": "@jupyter-widgets/base",
          "model_name": "LayoutModel",
          "model_module_version": "1.2.0",
          "state": {
            "_view_name": "LayoutView",
            "grid_template_rows": null,
            "right": null,
            "justify_content": null,
            "_view_module": "@jupyter-widgets/base",
            "overflow": null,
            "_model_module_version": "1.2.0",
            "_view_count": null,
            "flex_flow": null,
            "width": null,
            "min_width": null,
            "border": null,
            "align_items": null,
            "bottom": null,
            "_model_module": "@jupyter-widgets/base",
            "top": null,
            "grid_column": null,
            "overflow_y": null,
            "overflow_x": null,
            "grid_auto_flow": null,
            "grid_area": null,
            "grid_template_columns": null,
            "flex": null,
            "_model_name": "LayoutModel",
            "justify_items": null,
            "grid_row": null,
            "max_height": null,
            "align_content": null,
            "visibility": null,
            "align_self": null,
            "height": null,
            "min_height": null,
            "padding": null,
            "grid_auto_rows": null,
            "grid_gap": null,
            "max_width": null,
            "order": null,
            "_view_module_version": "1.2.0",
            "grid_template_areas": null,
            "object_position": null,
            "object_fit": null,
            "grid_auto_columns": null,
            "margin": null,
            "display": null,
            "left": null
          }
        },
        "24db002179d64af793a3e5e5f4f9f291": {
          "model_module": "@jupyter-widgets/controls",
          "model_name": "ProgressStyleModel",
          "model_module_version": "1.5.0",
          "state": {
            "_view_name": "StyleView",
            "_model_name": "ProgressStyleModel",
            "description_width": "",
            "_view_module": "@jupyter-widgets/base",
            "_model_module_version": "1.5.0",
            "_view_count": null,
            "_view_module_version": "1.2.0",
            "bar_color": null,
            "_model_module": "@jupyter-widgets/controls"
          }
        },
        "882f9ea3c69d47edba7d009f4819e6bd": {
          "model_module": "@jupyter-widgets/base",
          "model_name": "LayoutModel",
          "model_module_version": "1.2.0",
          "state": {
            "_view_name": "LayoutView",
            "grid_template_rows": null,
            "right": null,
            "justify_content": null,
            "_view_module": "@jupyter-widgets/base",
            "overflow": null,
            "_model_module_version": "1.2.0",
            "_view_count": null,
            "flex_flow": null,
            "width": null,
            "min_width": null,
            "border": null,
            "align_items": null,
            "bottom": null,
            "_model_module": "@jupyter-widgets/base",
            "top": null,
            "grid_column": null,
            "overflow_y": null,
            "overflow_x": null,
            "grid_auto_flow": null,
            "grid_area": null,
            "grid_template_columns": null,
            "flex": null,
            "_model_name": "LayoutModel",
            "justify_items": null,
            "grid_row": null,
            "max_height": null,
            "align_content": null,
            "visibility": null,
            "align_self": null,
            "height": null,
            "min_height": null,
            "padding": null,
            "grid_auto_rows": null,
            "grid_gap": null,
            "max_width": null,
            "order": null,
            "_view_module_version": "1.2.0",
            "grid_template_areas": null,
            "object_position": null,
            "object_fit": null,
            "grid_auto_columns": null,
            "margin": null,
            "display": null,
            "left": null
          }
        },
        "252198f8191e4d449cbc58c266fd2125": {
          "model_module": "@jupyter-widgets/controls",
          "model_name": "DescriptionStyleModel",
          "model_module_version": "1.5.0",
          "state": {
            "_view_name": "StyleView",
            "_model_name": "DescriptionStyleModel",
            "description_width": "",
            "_view_module": "@jupyter-widgets/base",
            "_model_module_version": "1.5.0",
            "_view_count": null,
            "_view_module_version": "1.2.0",
            "_model_module": "@jupyter-widgets/controls"
          }
        },
        "251f55820efc4550b504b719eea178ff": {
          "model_module": "@jupyter-widgets/base",
          "model_name": "LayoutModel",
          "model_module_version": "1.2.0",
          "state": {
            "_view_name": "LayoutView",
            "grid_template_rows": null,
            "right": null,
            "justify_content": null,
            "_view_module": "@jupyter-widgets/base",
            "overflow": null,
            "_model_module_version": "1.2.0",
            "_view_count": null,
            "flex_flow": null,
            "width": null,
            "min_width": null,
            "border": null,
            "align_items": null,
            "bottom": null,
            "_model_module": "@jupyter-widgets/base",
            "top": null,
            "grid_column": null,
            "overflow_y": null,
            "overflow_x": null,
            "grid_auto_flow": null,
            "grid_area": null,
            "grid_template_columns": null,
            "flex": null,
            "_model_name": "LayoutModel",
            "justify_items": null,
            "grid_row": null,
            "max_height": null,
            "align_content": null,
            "visibility": null,
            "align_self": null,
            "height": null,
            "min_height": null,
            "padding": null,
            "grid_auto_rows": null,
            "grid_gap": null,
            "max_width": null,
            "order": null,
            "_view_module_version": "1.2.0",
            "grid_template_areas": null,
            "object_position": null,
            "object_fit": null,
            "grid_auto_columns": null,
            "margin": null,
            "display": null,
            "left": null
          }
        },
        "9e91000765514177b2fdabff70fae8be": {
          "model_module": "@jupyter-widgets/controls",
          "model_name": "HBoxModel",
          "model_module_version": "1.5.0",
          "state": {
            "_view_name": "HBoxView",
            "_dom_classes": [],
            "_model_name": "HBoxModel",
            "_view_module": "@jupyter-widgets/controls",
            "_model_module_version": "1.5.0",
            "_view_count": null,
            "_view_module_version": "1.5.0",
            "box_style": "",
            "layout": "IPY_MODEL_d5c6780d00a542c1b242ea2cb68fd0e6",
            "_model_module": "@jupyter-widgets/controls",
            "children": [
              "IPY_MODEL_e2133be9f96f4ab2aec5ece5b3dcb8f0",
              "IPY_MODEL_4d5f8310602d40fdb57207451562b52f",
              "IPY_MODEL_700aaeeb1bad4552aa462f78609e0832"
            ]
          }
        },
        "d5c6780d00a542c1b242ea2cb68fd0e6": {
          "model_module": "@jupyter-widgets/base",
          "model_name": "LayoutModel",
          "model_module_version": "1.2.0",
          "state": {
            "_view_name": "LayoutView",
            "grid_template_rows": null,
            "right": null,
            "justify_content": null,
            "_view_module": "@jupyter-widgets/base",
            "overflow": null,
            "_model_module_version": "1.2.0",
            "_view_count": null,
            "flex_flow": null,
            "width": null,
            "min_width": null,
            "border": null,
            "align_items": null,
            "bottom": null,
            "_model_module": "@jupyter-widgets/base",
            "top": null,
            "grid_column": null,
            "overflow_y": null,
            "overflow_x": null,
            "grid_auto_flow": null,
            "grid_area": null,
            "grid_template_columns": null,
            "flex": null,
            "_model_name": "LayoutModel",
            "justify_items": null,
            "grid_row": null,
            "max_height": null,
            "align_content": null,
            "visibility": null,
            "align_self": null,
            "height": null,
            "min_height": null,
            "padding": null,
            "grid_auto_rows": null,
            "grid_gap": null,
            "max_width": null,
            "order": null,
            "_view_module_version": "1.2.0",
            "grid_template_areas": null,
            "object_position": null,
            "object_fit": null,
            "grid_auto_columns": null,
            "margin": null,
            "display": null,
            "left": null
          }
        },
        "e2133be9f96f4ab2aec5ece5b3dcb8f0": {
          "model_module": "@jupyter-widgets/controls",
          "model_name": "HTMLModel",
          "model_module_version": "1.5.0",
          "state": {
            "_view_name": "HTMLView",
            "style": "IPY_MODEL_2e29ec4b29704e31a2f7304888b104a9",
            "_dom_classes": [],
            "description": "",
            "_model_name": "HTMLModel",
            "placeholder": "​",
            "_view_module": "@jupyter-widgets/controls",
            "_model_module_version": "1.5.0",
            "value": "100%",
            "_view_count": null,
            "_view_module_version": "1.5.0",
            "description_tooltip": null,
            "_model_module": "@jupyter-widgets/controls",
            "layout": "IPY_MODEL_ceb5bbb19efd43628c379d21f4055173"
          }
        },
        "4d5f8310602d40fdb57207451562b52f": {
          "model_module": "@jupyter-widgets/controls",
          "model_name": "FloatProgressModel",
          "model_module_version": "1.5.0",
          "state": {
            "_view_name": "ProgressView",
            "style": "IPY_MODEL_5d2c686f87634ed2b35e9dfeef65b7ac",
            "_dom_classes": [],
            "description": "",
            "_model_name": "FloatProgressModel",
            "bar_style": "success",
            "max": 100,
            "_view_module": "@jupyter-widgets/controls",
            "_model_module_version": "1.5.0",
            "value": 100,
            "_view_count": null,
            "_view_module_version": "1.5.0",
            "orientation": "horizontal",
            "min": 0,
            "description_tooltip": null,
            "_model_module": "@jupyter-widgets/controls",
            "layout": "IPY_MODEL_52dc95aa625c4aa5959174ba93dd586e"
          }
        },
        "700aaeeb1bad4552aa462f78609e0832": {
          "model_module": "@jupyter-widgets/controls",
          "model_name": "HTMLModel",
          "model_module_version": "1.5.0",
          "state": {
            "_view_name": "HTMLView",
            "style": "IPY_MODEL_f5b04591c44648dd97e06cbe06c4cfe1",
            "_dom_classes": [],
            "description": "",
            "_model_name": "HTMLModel",
            "placeholder": "​",
            "_view_module": "@jupyter-widgets/controls",
            "_model_module_version": "1.5.0",
            "value": " 100/100 [00:58&lt;00:00,  1.71it/s]",
            "_view_count": null,
            "_view_module_version": "1.5.0",
            "description_tooltip": null,
            "_model_module": "@jupyter-widgets/controls",
            "layout": "IPY_MODEL_49af467a867b40cb8b76d97bff5b0adc"
          }
        },
        "2e29ec4b29704e31a2f7304888b104a9": {
          "model_module": "@jupyter-widgets/controls",
          "model_name": "DescriptionStyleModel",
          "model_module_version": "1.5.0",
          "state": {
            "_view_name": "StyleView",
            "_model_name": "DescriptionStyleModel",
            "description_width": "",
            "_view_module": "@jupyter-widgets/base",
            "_model_module_version": "1.5.0",
            "_view_count": null,
            "_view_module_version": "1.2.0",
            "_model_module": "@jupyter-widgets/controls"
          }
        },
        "ceb5bbb19efd43628c379d21f4055173": {
          "model_module": "@jupyter-widgets/base",
          "model_name": "LayoutModel",
          "model_module_version": "1.2.0",
          "state": {
            "_view_name": "LayoutView",
            "grid_template_rows": null,
            "right": null,
            "justify_content": null,
            "_view_module": "@jupyter-widgets/base",
            "overflow": null,
            "_model_module_version": "1.2.0",
            "_view_count": null,
            "flex_flow": null,
            "width": null,
            "min_width": null,
            "border": null,
            "align_items": null,
            "bottom": null,
            "_model_module": "@jupyter-widgets/base",
            "top": null,
            "grid_column": null,
            "overflow_y": null,
            "overflow_x": null,
            "grid_auto_flow": null,
            "grid_area": null,
            "grid_template_columns": null,
            "flex": null,
            "_model_name": "LayoutModel",
            "justify_items": null,
            "grid_row": null,
            "max_height": null,
            "align_content": null,
            "visibility": null,
            "align_self": null,
            "height": null,
            "min_height": null,
            "padding": null,
            "grid_auto_rows": null,
            "grid_gap": null,
            "max_width": null,
            "order": null,
            "_view_module_version": "1.2.0",
            "grid_template_areas": null,
            "object_position": null,
            "object_fit": null,
            "grid_auto_columns": null,
            "margin": null,
            "display": null,
            "left": null
          }
        },
        "5d2c686f87634ed2b35e9dfeef65b7ac": {
          "model_module": "@jupyter-widgets/controls",
          "model_name": "ProgressStyleModel",
          "model_module_version": "1.5.0",
          "state": {
            "_view_name": "StyleView",
            "_model_name": "ProgressStyleModel",
            "description_width": "",
            "_view_module": "@jupyter-widgets/base",
            "_model_module_version": "1.5.0",
            "_view_count": null,
            "_view_module_version": "1.2.0",
            "bar_color": null,
            "_model_module": "@jupyter-widgets/controls"
          }
        },
        "52dc95aa625c4aa5959174ba93dd586e": {
          "model_module": "@jupyter-widgets/base",
          "model_name": "LayoutModel",
          "model_module_version": "1.2.0",
          "state": {
            "_view_name": "LayoutView",
            "grid_template_rows": null,
            "right": null,
            "justify_content": null,
            "_view_module": "@jupyter-widgets/base",
            "overflow": null,
            "_model_module_version": "1.2.0",
            "_view_count": null,
            "flex_flow": null,
            "width": null,
            "min_width": null,
            "border": null,
            "align_items": null,
            "bottom": null,
            "_model_module": "@jupyter-widgets/base",
            "top": null,
            "grid_column": null,
            "overflow_y": null,
            "overflow_x": null,
            "grid_auto_flow": null,
            "grid_area": null,
            "grid_template_columns": null,
            "flex": null,
            "_model_name": "LayoutModel",
            "justify_items": null,
            "grid_row": null,
            "max_height": null,
            "align_content": null,
            "visibility": null,
            "align_self": null,
            "height": null,
            "min_height": null,
            "padding": null,
            "grid_auto_rows": null,
            "grid_gap": null,
            "max_width": null,
            "order": null,
            "_view_module_version": "1.2.0",
            "grid_template_areas": null,
            "object_position": null,
            "object_fit": null,
            "grid_auto_columns": null,
            "margin": null,
            "display": null,
            "left": null
          }
        },
        "f5b04591c44648dd97e06cbe06c4cfe1": {
          "model_module": "@jupyter-widgets/controls",
          "model_name": "DescriptionStyleModel",
          "model_module_version": "1.5.0",
          "state": {
            "_view_name": "StyleView",
            "_model_name": "DescriptionStyleModel",
            "description_width": "",
            "_view_module": "@jupyter-widgets/base",
            "_model_module_version": "1.5.0",
            "_view_count": null,
            "_view_module_version": "1.2.0",
            "_model_module": "@jupyter-widgets/controls"
          }
        },
        "49af467a867b40cb8b76d97bff5b0adc": {
          "model_module": "@jupyter-widgets/base",
          "model_name": "LayoutModel",
          "model_module_version": "1.2.0",
          "state": {
            "_view_name": "LayoutView",
            "grid_template_rows": null,
            "right": null,
            "justify_content": null,
            "_view_module": "@jupyter-widgets/base",
            "overflow": null,
            "_model_module_version": "1.2.0",
            "_view_count": null,
            "flex_flow": null,
            "width": null,
            "min_width": null,
            "border": null,
            "align_items": null,
            "bottom": null,
            "_model_module": "@jupyter-widgets/base",
            "top": null,
            "grid_column": null,
            "overflow_y": null,
            "overflow_x": null,
            "grid_auto_flow": null,
            "grid_area": null,
            "grid_template_columns": null,
            "flex": null,
            "_model_name": "LayoutModel",
            "justify_items": null,
            "grid_row": null,
            "max_height": null,
            "align_content": null,
            "visibility": null,
            "align_self": null,
            "height": null,
            "min_height": null,
            "padding": null,
            "grid_auto_rows": null,
            "grid_gap": null,
            "max_width": null,
            "order": null,
            "_view_module_version": "1.2.0",
            "grid_template_areas": null,
            "object_position": null,
            "object_fit": null,
            "grid_auto_columns": null,
            "margin": null,
            "display": null,
            "left": null
          }
        },
        "1e6a28f21d8e42f9a6a8173256c04899": {
          "model_module": "@jupyter-widgets/controls",
          "model_name": "HBoxModel",
          "model_module_version": "1.5.0",
          "state": {
            "_view_name": "HBoxView",
            "_dom_classes": [],
            "_model_name": "HBoxModel",
            "_view_module": "@jupyter-widgets/controls",
            "_model_module_version": "1.5.0",
            "_view_count": null,
            "_view_module_version": "1.5.0",
            "box_style": "",
            "layout": "IPY_MODEL_727049931bf24f7aad27d93412135690",
            "_model_module": "@jupyter-widgets/controls",
            "children": [
              "IPY_MODEL_3681906602674e2bb67fec1ec8b20195",
              "IPY_MODEL_7e7a2950174b41ae99722ab00118a018",
              "IPY_MODEL_aa1041fe79f6479ba584e52909604c79"
            ]
          }
        },
        "727049931bf24f7aad27d93412135690": {
          "model_module": "@jupyter-widgets/base",
          "model_name": "LayoutModel",
          "model_module_version": "1.2.0",
          "state": {
            "_view_name": "LayoutView",
            "grid_template_rows": null,
            "right": null,
            "justify_content": null,
            "_view_module": "@jupyter-widgets/base",
            "overflow": null,
            "_model_module_version": "1.2.0",
            "_view_count": null,
            "flex_flow": null,
            "width": null,
            "min_width": null,
            "border": null,
            "align_items": null,
            "bottom": null,
            "_model_module": "@jupyter-widgets/base",
            "top": null,
            "grid_column": null,
            "overflow_y": null,
            "overflow_x": null,
            "grid_auto_flow": null,
            "grid_area": null,
            "grid_template_columns": null,
            "flex": null,
            "_model_name": "LayoutModel",
            "justify_items": null,
            "grid_row": null,
            "max_height": null,
            "align_content": null,
            "visibility": null,
            "align_self": null,
            "height": null,
            "min_height": null,
            "padding": null,
            "grid_auto_rows": null,
            "grid_gap": null,
            "max_width": null,
            "order": null,
            "_view_module_version": "1.2.0",
            "grid_template_areas": null,
            "object_position": null,
            "object_fit": null,
            "grid_auto_columns": null,
            "margin": null,
            "display": null,
            "left": null
          }
        },
        "3681906602674e2bb67fec1ec8b20195": {
          "model_module": "@jupyter-widgets/controls",
          "model_name": "HTMLModel",
          "model_module_version": "1.5.0",
          "state": {
            "_view_name": "HTMLView",
            "style": "IPY_MODEL_9eca0d95db2e4512924ef85440dbbb6a",
            "_dom_classes": [],
            "description": "",
            "_model_name": "HTMLModel",
            "placeholder": "​",
            "_view_module": "@jupyter-widgets/controls",
            "_model_module_version": "1.5.0",
            "value": "100%",
            "_view_count": null,
            "_view_module_version": "1.5.0",
            "description_tooltip": null,
            "_model_module": "@jupyter-widgets/controls",
            "layout": "IPY_MODEL_0372aa62497a4d95a7ab257b031ed3b6"
          }
        },
        "7e7a2950174b41ae99722ab00118a018": {
          "model_module": "@jupyter-widgets/controls",
          "model_name": "FloatProgressModel",
          "model_module_version": "1.5.0",
          "state": {
            "_view_name": "ProgressView",
            "style": "IPY_MODEL_9e7a08dab6684eb8adf45c1650a7aa20",
            "_dom_classes": [],
            "description": "",
            "_model_name": "FloatProgressModel",
            "bar_style": "success",
            "max": 100,
            "_view_module": "@jupyter-widgets/controls",
            "_model_module_version": "1.5.0",
            "value": 100,
            "_view_count": null,
            "_view_module_version": "1.5.0",
            "orientation": "horizontal",
            "min": 0,
            "description_tooltip": null,
            "_model_module": "@jupyter-widgets/controls",
            "layout": "IPY_MODEL_13719733215d4fafa03b927890d9de0a"
          }
        },
        "aa1041fe79f6479ba584e52909604c79": {
          "model_module": "@jupyter-widgets/controls",
          "model_name": "HTMLModel",
          "model_module_version": "1.5.0",
          "state": {
            "_view_name": "HTMLView",
            "style": "IPY_MODEL_9281789937324cafb3cb0a135525ac3d",
            "_dom_classes": [],
            "description": "",
            "_model_name": "HTMLModel",
            "placeholder": "​",
            "_view_module": "@jupyter-widgets/controls",
            "_model_module_version": "1.5.0",
            "value": " 100/100 [00:58&lt;00:00,  1.71it/s]",
            "_view_count": null,
            "_view_module_version": "1.5.0",
            "description_tooltip": null,
            "_model_module": "@jupyter-widgets/controls",
            "layout": "IPY_MODEL_a11bf2fef57d4b4f91c5ace04f81bbb4"
          }
        },
        "9eca0d95db2e4512924ef85440dbbb6a": {
          "model_module": "@jupyter-widgets/controls",
          "model_name": "DescriptionStyleModel",
          "model_module_version": "1.5.0",
          "state": {
            "_view_name": "StyleView",
            "_model_name": "DescriptionStyleModel",
            "description_width": "",
            "_view_module": "@jupyter-widgets/base",
            "_model_module_version": "1.5.0",
            "_view_count": null,
            "_view_module_version": "1.2.0",
            "_model_module": "@jupyter-widgets/controls"
          }
        },
        "0372aa62497a4d95a7ab257b031ed3b6": {
          "model_module": "@jupyter-widgets/base",
          "model_name": "LayoutModel",
          "model_module_version": "1.2.0",
          "state": {
            "_view_name": "LayoutView",
            "grid_template_rows": null,
            "right": null,
            "justify_content": null,
            "_view_module": "@jupyter-widgets/base",
            "overflow": null,
            "_model_module_version": "1.2.0",
            "_view_count": null,
            "flex_flow": null,
            "width": null,
            "min_width": null,
            "border": null,
            "align_items": null,
            "bottom": null,
            "_model_module": "@jupyter-widgets/base",
            "top": null,
            "grid_column": null,
            "overflow_y": null,
            "overflow_x": null,
            "grid_auto_flow": null,
            "grid_area": null,
            "grid_template_columns": null,
            "flex": null,
            "_model_name": "LayoutModel",
            "justify_items": null,
            "grid_row": null,
            "max_height": null,
            "align_content": null,
            "visibility": null,
            "align_self": null,
            "height": null,
            "min_height": null,
            "padding": null,
            "grid_auto_rows": null,
            "grid_gap": null,
            "max_width": null,
            "order": null,
            "_view_module_version": "1.2.0",
            "grid_template_areas": null,
            "object_position": null,
            "object_fit": null,
            "grid_auto_columns": null,
            "margin": null,
            "display": null,
            "left": null
          }
        },
        "9e7a08dab6684eb8adf45c1650a7aa20": {
          "model_module": "@jupyter-widgets/controls",
          "model_name": "ProgressStyleModel",
          "model_module_version": "1.5.0",
          "state": {
            "_view_name": "StyleView",
            "_model_name": "ProgressStyleModel",
            "description_width": "",
            "_view_module": "@jupyter-widgets/base",
            "_model_module_version": "1.5.0",
            "_view_count": null,
            "_view_module_version": "1.2.0",
            "bar_color": null,
            "_model_module": "@jupyter-widgets/controls"
          }
        },
        "13719733215d4fafa03b927890d9de0a": {
          "model_module": "@jupyter-widgets/base",
          "model_name": "LayoutModel",
          "model_module_version": "1.2.0",
          "state": {
            "_view_name": "LayoutView",
            "grid_template_rows": null,
            "right": null,
            "justify_content": null,
            "_view_module": "@jupyter-widgets/base",
            "overflow": null,
            "_model_module_version": "1.2.0",
            "_view_count": null,
            "flex_flow": null,
            "width": null,
            "min_width": null,
            "border": null,
            "align_items": null,
            "bottom": null,
            "_model_module": "@jupyter-widgets/base",
            "top": null,
            "grid_column": null,
            "overflow_y": null,
            "overflow_x": null,
            "grid_auto_flow": null,
            "grid_area": null,
            "grid_template_columns": null,
            "flex": null,
            "_model_name": "LayoutModel",
            "justify_items": null,
            "grid_row": null,
            "max_height": null,
            "align_content": null,
            "visibility": null,
            "align_self": null,
            "height": null,
            "min_height": null,
            "padding": null,
            "grid_auto_rows": null,
            "grid_gap": null,
            "max_width": null,
            "order": null,
            "_view_module_version": "1.2.0",
            "grid_template_areas": null,
            "object_position": null,
            "object_fit": null,
            "grid_auto_columns": null,
            "margin": null,
            "display": null,
            "left": null
          }
        },
        "9281789937324cafb3cb0a135525ac3d": {
          "model_module": "@jupyter-widgets/controls",
          "model_name": "DescriptionStyleModel",
          "model_module_version": "1.5.0",
          "state": {
            "_view_name": "StyleView",
            "_model_name": "DescriptionStyleModel",
            "description_width": "",
            "_view_module": "@jupyter-widgets/base",
            "_model_module_version": "1.5.0",
            "_view_count": null,
            "_view_module_version": "1.2.0",
            "_model_module": "@jupyter-widgets/controls"
          }
        },
        "a11bf2fef57d4b4f91c5ace04f81bbb4": {
          "model_module": "@jupyter-widgets/base",
          "model_name": "LayoutModel",
          "model_module_version": "1.2.0",
          "state": {
            "_view_name": "LayoutView",
            "grid_template_rows": null,
            "right": null,
            "justify_content": null,
            "_view_module": "@jupyter-widgets/base",
            "overflow": null,
            "_model_module_version": "1.2.0",
            "_view_count": null,
            "flex_flow": null,
            "width": null,
            "min_width": null,
            "border": null,
            "align_items": null,
            "bottom": null,
            "_model_module": "@jupyter-widgets/base",
            "top": null,
            "grid_column": null,
            "overflow_y": null,
            "overflow_x": null,
            "grid_auto_flow": null,
            "grid_area": null,
            "grid_template_columns": null,
            "flex": null,
            "_model_name": "LayoutModel",
            "justify_items": null,
            "grid_row": null,
            "max_height": null,
            "align_content": null,
            "visibility": null,
            "align_self": null,
            "height": null,
            "min_height": null,
            "padding": null,
            "grid_auto_rows": null,
            "grid_gap": null,
            "max_width": null,
            "order": null,
            "_view_module_version": "1.2.0",
            "grid_template_areas": null,
            "object_position": null,
            "object_fit": null,
            "grid_auto_columns": null,
            "margin": null,
            "display": null,
            "left": null
          }
        },
        "fbfb39d114034c68b678956c332bbacf": {
          "model_module": "@jupyter-widgets/controls",
          "model_name": "HBoxModel",
          "model_module_version": "1.5.0",
          "state": {
            "_view_name": "HBoxView",
            "_dom_classes": [],
            "_model_name": "HBoxModel",
            "_view_module": "@jupyter-widgets/controls",
            "_model_module_version": "1.5.0",
            "_view_count": null,
            "_view_module_version": "1.5.0",
            "box_style": "",
            "layout": "IPY_MODEL_8afb0dbd00484f03ade3d181d325d692",
            "_model_module": "@jupyter-widgets/controls",
            "children": [
              "IPY_MODEL_f7afd267813b4081aae83b668aa3f756",
              "IPY_MODEL_70e78f1d2ef342b5ab68a5210a5bf643",
              "IPY_MODEL_936a96df2eeb4c96814d105541eccbb5"
            ]
          }
        },
        "8afb0dbd00484f03ade3d181d325d692": {
          "model_module": "@jupyter-widgets/base",
          "model_name": "LayoutModel",
          "model_module_version": "1.2.0",
          "state": {
            "_view_name": "LayoutView",
            "grid_template_rows": null,
            "right": null,
            "justify_content": null,
            "_view_module": "@jupyter-widgets/base",
            "overflow": null,
            "_model_module_version": "1.2.0",
            "_view_count": null,
            "flex_flow": null,
            "width": null,
            "min_width": null,
            "border": null,
            "align_items": null,
            "bottom": null,
            "_model_module": "@jupyter-widgets/base",
            "top": null,
            "grid_column": null,
            "overflow_y": null,
            "overflow_x": null,
            "grid_auto_flow": null,
            "grid_area": null,
            "grid_template_columns": null,
            "flex": null,
            "_model_name": "LayoutModel",
            "justify_items": null,
            "grid_row": null,
            "max_height": null,
            "align_content": null,
            "visibility": null,
            "align_self": null,
            "height": null,
            "min_height": null,
            "padding": null,
            "grid_auto_rows": null,
            "grid_gap": null,
            "max_width": null,
            "order": null,
            "_view_module_version": "1.2.0",
            "grid_template_areas": null,
            "object_position": null,
            "object_fit": null,
            "grid_auto_columns": null,
            "margin": null,
            "display": null,
            "left": null
          }
        },
        "f7afd267813b4081aae83b668aa3f756": {
          "model_module": "@jupyter-widgets/controls",
          "model_name": "HTMLModel",
          "model_module_version": "1.5.0",
          "state": {
            "_view_name": "HTMLView",
            "style": "IPY_MODEL_d293feab5eea40ceb38f0428e4d251c7",
            "_dom_classes": [],
            "description": "",
            "_model_name": "HTMLModel",
            "placeholder": "​",
            "_view_module": "@jupyter-widgets/controls",
            "_model_module_version": "1.5.0",
            "value": "100%",
            "_view_count": null,
            "_view_module_version": "1.5.0",
            "description_tooltip": null,
            "_model_module": "@jupyter-widgets/controls",
            "layout": "IPY_MODEL_b0ee5b1bf1604f758d619683a94d4e3c"
          }
        },
        "70e78f1d2ef342b5ab68a5210a5bf643": {
          "model_module": "@jupyter-widgets/controls",
          "model_name": "FloatProgressModel",
          "model_module_version": "1.5.0",
          "state": {
            "_view_name": "ProgressView",
            "style": "IPY_MODEL_deea975ff6194882a3ad9b46aefa7e18",
            "_dom_classes": [],
            "description": "",
            "_model_name": "FloatProgressModel",
            "bar_style": "success",
            "max": 100,
            "_view_module": "@jupyter-widgets/controls",
            "_model_module_version": "1.5.0",
            "value": 100,
            "_view_count": null,
            "_view_module_version": "1.5.0",
            "orientation": "horizontal",
            "min": 0,
            "description_tooltip": null,
            "_model_module": "@jupyter-widgets/controls",
            "layout": "IPY_MODEL_6c0f08819f3b42a98de191a1d1f415fc"
          }
        },
        "936a96df2eeb4c96814d105541eccbb5": {
          "model_module": "@jupyter-widgets/controls",
          "model_name": "HTMLModel",
          "model_module_version": "1.5.0",
          "state": {
            "_view_name": "HTMLView",
            "style": "IPY_MODEL_bbae3bdf2a384a18ad4720e7d192be40",
            "_dom_classes": [],
            "description": "",
            "_model_name": "HTMLModel",
            "placeholder": "​",
            "_view_module": "@jupyter-widgets/controls",
            "_model_module_version": "1.5.0",
            "value": " 100/100 [00:58&lt;00:00,  1.71it/s]",
            "_view_count": null,
            "_view_module_version": "1.5.0",
            "description_tooltip": null,
            "_model_module": "@jupyter-widgets/controls",
            "layout": "IPY_MODEL_24c31e0268dc4dca8df06300cf11e3e0"
          }
        },
        "d293feab5eea40ceb38f0428e4d251c7": {
          "model_module": "@jupyter-widgets/controls",
          "model_name": "DescriptionStyleModel",
          "model_module_version": "1.5.0",
          "state": {
            "_view_name": "StyleView",
            "_model_name": "DescriptionStyleModel",
            "description_width": "",
            "_view_module": "@jupyter-widgets/base",
            "_model_module_version": "1.5.0",
            "_view_count": null,
            "_view_module_version": "1.2.0",
            "_model_module": "@jupyter-widgets/controls"
          }
        },
        "b0ee5b1bf1604f758d619683a94d4e3c": {
          "model_module": "@jupyter-widgets/base",
          "model_name": "LayoutModel",
          "model_module_version": "1.2.0",
          "state": {
            "_view_name": "LayoutView",
            "grid_template_rows": null,
            "right": null,
            "justify_content": null,
            "_view_module": "@jupyter-widgets/base",
            "overflow": null,
            "_model_module_version": "1.2.0",
            "_view_count": null,
            "flex_flow": null,
            "width": null,
            "min_width": null,
            "border": null,
            "align_items": null,
            "bottom": null,
            "_model_module": "@jupyter-widgets/base",
            "top": null,
            "grid_column": null,
            "overflow_y": null,
            "overflow_x": null,
            "grid_auto_flow": null,
            "grid_area": null,
            "grid_template_columns": null,
            "flex": null,
            "_model_name": "LayoutModel",
            "justify_items": null,
            "grid_row": null,
            "max_height": null,
            "align_content": null,
            "visibility": null,
            "align_self": null,
            "height": null,
            "min_height": null,
            "padding": null,
            "grid_auto_rows": null,
            "grid_gap": null,
            "max_width": null,
            "order": null,
            "_view_module_version": "1.2.0",
            "grid_template_areas": null,
            "object_position": null,
            "object_fit": null,
            "grid_auto_columns": null,
            "margin": null,
            "display": null,
            "left": null
          }
        },
        "deea975ff6194882a3ad9b46aefa7e18": {
          "model_module": "@jupyter-widgets/controls",
          "model_name": "ProgressStyleModel",
          "model_module_version": "1.5.0",
          "state": {
            "_view_name": "StyleView",
            "_model_name": "ProgressStyleModel",
            "description_width": "",
            "_view_module": "@jupyter-widgets/base",
            "_model_module_version": "1.5.0",
            "_view_count": null,
            "_view_module_version": "1.2.0",
            "bar_color": null,
            "_model_module": "@jupyter-widgets/controls"
          }
        },
        "6c0f08819f3b42a98de191a1d1f415fc": {
          "model_module": "@jupyter-widgets/base",
          "model_name": "LayoutModel",
          "model_module_version": "1.2.0",
          "state": {
            "_view_name": "LayoutView",
            "grid_template_rows": null,
            "right": null,
            "justify_content": null,
            "_view_module": "@jupyter-widgets/base",
            "overflow": null,
            "_model_module_version": "1.2.0",
            "_view_count": null,
            "flex_flow": null,
            "width": null,
            "min_width": null,
            "border": null,
            "align_items": null,
            "bottom": null,
            "_model_module": "@jupyter-widgets/base",
            "top": null,
            "grid_column": null,
            "overflow_y": null,
            "overflow_x": null,
            "grid_auto_flow": null,
            "grid_area": null,
            "grid_template_columns": null,
            "flex": null,
            "_model_name": "LayoutModel",
            "justify_items": null,
            "grid_row": null,
            "max_height": null,
            "align_content": null,
            "visibility": null,
            "align_self": null,
            "height": null,
            "min_height": null,
            "padding": null,
            "grid_auto_rows": null,
            "grid_gap": null,
            "max_width": null,
            "order": null,
            "_view_module_version": "1.2.0",
            "grid_template_areas": null,
            "object_position": null,
            "object_fit": null,
            "grid_auto_columns": null,
            "margin": null,
            "display": null,
            "left": null
          }
        },
        "bbae3bdf2a384a18ad4720e7d192be40": {
          "model_module": "@jupyter-widgets/controls",
          "model_name": "DescriptionStyleModel",
          "model_module_version": "1.5.0",
          "state": {
            "_view_name": "StyleView",
            "_model_name": "DescriptionStyleModel",
            "description_width": "",
            "_view_module": "@jupyter-widgets/base",
            "_model_module_version": "1.5.0",
            "_view_count": null,
            "_view_module_version": "1.2.0",
            "_model_module": "@jupyter-widgets/controls"
          }
        },
        "24c31e0268dc4dca8df06300cf11e3e0": {
          "model_module": "@jupyter-widgets/base",
          "model_name": "LayoutModel",
          "model_module_version": "1.2.0",
          "state": {
            "_view_name": "LayoutView",
            "grid_template_rows": null,
            "right": null,
            "justify_content": null,
            "_view_module": "@jupyter-widgets/base",
            "overflow": null,
            "_model_module_version": "1.2.0",
            "_view_count": null,
            "flex_flow": null,
            "width": null,
            "min_width": null,
            "border": null,
            "align_items": null,
            "bottom": null,
            "_model_module": "@jupyter-widgets/base",
            "top": null,
            "grid_column": null,
            "overflow_y": null,
            "overflow_x": null,
            "grid_auto_flow": null,
            "grid_area": null,
            "grid_template_columns": null,
            "flex": null,
            "_model_name": "LayoutModel",
            "justify_items": null,
            "grid_row": null,
            "max_height": null,
            "align_content": null,
            "visibility": null,
            "align_self": null,
            "height": null,
            "min_height": null,
            "padding": null,
            "grid_auto_rows": null,
            "grid_gap": null,
            "max_width": null,
            "order": null,
            "_view_module_version": "1.2.0",
            "grid_template_areas": null,
            "object_position": null,
            "object_fit": null,
            "grid_auto_columns": null,
            "margin": null,
            "display": null,
            "left": null
          }
        },
        "9976cc1e65a14e7ba0cf357388441544": {
          "model_module": "@jupyter-widgets/controls",
          "model_name": "HBoxModel",
          "model_module_version": "1.5.0",
          "state": {
            "_view_name": "HBoxView",
            "_dom_classes": [],
            "_model_name": "HBoxModel",
            "_view_module": "@jupyter-widgets/controls",
            "_model_module_version": "1.5.0",
            "_view_count": null,
            "_view_module_version": "1.5.0",
            "box_style": "",
            "layout": "IPY_MODEL_6f0ec02c950f4742ace1677ddb96c787",
            "_model_module": "@jupyter-widgets/controls",
            "children": [
              "IPY_MODEL_4a9a63db0dfc48a4a1343731b013c4d9",
              "IPY_MODEL_6921f8c25d3c4ab291058c7a64bc1da8",
              "IPY_MODEL_adfe546d25084e1da74ac89bb3c11517"
            ]
          }
        },
        "6f0ec02c950f4742ace1677ddb96c787": {
          "model_module": "@jupyter-widgets/base",
          "model_name": "LayoutModel",
          "model_module_version": "1.2.0",
          "state": {
            "_view_name": "LayoutView",
            "grid_template_rows": null,
            "right": null,
            "justify_content": null,
            "_view_module": "@jupyter-widgets/base",
            "overflow": null,
            "_model_module_version": "1.2.0",
            "_view_count": null,
            "flex_flow": null,
            "width": null,
            "min_width": null,
            "border": null,
            "align_items": null,
            "bottom": null,
            "_model_module": "@jupyter-widgets/base",
            "top": null,
            "grid_column": null,
            "overflow_y": null,
            "overflow_x": null,
            "grid_auto_flow": null,
            "grid_area": null,
            "grid_template_columns": null,
            "flex": null,
            "_model_name": "LayoutModel",
            "justify_items": null,
            "grid_row": null,
            "max_height": null,
            "align_content": null,
            "visibility": null,
            "align_self": null,
            "height": null,
            "min_height": null,
            "padding": null,
            "grid_auto_rows": null,
            "grid_gap": null,
            "max_width": null,
            "order": null,
            "_view_module_version": "1.2.0",
            "grid_template_areas": null,
            "object_position": null,
            "object_fit": null,
            "grid_auto_columns": null,
            "margin": null,
            "display": null,
            "left": null
          }
        },
        "4a9a63db0dfc48a4a1343731b013c4d9": {
          "model_module": "@jupyter-widgets/controls",
          "model_name": "HTMLModel",
          "model_module_version": "1.5.0",
          "state": {
            "_view_name": "HTMLView",
            "style": "IPY_MODEL_62f3dab202b24cbdadc15c1db717950f",
            "_dom_classes": [],
            "description": "",
            "_model_name": "HTMLModel",
            "placeholder": "​",
            "_view_module": "@jupyter-widgets/controls",
            "_model_module_version": "1.5.0",
            "value": "100%",
            "_view_count": null,
            "_view_module_version": "1.5.0",
            "description_tooltip": null,
            "_model_module": "@jupyter-widgets/controls",
            "layout": "IPY_MODEL_ada5cf3f12c840eb84936c4622494fa0"
          }
        },
        "6921f8c25d3c4ab291058c7a64bc1da8": {
          "model_module": "@jupyter-widgets/controls",
          "model_name": "FloatProgressModel",
          "model_module_version": "1.5.0",
          "state": {
            "_view_name": "ProgressView",
            "style": "IPY_MODEL_62489bef5c774d67ae1f89d4fdd90baa",
            "_dom_classes": [],
            "description": "",
            "_model_name": "FloatProgressModel",
            "bar_style": "success",
            "max": 100,
            "_view_module": "@jupyter-widgets/controls",
            "_model_module_version": "1.5.0",
            "value": 100,
            "_view_count": null,
            "_view_module_version": "1.5.0",
            "orientation": "horizontal",
            "min": 0,
            "description_tooltip": null,
            "_model_module": "@jupyter-widgets/controls",
            "layout": "IPY_MODEL_c3018a6dbbad44c88a9122e623516be6"
          }
        },
        "adfe546d25084e1da74ac89bb3c11517": {
          "model_module": "@jupyter-widgets/controls",
          "model_name": "HTMLModel",
          "model_module_version": "1.5.0",
          "state": {
            "_view_name": "HTMLView",
            "style": "IPY_MODEL_8eb1365cb7ec4f0fa89048a7f75a96fa",
            "_dom_classes": [],
            "description": "",
            "_model_name": "HTMLModel",
            "placeholder": "​",
            "_view_module": "@jupyter-widgets/controls",
            "_model_module_version": "1.5.0",
            "value": " 100/100 [00:57&lt;00:00,  1.72it/s]",
            "_view_count": null,
            "_view_module_version": "1.5.0",
            "description_tooltip": null,
            "_model_module": "@jupyter-widgets/controls",
            "layout": "IPY_MODEL_aa2eac138e5a42ea9260b840362676dd"
          }
        },
        "62f3dab202b24cbdadc15c1db717950f": {
          "model_module": "@jupyter-widgets/controls",
          "model_name": "DescriptionStyleModel",
          "model_module_version": "1.5.0",
          "state": {
            "_view_name": "StyleView",
            "_model_name": "DescriptionStyleModel",
            "description_width": "",
            "_view_module": "@jupyter-widgets/base",
            "_model_module_version": "1.5.0",
            "_view_count": null,
            "_view_module_version": "1.2.0",
            "_model_module": "@jupyter-widgets/controls"
          }
        },
        "ada5cf3f12c840eb84936c4622494fa0": {
          "model_module": "@jupyter-widgets/base",
          "model_name": "LayoutModel",
          "model_module_version": "1.2.0",
          "state": {
            "_view_name": "LayoutView",
            "grid_template_rows": null,
            "right": null,
            "justify_content": null,
            "_view_module": "@jupyter-widgets/base",
            "overflow": null,
            "_model_module_version": "1.2.0",
            "_view_count": null,
            "flex_flow": null,
            "width": null,
            "min_width": null,
            "border": null,
            "align_items": null,
            "bottom": null,
            "_model_module": "@jupyter-widgets/base",
            "top": null,
            "grid_column": null,
            "overflow_y": null,
            "overflow_x": null,
            "grid_auto_flow": null,
            "grid_area": null,
            "grid_template_columns": null,
            "flex": null,
            "_model_name": "LayoutModel",
            "justify_items": null,
            "grid_row": null,
            "max_height": null,
            "align_content": null,
            "visibility": null,
            "align_self": null,
            "height": null,
            "min_height": null,
            "padding": null,
            "grid_auto_rows": null,
            "grid_gap": null,
            "max_width": null,
            "order": null,
            "_view_module_version": "1.2.0",
            "grid_template_areas": null,
            "object_position": null,
            "object_fit": null,
            "grid_auto_columns": null,
            "margin": null,
            "display": null,
            "left": null
          }
        },
        "62489bef5c774d67ae1f89d4fdd90baa": {
          "model_module": "@jupyter-widgets/controls",
          "model_name": "ProgressStyleModel",
          "model_module_version": "1.5.0",
          "state": {
            "_view_name": "StyleView",
            "_model_name": "ProgressStyleModel",
            "description_width": "",
            "_view_module": "@jupyter-widgets/base",
            "_model_module_version": "1.5.0",
            "_view_count": null,
            "_view_module_version": "1.2.0",
            "bar_color": null,
            "_model_module": "@jupyter-widgets/controls"
          }
        },
        "c3018a6dbbad44c88a9122e623516be6": {
          "model_module": "@jupyter-widgets/base",
          "model_name": "LayoutModel",
          "model_module_version": "1.2.0",
          "state": {
            "_view_name": "LayoutView",
            "grid_template_rows": null,
            "right": null,
            "justify_content": null,
            "_view_module": "@jupyter-widgets/base",
            "overflow": null,
            "_model_module_version": "1.2.0",
            "_view_count": null,
            "flex_flow": null,
            "width": null,
            "min_width": null,
            "border": null,
            "align_items": null,
            "bottom": null,
            "_model_module": "@jupyter-widgets/base",
            "top": null,
            "grid_column": null,
            "overflow_y": null,
            "overflow_x": null,
            "grid_auto_flow": null,
            "grid_area": null,
            "grid_template_columns": null,
            "flex": null,
            "_model_name": "LayoutModel",
            "justify_items": null,
            "grid_row": null,
            "max_height": null,
            "align_content": null,
            "visibility": null,
            "align_self": null,
            "height": null,
            "min_height": null,
            "padding": null,
            "grid_auto_rows": null,
            "grid_gap": null,
            "max_width": null,
            "order": null,
            "_view_module_version": "1.2.0",
            "grid_template_areas": null,
            "object_position": null,
            "object_fit": null,
            "grid_auto_columns": null,
            "margin": null,
            "display": null,
            "left": null
          }
        },
        "8eb1365cb7ec4f0fa89048a7f75a96fa": {
          "model_module": "@jupyter-widgets/controls",
          "model_name": "DescriptionStyleModel",
          "model_module_version": "1.5.0",
          "state": {
            "_view_name": "StyleView",
            "_model_name": "DescriptionStyleModel",
            "description_width": "",
            "_view_module": "@jupyter-widgets/base",
            "_model_module_version": "1.5.0",
            "_view_count": null,
            "_view_module_version": "1.2.0",
            "_model_module": "@jupyter-widgets/controls"
          }
        },
        "aa2eac138e5a42ea9260b840362676dd": {
          "model_module": "@jupyter-widgets/base",
          "model_name": "LayoutModel",
          "model_module_version": "1.2.0",
          "state": {
            "_view_name": "LayoutView",
            "grid_template_rows": null,
            "right": null,
            "justify_content": null,
            "_view_module": "@jupyter-widgets/base",
            "overflow": null,
            "_model_module_version": "1.2.0",
            "_view_count": null,
            "flex_flow": null,
            "width": null,
            "min_width": null,
            "border": null,
            "align_items": null,
            "bottom": null,
            "_model_module": "@jupyter-widgets/base",
            "top": null,
            "grid_column": null,
            "overflow_y": null,
            "overflow_x": null,
            "grid_auto_flow": null,
            "grid_area": null,
            "grid_template_columns": null,
            "flex": null,
            "_model_name": "LayoutModel",
            "justify_items": null,
            "grid_row": null,
            "max_height": null,
            "align_content": null,
            "visibility": null,
            "align_self": null,
            "height": null,
            "min_height": null,
            "padding": null,
            "grid_auto_rows": null,
            "grid_gap": null,
            "max_width": null,
            "order": null,
            "_view_module_version": "1.2.0",
            "grid_template_areas": null,
            "object_position": null,
            "object_fit": null,
            "grid_auto_columns": null,
            "margin": null,
            "display": null,
            "left": null
          }
        }
      }
    }
  },
  "cells": [
    {
      "cell_type": "markdown",
      "metadata": {
        "id": "view-in-github",
        "colab_type": "text"
      },
      "source": [
        "<a href=\"https://colab.research.google.com/github/buoi/conditional-face-GAN/blob/main/evaluate_GAN.ipynb\" target=\"_parent\"><img src=\"https://colab.research.google.com/assets/colab-badge.svg\" alt=\"Open In Colab\"/></a>"
      ]
    },
    {
      "cell_type": "markdown",
      "metadata": {
        "id": "gMBqo7it5ghH"
      },
      "source": [
        "# ⚙️ Setup"
      ]
    },
    {
      "cell_type": "markdown",
      "metadata": {
        "id": "G3sABQInUGmh"
      },
      "source": [
        "## Fix random seeds"
      ]
    },
    {
      "cell_type": "code",
      "metadata": {
        "id": "z9Kyg2cXUFnd"
      },
      "source": [
        "SEED = 11\n",
        "import os\n",
        "os.environ['PYTHONHASHSEED']=str(SEED)\n",
        "import random\n",
        "import numpy as np\n",
        "import tensorflow as tf\n",
        "\n",
        "random.seed(SEED)\n",
        "np.random.seed(SEED)\n",
        "tf.random.set_seed(SEED)\n"
      ],
      "execution_count": 1,
      "outputs": []
    },
    {
      "cell_type": "markdown",
      "metadata": {
        "id": "ikEHqqiEUNwP"
      },
      "source": [
        "## Automatic Mixed Precision\n",
        "if supported by GPU"
      ]
    },
    {
      "cell_type": "code",
      "metadata": {
        "colab": {
          "base_uri": "https://localhost:8080/"
        },
        "id": "emWtF7RxfhPb",
        "outputId": "16cbb74c-2d44-49dd-e681-de4878e61687"
      },
      "source": [
        "_, gpu_name  = !nvidia-smi --query-gpu=gpu_name --format=csv\n",
        "\n",
        "if gpu_name == 'Tesla T4':\n",
        "    from tensorflow.keras import mixed_precision\n",
        "\n",
        "    policy = mixed_precision.Policy('mixed_float16')\n",
        "    mixed_precision.set_global_policy(policy)\n",
        "\n",
        "!nvidia-smi -L"
      ],
      "execution_count": 2,
      "outputs": [
        {
          "output_type": "stream",
          "name": "stdout",
          "text": [
            "GPU 0: Tesla P100-PCIE-16GB (UUID: GPU-6f316589-fd9e-5fff-b9ea-b946a2755d59)\n"
          ]
        }
      ]
    },
    {
      "cell_type": "markdown",
      "metadata": {
        "id": "UOswoZB0oeA2"
      },
      "source": [
        "## Imports"
      ]
    },
    {
      "cell_type": "code",
      "metadata": {
        "colab": {
          "base_uri": "https://localhost:8080/"
        },
        "id": "-RSWEMo35ghH",
        "outputId": "c7e5d378-5b86-454d-dd02-c1d03946ce13"
      },
      "source": [
        "from scipy import linalg\n",
        "import matplotlib.pyplot as plt\n",
        "import pandas as pd\n",
        "\n",
        "from tensorflow import keras\n",
        "from tensorflow.keras import layers\n",
        "from keras.applications.inception_v3 import InceptionV3, preprocess_input\n",
        "\n",
        "from tensorflow.keras.layers import Layer, Input, Dense, Reshape, Flatten\n",
        "from tensorflow.keras.layers import Conv2D, Conv2DTranspose, ReLU, LeakyReLU\n",
        "from tensorflow.keras.layers import Dropout, Embedding, Concatenate, Add, Activation\n",
        "from tensorflow.keras.layers import GlobalAveragePooling2D, UpSampling2D, BatchNormalization\n",
        "import tensorflow.keras.backend as K\n",
        "\n",
        "from tensorflow.python.keras.utils import conv_utils\n",
        "from tensorflow.keras.initializers import RandomNormal\n",
        "from tensorflow.keras.optimizers import Adam\n",
        "\n",
        "!pip install tensorflow_addons\n",
        "import tensorflow_addons as tfa\n",
        "from tensorflow_addons.layers import SpectralNormalization\n",
        "\n",
        "import gdown\n",
        "from zipfile import ZipFile\n",
        "\n",
        "from tqdm.notebook import tqdm"
      ],
      "execution_count": 3,
      "outputs": [
        {
          "output_type": "stream",
          "name": "stdout",
          "text": [
            "Collecting tensorflow_addons\n",
            "  Downloading tensorflow_addons-0.14.0-cp37-cp37m-manylinux_2_12_x86_64.manylinux2010_x86_64.whl (1.1 MB)\n",
            "\u001b[?25l\r\u001b[K     |▎                               | 10 kB 31.1 MB/s eta 0:00:01\r\u001b[K     |▋                               | 20 kB 35.6 MB/s eta 0:00:01\r\u001b[K     |▉                               | 30 kB 19.8 MB/s eta 0:00:01\r\u001b[K     |█▏                              | 40 kB 16.9 MB/s eta 0:00:01\r\u001b[K     |█▌                              | 51 kB 9.2 MB/s eta 0:00:01\r\u001b[K     |█▊                              | 61 kB 9.2 MB/s eta 0:00:01\r\u001b[K     |██                              | 71 kB 8.5 MB/s eta 0:00:01\r\u001b[K     |██▍                             | 81 kB 9.6 MB/s eta 0:00:01\r\u001b[K     |██▋                             | 92 kB 9.8 MB/s eta 0:00:01\r\u001b[K     |███                             | 102 kB 8.6 MB/s eta 0:00:01\r\u001b[K     |███▎                            | 112 kB 8.6 MB/s eta 0:00:01\r\u001b[K     |███▌                            | 122 kB 8.6 MB/s eta 0:00:01\r\u001b[K     |███▉                            | 133 kB 8.6 MB/s eta 0:00:01\r\u001b[K     |████▏                           | 143 kB 8.6 MB/s eta 0:00:01\r\u001b[K     |████▍                           | 153 kB 8.6 MB/s eta 0:00:01\r\u001b[K     |████▊                           | 163 kB 8.6 MB/s eta 0:00:01\r\u001b[K     |█████                           | 174 kB 8.6 MB/s eta 0:00:01\r\u001b[K     |█████▎                          | 184 kB 8.6 MB/s eta 0:00:01\r\u001b[K     |█████▋                          | 194 kB 8.6 MB/s eta 0:00:01\r\u001b[K     |██████                          | 204 kB 8.6 MB/s eta 0:00:01\r\u001b[K     |██████▏                         | 215 kB 8.6 MB/s eta 0:00:01\r\u001b[K     |██████▌                         | 225 kB 8.6 MB/s eta 0:00:01\r\u001b[K     |██████▉                         | 235 kB 8.6 MB/s eta 0:00:01\r\u001b[K     |███████                         | 245 kB 8.6 MB/s eta 0:00:01\r\u001b[K     |███████▍                        | 256 kB 8.6 MB/s eta 0:00:01\r\u001b[K     |███████▊                        | 266 kB 8.6 MB/s eta 0:00:01\r\u001b[K     |████████                        | 276 kB 8.6 MB/s eta 0:00:01\r\u001b[K     |████████▎                       | 286 kB 8.6 MB/s eta 0:00:01\r\u001b[K     |████████▋                       | 296 kB 8.6 MB/s eta 0:00:01\r\u001b[K     |████████▉                       | 307 kB 8.6 MB/s eta 0:00:01\r\u001b[K     |█████████▏                      | 317 kB 8.6 MB/s eta 0:00:01\r\u001b[K     |█████████▌                      | 327 kB 8.6 MB/s eta 0:00:01\r\u001b[K     |█████████▊                      | 337 kB 8.6 MB/s eta 0:00:01\r\u001b[K     |██████████                      | 348 kB 8.6 MB/s eta 0:00:01\r\u001b[K     |██████████▍                     | 358 kB 8.6 MB/s eta 0:00:01\r\u001b[K     |██████████▋                     | 368 kB 8.6 MB/s eta 0:00:01\r\u001b[K     |███████████                     | 378 kB 8.6 MB/s eta 0:00:01\r\u001b[K     |███████████▎                    | 389 kB 8.6 MB/s eta 0:00:01\r\u001b[K     |███████████▌                    | 399 kB 8.6 MB/s eta 0:00:01\r\u001b[K     |███████████▉                    | 409 kB 8.6 MB/s eta 0:00:01\r\u001b[K     |████████████▏                   | 419 kB 8.6 MB/s eta 0:00:01\r\u001b[K     |████████████▍                   | 430 kB 8.6 MB/s eta 0:00:01\r\u001b[K     |████████████▊                   | 440 kB 8.6 MB/s eta 0:00:01\r\u001b[K     |█████████████                   | 450 kB 8.6 MB/s eta 0:00:01\r\u001b[K     |█████████████▎                  | 460 kB 8.6 MB/s eta 0:00:01\r\u001b[K     |█████████████▋                  | 471 kB 8.6 MB/s eta 0:00:01\r\u001b[K     |██████████████                  | 481 kB 8.6 MB/s eta 0:00:01\r\u001b[K     |██████████████▏                 | 491 kB 8.6 MB/s eta 0:00:01\r\u001b[K     |██████████████▌                 | 501 kB 8.6 MB/s eta 0:00:01\r\u001b[K     |██████████████▉                 | 512 kB 8.6 MB/s eta 0:00:01\r\u001b[K     |███████████████                 | 522 kB 8.6 MB/s eta 0:00:01\r\u001b[K     |███████████████▍                | 532 kB 8.6 MB/s eta 0:00:01\r\u001b[K     |███████████████▊                | 542 kB 8.6 MB/s eta 0:00:01\r\u001b[K     |████████████████                | 552 kB 8.6 MB/s eta 0:00:01\r\u001b[K     |████████████████▎               | 563 kB 8.6 MB/s eta 0:00:01\r\u001b[K     |████████████████▋               | 573 kB 8.6 MB/s eta 0:00:01\r\u001b[K     |████████████████▉               | 583 kB 8.6 MB/s eta 0:00:01\r\u001b[K     |█████████████████▏              | 593 kB 8.6 MB/s eta 0:00:01\r\u001b[K     |█████████████████▌              | 604 kB 8.6 MB/s eta 0:00:01\r\u001b[K     |█████████████████▊              | 614 kB 8.6 MB/s eta 0:00:01\r\u001b[K     |██████████████████              | 624 kB 8.6 MB/s eta 0:00:01\r\u001b[K     |██████████████████▍             | 634 kB 8.6 MB/s eta 0:00:01\r\u001b[K     |██████████████████▋             | 645 kB 8.6 MB/s eta 0:00:01\r\u001b[K     |███████████████████             | 655 kB 8.6 MB/s eta 0:00:01\r\u001b[K     |███████████████████▎            | 665 kB 8.6 MB/s eta 0:00:01\r\u001b[K     |███████████████████▌            | 675 kB 8.6 MB/s eta 0:00:01\r\u001b[K     |███████████████████▉            | 686 kB 8.6 MB/s eta 0:00:01\r\u001b[K     |████████████████████▏           | 696 kB 8.6 MB/s eta 0:00:01\r\u001b[K     |████████████████████▍           | 706 kB 8.6 MB/s eta 0:00:01\r\u001b[K     |████████████████████▊           | 716 kB 8.6 MB/s eta 0:00:01\r\u001b[K     |█████████████████████           | 727 kB 8.6 MB/s eta 0:00:01\r\u001b[K     |█████████████████████▎          | 737 kB 8.6 MB/s eta 0:00:01\r\u001b[K     |█████████████████████▋          | 747 kB 8.6 MB/s eta 0:00:01\r\u001b[K     |██████████████████████          | 757 kB 8.6 MB/s eta 0:00:01\r\u001b[K     |██████████████████████▏         | 768 kB 8.6 MB/s eta 0:00:01\r\u001b[K     |██████████████████████▌         | 778 kB 8.6 MB/s eta 0:00:01\r\u001b[K     |██████████████████████▉         | 788 kB 8.6 MB/s eta 0:00:01\r\u001b[K     |███████████████████████         | 798 kB 8.6 MB/s eta 0:00:01\r\u001b[K     |███████████████████████▍        | 808 kB 8.6 MB/s eta 0:00:01\r\u001b[K     |███████████████████████▊        | 819 kB 8.6 MB/s eta 0:00:01\r\u001b[K     |████████████████████████        | 829 kB 8.6 MB/s eta 0:00:01\r\u001b[K     |████████████████████████▎       | 839 kB 8.6 MB/s eta 0:00:01\r\u001b[K     |████████████████████████▋       | 849 kB 8.6 MB/s eta 0:00:01\r\u001b[K     |████████████████████████▉       | 860 kB 8.6 MB/s eta 0:00:01\r\u001b[K     |█████████████████████████▏      | 870 kB 8.6 MB/s eta 0:00:01\r\u001b[K     |█████████████████████████▍      | 880 kB 8.6 MB/s eta 0:00:01\r\u001b[K     |█████████████████████████▊      | 890 kB 8.6 MB/s eta 0:00:01\r\u001b[K     |██████████████████████████      | 901 kB 8.6 MB/s eta 0:00:01\r\u001b[K     |██████████████████████████▎     | 911 kB 8.6 MB/s eta 0:00:01\r\u001b[K     |██████████████████████████▋     | 921 kB 8.6 MB/s eta 0:00:01\r\u001b[K     |███████████████████████████     | 931 kB 8.6 MB/s eta 0:00:01\r\u001b[K     |███████████████████████████▏    | 942 kB 8.6 MB/s eta 0:00:01\r\u001b[K     |███████████████████████████▌    | 952 kB 8.6 MB/s eta 0:00:01\r\u001b[K     |███████████████████████████▉    | 962 kB 8.6 MB/s eta 0:00:01\r\u001b[K     |████████████████████████████    | 972 kB 8.6 MB/s eta 0:00:01\r\u001b[K     |████████████████████████████▍   | 983 kB 8.6 MB/s eta 0:00:01\r\u001b[K     |████████████████████████████▊   | 993 kB 8.6 MB/s eta 0:00:01\r\u001b[K     |█████████████████████████████   | 1.0 MB 8.6 MB/s eta 0:00:01\r\u001b[K     |█████████████████████████████▎  | 1.0 MB 8.6 MB/s eta 0:00:01\r\u001b[K     |█████████████████████████████▋  | 1.0 MB 8.6 MB/s eta 0:00:01\r\u001b[K     |█████████████████████████████▉  | 1.0 MB 8.6 MB/s eta 0:00:01\r\u001b[K     |██████████████████████████████▏ | 1.0 MB 8.6 MB/s eta 0:00:01\r\u001b[K     |██████████████████████████████▌ | 1.1 MB 8.6 MB/s eta 0:00:01\r\u001b[K     |██████████████████████████████▊ | 1.1 MB 8.6 MB/s eta 0:00:01\r\u001b[K     |███████████████████████████████ | 1.1 MB 8.6 MB/s eta 0:00:01\r\u001b[K     |███████████████████████████████▍| 1.1 MB 8.6 MB/s eta 0:00:01\r\u001b[K     |███████████████████████████████▋| 1.1 MB 8.6 MB/s eta 0:00:01\r\u001b[K     |████████████████████████████████| 1.1 MB 8.6 MB/s eta 0:00:01\r\u001b[K     |████████████████████████████████| 1.1 MB 8.6 MB/s \n",
            "\u001b[?25hRequirement already satisfied: typeguard>=2.7 in /usr/local/lib/python3.7/dist-packages (from tensorflow_addons) (2.7.1)\n",
            "Installing collected packages: tensorflow-addons\n",
            "Successfully installed tensorflow-addons-0.14.0\n"
          ]
        }
      ]
    },
    {
      "cell_type": "markdown",
      "metadata": {
        "id": "bL758kqufZWu"
      },
      "source": [
        "## Download CelebA\n",
        "\n",
        "We'll use face images from the CelebA dataset, resized to 64x64."
      ]
    },
    {
      "cell_type": "code",
      "metadata": {
        "id": "40CS8jHvfZWu"
      },
      "source": [
        "try:\n",
        "    os.makedirs(\"celeba_gan\")\n",
        "    url = \"https://drive.google.com/uc?id=1O7m1010EJjLE5QxLZiM9Fpjs7Oj6e684\"\n",
        "    output = \"celeba_gan/img_align_celeba.zip\"\n",
        "    gdown.download(url, output, quiet=True)\n",
        "\n",
        "    with ZipFile(\"celeba_gan/img_align_celeba.zip\", \"r\") as zipobj:\n",
        "        zipobj.extractall(\"celeba_gan\")\n",
        "        \n",
        "except FileExistsError:\n",
        "    print(\"Dataset Already downloaded\")\n"
      ],
      "execution_count": 4,
      "outputs": []
    },
    {
      "cell_type": "code",
      "metadata": {
        "id": "oZ32Qan0YOBX",
        "colab": {
          "base_uri": "https://localhost:8080/"
        },
        "outputId": "783dc0ab-d2f8-4de3-d21f-21104da7bc7c"
      },
      "source": [
        "#Download labels from public github, they have been processed in a 0,1 csv file\n",
        "!wget -q -O \"/content/celeba_gan/list_attr_celeba01.csv.zip\" \"https://github.com/buoi/conditional-face-GAN/blob/main/list_attr_celeba01.csv.zip?raw=true\" \n",
        "!unzip -o \"/content/celeba_gan/list_attr_celeba01.csv.zip\" -d \"/content/celeba_gan\""
      ],
      "execution_count": 5,
      "outputs": [
        {
          "output_type": "stream",
          "name": "stdout",
          "text": [
            "Archive:  /content/celeba_gan/list_attr_celeba01.csv.zip\n",
            "  inflating: /content/celeba_gan/list_attr_celeba01.csv  \n",
            "  inflating: /content/celeba_gan/__MACOSX/._list_attr_celeba01.csv  \n"
          ]
        }
      ]
    },
    {
      "cell_type": "markdown",
      "metadata": {
        "id": "_uR3O5gxul1x"
      },
      "source": [
        "## Dataset preprocessing functions"
      ]
    },
    {
      "cell_type": "code",
      "metadata": {
        "id": "k5D5SOGWhsNc"
      },
      "source": [
        "# image utils functions\n",
        "\n",
        "def conv_range(in_range=(-1,1), out_range=(0,255)):\n",
        "    \"\"\" Returns range conversion function\"\"\"\n",
        "\n",
        "    # compute means and spans once\n",
        "    in_mean, out_mean = np.mean(in_range), np.mean(out_range)\n",
        "    in_span, out_span = np.ptp(in_range), np.ptp(out_range)\n",
        "\n",
        "    # return function\n",
        "    def convert_img_range(in_img):\n",
        "        out_img = (in_img - in_mean) / in_span\n",
        "        out_img = out_img * out_span + out_mean\n",
        "        return out_img\n",
        "\n",
        "    return convert_img_range\n",
        "\n",
        "def crop128(img):\n",
        "    #return img[:, 77:141, 57:121]# 64,64 center crop\n",
        "    return img[:, 45:173, 25:153] # 128,128 center crop\n",
        "\n",
        "def resize64(img):\n",
        "    return tf.image.resize(img, (64,64), antialias=True, method='bilinear')"
      ],
      "execution_count": 6,
      "outputs": []
    },
    {
      "cell_type": "markdown",
      "metadata": {
        "id": "2XeNjuoHAiDT"
      },
      "source": [
        "## FID utilities"
      ]
    },
    {
      "cell_type": "code",
      "metadata": {
        "id": "6hOVFi5r_Fqu"
      },
      "source": [
        "#fid real images embeddings\n",
        "inception_model = InceptionV3(include_top=False, \n",
        "                              weights=\"imagenet\", \n",
        "                              pooling='avg',\n",
        "                              input_shape=(299, 299, 3))\n",
        "inception_model.trainable = False\n",
        "\n",
        "\n",
        "def define_real_prep():\n",
        "    img = layers.Input(shape=IMAGE_SHAPE, name='img_input')\n",
        "    img_up = tf.image.resize(img, (299, 299), method='bilinear', antialias=True, name='upsample_bilinear')\n",
        "    output = inception_model(img_up, training=False)\n",
        "    real_prep = tf.keras.Model(inputs=[img], outputs=[output])\n",
        "\n",
        "    return real_prep\n",
        "\n",
        "def generate_dataset_embeddings(dataset, fid_count=10000):\n",
        "\n",
        "    #tf.compat.v1.logging.set_verbosity(tf.compat.v1.logging.ERROR)\n",
        "    real_prep = define_real_prep()\n",
        "    #tf.compat.v1.logging.set_verbosity(tf.compat.v1.logging.WARN)\n",
        "\n",
        "    real_embeddings = np.zeros((FID_COUNT, 2048), dtype='float32')\n",
        "    real_attr = np.zeros((FID_COUNT, N_ATTRIBUTES), dtype='float32')\n",
        "\n",
        "    fid_bs = 200\n",
        "    assert fid_count%fid_bs ==0, 'bad fid batch size or fid_count'\n",
        "    dataset = dataset.unbatch().batch(fid_bs)\n",
        "    dataset.shuffle(210000)\n",
        "\n",
        "    for i in tqdm(range(fid_count//fid_bs)):\n",
        "        if N_ATTRIBUTES !=0:\n",
        "            batch_img, batch_attr = next(iter(dataset))\n",
        "            real_attr[i*fid_bs:(i+1)*fid_bs] = batch_attr\n",
        "        else:\n",
        "            batch_img = next(iter(dataset))\n",
        "\n",
        "        batch_embeddings = real_prep(batch_img)\n",
        "        real_embeddings[i*fid_bs:(i+1)*fid_bs] = batch_embeddings\n",
        "\n",
        "    return real_embeddings, real_attr\n",
        "\n",
        "\n",
        "def generate_fid_embeddings(model, real_attr, fid_count=10000, use_attributes=False):\n",
        "\n",
        "\n",
        "    #tf.compat.v1.logging.set_verbosity(tf.compat.v1.logging.ERROR)\n",
        "    if N_ATTRIBUTES !=0 and use_attributes:\n",
        "        multi_evaluator = define_evaluator(model.generator, attribute_classifier)\n",
        "    else:\n",
        "        multi_evaluator = define_evaluator(model.generator) #1\n",
        "    #tf.compat.v1.logging.set_verbosity(tf.compat.v1.logging.WARN)\n",
        "    \n",
        "    gen_size = 100\n",
        "    assert fid_count % gen_size == 0, \"wrong gen_size or fid_count\"\n",
        "\n",
        "    generated_embeddings = np.zeros((fid_count, 2048), dtype='float32') #2\n",
        "    pred_attr = np.zeros((fid_count, N_ATTRIBUTES), dtype='float32')\n",
        "\n",
        "    for i in tqdm(range(fid_count//gen_size)):\n",
        "        if N_ATTRIBUTES !=0 and use_attributes:\n",
        "            batch_embeddings, batch_attr = multi_evaluator((\n",
        "                tf.random.normal([gen_size, LATENT_DIM]),\n",
        "                real_attr[i*gen_size:(i+1)*gen_size]))\n",
        "            pred_attr[i*gen_size:(i+1)*gen_size] = batch_attr\n",
        "            \n",
        "        elif N_ATTRIBUTES !=0: # call model with attributes but returns embeddings only #3\n",
        "            batch_embeddings = multi_evaluator((\n",
        "                tf.random.normal([gen_size, LATENT_DIM]),\n",
        "                real_attr[i*gen_size:(i+1)*gen_size]))\n",
        "        else:\n",
        "            batch_embeddings = multi_evaluator(\n",
        "                tf.random.normal([gen_size, LATENT_DIM]))\n",
        "            \n",
        "        generated_embeddings[i*gen_size:(i+1)*gen_size] = batch_embeddings\n",
        "\n",
        "    return generated_embeddings, pred_attr\n",
        "\n",
        "def define_evaluator(generator, attr_classifier=None):\n",
        "    \n",
        "    z_input = layers.Input(shape=(LATENT_DIM), name='z_input')\n",
        "    attr_input = layers.Input(shape=(N_ATTRIBUTES), name='attr_input')\n",
        "\n",
        "    img = generator((z_input,attr_input))\n",
        "\n",
        "    img_up299 = tf.image.resize(img, (299, 299), method='bilinear', antialias=True, name='upsample_bilinear')\n",
        "    output_repr = inception_model(img_up299, training=False,)\n",
        "\n",
        "    if N_ATTRIBUTES !=0 and attr_classifier is not None:\n",
        "        print(\"using classifier\")\n",
        "        attributes = attr_classifier(img) # mobilenet model does resizing.. does *2-1 also...\n",
        "        multi_evaluator = tf.keras.Model(inputs=[z_input,attr_input], outputs=[output_repr, attributes])\n",
        "    else:\n",
        "        multi_evaluator = tf.keras.Model(inputs=[z_input,attr_input], outputs=output_repr)\n",
        "\n",
        "    return multi_evaluator\n",
        "\n",
        "\"\"\"def define_evaluator(generator, attr_classifier=None):\n",
        "    \n",
        "    img = generator.output\n",
        "\n",
        "    img_up229 = tf.image.resize(img, (299, 299), method='bilinear', antialias=True, name='upsample_bilinear')\n",
        "    output_repr = inception_model(img_up229, training=False,)\n",
        "\n",
        "    if N_ATTRIBUTES !=0 and attr_classifier is not None:\n",
        "        print(\"using classifier\")\n",
        "        attributes = attr_classifier(img) # mobilenet model does resizing.. does *2-1 also...\n",
        "        multi_evaluator = tf.keras.Model(inputs=generator.inputs, outputs=[output_repr, attributes])\n",
        "    else:\n",
        "        multi_evaluator = tf.keras.Model(inputs=generator.inputs, outputs=output_repr)\n",
        "\n",
        "    return multi_evaluator\"\"\"\n",
        "\n",
        "\n",
        "def compute_fid(real_embeddings, generated_embeddings):\n",
        "    # compute mean and covariance statistics\n",
        "    print(\"computing FID on:\",real_embeddings.shape, generated_embeddings.shape)\n",
        "    mu1, sigma1 = real_embeddings.mean(axis=0), np.cov(real_embeddings, rowvar=False)\n",
        "    mu2, sigma2 = generated_embeddings.mean(axis=0), np.cov(generated_embeddings, rowvar=False)\n",
        "    # compute sum squared difference between means\n",
        "    ssdiff = np.sum((mu1 - mu2)**2.0)\n",
        "    # compute sqrt of product between cov\n",
        "    covmean = linalg.sqrtm(sigma1.dot(sigma2))\n",
        "    # check and correct imaginary numbers from sqrt\n",
        "    if np.iscomplexobj(covmean):\n",
        "      covmean = covmean.real\n",
        "    # compute fid score\n",
        "    trace = np.trace(sigma1 + sigma2 - 2.0 * covmean)\n",
        "    fid = ssdiff + trace\n",
        "    print(\"fid:\",fid, \"ssdiff:\",ssdiff, \"trace:\",trace)\n",
        "    return fid"
      ],
      "execution_count": 33,
      "outputs": []
    },
    {
      "cell_type": "markdown",
      "metadata": {
        "id": "wYtB7-eejd7X"
      },
      "source": [
        "# 📉 Evaluate model"
      ]
    },
    {
      "cell_type": "markdown",
      "metadata": {
        "id": "71HViZzUAm-7"
      },
      "source": [
        "## Load trained GAN"
      ]
    },
    {
      "cell_type": "code",
      "metadata": {
        "id": "rg6zLEjsKHH1"
      },
      "source": [
        "#rn8xslip acgan2_BNstdev v22\n",
        "#weighted v22\n",
        "{'acc': 0.9295, 'f1': 0.91828537, 'fid': 29.05019775559193}\n",
        "\n",
        "#3ja6uvac acgan10_nonseparBNstdev_split v24\n",
        "#weighted v22\n",
        "{'acc': 0.85925, 'f1': 0.7849446, 'fid': 26.88634217864331}\n",
        "{'acc': 0.8578, 'f1': 0.7829237, 'fid': 26.905994087828933}\n",
        "\n",
        "#weighted v15\n",
        "{'acc': 0.85221, 'f1': 0.77358824, 'fid': 27.8183414299638}\n",
        "\n",
        "#2ev65fpt acgan40_BNstdev v15 \n",
        "#weighted\n",
        "{'acc': 0.84163505,'f1': 0.42956448, 'fid': 28.225658760268864}\n",
        "#weights average on range 15-25\n",
        "#it works!\n",
        "{'acc': 0.85081506, 'f1': 0.4661962, 'fid': 27.718678468011213}\n",
        "\n",
        "#6km6fdgr acgan2_BNstdev_218x178 v11\n",
        "#v13 epoch 11\n",
        "{'acc': 0.9245499968528748, 'f1': 0.9146733283996582, 'fid': 65.26263987905645 }\n",
        "#averaged v13-16 epoch 11-14:\n",
        "{'acc': 0.9379, 'f1': 0.9294983, 'fid': 55.79439851726748}\n",
        "\n",
        "#3v366skw acgan10_nonseparBNstdev_split_299_218x178 v9\n",
        "#v10\n",
        "{'acc': 0.83037996,'f1': 0.7203602,'fid': 64.86787139224565}\n",
        "#averaged\n",
        "{'acc': 0.84474003, 'f1': 0.7596557, 'fid': 54.777108430127825}\n",
        "\n",
        "#no solo reference\n",
        "#2t5s03n8 acgan10_nonseparBNstdev_split_299\n",
        "#1n1ha9ka acgan10_218x178_3x3convs v16\n",
        "\n",
        "\n",
        "\n",
        "#1cr1a5w4 SAGAN_3 v31 buianifolli\n",
        "#2o3z6bqb SAGAN_5 v17 buianifolli\n",
        "#zscel8bz SAGAN_6 v29 buianifolli"
      ],
      "execution_count": null,
      "outputs": []
    },
    {
      "cell_type": "code",
      "metadata": {
        "colab": {
          "base_uri": "https://localhost:8080/",
          "height": 122
        },
        "id": "IbREbwDIAcXV",
        "outputId": "a56cdb3e-5046-4a6d-8ac3-022e85fae997"
      },
      "source": [
        "# loads a model from Wandb\n",
        "IMAGE_RANGE='11'\n",
        "resume_id = \"3v366skw\" #@param {type: \"string\"}\n",
        "\n",
        "entity = 'buio' #@param {type: \"string\"}\n",
        "project_name = \"GAN\" \n",
        "model_name = \"acgan10_nonseparBNstdev_split_299_218x178\" #@param {type: \"string\"}\n",
        "experiment_name = \"acgan10_nonseparBNstdev_split_299_218x178\" #@param {type: \"string\"}\n",
        "\n",
        "version = 'v9' #@param {type: \"string\"}\n",
        "!pip install wandb > /dev/null\n",
        "!wandb login\n",
        "import wandb\n",
        "\n",
        "run = wandb.init(project=project_name, \n",
        "                  entity = entity,\n",
        "                  name=experiment_name, \n",
        "                  resume=resume_id)\n",
        "\n",
        "\n",
        "run_name = entity+'/GAN/'+ model_name + experiment_name\n",
        "artifact_run = run_name +':'+version\n",
        "\n",
        "artifact = run.use_artifact(artifact_run, type='model')\n",
        "artifact_dir = artifact.download()\n",
        "gan = keras.models.load_model(os.path.join(artifact_dir, model_name + experiment_name))\n",
        "\n",
        "LATENT_DIM = gan.generator.input_shape[0][1]\n",
        "N_ATTRIBUTES = gan.generator.input_shape[1][1]\n",
        "IMAGE_SIZE =gan.discriminator.input_shape[1]\n",
        "if IMAGE_SIZE == 64:\n",
        "    IMAGE_SHAPE = (64,64,3)\n",
        "elif IMAGE_SIZE == 218:\n",
        "    IMAGE_SHAPE = (218,178,3)"
      ],
      "execution_count": 45,
      "outputs": [
        {
          "output_type": "stream",
          "name": "stdout",
          "text": [
            "\u001b[34m\u001b[1mwandb\u001b[0m: You can find your API key in your browser here: https://wandb.ai/authorize\n",
            "\u001b[34m\u001b[1mwandb\u001b[0m: Paste an API key from your profile and hit enter: \n",
            "\u001b[34m\u001b[1mwandb\u001b[0m: Appending key for api.wandb.ai to your netrc file: /root/.netrc\n"
          ]
        },
        {
          "output_type": "display_data",
          "data": {
            "text/html": [
              "\n",
              "                    Resuming run <strong><a href=\"https://wandb.ai/buio/GAN/runs/3v366skw\" target=\"_blank\">acgan10_nonseparBNstdev_split_299_218x178</a></strong> to <a href=\"https://wandb.ai/buio/GAN\" target=\"_blank\">Weights & Biases</a> (<a href=\"https://docs.wandb.com/integrations/jupyter.html\" target=\"_blank\">docs</a>).<br/>\n",
              "\n",
              "                "
            ],
            "text/plain": [
              "<IPython.core.display.HTML object>"
            ]
          },
          "metadata": {}
        },
        {
          "output_type": "stream",
          "name": "stderr",
          "text": [
            "\u001b[34m\u001b[1mwandb\u001b[0m: Downloading large artifact acgan10_nonseparBNstdev_split_299_218x178acgan10_nonseparBNstdev_split_299_218x178:v9, 474.61MB. 4 files... Done. 0:0:0\n"
          ]
        }
      ]
    },
    {
      "cell_type": "markdown",
      "metadata": {
        "id": "wfErOFepg7sF"
      },
      "source": [
        "## 💾 Dataset"
      ]
    },
    {
      "cell_type": "code",
      "metadata": {
        "colab": {
          "base_uri": "https://localhost:8080/",
          "height": 450
        },
        "id": "0WO2104NnsGh",
        "outputId": "2223fb2f-2a1a-4cc2-9716-ba8b5afb6b7d"
      },
      "source": [
        "#@title Select Attributes {form-width: \"50%\", display-mode: \"both\" }\n",
        "\n",
        "#NUMBER_OF_ATTRIBUTES = \"10\" #@param [0, 2, 10, 12, 40]\n",
        "#N_ATTRIBUTES = int(NUMBER_OF_ATTRIBUTES)\n",
        "\n",
        "IMAGE_RANGE = '11'\n",
        "\n",
        "BATCH_SIZE =  64 #@param {type: \"number\"}\n",
        "if N_ATTRIBUTES == 2:\n",
        "    LABELS = [\"Male\", \"Smiling\"]\n",
        "\n",
        "elif N_ATTRIBUTES == 10:\n",
        "    LABELS = [\n",
        "          \"Mouth_Slightly_Open\", \"Wearing_Lipstick\", \"High_Cheekbones\", \"Male\", \"Smiling\", \n",
        "          \"Heavy_Makeup\", \"Wavy_Hair\", \"Oval_Face\", \"Pointy_Nose\", \"Arched_Eyebrows\"]\n",
        "\n",
        "elif N_ATTRIBUTES == 12:\n",
        "    LABELS = ['Wearing_Lipstick','Mouth_Slightly_Open','Male','Smiling',\n",
        "              'High_Cheekbones','Heavy_Makeup','Attractive','Young',\n",
        "              'No_Beard','Black_Hair','Arched_Eyebrows','Big_Nose']\n",
        "elif N_ATTRIBUTES == 40:\n",
        "    LABELS = [\n",
        "            '5_o_Clock_Shadow', 'Arched_Eyebrows', 'Attractive',\n",
        "            'Bags_Under_Eyes', 'Bald', 'Bangs', 'Big_Lips', 'Big_Nose',\n",
        "            'Black_Hair', 'Blond_Hair', 'Blurry', 'Brown_Hair', 'Bushy_Eyebrows',\n",
        "            'Chubby', 'Double_Chin', 'Eyeglasses', 'Goatee', 'Gray_Hair',\n",
        "            'Heavy_Makeup', 'High_Cheekbones', 'Male', 'Mouth_Slightly_Open',\n",
        "            'Mustache', 'Narrow_Eyes', 'No_Beard', 'Oval_Face', 'Pale_Skin',\n",
        "            'Pointy_Nose', 'Receding_Hairline', 'Rosy_Cheeks', 'Sideburns',\n",
        "            'Smiling', 'Straight_Hair', 'Wavy_Hair', 'Wearing_Earrings',\n",
        "            'Wearing_Hat', 'Wearing_Lipstick', 'Wearing_Necklace',\n",
        "            'Wearing_Necktie', 'Young']\n",
        "\n",
        "else:\n",
        "    LABELS = [\"Male\", \"Smiling\"]# just for dataset creation\n",
        " \n",
        "\n",
        "# Take labels and a list of image locations in memory\n",
        "df = pd.read_csv(r\"/content/celeba_gan/list_attr_celeba01.csv\")\n",
        "im_list = df['image_id'].tolist()\n",
        "\n",
        "\n",
        "# load image at exact resolution\n",
        "dataset_train = keras.preprocessing.image_dataset_from_directory(\n",
        "    \"celeba_gan\", label_mode=\"int\", \n",
        "    labels = df[LABELS].values.tolist(),\n",
        "    image_size=(218, 178), \n",
        "    batch_size=BATCH_SIZE,\n",
        "    seed=SEED)\n",
        "\n",
        "\n",
        "def preprocess(dataset):\n",
        "    # extract the center crop\n",
        "    if IMAGE_SIZE == 64:\n",
        "        dataset = dataset.map(lambda x,y: (crop128(x),y) )\n",
        "        # resize\n",
        "        dataset = dataset.map(lambda x,y: (resize64(x),y) )\n",
        "    # convert image range\n",
        "    dataset = dataset.map(lambda x,y: (conv_range([0,255], [-1,1])(x),y) )\n",
        "    return dataset\n",
        "\n",
        "dataset_train = preprocess(dataset_train)\n",
        "\n",
        "if N_ATTRIBUTES !=0: \n",
        "    batch_img, batch_labels = next(iter(dataset_train))\n",
        "    plt.title('\\n'.join([(1-label)*'Not_'+LABELS[i]+' •'*int(label) for i,label in enumerate(batch_labels[0])]))\n",
        "\n",
        "else: # remove labels\n",
        "    dataset_train = dataset_train.map(lambda x,y: x)\n",
        "    dataset_val = dataset_val.map(lambda x,y: x)\n",
        "    batch_img = next(iter(dataset_train))\n",
        "    \n",
        "plt.imshow(batch_img[0].numpy()/2+0.5)\n",
        "\n",
        "print(\"image in range: \", np.min(batch_img), np.max(batch_img))"
      ],
      "execution_count": 46,
      "outputs": [
        {
          "output_type": "stream",
          "name": "stdout",
          "text": [
            "Found 202599 files belonging to 2 classes.\n",
            "image in range:  -1.0 1.0\n"
          ]
        },
        {
          "output_type": "display_data",
          "data": {
            "image/png": "[encoded data removed]",
            "text/plain": [
              "<Figure size 432x288 with 1 Axes>"
            ]
          },
          "metadata": {
            "needs_background": "light"
          }
        }
      ]
    },
    {
      "cell_type": "markdown",
      "metadata": {
        "id": "hUi_ouNiRc4e"
      },
      "source": [
        "# Evaluation"
      ]
    },
    {
      "cell_type": "markdown",
      "metadata": {
        "id": "3afRYQMLlKL-"
      },
      "source": [
        "## Multi epochs"
      ]
    },
    {
      "cell_type": "code",
      "metadata": {
        "colab": {
          "base_uri": "https://localhost:8080/"
        },
        "id": "xwQGqYsoQ24N",
        "outputId": "3ecdea78-fc71-4a19-f653-2dedffd16a48"
      },
      "source": [
        "EPOCH_RANGE = range(8,15)\n",
        "FID_COUNT = 10000\n",
        "\n",
        "\n",
        "models = []\n",
        "for i in EPOCH_RANGE:\n",
        "\n",
        "    artifact_run = run_name +':v'+str(i)\n",
        "\n",
        "    artifact = run.use_artifact(artifact_run, type='model')\n",
        "    artifact_dir = artifact.download()\n",
        "    gan = keras.models.load_model(os.path.join(artifact_dir, model_name + experiment_name))\n",
        "    models.append(gan)"
      ],
      "execution_count": 47,
      "outputs": [
        {
          "output_type": "stream",
          "name": "stderr",
          "text": [
            "\u001b[34m\u001b[1mwandb\u001b[0m: Downloading large artifact acgan10_nonseparBNstdev_split_299_218x178acgan10_nonseparBNstdev_split_299_218x178:v8, 474.61MB. 4 files... Done. 0:0:0\n",
            "\u001b[34m\u001b[1mwandb\u001b[0m: Downloading large artifact acgan10_nonseparBNstdev_split_299_218x178acgan10_nonseparBNstdev_split_299_218x178:v9, 474.61MB. 4 files... Done. 0:0:0\n",
            "\u001b[34m\u001b[1mwandb\u001b[0m: Downloading large artifact acgan10_nonseparBNstdev_split_299_218x178acgan10_nonseparBNstdev_split_299_218x178:v10, 474.61MB. 4 files... Done. 0:0:0\n",
            "\u001b[34m\u001b[1mwandb\u001b[0m: Downloading large artifact acgan10_nonseparBNstdev_split_299_218x178acgan10_nonseparBNstdev_split_299_218x178:v11, 474.61MB. 4 files... Done. 0:0:0\n",
            "\u001b[34m\u001b[1mwandb\u001b[0m: Downloading large artifact acgan10_nonseparBNstdev_split_299_218x178acgan10_nonseparBNstdev_split_299_218x178:v12, 474.61MB. 4 files... Done. 0:0:0\n",
            "\u001b[34m\u001b[1mwandb\u001b[0m: Downloading large artifact acgan10_nonseparBNstdev_split_299_218x178acgan10_nonseparBNstdev_split_299_218x178:v13, 474.61MB. 4 files... Done. 0:0:0\n",
            "\u001b[34m\u001b[1mwandb\u001b[0m: Downloading large artifact acgan10_nonseparBNstdev_split_299_218x178acgan10_nonseparBNstdev_split_299_218x178:v14, 474.61MB. 4 files... Done. 0:0:0\n"
          ]
        }
      ]
    },
    {
      "cell_type": "code",
      "metadata": {
        "colab": {
          "base_uri": "https://localhost:8080/",
          "height": 850,
          "referenced_widgets": [
            "b914ed1409214523b326a97a9daaf749",
            "8001dfc337f940ccbb4b90ad5b1a534a",
            "b7c0ff2fa3994b28be20f3b2bf0634e0",
            "7fcbd80d3f8e4707bdf5032983299828",
            "8833a3c9ff514712a4fd4220631f2a4f",
            "050d6a2caa6043778d3a6c53067104f6",
            "0656c27c7f814e6097a29553c3dc9bfe",
            "e2ec7937fad441e7aef1a3fd72063032",
            "98a0e5c9a6d1401690849085a0677fd9",
            "8f00c6a6f9b04252836cfa79f3d7bd9d",
            "d14d3417502149f19aa2d9f31c982b57",
            "8ee6340f0de84f1384a93f24e1a6f7b7",
            "b7c0dcd7a32543f18b5a374e2bafec88",
            "7f51d9273c924224bcb1ac674d0b7dc5",
            "d2d0747dadcb49e1b9df3d8ebd848ae9",
            "7076648a62a9453ab23141c50918d2ad"
          ]
        },
        "id": "d_7KoEYPRnYq",
        "outputId": "d69f5372-6b59-4d07-e262-96dc4f3b1678"
      },
      "source": [
        "#@title Load Multilabel Classifier Model{form-width: \"35%\", display-mode: \"both\" }\n",
        "\n",
        "#refactor to attribute accuracy logger\n",
        "ENABLE_LOAD = True #@param {type:\"boolean\"}\n",
        "SELECT_MODEL = 'weighted' #@param ['weighted']\n",
        "\n",
        "import tensorflow.keras.backend as K\n",
        "\n",
        "\n",
        "def f1_metric_logits(y_true, y_pred):\n",
        "    y_pred = K.round(keras.activations.sigmoid(y_pred))\n",
        "    tp = K.sum(K.cast(y_true*y_pred, 'float'), axis=0)\n",
        "    tn = K.sum(K.cast((1-y_true)*(1-y_pred), 'float'), axis=0)\n",
        "    fp = K.sum(K.cast((1-y_true)*y_pred, 'float'), axis=0)\n",
        "    fn = K.sum(K.cast(y_true*(1-y_pred), 'float'), axis=0)\n",
        "\n",
        "    p = tp / (tp + fp + K.epsilon())\n",
        "    r = tp / (tp + fn + K.epsilon())\n",
        "\n",
        "    f1 = 2*p*r / (p+r+K.epsilon())\n",
        "    f1 = tf.where(tf.math.is_nan(f1), tf.zeros_like(f1), f1)\n",
        "    return K.mean(f1)\n",
        "\n",
        "\n",
        "def f1_metric(y_true, y_pred):\n",
        "    y_pred = K.round(y_pred)\n",
        "    tp = K.sum(K.cast(y_true*y_pred, 'float'), axis=0)\n",
        "    tn = K.sum(K.cast((1-y_true)*(1-y_pred), 'float'), axis=0)\n",
        "    fp = K.sum(K.cast((1-y_true)*y_pred, 'float'), axis=0)\n",
        "    fn = K.sum(K.cast(y_true*(1-y_pred), 'float'), axis=0)\n",
        "\n",
        "    p = tp / (tp + fp + K.epsilon())\n",
        "    r = tp / (tp + fn + K.epsilon())\n",
        "\n",
        "    f1 = 2*p*r / (p+r+K.epsilon())\n",
        "    f1 = tf.where(tf.math.is_nan(f1), tf.zeros_like(f1), f1)\n",
        "    return K.mean(f1)\n",
        "\n",
        "def weighted_bce_from_logits(y_true, y_pred):\n",
        "\n",
        "    #inverted_frequency weighting\n",
        "    pos_weight= (1-attribute_frequency)*2\n",
        "    y_true = tf.cast(y_true,'float32')\n",
        "    bce = tf.nn.weighted_cross_entropy_with_logits(y_true, y_pred, pos_weight=pos_weight)\n",
        "    #weighted_bce = attribute_frequency*(1-y_true) *bce\n",
        "    #print(bce, weighted_bce)\n",
        "    return K.mean(bce,axis=-1)\n",
        "\n",
        "\n",
        "custom_objects = {'f1_metric': f1_metric, \n",
        "                  'f1_metric_logits': f1_metric_logits,\n",
        "                  'weighted_bce_from_logits': weighted_bce_from_logits}\n",
        "\n",
        "if IMAGE_SIZE == 64:\n",
        "    if N_ATTRIBUTES == 2:\n",
        "\n",
        "        if SELECT_MODEL == 0:\n",
        "            resume_id = \"2hxg7lvr\"\n",
        "            model_name = experiment_name = \"mobilenet_2attr\"\n",
        "        elif SELECT_MODEL == 'weighted':\n",
        "            resume_id = \"    '2ckbukxu'\"\n",
        "            model_name = experiment_name = \"mobilenet_2attr_weighted\"\n",
        "\n",
        "    elif N_ATTRIBUTES == 10:\n",
        "        if SELECT_MODEL == 0:\n",
        "            resume_id = \"3pxaxlw4\"\n",
        "            model_name = experiment_name = \"mobilenet_10attr\"\n",
        "        elif SELECT_MODEL == 'bce':\n",
        "            resume_id = \"20lo0dtn\"\n",
        "            model_name = experiment_name = \"mobilenet_10attr_crossentropy\"\n",
        "        elif SELECT_MODEL == 'weighted':\n",
        "            resume_id = \"1ciqd5nw\"\n",
        "            model_name = experiment_name = \"mobilenet_10attr_weighted\"\n",
        "\n",
        "    elif N_ATTRIBUTES == 40:\n",
        "        if SELECT_MODEL == 0:\n",
        "            resume_id = \"joo3ui3c\"\n",
        "            model_name = experiment_name = \"mobilenet_40attr\"\n",
        "        elif SELECT_MODEL == 'weighted':\n",
        "            resume_id = \"123ijj97\"\n",
        "            model_name = experiment_name = \"mobilenet_40attr_weighted\"\n",
        "\n",
        "elif IMAGE_SIZE == 218:\n",
        "    if N_ATTRIBUTES == 2:\n",
        "        if SELECT_MODEL == 'weighted':\n",
        "            resume_id = '3b15ld8p'\n",
        "            model_name = experiment_name = \"mobilenet_2attr_218x178_weighted\"\n",
        "\n",
        "    elif N_ATTRIBUTES == 10:\n",
        "        if SELECT_MODEL == 'weighted':\n",
        "            resume_id = \"3n56eda3\"\n",
        "            model_name = experiment_name = \"mobilenet_10attr_218x178_weighted\"\n",
        "    \n",
        "    elif N_ATTRIBUTES == 40:\n",
        "        if SELECT_MODEL == 'weighted':\n",
        "            resume_id = \"zd9xh3kq\"\n",
        "            model_name = experiment_name = \"mobilenet_40attr_218x178_weighted\"\n",
        "   \n",
        "else:\n",
        "    print(\"N_ATTRIBUTES=\", N_ATTRIBUTES, \"skipping classifier load\")\n",
        "    ENABLE_LOAD = False\n",
        "\n",
        "\n",
        "if ENABLE_LOAD:\n",
        "    project_name = \"GAN\"\n",
        "    !pip install wandb > /dev/null\n",
        "    !wandb login\n",
        "    import wandb\n",
        "    from wandb.keras import WandbCallback\n",
        "    run = wandb.init(project=project_name, \n",
        "                     name=experiment_name, \n",
        "                     resume=resume_id)\n",
        "\n",
        "    run_name = 'buio/GAN/'+ model_name\n",
        "    artifact_run = run_name +':latest'\n",
        "\n",
        "    artifact = run.use_artifact(artifact_run, type='model')\n",
        "    artifact_dir = artifact.download()\n",
        "    attribute_classifier = tf.keras.models.load_model(os.path.join(artifact_dir, model_name),\n",
        "                                                      custom_objects=custom_objects)\n",
        "\n",
        "    attribute_classifier.compile(loss=keras.losses.BinaryCrossentropy(), metrics='binary_accuracy')\n",
        "    #loss, gen_attr_accuracy = attribute_classifier.evaluate(dataset_df)\n",
        "    #gen_attr_accuracy\n",
        "\n",
        "    run.finish()\n"
      ],
      "execution_count": 52,
      "outputs": [
        {
          "output_type": "stream",
          "name": "stdout",
          "text": [
            "\u001b[34m\u001b[1mwandb\u001b[0m: Currently logged in as: \u001b[33mbuio\u001b[0m (use `wandb login --relogin` to force relogin)\n"
          ]
        },
        {
          "output_type": "display_data",
          "data": {
            "text/html": [
              "Finishing last run (ID:3v366skw) before initializing another..."
            ],
            "text/plain": [
              "<IPython.core.display.HTML object>"
            ]
          },
          "metadata": {}
        },
        {
          "output_type": "display_data",
          "data": {
            "text/html": [
              "<br/>Waiting for W&B process to finish, PID 2176... <strong style=\"color:green\">(success).</strong>"
            ],
            "text/plain": [
              "<IPython.core.display.HTML object>"
            ]
          },
          "metadata": {}
        },
        {
          "output_type": "display_data",
          "data": {
            "application/vnd.jupyter.widget-view+json": {
              "model_id": "b914ed1409214523b326a97a9daaf749",
              "version_minor": 0,
              "version_major": 2
            },
            "text/plain": [
              "VBox(children=(Label(value=' 0.00MB of 0.00MB uploaded (0.00MB deduped)\\r'), FloatProgress(value=1.0, max=1.0)…"
            ]
          },
          "metadata": {}
        },
        {
          "output_type": "display_data",
          "data": {
            "text/html": [
              "<style>\n",
              "    table.wandb td:nth-child(1) { padding: 0 10px; text-align: right }\n",
              "    .wandb-row { display: flex; flex-direction: row; flex-wrap: wrap; width: 100% }\n",
              "    .wandb-col { display: flex; flex-direction: column; flex-basis: 100%; flex: 1; padding: 10px; }\n",
              "    </style>\n",
              "<div class=\"wandb-row\"><div class=\"wandb-col\">\n",
              "</div><div class=\"wandb-col\">\n",
              "<h3>Run summary:</h3><br/><table class=\"wandb\"><tr><td>FID</td><td>73.25191</td></tr><tr><td>attr_acc</td><td>0.91096</td></tr><tr><td>attr_f1_score</td><td>0</td></tr><tr><td>d_loss</td><td>0.53215</td></tr><tr><td>d_loss_attr</td><td>0.2591</td></tr><tr><td>d_loss_realfake</td><td>0.31967</td></tr><tr><td>epoch</td><td>13</td></tr><tr><td>g_loss</td><td>2.96433</td></tr><tr><td>g_loss_attr</td><td>0.42664</td></tr><tr><td>g_loss_realfake</td><td>2.71075</td></tr></table>\n",
              "</div></div>\n",
              "Synced 3 W&B file(s), 0 media file(s), 0 artifact file(s) and 0 other file(s)\n",
              "<br/>Synced <strong style=\"color:#cdcd00\">acgan10_nonseparBNstdev_split_299_218x178</strong>: <a href=\"https://wandb.ai/buio/GAN/runs/3v366skw\" target=\"_blank\">https://wandb.ai/buio/GAN/runs/3v366skw</a><br/>\n",
              "Find logs at: <code>./wandb/run-20211022_161109-3v366skw/logs</code><br/>\n"
            ],
            "text/plain": [
              "<IPython.core.display.HTML object>"
            ]
          },
          "metadata": {}
        },
        {
          "output_type": "display_data",
          "data": {
            "text/html": [
              "Successfully finished last run (ID:3v366skw). Initializing new run:<br/>"
            ],
            "text/plain": [
              "<IPython.core.display.HTML object>"
            ]
          },
          "metadata": {}
        },
        {
          "output_type": "display_data",
          "data": {
            "text/html": [
              "\n",
              "                    Resuming run <strong><a href=\"https://wandb.ai/buio/GAN/runs/3n56eda3\" target=\"_blank\">mobilenet_10attr_218x178_weighted</a></strong> to <a href=\"https://wandb.ai/buio/GAN\" target=\"_blank\">Weights & Biases</a> (<a href=\"https://docs.wandb.com/integrations/jupyter.html\" target=\"_blank\">docs</a>).<br/>\n",
              "\n",
              "                "
            ],
            "text/plain": [
              "<IPython.core.display.HTML object>"
            ]
          },
          "metadata": {}
        },
        {
          "output_type": "stream",
          "name": "stderr",
          "text": [
            "\u001b[34m\u001b[1mwandb\u001b[0m: Downloading large artifact mobilenet_10attr_218x178_weighted:latest, 61.66MB. 8 files... Done. 0:0:0\n"
          ]
        },
        {
          "output_type": "display_data",
          "data": {
            "text/html": [
              "<br/>Waiting for W&B process to finish, PID 2253... <strong style=\"color:green\">(success).</strong>"
            ],
            "text/plain": [
              "<IPython.core.display.HTML object>"
            ]
          },
          "metadata": {}
        },
        {
          "output_type": "display_data",
          "data": {
            "application/vnd.jupyter.widget-view+json": {
              "model_id": "98a0e5c9a6d1401690849085a0677fd9",
              "version_minor": 0,
              "version_major": 2
            },
            "text/plain": [
              "VBox(children=(Label(value=' 0.00MB of 0.00MB uploaded (0.00MB deduped)\\r'), FloatProgress(value=1.0, max=1.0)…"
            ]
          },
          "metadata": {}
        },
        {
          "output_type": "display_data",
          "data": {
            "text/html": [
              "<style>\n",
              "    table.wandb td:nth-child(1) { padding: 0 10px; text-align: right }\n",
              "    .wandb-row { display: flex; flex-direction: row; flex-wrap: wrap; width: 100% }\n",
              "    .wandb-col { display: flex; flex-direction: column; flex-basis: 100%; flex: 1; padding: 10px; }\n",
              "    </style>\n",
              "<div class=\"wandb-row\"><div class=\"wandb-col\">\n",
              "</div><div class=\"wandb-col\">\n",
              "<h3>Run summary:</h3><br/><table class=\"wandb\"><tr><td>best_epoch</td><td>3</td></tr><tr><td>best_val_loss</td><td>0.29821</td></tr><tr><td>binary_accuracy</td><td>0.89262</td></tr><tr><td>epoch</td><td>4</td></tr><tr><td>f1_metric_logits</td><td>0.82984</td></tr><tr><td>loss</td><td>0.27211</td></tr><tr><td>val_binary_accuracy</td><td>0.88242</td></tr><tr><td>val_f1_metric_logits</td><td>0.81414</td></tr><tr><td>val_loss</td><td>0.29822</td></tr></table>\n",
              "</div></div>\n",
              "Synced 3 W&B file(s), 0 media file(s), 0 artifact file(s) and 0 other file(s)\n",
              "<br/>Synced <strong style=\"color:#cdcd00\">mobilenet_10attr_218x178_weighted</strong>: <a href=\"https://wandb.ai/buio/GAN/runs/3n56eda3\" target=\"_blank\">https://wandb.ai/buio/GAN/runs/3n56eda3</a><br/>\n",
              "Find logs at: <code>./wandb/run-20211022_161319-3n56eda3/logs</code><br/>\n"
            ],
            "text/plain": [
              "<IPython.core.display.HTML object>"
            ]
          },
          "metadata": {}
        }
      ]
    },
    {
      "cell_type": "markdown",
      "metadata": {
        "id": "YPEjfljHsRdY"
      },
      "source": [
        "## Evaluate Model"
      ]
    },
    {
      "cell_type": "code",
      "metadata": {
        "id": "pyohtU1UYaEs"
      },
      "source": [
        "FID_COUNT = 10000\n",
        "train_embeddings, train_attr = generate_dataset_embeddings(dataset_train, FID_COUNT)"
      ],
      "execution_count": 53,
      "outputs": []
    },
    {
      "cell_type": "code",
      "metadata": {
        "id": "rRt6g3URnu_7"
      },
      "source": [
        "def compute_metrics(gan_model):\n",
        "    gen_embeddings, pred_attr = generate_fid_embeddings(gan_model, train_attr, FID_COUNT, use_attributes=True)\n",
        "    fid = compute_fid(train_embeddings, gen_embeddings)\n",
        "    acc = np.mean(tf.keras.metrics.binary_accuracy(train_attr[:FID_COUNT], pred_attr[:FID_COUNT]))\n",
        "    f1 = f1_metric_logits(train_attr[:FID_COUNT], pred_attr[:FID_COUNT])\n",
        "    metrics = {'fid':fid, 'f1':f1.numpy(), 'acc':acc}\n",
        "    print(metrics)\n",
        "    return metrics\n"
      ],
      "execution_count": 54,
      "outputs": []
    },
    {
      "cell_type": "markdown",
      "metadata": {
        "id": "hzILYJToHU2U"
      },
      "source": [
        "## Evaluate per epoch"
      ]
    },
    {
      "cell_type": "code",
      "metadata": {
        "colab": {
          "base_uri": "https://localhost:8080/",
          "height": 836,
          "referenced_widgets": [
            "bc088985f44643aea6e6c673c0778d70",
            "2aee373265e44f58951c06c417646cbf",
            "80163d8b28ba412fa7d8bc6ec8daef38",
            "a0f9b9ca22c24afd9bafb4e599a65ee5",
            "440c7d79c064413ab06d788f317ffbf1",
            "d5e54f29ee134793bed4396e07ed9c0b",
            "ed5e4e0b6f4345d7a636d021c20d518b",
            "3d426a51bd01489ba07c66d6a45ae2a9",
            "53567fc2bd404105a4de6c4cc84b66dc",
            "c308afda737b4453850961e4655e4c27",
            "a025b467ce23461e981f2356ee69cbad",
            "a2c531dec81147019786cf579d258b65",
            "2260ba9cc3fd456aaa39e2ac2c50a84e",
            "0af77ad0d79c46cf85a43c65ed6834b9",
            "7574075a2ff3435ea7503b847aab6eb6",
            "a59a5beb5eac4463ae57e442ba909e0a",
            "6794249e54c04119a05c51bad87fddee",
            "a5658e853a4147eca407179784f53747",
            "325fd3824d69477b9088df87ea08c309",
            "31137a35d7f84f2da6c3d73855ae9ad3",
            "24400f4ff17541ed8a03a2caf3b94a3c",
            "f858ead283494c2584b98a2bbca25cb0",
            "f8988f8e6b254a2bb4bcb5ffa252001d",
            "a37f52e9a4af4082ade26c99dcd37391",
            "b54a2ec70fe74c4889c9340be0ce0267",
            "a5cec140e26544799d250f7782443ca4",
            "8d62dc670bf74a7a8d90032b1e9f30f1",
            "1eaec1ca18564269b9d172fc109d666f",
            "ebeeb1cc8a7e46b39dc6c4e6d5d6425d",
            "520944eb861445d4b95b9755f996cc60",
            "7f86530508b840d1ae394a997043b479",
            "26561eb4d15c4817932c7bcc7212d2dd",
            "3d7f50f0aaa84f5d993be66ee459b7fd",
            "4dc8acb351934801addcfd3c5d300320",
            "2d9c0505e5b94a9982d272678bf10fe8",
            "ba5b2c98c4994dad972b8570f153ebe8",
            "c1a8f42ed90f4749b030274703cbbd7f",
            "e57ad7e1bf084d8e8f73c1146c2a30f0",
            "deb3f91dfca3447ea84abc6b431cfab9",
            "21fe126e7f9f4fe7bf10d71f424b0bde",
            "24db002179d64af793a3e5e5f4f9f291",
            "882f9ea3c69d47edba7d009f4819e6bd",
            "252198f8191e4d449cbc58c266fd2125",
            "251f55820efc4550b504b719eea178ff",
            "9e91000765514177b2fdabff70fae8be",
            "d5c6780d00a542c1b242ea2cb68fd0e6",
            "e2133be9f96f4ab2aec5ece5b3dcb8f0",
            "4d5f8310602d40fdb57207451562b52f",
            "700aaeeb1bad4552aa462f78609e0832",
            "2e29ec4b29704e31a2f7304888b104a9",
            "ceb5bbb19efd43628c379d21f4055173",
            "5d2c686f87634ed2b35e9dfeef65b7ac",
            "52dc95aa625c4aa5959174ba93dd586e",
            "f5b04591c44648dd97e06cbe06c4cfe1",
            "49af467a867b40cb8b76d97bff5b0adc",
            "1e6a28f21d8e42f9a6a8173256c04899",
            "727049931bf24f7aad27d93412135690",
            "3681906602674e2bb67fec1ec8b20195",
            "7e7a2950174b41ae99722ab00118a018",
            "aa1041fe79f6479ba584e52909604c79",
            "9eca0d95db2e4512924ef85440dbbb6a",
            "0372aa62497a4d95a7ab257b031ed3b6",
            "9e7a08dab6684eb8adf45c1650a7aa20",
            "13719733215d4fafa03b927890d9de0a",
            "9281789937324cafb3cb0a135525ac3d",
            "a11bf2fef57d4b4f91c5ace04f81bbb4",
            "fbfb39d114034c68b678956c332bbacf",
            "8afb0dbd00484f03ade3d181d325d692",
            "f7afd267813b4081aae83b668aa3f756",
            "70e78f1d2ef342b5ab68a5210a5bf643",
            "936a96df2eeb4c96814d105541eccbb5",
            "d293feab5eea40ceb38f0428e4d251c7",
            "b0ee5b1bf1604f758d619683a94d4e3c",
            "deea975ff6194882a3ad9b46aefa7e18",
            "6c0f08819f3b42a98de191a1d1f415fc",
            "bbae3bdf2a384a18ad4720e7d192be40",
            "24c31e0268dc4dca8df06300cf11e3e0"
          ]
        },
        "id": "Z_KenzIxqlNP",
        "outputId": "387afabd-af6f-4ff8-9c5b-8a3c8cd1af93"
      },
      "source": [
        "for epoch,gan in zip(EPOCH_RANGE, models):\n",
        "    print(\"Epoch:\",epoch)\n",
        "    compute_metrics(gan)"
      ],
      "execution_count": 55,
      "outputs": [
        {
          "output_type": "stream",
          "name": "stdout",
          "text": [
            "Epoch: 8\n",
            "using classifier\n"
          ]
        },
        {
          "output_type": "display_data",
          "data": {
            "application/vnd.jupyter.widget-view+json": {
              "model_id": "bc088985f44643aea6e6c673c0778d70",
              "version_minor": 0,
              "version_major": 2
            },
            "text/plain": [
              "  0%|          | 0/100 [00:00<?, ?it/s]"
            ]
          },
          "metadata": {}
        },
        {
          "output_type": "stream",
          "name": "stdout",
          "text": [
            "computing FID on: (10000, 2048) (10000, 2048)\n",
            "fid: 77.86116320210243 ssdiff: 25.55281 trace: 52.30835253315712\n",
            "{'fid': 77.86116320210243, 'f1': 0.7057289, 'acc': 0.81945}\n",
            "Epoch: 9\n",
            "using classifier\n"
          ]
        },
        {
          "output_type": "display_data",
          "data": {
            "application/vnd.jupyter.widget-view+json": {
              "model_id": "a2c531dec81147019786cf579d258b65",
              "version_minor": 0,
              "version_major": 2
            },
            "text/plain": [
              "  0%|          | 0/100 [00:00<?, ?it/s]"
            ]
          },
          "metadata": {}
        },
        {
          "output_type": "stream",
          "name": "stdout",
          "text": [
            "computing FID on: (10000, 2048) (10000, 2048)\n",
            "fid: 78.36487079911812 ssdiff: 26.363764 trace: 52.00110698991402\n",
            "{'fid': 78.36487079911812, 'f1': 0.71878576, 'acc': 0.81988996}\n",
            "Epoch: 10\n",
            "using classifier\n"
          ]
        },
        {
          "output_type": "display_data",
          "data": {
            "application/vnd.jupyter.widget-view+json": {
              "model_id": "f8988f8e6b254a2bb4bcb5ffa252001d",
              "version_minor": 0,
              "version_major": 2
            },
            "text/plain": [
              "  0%|          | 0/100 [00:00<?, ?it/s]"
            ]
          },
          "metadata": {}
        },
        {
          "output_type": "stream",
          "name": "stdout",
          "text": [
            "computing FID on: (10000, 2048) (10000, 2048)\n",
            "fid: 64.86787139224565 ssdiff: 17.938934 trace: 46.92893706607377\n",
            "{'fid': 64.86787139224565, 'f1': 0.7203602, 'acc': 0.83037996}\n",
            "Epoch: 11\n",
            "using classifier\n"
          ]
        },
        {
          "output_type": "display_data",
          "data": {
            "application/vnd.jupyter.widget-view+json": {
              "model_id": "4dc8acb351934801addcfd3c5d300320",
              "version_minor": 0,
              "version_major": 2
            },
            "text/plain": [
              "  0%|          | 0/100 [00:00<?, ?it/s]"
            ]
          },
          "metadata": {}
        },
        {
          "output_type": "stream",
          "name": "stdout",
          "text": [
            "computing FID on: (10000, 2048) (10000, 2048)\n",
            "fid: 71.37722347382787 ssdiff: 21.88015 trace: 49.497073632519275\n",
            "{'fid': 71.37722347382787, 'f1': 0.7350771, 'acc': 0.83765}\n",
            "Epoch: 12\n",
            "using classifier\n"
          ]
        },
        {
          "output_type": "display_data",
          "data": {
            "application/vnd.jupyter.widget-view+json": {
              "model_id": "9e91000765514177b2fdabff70fae8be",
              "version_minor": 0,
              "version_major": 2
            },
            "text/plain": [
              "  0%|          | 0/100 [00:00<?, ?it/s]"
            ]
          },
          "metadata": {}
        },
        {
          "output_type": "stream",
          "name": "stdout",
          "text": [
            "computing FID on: (10000, 2048) (10000, 2048)\n",
            "fid: 68.52466016735252 ssdiff: 20.619705 trace: 47.90495496715721\n",
            "{'fid': 68.52466016735252, 'f1': 0.7405726, 'acc': 0.8434}\n",
            "Epoch: 13\n",
            "using classifier\n"
          ]
        },
        {
          "output_type": "display_data",
          "data": {
            "application/vnd.jupyter.widget-view+json": {
              "model_id": "1e6a28f21d8e42f9a6a8173256c04899",
              "version_minor": 0,
              "version_major": 2
            },
            "text/plain": [
              "  0%|          | 0/100 [00:00<?, ?it/s]"
            ]
          },
          "metadata": {}
        },
        {
          "output_type": "stream",
          "name": "stdout",
          "text": [
            "computing FID on: (10000, 2048) (10000, 2048)\n",
            "fid: 69.0178558397465 ssdiff: 21.264175 trace: 47.75368042470744\n",
            "{'fid': 69.0178558397465, 'f1': 0.74209106, 'acc': 0.83635}\n",
            "Epoch: 14\n",
            "using classifier\n"
          ]
        },
        {
          "output_type": "display_data",
          "data": {
            "application/vnd.jupyter.widget-view+json": {
              "model_id": "fbfb39d114034c68b678956c332bbacf",
              "version_minor": 0,
              "version_major": 2
            },
            "text/plain": [
              "  0%|          | 0/100 [00:00<?, ?it/s]"
            ]
          },
          "metadata": {}
        },
        {
          "output_type": "stream",
          "name": "stdout",
          "text": [
            "computing FID on: (10000, 2048) (10000, 2048)\n",
            "fid: 67.94824773565803 ssdiff: 20.088682 trace: 47.85956556097541\n",
            "{'fid': 67.94824773565803, 'f1': 0.75031203, 'acc': 0.84453994}\n"
          ]
        }
      ]
    },
    {
      "cell_type": "markdown",
      "metadata": {
        "id": "nPIXJBUPMuTr"
      },
      "source": [
        "# 📱📱 📲Weight Average"
      ]
    },
    {
      "cell_type": "code",
      "metadata": {
        "id": "QgmtQskCmju-"
      },
      "source": [
        "gen_weights = []\n",
        "#select epochs to average by slicing\n",
        "for gan in models[2:]:\n",
        "    gen_weights.append(gan.generator.get_weights())\n",
        "\n",
        "avg_weights = list()\n",
        "\n",
        "for weights_list_tuple in zip(*gen_weights):\n",
        "    avg_weights.append(\n",
        "        np.array([np.array(weights).mean(axis=0) \n",
        "        for weights in zip(*weights_list_tuple)]))\n",
        "    \n",
        "\n",
        "avg_gan = gan\n",
        "avg_gan.generator.set_weights(avg_weights)"
      ],
      "execution_count": 56,
      "outputs": []
    },
    {
      "cell_type": "code",
      "metadata": {
        "colab": {
          "base_uri": "https://localhost:8080/",
          "height": 134,
          "referenced_widgets": [
            "9976cc1e65a14e7ba0cf357388441544",
            "6f0ec02c950f4742ace1677ddb96c787",
            "4a9a63db0dfc48a4a1343731b013c4d9",
            "6921f8c25d3c4ab291058c7a64bc1da8",
            "adfe546d25084e1da74ac89bb3c11517",
            "62f3dab202b24cbdadc15c1db717950f",
            "ada5cf3f12c840eb84936c4622494fa0",
            "62489bef5c774d67ae1f89d4fdd90baa",
            "c3018a6dbbad44c88a9122e623516be6",
            "8eb1365cb7ec4f0fa89048a7f75a96fa",
            "aa2eac138e5a42ea9260b840362676dd"
          ]
        },
        "id": "o1GZbdbom-5l",
        "outputId": "64b25366-2935-47e9-f9e1-8d3c236071e5"
      },
      "source": [
        "compute_metrics(avg_gan)"
      ],
      "execution_count": 57,
      "outputs": [
        {
          "output_type": "stream",
          "name": "stdout",
          "text": [
            "using classifier\n"
          ]
        },
        {
          "output_type": "display_data",
          "data": {
            "application/vnd.jupyter.widget-view+json": {
              "model_id": "9976cc1e65a14e7ba0cf357388441544",
              "version_minor": 0,
              "version_major": 2
            },
            "text/plain": [
              "  0%|          | 0/100 [00:00<?, ?it/s]"
            ]
          },
          "metadata": {}
        },
        {
          "output_type": "stream",
          "name": "stdout",
          "text": [
            "computing FID on: (10000, 2048) (10000, 2048)\n",
            "fid: 54.777108430127825 ssdiff: 12.390423 trace: 42.3866856090829\n",
            "{'fid': 54.777108430127825, 'f1': 0.7596557, 'acc': 0.84474003}\n"
          ]
        },
        {
          "output_type": "execute_result",
          "data": {
            "text/plain": [
              "{'acc': 0.84474003, 'f1': 0.7596557, 'fid': 54.777108430127825}"
            ]
          },
          "metadata": {},
          "execution_count": 57
        }
      ]
    },
    {
      "cell_type": "markdown",
      "metadata": {
        "id": "DOKYXZp3Bbnb"
      },
      "source": [
        "# 📸 Pretty plot images"
      ]
    },
    {
      "cell_type": "markdown",
      "metadata": {
        "id": "U3jle7WzlIpz"
      },
      "source": [
        "### SAME NOISE DIFFERENT LABEL"
      ]
    },
    {
      "cell_type": "code",
      "metadata": {
        "colab": {
          "base_uri": "https://localhost:8080/"
        },
        "id": "ny0_KXhrOzhB",
        "outputId": "158fe904-4484-4394-e8ec-59baca7a401c"
      },
      "source": [
        "if N_ATTRIBUTES == 2:\n",
        "    n = tf.random.truncated_normal(shape=(100,))\n",
        "    b = tf.random.truncated_normal(shape=(100,))\n",
        "    noise = np.array(tf.concat([[n for i in range(4)],[b for i in range(4)]], axis = 0))\n",
        "\n",
        "if N_ATTRIBUTES == 10 or N_ATTRIBUTES == 40:\n",
        "    n = tf.random.truncated_normal(shape=(100,))\n",
        "    noise = np.array([n for _ in range(8)])\n",
        "print(noise.shape)"
      ],
      "execution_count": null,
      "outputs": [
        {
          "output_type": "stream",
          "name": "stdout",
          "text": [
            "(8, 100)\n"
          ]
        }
      ]
    },
    {
      "cell_type": "code",
      "metadata": {
        "id": "t5X3d9ZwHNAO",
        "colab": {
          "base_uri": "https://localhost:8080/"
        },
        "outputId": "52dbac00-03af-4d25-ed0a-169ecf18803b"
      },
      "source": [
        "if N_ATTRIBUTES == 2:\n",
        "    attr = np.array([[0,0],[0,1],[1,0],[1,1], [0,0],[0,1],[1,0],[1,1]])\n",
        "    \n",
        "if N_ATTRIBUTES == 10:\n",
        "    attr = np.array([[0,0,0,1,1,0,0,0,1,0],                     ## man, smile, nose, cheeck\n",
        "                     [0,0,0,1,0,0,0,0,1,0],                              ## man, nose, cheek\n",
        "                     [1,0,0,1,1,0,1,0,1,0],                              ## man, smile, nose, cheek, wavy\n",
        "                     [1,0,0,1,0,0,1,0,1,0],                              ## man, nose, cheek\n",
        "                     [0,0,0,0,1,0,0,0,1,0],                              ## smile, nose, cheek\n",
        "                     [0,0,0,0,0,0,0,0,1,0],                              ## nose, cheek\n",
        "                     [1,0,0,0,1,0,1,0,1,0],                              ## smile, nose, cheek, wavy\n",
        "                     [1,0,0,0,0,0,1,0,1,0]])                             ## cheek, nose, lipstick, makeup\n",
        "if N_ATTRIBUTES == 40:\n",
        "    attr = np.array([[0,0,0,0,0,0,0,0,1,0,0,0,0,0,0,0,0,0,0,1,1,0,0,0,0,0,0,1,0,0,0,1,0,1,0,0,0,0,0,1],                     ## man, smile, nose, cheeck\n",
        "                     [0,0,0,0,0,0,0,0,1,0,0,0,0,0,0,0,0,0,0,1,1,0,0,0,0,0,0,1,0,0,0,0,0,1,0,0,0,0,0,1],                            ## man, nose, cheek\n",
        "                     [0,0,0,0,0,0,0,0,0,1,0,0,0,0,0,0,0,0,0,1,1,0,0,0,0,0,1,1,0,0,0,1,0,1,0,0,0,0,0,1],                              ## man, smile, nose, cheek, wavy\n",
        "                     [0,0,0,0,0,0,0,0,0,1,0,0,0,0,0,0,0,0,0,1,1,0,0,0,0,0,1,1,0,0,0,0,0,1,0,0,0,0,0,1],                            ## man, nose, cheek\n",
        "                     [0,0,0,0,0,0,0,0,1,0,0,0,0,0,0,0,0,0,0,1,0,0,0,0,0,0,0,1,0,0,0,1,0,1,0,0,0,0,0,1],                            ## smile, nose, cheek\n",
        "                     [0,0,0,0,0,0,0,0,1,0,0,0,0,0,0,0,0,0,0,1,0,0,0,0,0,0,0,1,0,0,0,0,0,1,0,0,0,0,0,1],                            ## man, nose, cheek\n",
        "                     [0,0,0,0,0,0,0,0,0,1,0,0,0,0,0,0,0,0,0,1,0,0,0,0,0,0,1,1,0,0,0,1,0,1,0,0,0,0,0,1],                            ## smile, nose, cheek, wavy\n",
        "                     [0,0,0,0,0,0,0,0,0,1,0,0,0,0,0,0,0,0,0,1,0,0,0,0,0,0,1,1,0,0,0,0,0,1,0,0,0,0,0,1]])\n",
        "attr.shape\n"
      ],
      "execution_count": null,
      "outputs": [
        {
          "output_type": "execute_result",
          "data": {
            "text/plain": [
              "(8, 40)"
            ]
          },
          "metadata": {},
          "execution_count": 321
        }
      ]
    },
    {
      "cell_type": "markdown",
      "metadata": {
        "id": "l-vj_z3Pleut"
      },
      "source": [
        "### DIFFERENT NOISE SAME LABEL"
      ]
    },
    {
      "cell_type": "code",
      "metadata": {
        "id": "syJWxe15lkAv"
      },
      "source": [
        "noise = tf.random.truncated_normal(shape=(8,100))"
      ],
      "execution_count": null,
      "outputs": []
    },
    {
      "cell_type": "code",
      "metadata": {
        "id": "wCto5chEljsq"
      },
      "source": [
        "if N_ATTRIBUTES == 2:\n",
        "    attr = np.array([[0,1]]*8)\n",
        "\n",
        "if N_ATTRIBUTES == 10:\n",
        "    attr = np.array([[0,0,0,1,1,0,0,0,1,0]]*8)\n",
        "                     \n",
        "if N_ATTRIBUTES == 40:\n",
        "    attr = np.array([[0,0,0,0,0,0,0,0,1,0,0,0,0,0,0,0,0,0,0,1,1,0,0,0,0,0,0,1,0,0,0,1,0,1,0,0,0,0,0,1]]*8)"
      ],
      "execution_count": null,
      "outputs": []
    },
    {
      "cell_type": "markdown",
      "metadata": {
        "id": "S3UMmtg9lklM"
      },
      "source": [
        "### PLOT"
      ]
    },
    {
      "cell_type": "code",
      "metadata": {
        "colab": {
          "base_uri": "https://localhost:8080/",
          "height": 295
        },
        "id": "WQIl0KbmoyzR",
        "outputId": "51ba5f51-c182-4ee2-df50-ae1413c97974"
      },
      "source": [
        "num_img = 8\n",
        "print_rows = 1\n",
        "\n",
        "RANDOM_GEN = False\n",
        "\n",
        "for i in range(1):\n",
        "    if RANDOM_GEN:\n",
        "        random_latent_vectors = tf.random.truncated_normal(shape=(num_img, LATENT_DIM))\n",
        "\n",
        "        if N_ATTRIBUTES !=0:\n",
        "            attr = np.array([attr_list[i] for i in np.random.randint(0,202600, num_img)])\n",
        "            generated_images = gan.generator((random_latent_vectors, attr))\n",
        "        else:\n",
        "            generated_images = gan.generator(random_latent_vectors)\n",
        "    else:\n",
        "        generated_images = gan.generator((noise, attr))\n",
        "\n",
        "    generated_images.numpy()\n",
        "    generated_images = conv_range((-1,1), (0,1))(generated_images)\n",
        "\n",
        "    fig, axes = plt.subplots(print_rows, num_img//print_rows, figsize=(30,20))\n",
        "    #titfont = {'fontname':'Monospace'}\n",
        "    \n",
        "    for m, axis in enumerate(axes):\n",
        "        axis.axis('off')\n",
        "        axis.set_title('\\n'.join([' ☑  '+label*' '.join(LABELS[i].split('_')) for i,label in enumerate(attr[m]) if label]),loc='left',fontsize=15)\n",
        "            \n",
        "        axis.imshow(generated_images[m])\n",
        "    plt.show()"
      ],
      "execution_count": null,
      "outputs": [
        {
          "output_type": "display_data",
          "data": {
            "image/png": "[encoded data removed]",
            "text/plain": [
              "<Figure size 2160x1440 with 8 Axes>"
            ]
          },
          "metadata": {
            "needs_background": "light"
          }
        }
      ]
    }
  ]
}