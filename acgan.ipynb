{
  "nbformat": 4,
  "nbformat_minor": 0,
  "metadata": {
    "colab": {
      "name": "acgan",
      "provenance": [],
      "collapsed_sections": [
        "G3ZWc_CToZiK"
      ],
      "toc_visible": true,
      "include_colab_link": true
    },
    "kernelspec": {
      "display_name": "Python 3",
      "language": "python",
      "name": "python3"
    },
    "language_info": {
      "codemirror_mode": {
        "name": "ipython",
        "version": 3
      },
      "file_extension": ".py",
      "mimetype": "text/x-python",
      "name": "python",
      "nbconvert_exporter": "python",
      "pygments_lexer": "ipython3",
      "version": "3.7.0"
    },
    "widgets": {
      "application/vnd.jupyter.widget-state+json": {
        "35b16d6478e949dab2894038ad6466ab": {
          "model_module": "@jupyter-widgets/controls",
          "model_name": "HBoxModel",
          "state": {
            "_view_name": "HBoxView",
            "_dom_classes": [],
            "_model_name": "HBoxModel",
            "_view_module": "@jupyter-widgets/controls",
            "_model_module_version": "1.5.0",
            "_view_count": null,
            "_view_module_version": "1.5.0",
            "box_style": "",
            "layout": "IPY_MODEL_6eb597de94564b62a4c5593b083e80bd",
            "_model_module": "@jupyter-widgets/controls",
            "children": [
              "IPY_MODEL_0dc687643496484ba1a845b13c47bc37",
              "IPY_MODEL_6cca2ada0ddd4c1c892a9e38893de746"
            ]
          }
        },
        "6eb597de94564b62a4c5593b083e80bd": {
          "model_module": "@jupyter-widgets/base",
          "model_name": "LayoutModel",
          "state": {
            "_view_name": "LayoutView",
            "grid_template_rows": null,
            "right": null,
            "justify_content": null,
            "_view_module": "@jupyter-widgets/base",
            "overflow": null,
            "_model_module_version": "1.2.0",
            "_view_count": null,
            "flex_flow": null,
            "width": null,
            "min_width": null,
            "border": null,
            "align_items": null,
            "bottom": null,
            "_model_module": "@jupyter-widgets/base",
            "top": null,
            "grid_column": null,
            "overflow_y": null,
            "overflow_x": null,
            "grid_auto_flow": null,
            "grid_area": null,
            "grid_template_columns": null,
            "flex": null,
            "_model_name": "LayoutModel",
            "justify_items": null,
            "grid_row": null,
            "max_height": null,
            "align_content": null,
            "visibility": null,
            "align_self": null,
            "height": null,
            "min_height": null,
            "padding": null,
            "grid_auto_rows": null,
            "grid_gap": null,
            "max_width": null,
            "order": null,
            "_view_module_version": "1.2.0",
            "grid_template_areas": null,
            "object_position": null,
            "object_fit": null,
            "grid_auto_columns": null,
            "margin": null,
            "display": null,
            "left": null
          }
        },
        "0dc687643496484ba1a845b13c47bc37": {
          "model_module": "@jupyter-widgets/controls",
          "model_name": "FloatProgressModel",
          "state": {
            "_view_name": "ProgressView",
            "style": "IPY_MODEL_d7b1f5b7b54c431994797534f2d2404c",
            "_dom_classes": [],
            "description": "100%",
            "_model_name": "FloatProgressModel",
            "bar_style": "success",
            "max": 100,
            "_view_module": "@jupyter-widgets/controls",
            "_model_module_version": "1.5.0",
            "value": 100,
            "_view_count": null,
            "_view_module_version": "1.5.0",
            "orientation": "horizontal",
            "min": 0,
            "description_tooltip": null,
            "_model_module": "@jupyter-widgets/controls",
            "layout": "IPY_MODEL_43da02e787cf4bceb241faba17c0c41c"
          }
        },
        "6cca2ada0ddd4c1c892a9e38893de746": {
          "model_module": "@jupyter-widgets/controls",
          "model_name": "HTMLModel",
          "state": {
            "_view_name": "HTMLView",
            "style": "IPY_MODEL_904d7b1f8613409a856a7654e48d8a63",
            "_dom_classes": [],
            "description": "",
            "_model_name": "HTMLModel",
            "placeholder": "​",
            "_view_module": "@jupyter-widgets/controls",
            "_model_module_version": "1.5.0",
            "value": " 100/100 [01:15&lt;00:00,  1.33it/s]",
            "_view_count": null,
            "_view_module_version": "1.5.0",
            "description_tooltip": null,
            "_model_module": "@jupyter-widgets/controls",
            "layout": "IPY_MODEL_4278c8fea1d04dbd91ec135d711585ea"
          }
        },
        "d7b1f5b7b54c431994797534f2d2404c": {
          "model_module": "@jupyter-widgets/controls",
          "model_name": "ProgressStyleModel",
          "state": {
            "_view_name": "StyleView",
            "_model_name": "ProgressStyleModel",
            "description_width": "initial",
            "_view_module": "@jupyter-widgets/base",
            "_model_module_version": "1.5.0",
            "_view_count": null,
            "_view_module_version": "1.2.0",
            "bar_color": null,
            "_model_module": "@jupyter-widgets/controls"
          }
        },
        "43da02e787cf4bceb241faba17c0c41c": {
          "model_module": "@jupyter-widgets/base",
          "model_name": "LayoutModel",
          "state": {
            "_view_name": "LayoutView",
            "grid_template_rows": null,
            "right": null,
            "justify_content": null,
            "_view_module": "@jupyter-widgets/base",
            "overflow": null,
            "_model_module_version": "1.2.0",
            "_view_count": null,
            "flex_flow": null,
            "width": null,
            "min_width": null,
            "border": null,
            "align_items": null,
            "bottom": null,
            "_model_module": "@jupyter-widgets/base",
            "top": null,
            "grid_column": null,
            "overflow_y": null,
            "overflow_x": null,
            "grid_auto_flow": null,
            "grid_area": null,
            "grid_template_columns": null,
            "flex": null,
            "_model_name": "LayoutModel",
            "justify_items": null,
            "grid_row": null,
            "max_height": null,
            "align_content": null,
            "visibility": null,
            "align_self": null,
            "height": null,
            "min_height": null,
            "padding": null,
            "grid_auto_rows": null,
            "grid_gap": null,
            "max_width": null,
            "order": null,
            "_view_module_version": "1.2.0",
            "grid_template_areas": null,
            "object_position": null,
            "object_fit": null,
            "grid_auto_columns": null,
            "margin": null,
            "display": null,
            "left": null
          }
        },
        "904d7b1f8613409a856a7654e48d8a63": {
          "model_module": "@jupyter-widgets/controls",
          "model_name": "DescriptionStyleModel",
          "state": {
            "_view_name": "StyleView",
            "_model_name": "DescriptionStyleModel",
            "description_width": "",
            "_view_module": "@jupyter-widgets/base",
            "_model_module_version": "1.5.0",
            "_view_count": null,
            "_view_module_version": "1.2.0",
            "_model_module": "@jupyter-widgets/controls"
          }
        },
        "4278c8fea1d04dbd91ec135d711585ea": {
          "model_module": "@jupyter-widgets/base",
          "model_name": "LayoutModel",
          "state": {
            "_view_name": "LayoutView",
            "grid_template_rows": null,
            "right": null,
            "justify_content": null,
            "_view_module": "@jupyter-widgets/base",
            "overflow": null,
            "_model_module_version": "1.2.0",
            "_view_count": null,
            "flex_flow": null,
            "width": null,
            "min_width": null,
            "border": null,
            "align_items": null,
            "bottom": null,
            "_model_module": "@jupyter-widgets/base",
            "top": null,
            "grid_column": null,
            "overflow_y": null,
            "overflow_x": null,
            "grid_auto_flow": null,
            "grid_area": null,
            "grid_template_columns": null,
            "flex": null,
            "_model_name": "LayoutModel",
            "justify_items": null,
            "grid_row": null,
            "max_height": null,
            "align_content": null,
            "visibility": null,
            "align_self": null,
            "height": null,
            "min_height": null,
            "padding": null,
            "grid_auto_rows": null,
            "grid_gap": null,
            "max_width": null,
            "order": null,
            "_view_module_version": "1.2.0",
            "grid_template_areas": null,
            "object_position": null,
            "object_fit": null,
            "grid_auto_columns": null,
            "margin": null,
            "display": null,
            "left": null
          }
        },
        "2dc6ef9a462c461ba5fc98c5b02593e7": {
          "model_module": "@jupyter-widgets/controls",
          "model_name": "VBoxModel",
          "state": {
            "_view_name": "VBoxView",
            "_dom_classes": [],
            "_model_name": "VBoxModel",
            "_view_module": "@jupyter-widgets/controls",
            "_model_module_version": "1.5.0",
            "_view_count": null,
            "_view_module_version": "1.5.0",
            "box_style": "",
            "layout": "IPY_MODEL_7af885cd2d74461cbd4bf8a08499ed5c",
            "_model_module": "@jupyter-widgets/controls",
            "children": [
              "IPY_MODEL_58e3495eff504ac7985f59a7ae02c8d1",
              "IPY_MODEL_af45c95b51844bc9ba6c2e283463e450"
            ]
          }
        },
        "7af885cd2d74461cbd4bf8a08499ed5c": {
          "model_module": "@jupyter-widgets/base",
          "model_name": "LayoutModel",
          "state": {
            "_view_name": "LayoutView",
            "grid_template_rows": null,
            "right": null,
            "justify_content": null,
            "_view_module": "@jupyter-widgets/base",
            "overflow": null,
            "_model_module_version": "1.2.0",
            "_view_count": null,
            "flex_flow": null,
            "width": null,
            "min_width": null,
            "border": null,
            "align_items": null,
            "bottom": null,
            "_model_module": "@jupyter-widgets/base",
            "top": null,
            "grid_column": null,
            "overflow_y": null,
            "overflow_x": null,
            "grid_auto_flow": null,
            "grid_area": null,
            "grid_template_columns": null,
            "flex": null,
            "_model_name": "LayoutModel",
            "justify_items": null,
            "grid_row": null,
            "max_height": null,
            "align_content": null,
            "visibility": null,
            "align_self": null,
            "height": null,
            "min_height": null,
            "padding": null,
            "grid_auto_rows": null,
            "grid_gap": null,
            "max_width": null,
            "order": null,
            "_view_module_version": "1.2.0",
            "grid_template_areas": null,
            "object_position": null,
            "object_fit": null,
            "grid_auto_columns": null,
            "margin": null,
            "display": null,
            "left": null
          }
        },
        "58e3495eff504ac7985f59a7ae02c8d1": {
          "model_module": "@jupyter-widgets/controls",
          "model_name": "LabelModel",
          "state": {
            "_view_name": "LabelView",
            "style": "IPY_MODEL_d340bc06f0c44a748255aa4154f1a032",
            "_dom_classes": [],
            "description": "",
            "_model_name": "LabelModel",
            "placeholder": "​",
            "_view_module": "@jupyter-widgets/controls",
            "_model_module_version": "1.5.0",
            "value": " 786.17MB of 786.17MB uploaded (17.47MB deduped)\r",
            "_view_count": null,
            "_view_module_version": "1.5.0",
            "description_tooltip": null,
            "_model_module": "@jupyter-widgets/controls",
            "layout": "IPY_MODEL_6c6164f1463d478e986a0ef76ce94567"
          }
        },
        "af45c95b51844bc9ba6c2e283463e450": {
          "model_module": "@jupyter-widgets/controls",
          "model_name": "FloatProgressModel",
          "state": {
            "_view_name": "ProgressView",
            "style": "IPY_MODEL_844a1c8dab564b11a789fd5408ef1a5c",
            "_dom_classes": [],
            "description": "",
            "_model_name": "FloatProgressModel",
            "bar_style": "",
            "max": 1,
            "_view_module": "@jupyter-widgets/controls",
            "_model_module_version": "1.5.0",
            "value": 1,
            "_view_count": null,
            "_view_module_version": "1.5.0",
            "orientation": "horizontal",
            "min": 0,
            "description_tooltip": null,
            "_model_module": "@jupyter-widgets/controls",
            "layout": "IPY_MODEL_7828a11fab7940c68224508eb41d468b"
          }
        },
        "d340bc06f0c44a748255aa4154f1a032": {
          "model_module": "@jupyter-widgets/controls",
          "model_name": "DescriptionStyleModel",
          "state": {
            "_view_name": "StyleView",
            "_model_name": "DescriptionStyleModel",
            "description_width": "",
            "_view_module": "@jupyter-widgets/base",
            "_model_module_version": "1.5.0",
            "_view_count": null,
            "_view_module_version": "1.2.0",
            "_model_module": "@jupyter-widgets/controls"
          }
        },
        "6c6164f1463d478e986a0ef76ce94567": {
          "model_module": "@jupyter-widgets/base",
          "model_name": "LayoutModel",
          "state": {
            "_view_name": "LayoutView",
            "grid_template_rows": null,
            "right": null,
            "justify_content": null,
            "_view_module": "@jupyter-widgets/base",
            "overflow": null,
            "_model_module_version": "1.2.0",
            "_view_count": null,
            "flex_flow": null,
            "width": null,
            "min_width": null,
            "border": null,
            "align_items": null,
            "bottom": null,
            "_model_module": "@jupyter-widgets/base",
            "top": null,
            "grid_column": null,
            "overflow_y": null,
            "overflow_x": null,
            "grid_auto_flow": null,
            "grid_area": null,
            "grid_template_columns": null,
            "flex": null,
            "_model_name": "LayoutModel",
            "justify_items": null,
            "grid_row": null,
            "max_height": null,
            "align_content": null,
            "visibility": null,
            "align_self": null,
            "height": null,
            "min_height": null,
            "padding": null,
            "grid_auto_rows": null,
            "grid_gap": null,
            "max_width": null,
            "order": null,
            "_view_module_version": "1.2.0",
            "grid_template_areas": null,
            "object_position": null,
            "object_fit": null,
            "grid_auto_columns": null,
            "margin": null,
            "display": null,
            "left": null
          }
        },
        "844a1c8dab564b11a789fd5408ef1a5c": {
          "model_module": "@jupyter-widgets/controls",
          "model_name": "ProgressStyleModel",
          "state": {
            "_view_name": "StyleView",
            "_model_name": "ProgressStyleModel",
            "description_width": "",
            "_view_module": "@jupyter-widgets/base",
            "_model_module_version": "1.5.0",
            "_view_count": null,
            "_view_module_version": "1.2.0",
            "bar_color": null,
            "_model_module": "@jupyter-widgets/controls"
          }
        },
        "7828a11fab7940c68224508eb41d468b": {
          "model_module": "@jupyter-widgets/base",
          "model_name": "LayoutModel",
          "state": {
            "_view_name": "LayoutView",
            "grid_template_rows": null,
            "right": null,
            "justify_content": null,
            "_view_module": "@jupyter-widgets/base",
            "overflow": null,
            "_model_module_version": "1.2.0",
            "_view_count": null,
            "flex_flow": null,
            "width": null,
            "min_width": null,
            "border": null,
            "align_items": null,
            "bottom": null,
            "_model_module": "@jupyter-widgets/base",
            "top": null,
            "grid_column": null,
            "overflow_y": null,
            "overflow_x": null,
            "grid_auto_flow": null,
            "grid_area": null,
            "grid_template_columns": null,
            "flex": null,
            "_model_name": "LayoutModel",
            "justify_items": null,
            "grid_row": null,
            "max_height": null,
            "align_content": null,
            "visibility": null,
            "align_self": null,
            "height": null,
            "min_height": null,
            "padding": null,
            "grid_auto_rows": null,
            "grid_gap": null,
            "max_width": null,
            "order": null,
            "_view_module_version": "1.2.0",
            "grid_template_areas": null,
            "object_position": null,
            "object_fit": null,
            "grid_auto_columns": null,
            "margin": null,
            "display": null,
            "left": null
          }
        },
        "468ac7f2109d473e9f25ac7d47384d9d": {
          "model_module": "@jupyter-widgets/controls",
          "model_name": "HBoxModel",
          "state": {
            "_view_name": "HBoxView",
            "_dom_classes": [],
            "_model_name": "HBoxModel",
            "_view_module": "@jupyter-widgets/controls",
            "_model_module_version": "1.5.0",
            "_view_count": null,
            "_view_module_version": "1.5.0",
            "box_style": "",
            "layout": "IPY_MODEL_32a734d2ec1844f6826662dd3f718fea",
            "_model_module": "@jupyter-widgets/controls",
            "children": [
              "IPY_MODEL_e6ce0bb360e9416dafac097c3a79239a",
              "IPY_MODEL_54fa36be2931419386e5541abae9d0e7"
            ]
          }
        },
        "32a734d2ec1844f6826662dd3f718fea": {
          "model_module": "@jupyter-widgets/base",
          "model_name": "LayoutModel",
          "state": {
            "_view_name": "LayoutView",
            "grid_template_rows": null,
            "right": null,
            "justify_content": null,
            "_view_module": "@jupyter-widgets/base",
            "overflow": null,
            "_model_module_version": "1.2.0",
            "_view_count": null,
            "flex_flow": null,
            "width": null,
            "min_width": null,
            "border": null,
            "align_items": null,
            "bottom": null,
            "_model_module": "@jupyter-widgets/base",
            "top": null,
            "grid_column": null,
            "overflow_y": null,
            "overflow_x": null,
            "grid_auto_flow": null,
            "grid_area": null,
            "grid_template_columns": null,
            "flex": null,
            "_model_name": "LayoutModel",
            "justify_items": null,
            "grid_row": null,
            "max_height": null,
            "align_content": null,
            "visibility": null,
            "align_self": null,
            "height": null,
            "min_height": null,
            "padding": null,
            "grid_auto_rows": null,
            "grid_gap": null,
            "max_width": null,
            "order": null,
            "_view_module_version": "1.2.0",
            "grid_template_areas": null,
            "object_position": null,
            "object_fit": null,
            "grid_auto_columns": null,
            "margin": null,
            "display": null,
            "left": null
          }
        },
        "e6ce0bb360e9416dafac097c3a79239a": {
          "model_module": "@jupyter-widgets/controls",
          "model_name": "FloatProgressModel",
          "state": {
            "_view_name": "ProgressView",
            "style": "IPY_MODEL_7c939aadebb2478890617df178b4da9c",
            "_dom_classes": [],
            "description": "100%",
            "_model_name": "FloatProgressModel",
            "bar_style": "success",
            "max": 100,
            "_view_module": "@jupyter-widgets/controls",
            "_model_module_version": "1.5.0",
            "value": 100,
            "_view_count": null,
            "_view_module_version": "1.5.0",
            "orientation": "horizontal",
            "min": 0,
            "description_tooltip": null,
            "_model_module": "@jupyter-widgets/controls",
            "layout": "IPY_MODEL_5f3ca42cf5d94126b9a3a8cc3d2bb6e9"
          }
        },
        "54fa36be2931419386e5541abae9d0e7": {
          "model_module": "@jupyter-widgets/controls",
          "model_name": "HTMLModel",
          "state": {
            "_view_name": "HTMLView",
            "style": "IPY_MODEL_97b4fbfb42354333b3a7885228c1e463",
            "_dom_classes": [],
            "description": "",
            "_model_name": "HTMLModel",
            "placeholder": "​",
            "_view_module": "@jupyter-widgets/controls",
            "_model_module_version": "1.5.0",
            "value": " 100/100 [19:08&lt;00:00, 11.48s/it]",
            "_view_count": null,
            "_view_module_version": "1.5.0",
            "description_tooltip": null,
            "_model_module": "@jupyter-widgets/controls",
            "layout": "IPY_MODEL_52c65a9ffd834f97a1ce950fb0db60b2"
          }
        },
        "7c939aadebb2478890617df178b4da9c": {
          "model_module": "@jupyter-widgets/controls",
          "model_name": "ProgressStyleModel",
          "state": {
            "_view_name": "StyleView",
            "_model_name": "ProgressStyleModel",
            "description_width": "initial",
            "_view_module": "@jupyter-widgets/base",
            "_model_module_version": "1.5.0",
            "_view_count": null,
            "_view_module_version": "1.2.0",
            "bar_color": null,
            "_model_module": "@jupyter-widgets/controls"
          }
        },
        "5f3ca42cf5d94126b9a3a8cc3d2bb6e9": {
          "model_module": "@jupyter-widgets/base",
          "model_name": "LayoutModel",
          "state": {
            "_view_name": "LayoutView",
            "grid_template_rows": null,
            "right": null,
            "justify_content": null,
            "_view_module": "@jupyter-widgets/base",
            "overflow": null,
            "_model_module_version": "1.2.0",
            "_view_count": null,
            "flex_flow": null,
            "width": null,
            "min_width": null,
            "border": null,
            "align_items": null,
            "bottom": null,
            "_model_module": "@jupyter-widgets/base",
            "top": null,
            "grid_column": null,
            "overflow_y": null,
            "overflow_x": null,
            "grid_auto_flow": null,
            "grid_area": null,
            "grid_template_columns": null,
            "flex": null,
            "_model_name": "LayoutModel",
            "justify_items": null,
            "grid_row": null,
            "max_height": null,
            "align_content": null,
            "visibility": null,
            "align_self": null,
            "height": null,
            "min_height": null,
            "padding": null,
            "grid_auto_rows": null,
            "grid_gap": null,
            "max_width": null,
            "order": null,
            "_view_module_version": "1.2.0",
            "grid_template_areas": null,
            "object_position": null,
            "object_fit": null,
            "grid_auto_columns": null,
            "margin": null,
            "display": null,
            "left": null
          }
        },
        "97b4fbfb42354333b3a7885228c1e463": {
          "model_module": "@jupyter-widgets/controls",
          "model_name": "DescriptionStyleModel",
          "state": {
            "_view_name": "StyleView",
            "_model_name": "DescriptionStyleModel",
            "description_width": "",
            "_view_module": "@jupyter-widgets/base",
            "_model_module_version": "1.5.0",
            "_view_count": null,
            "_view_module_version": "1.2.0",
            "_model_module": "@jupyter-widgets/controls"
          }
        },
        "52c65a9ffd834f97a1ce950fb0db60b2": {
          "model_module": "@jupyter-widgets/base",
          "model_name": "LayoutModel",
          "state": {
            "_view_name": "LayoutView",
            "grid_template_rows": null,
            "right": null,
            "justify_content": null,
            "_view_module": "@jupyter-widgets/base",
            "overflow": null,
            "_model_module_version": "1.2.0",
            "_view_count": null,
            "flex_flow": null,
            "width": null,
            "min_width": null,
            "border": null,
            "align_items": null,
            "bottom": null,
            "_model_module": "@jupyter-widgets/base",
            "top": null,
            "grid_column": null,
            "overflow_y": null,
            "overflow_x": null,
            "grid_auto_flow": null,
            "grid_area": null,
            "grid_template_columns": null,
            "flex": null,
            "_model_name": "LayoutModel",
            "justify_items": null,
            "grid_row": null,
            "max_height": null,
            "align_content": null,
            "visibility": null,
            "align_self": null,
            "height": null,
            "min_height": null,
            "padding": null,
            "grid_auto_rows": null,
            "grid_gap": null,
            "max_width": null,
            "order": null,
            "_view_module_version": "1.2.0",
            "grid_template_areas": null,
            "object_position": null,
            "object_fit": null,
            "grid_auto_columns": null,
            "margin": null,
            "display": null,
            "left": null
          }
        },
        "4decd1a3377b45db8bc0158a6e402a58": {
          "model_module": "@jupyter-widgets/controls",
          "model_name": "HBoxModel",
          "state": {
            "_view_name": "HBoxView",
            "_dom_classes": [],
            "_model_name": "HBoxModel",
            "_view_module": "@jupyter-widgets/controls",
            "_model_module_version": "1.5.0",
            "_view_count": null,
            "_view_module_version": "1.5.0",
            "box_style": "",
            "layout": "IPY_MODEL_428097e2dfe94705aa4a9ba6b39f999d",
            "_model_module": "@jupyter-widgets/controls",
            "children": [
              "IPY_MODEL_0662f49e1fd345c08025fad632635b87",
              "IPY_MODEL_48d0eb444b1b44058b4051843b7e960d"
            ]
          }
        },
        "428097e2dfe94705aa4a9ba6b39f999d": {
          "model_module": "@jupyter-widgets/base",
          "model_name": "LayoutModel",
          "state": {
            "_view_name": "LayoutView",
            "grid_template_rows": null,
            "right": null,
            "justify_content": null,
            "_view_module": "@jupyter-widgets/base",
            "overflow": null,
            "_model_module_version": "1.2.0",
            "_view_count": null,
            "flex_flow": null,
            "width": null,
            "min_width": null,
            "border": null,
            "align_items": null,
            "bottom": null,
            "_model_module": "@jupyter-widgets/base",
            "top": null,
            "grid_column": null,
            "overflow_y": null,
            "overflow_x": null,
            "grid_auto_flow": null,
            "grid_area": null,
            "grid_template_columns": null,
            "flex": null,
            "_model_name": "LayoutModel",
            "justify_items": null,
            "grid_row": null,
            "max_height": null,
            "align_content": null,
            "visibility": null,
            "align_self": null,
            "height": null,
            "min_height": null,
            "padding": null,
            "grid_auto_rows": null,
            "grid_gap": null,
            "max_width": null,
            "order": null,
            "_view_module_version": "1.2.0",
            "grid_template_areas": null,
            "object_position": null,
            "object_fit": null,
            "grid_auto_columns": null,
            "margin": null,
            "display": null,
            "left": null
          }
        },
        "0662f49e1fd345c08025fad632635b87": {
          "model_module": "@jupyter-widgets/controls",
          "model_name": "FloatProgressModel",
          "state": {
            "_view_name": "ProgressView",
            "style": "IPY_MODEL_c7ce83b1bf304eecbe1d5fdc0aca8a8d",
            "_dom_classes": [],
            "description": "100%",
            "_model_name": "FloatProgressModel",
            "bar_style": "success",
            "max": 100,
            "_view_module": "@jupyter-widgets/controls",
            "_model_module_version": "1.5.0",
            "value": 100,
            "_view_count": null,
            "_view_module_version": "1.5.0",
            "orientation": "horizontal",
            "min": 0,
            "description_tooltip": null,
            "_model_module": "@jupyter-widgets/controls",
            "layout": "IPY_MODEL_86b748d1dd724f2b987df9835cedb97c"
          }
        },
        "48d0eb444b1b44058b4051843b7e960d": {
          "model_module": "@jupyter-widgets/controls",
          "model_name": "HTMLModel",
          "state": {
            "_view_name": "HTMLView",
            "style": "IPY_MODEL_d0475640ee254fae9c6cce292a7950b6",
            "_dom_classes": [],
            "description": "",
            "_model_name": "HTMLModel",
            "placeholder": "​",
            "_view_module": "@jupyter-widgets/controls",
            "_model_module_version": "1.5.0",
            "value": " 100/100 [00:33&lt;00:00,  2.95it/s]",
            "_view_count": null,
            "_view_module_version": "1.5.0",
            "description_tooltip": null,
            "_model_module": "@jupyter-widgets/controls",
            "layout": "IPY_MODEL_6c5e17560913453d99bbb1b598300005"
          }
        },
        "c7ce83b1bf304eecbe1d5fdc0aca8a8d": {
          "model_module": "@jupyter-widgets/controls",
          "model_name": "ProgressStyleModel",
          "state": {
            "_view_name": "StyleView",
            "_model_name": "ProgressStyleModel",
            "description_width": "initial",
            "_view_module": "@jupyter-widgets/base",
            "_model_module_version": "1.5.0",
            "_view_count": null,
            "_view_module_version": "1.2.0",
            "bar_color": null,
            "_model_module": "@jupyter-widgets/controls"
          }
        },
        "86b748d1dd724f2b987df9835cedb97c": {
          "model_module": "@jupyter-widgets/base",
          "model_name": "LayoutModel",
          "state": {
            "_view_name": "LayoutView",
            "grid_template_rows": null,
            "right": null,
            "justify_content": null,
            "_view_module": "@jupyter-widgets/base",
            "overflow": null,
            "_model_module_version": "1.2.0",
            "_view_count": null,
            "flex_flow": null,
            "width": null,
            "min_width": null,
            "border": null,
            "align_items": null,
            "bottom": null,
            "_model_module": "@jupyter-widgets/base",
            "top": null,
            "grid_column": null,
            "overflow_y": null,
            "overflow_x": null,
            "grid_auto_flow": null,
            "grid_area": null,
            "grid_template_columns": null,
            "flex": null,
            "_model_name": "LayoutModel",
            "justify_items": null,
            "grid_row": null,
            "max_height": null,
            "align_content": null,
            "visibility": null,
            "align_self": null,
            "height": null,
            "min_height": null,
            "padding": null,
            "grid_auto_rows": null,
            "grid_gap": null,
            "max_width": null,
            "order": null,
            "_view_module_version": "1.2.0",
            "grid_template_areas": null,
            "object_position": null,
            "object_fit": null,
            "grid_auto_columns": null,
            "margin": null,
            "display": null,
            "left": null
          }
        },
        "d0475640ee254fae9c6cce292a7950b6": {
          "model_module": "@jupyter-widgets/controls",
          "model_name": "DescriptionStyleModel",
          "state": {
            "_view_name": "StyleView",
            "_model_name": "DescriptionStyleModel",
            "description_width": "",
            "_view_module": "@jupyter-widgets/base",
            "_model_module_version": "1.5.0",
            "_view_count": null,
            "_view_module_version": "1.2.0",
            "_model_module": "@jupyter-widgets/controls"
          }
        },
        "6c5e17560913453d99bbb1b598300005": {
          "model_module": "@jupyter-widgets/base",
          "model_name": "LayoutModel",
          "state": {
            "_view_name": "LayoutView",
            "grid_template_rows": null,
            "right": null,
            "justify_content": null,
            "_view_module": "@jupyter-widgets/base",
            "overflow": null,
            "_model_module_version": "1.2.0",
            "_view_count": null,
            "flex_flow": null,
            "width": null,
            "min_width": null,
            "border": null,
            "align_items": null,
            "bottom": null,
            "_model_module": "@jupyter-widgets/base",
            "top": null,
            "grid_column": null,
            "overflow_y": null,
            "overflow_x": null,
            "grid_auto_flow": null,
            "grid_area": null,
            "grid_template_columns": null,
            "flex": null,
            "_model_name": "LayoutModel",
            "justify_items": null,
            "grid_row": null,
            "max_height": null,
            "align_content": null,
            "visibility": null,
            "align_self": null,
            "height": null,
            "min_height": null,
            "padding": null,
            "grid_auto_rows": null,
            "grid_gap": null,
            "max_width": null,
            "order": null,
            "_view_module_version": "1.2.0",
            "grid_template_areas": null,
            "object_position": null,
            "object_fit": null,
            "grid_auto_columns": null,
            "margin": null,
            "display": null,
            "left": null
          }
        },
        "d9ce18f0df3247cbbdd2623b41524e49": {
          "model_module": "@jupyter-widgets/controls",
          "model_name": "HBoxModel",
          "state": {
            "_view_name": "HBoxView",
            "_dom_classes": [],
            "_model_name": "HBoxModel",
            "_view_module": "@jupyter-widgets/controls",
            "_model_module_version": "1.5.0",
            "_view_count": null,
            "_view_module_version": "1.5.0",
            "box_style": "",
            "layout": "IPY_MODEL_9bcf183c03c94a22923d7ac7299b25d6",
            "_model_module": "@jupyter-widgets/controls",
            "children": [
              "IPY_MODEL_2311c360e1b1463a83a2d1e89ca62dfa",
              "IPY_MODEL_916db396ddb84d26899b185b65e497b7"
            ]
          }
        },
        "9bcf183c03c94a22923d7ac7299b25d6": {
          "model_module": "@jupyter-widgets/base",
          "model_name": "LayoutModel",
          "state": {
            "_view_name": "LayoutView",
            "grid_template_rows": null,
            "right": null,
            "justify_content": null,
            "_view_module": "@jupyter-widgets/base",
            "overflow": null,
            "_model_module_version": "1.2.0",
            "_view_count": null,
            "flex_flow": null,
            "width": null,
            "min_width": null,
            "border": null,
            "align_items": null,
            "bottom": null,
            "_model_module": "@jupyter-widgets/base",
            "top": null,
            "grid_column": null,
            "overflow_y": null,
            "overflow_x": null,
            "grid_auto_flow": null,
            "grid_area": null,
            "grid_template_columns": null,
            "flex": null,
            "_model_name": "LayoutModel",
            "justify_items": null,
            "grid_row": null,
            "max_height": null,
            "align_content": null,
            "visibility": null,
            "align_self": null,
            "height": null,
            "min_height": null,
            "padding": null,
            "grid_auto_rows": null,
            "grid_gap": null,
            "max_width": null,
            "order": null,
            "_view_module_version": "1.2.0",
            "grid_template_areas": null,
            "object_position": null,
            "object_fit": null,
            "grid_auto_columns": null,
            "margin": null,
            "display": null,
            "left": null
          }
        },
        "2311c360e1b1463a83a2d1e89ca62dfa": {
          "model_module": "@jupyter-widgets/controls",
          "model_name": "FloatProgressModel",
          "state": {
            "_view_name": "ProgressView",
            "style": "IPY_MODEL_a0e66c8781a14da085e3510e90c38367",
            "_dom_classes": [],
            "description": "100%",
            "_model_name": "FloatProgressModel",
            "bar_style": "success",
            "max": 100,
            "_view_module": "@jupyter-widgets/controls",
            "_model_module_version": "1.5.0",
            "value": 100,
            "_view_count": null,
            "_view_module_version": "1.5.0",
            "orientation": "horizontal",
            "min": 0,
            "description_tooltip": null,
            "_model_module": "@jupyter-widgets/controls",
            "layout": "IPY_MODEL_0a4fa479591b44f39613adeef52d8ce0"
          }
        },
        "916db396ddb84d26899b185b65e497b7": {
          "model_module": "@jupyter-widgets/controls",
          "model_name": "HTMLModel",
          "state": {
            "_view_name": "HTMLView",
            "style": "IPY_MODEL_e61798198b474033933c49af13c2212e",
            "_dom_classes": [],
            "description": "",
            "_model_name": "HTMLModel",
            "placeholder": "​",
            "_view_module": "@jupyter-widgets/controls",
            "_model_module_version": "1.5.0",
            "value": " 100/100 [00:33&lt;00:00,  2.96it/s]",
            "_view_count": null,
            "_view_module_version": "1.5.0",
            "description_tooltip": null,
            "_model_module": "@jupyter-widgets/controls",
            "layout": "IPY_MODEL_ceb8067d29454e4794744c3bf1cead79"
          }
        },
        "a0e66c8781a14da085e3510e90c38367": {
          "model_module": "@jupyter-widgets/controls",
          "model_name": "ProgressStyleModel",
          "state": {
            "_view_name": "StyleView",
            "_model_name": "ProgressStyleModel",
            "description_width": "initial",
            "_view_module": "@jupyter-widgets/base",
            "_model_module_version": "1.5.0",
            "_view_count": null,
            "_view_module_version": "1.2.0",
            "bar_color": null,
            "_model_module": "@jupyter-widgets/controls"
          }
        },
        "0a4fa479591b44f39613adeef52d8ce0": {
          "model_module": "@jupyter-widgets/base",
          "model_name": "LayoutModel",
          "state": {
            "_view_name": "LayoutView",
            "grid_template_rows": null,
            "right": null,
            "justify_content": null,
            "_view_module": "@jupyter-widgets/base",
            "overflow": null,
            "_model_module_version": "1.2.0",
            "_view_count": null,
            "flex_flow": null,
            "width": null,
            "min_width": null,
            "border": null,
            "align_items": null,
            "bottom": null,
            "_model_module": "@jupyter-widgets/base",
            "top": null,
            "grid_column": null,
            "overflow_y": null,
            "overflow_x": null,
            "grid_auto_flow": null,
            "grid_area": null,
            "grid_template_columns": null,
            "flex": null,
            "_model_name": "LayoutModel",
            "justify_items": null,
            "grid_row": null,
            "max_height": null,
            "align_content": null,
            "visibility": null,
            "align_self": null,
            "height": null,
            "min_height": null,
            "padding": null,
            "grid_auto_rows": null,
            "grid_gap": null,
            "max_width": null,
            "order": null,
            "_view_module_version": "1.2.0",
            "grid_template_areas": null,
            "object_position": null,
            "object_fit": null,
            "grid_auto_columns": null,
            "margin": null,
            "display": null,
            "left": null
          }
        },
        "e61798198b474033933c49af13c2212e": {
          "model_module": "@jupyter-widgets/controls",
          "model_name": "DescriptionStyleModel",
          "state": {
            "_view_name": "StyleView",
            "_model_name": "DescriptionStyleModel",
            "description_width": "",
            "_view_module": "@jupyter-widgets/base",
            "_model_module_version": "1.5.0",
            "_view_count": null,
            "_view_module_version": "1.2.0",
            "_model_module": "@jupyter-widgets/controls"
          }
        },
        "ceb8067d29454e4794744c3bf1cead79": {
          "model_module": "@jupyter-widgets/base",
          "model_name": "LayoutModel",
          "state": {
            "_view_name": "LayoutView",
            "grid_template_rows": null,
            "right": null,
            "justify_content": null,
            "_view_module": "@jupyter-widgets/base",
            "overflow": null,
            "_model_module_version": "1.2.0",
            "_view_count": null,
            "flex_flow": null,
            "width": null,
            "min_width": null,
            "border": null,
            "align_items": null,
            "bottom": null,
            "_model_module": "@jupyter-widgets/base",
            "top": null,
            "grid_column": null,
            "overflow_y": null,
            "overflow_x": null,
            "grid_auto_flow": null,
            "grid_area": null,
            "grid_template_columns": null,
            "flex": null,
            "_model_name": "LayoutModel",
            "justify_items": null,
            "grid_row": null,
            "max_height": null,
            "align_content": null,
            "visibility": null,
            "align_self": null,
            "height": null,
            "min_height": null,
            "padding": null,
            "grid_auto_rows": null,
            "grid_gap": null,
            "max_width": null,
            "order": null,
            "_view_module_version": "1.2.0",
            "grid_template_areas": null,
            "object_position": null,
            "object_fit": null,
            "grid_auto_columns": null,
            "margin": null,
            "display": null,
            "left": null
          }
        }
      }
    },
    "accelerator": "GPU"
  },
  "cells": [
    {
      "cell_type": "markdown",
      "metadata": {
        "id": "view-in-github",
        "colab_type": "text"
      },
      "source": [
        "<a href=\"https://colab.research.google.com/github/buoi/conditional-face-GAN/blob/main/acgan.ipynb\" target=\"_parent\"><img src=\"https://colab.research.google.com/assets/colab-badge.svg\" alt=\"Open In Colab\"/></a>"
      ]
    },
    {
      "cell_type": "markdown",
      "metadata": {
        "id": "Lnwd03g75ghA"
      },
      "source": [
        "# DCGAN to generate face images\n",
        "\n",
        "**Author:** [fchollet](https://twitter.com/fchollet)<br>\n",
        "**Date created:** 2019/04/29<br>\n",
        "**Last modified:** 2021/01/01<br>\n",
        "**Description:** A simple DCGAN trained using `fit()` by overriding `train_step` on CelebA images."
      ]
    },
    {
      "cell_type": "markdown",
      "metadata": {
        "id": "gMBqo7it5ghH"
      },
      "source": [
        "# Setup"
      ]
    },
    {
      "cell_type": "code",
      "metadata": {
        "colab": {
          "base_uri": "https://localhost:8080/"
        },
        "id": "objr1Bp-_5yo",
        "outputId": "344838f6-af62-4405-b2d4-9fa809cf73a9"
      },
      "source": [
        "!nvidia-smi"
      ],
      "execution_count": 59,
      "outputs": [
        {
          "output_type": "stream",
          "text": [
            "Mon May 31 20:50:04 2021       \n",
            "+-----------------------------------------------------------------------------+\n",
            "| NVIDIA-SMI 465.19.01    Driver Version: 460.32.03    CUDA Version: 11.2     |\n",
            "|-------------------------------+----------------------+----------------------+\n",
            "| GPU  Name        Persistence-M| Bus-Id        Disp.A | Volatile Uncorr. ECC |\n",
            "| Fan  Temp  Perf  Pwr:Usage/Cap|         Memory-Usage | GPU-Util  Compute M. |\n",
            "|                               |                      |               MIG M. |\n",
            "|===============================+======================+======================|\n",
            "|   0  Tesla P100-PCIE...  Off  | 00000000:00:04.0 Off |                    0 |\n",
            "| N/A   50C    P0    36W / 250W |   6173MiB / 16280MiB |      0%      Default |\n",
            "|                               |                      |                  N/A |\n",
            "+-------------------------------+----------------------+----------------------+\n",
            "                                                                               \n",
            "+-----------------------------------------------------------------------------+\n",
            "| Processes:                                                                  |\n",
            "|  GPU   GI   CI        PID   Type   Process name                  GPU Memory |\n",
            "|        ID   ID                                                   Usage      |\n",
            "|=============================================================================|\n",
            "+-----------------------------------------------------------------------------+\n"
          ],
          "name": "stdout"
        }
      ]
    },
    {
      "cell_type": "markdown",
      "metadata": {
        "id": "WoSAUAUGF2_Q"
      },
      "source": [
        "Select the path for current run images, pay attention, old images in the path will be overwritten!"
      ]
    },
    {
      "cell_type": "markdown",
      "metadata": {
        "id": "G3ZWc_CToZiK"
      },
      "source": [
        "## Drive mount"
      ]
    },
    {
      "cell_type": "code",
      "metadata": {
        "id": "Ku2AFHmW4k84"
      },
      "source": [
        "if False:\n",
        "    from google.colab import drive\n",
        "    drive.mount('/content/drive', force_remount=True)"
      ],
      "execution_count": 60,
      "outputs": []
    },
    {
      "cell_type": "code",
      "metadata": {
        "id": "zvpatjzrKha4"
      },
      "source": [
        "# for logging train images\n",
        "if False:\n",
        "    from google.colab import drive\n",
        "    drive.mount('/content/drive', force_remount=True)\n",
        "\n",
        "    #runpath = \"/content/drive/MyDrive/progetto_asperti/run2\"\n",
        "    #os.makedirs(runpath)\n"
      ],
      "execution_count": 61,
      "outputs": []
    },
    {
      "cell_type": "markdown",
      "metadata": {
        "id": "UOswoZB0oeA2"
      },
      "source": [
        "## Imports"
      ]
    },
    {
      "cell_type": "code",
      "metadata": {
        "id": "-RSWEMo35ghH"
      },
      "source": [
        "import numpy as np\n",
        "from scipy import linalg\n",
        "import matplotlib.pyplot as plt\n",
        "import pandas as pd\n",
        "import math\n",
        "\n",
        "import tensorflow as tf\n",
        "from tensorflow import keras\n",
        "from tensorflow.keras import layers\n",
        "from keras.applications.inception_v3 import InceptionV3, preprocess_input\n",
        "\n",
        "from tensorflow.keras.models import Model, Sequential\n",
        "\n",
        "from tensorflow.keras.layers import Layer, Input, Dense, Reshape, Flatten\n",
        "from tensorflow.keras.layers import Conv2D, Conv2DTranspose, ReLU, LeakyReLU\n",
        "from tensorflow.keras.layers import Dropout, Embedding, Concatenate, Add\n",
        "from tensorflow.keras.layers import GlobalAveragePooling2D, UpSampling2D, BatchNormalization\n",
        "\n",
        "\n",
        "from tensorflow.keras.utils import Sequence\n",
        "from tensorflow.python.keras.utils import conv_utils\n",
        "from tensorflow.keras.initializers import RandomNormal\n",
        "from tensorflow.keras.optimizers import Adam\n",
        "\n",
        "import random \n",
        "\n",
        "import os\n",
        "import gdown\n",
        "from zipfile import ZipFile #chose this or !unzip\n",
        "\n",
        "from tqdm.notebook import tqdm"
      ],
      "execution_count": 62,
      "outputs": []
    },
    {
      "cell_type": "markdown",
      "metadata": {
        "id": "3kbuDuH25ghI"
      },
      "source": [
        "## Prepare CelebA data\n",
        "\n",
        "We'll use face images from the CelebA dataset, resized to 64x64."
      ]
    },
    {
      "cell_type": "code",
      "metadata": {
        "id": "_VNPNSKA5ghI",
        "colab": {
          "base_uri": "https://localhost:8080/"
        },
        "outputId": "06a2ec02-12e1-4783-c0c2-3f5477d3d324"
      },
      "source": [
        "try:\n",
        "    os.makedirs(\"celeba_gan\")\n",
        "    url = \"https://drive.google.com/uc?id=1O7m1010EJjLE5QxLZiM9Fpjs7Oj6e684\"\n",
        "    output = \"celeba_gan/img_align_celeba.zip\"\n",
        "    gdown.download(url, output, quiet=True)\n",
        "\n",
        "    with ZipFile(\"celeba_gan/img_align_celeba.zip\", \"r\") as zipobj:\n",
        "        zipobj.extractall(\"celeba_gan\")\n",
        "        \n",
        "except FileExistsError:\n",
        "    print(\"Already downloaded\")"
      ],
      "execution_count": 63,
      "outputs": [
        {
          "output_type": "stream",
          "text": [
            "Already downloaded\n"
          ],
          "name": "stdout"
        }
      ]
    },
    {
      "cell_type": "markdown",
      "metadata": {
        "id": "enz5-UMjB06Z"
      },
      "source": [
        "Download face attributes hosted on public \n",
        "github"
      ]
    },
    {
      "cell_type": "code",
      "metadata": {
        "id": "2rSS3wtw6pHy",
        "colab": {
          "base_uri": "https://localhost:8080/"
        },
        "outputId": "fb735d0b-dddd-4b88-d52d-2fbd3d48fcef"
      },
      "source": [
        "USE_LABELS = True\n",
        "if USE_LABELS:\n",
        "    #!wget -q -O \"/content/celeba_gan/list_attr_celeba.txt.zip\" \"https://github.com/buoi/conditional-face-GAN/blob/main/list_attr_celeba.txt.zip?raw=true\" \n",
        "    #!unzip \"/content/celeba_gan/list_attr_celeba.txt.zip\" -d \"/content/celeba_gan\"\n",
        "    #!wget -q -O \"/content/celeba_gan/list_attr_celeba.csv.zip\" \"https://github.com/buoi/conditional-face-GAN/blob/main/list_attr_celeba.csv.zip?raw=true\" \n",
        "    #!unzip \"/content/celeba_gan/list_attr_celeba.csv.zip\" -d \"/content/celeba_gan\"\n",
        "    !wget -q -O \"/content/celeba_gan/list_attr_celeba01.csv.zip\" \"https://github.com/buoi/conditional-face-GAN/blob/main/list_attr_celeba01.csv.zip?raw=true\" \n",
        "    !unzip \"/content/celeba_gan/list_attr_celeba01.csv.zip\" -d \"/content/celeba_gan\"\n",
        "    "
      ],
      "execution_count": 64,
      "outputs": [
        {
          "output_type": "stream",
          "text": [
            "Archive:  /content/celeba_gan/list_attr_celeba01.csv.zip\n",
            "replace /content/celeba_gan/list_attr_celeba01.csv? [y]es, [n]o, [A]ll, [N]one, [r]ename: N\n"
          ],
          "name": "stdout"
        }
      ]
    },
    {
      "cell_type": "markdown",
      "metadata": {
        "id": "lguFA8Wg5ghJ"
      },
      "source": [
        "# Keras Dataset \n",
        "create Dataset object from our folder, and rescale the images to the [0-1] range:"
      ]
    },
    {
      "cell_type": "code",
      "metadata": {
        "id": "qS5FRkOd6Gx5"
      },
      "source": [
        "# image utils functions\n",
        "def conv_range(in_range=(-1,1), out_range=(0,255)):\n",
        "    \"\"\" Returns range conversion function\"\"\"\n",
        "\n",
        "    # compute means and spans once\n",
        "    in_mean, out_mean = np.mean(in_range), np.mean(out_range)\n",
        "    in_span, out_span = np.ptp(in_range), np.ptp(out_range)\n",
        "\n",
        "    # return function\n",
        "    def convert_img_range(in_img):\n",
        "        out_img = (in_img - in_mean) / in_span\n",
        "        out_img = out_img * out_span + out_mean\n",
        "        return out_img\n",
        "\n",
        "    return convert_img_range\n",
        "\n",
        "def crop128(img):\n",
        "    #return img[:, 77:141, 57:121]# 64,64 center crop\n",
        "    return img[:, 45:173, 25:153]# 128,128 center crop\n",
        "\n",
        "def resize64(img):\n",
        "    return tf.image.resize(img, (64,64), antialias=True)"
      ],
      "execution_count": 65,
      "outputs": []
    },
    {
      "cell_type": "code",
      "metadata": {
        "colab": {
          "base_uri": "https://localhost:8080/",
          "height": 120
        },
        "id": "PhjhUVvx5ghJ",
        "outputId": "dd8168f8-5263-422c-fd38-3482bc38c608"
      },
      "source": [
        "\"\"\"BATCH_SIZE = 16\n",
        "\n",
        "# load image at exact resolution\n",
        "dataset = keras.preprocessing.image_dataset_from_directory(\n",
        "    \"celeba_gan\", label_mode=None, image_size=(218, 178), \n",
        "    batch_size=BATCH_SIZE)\n",
        "\n",
        "# dataset_01 and dataset_11 fit images in the (0,1) or (-1,1) range respectively\n",
        "\n",
        "dataset_01 = dataset.map(conv_range([0,255], [0,1])).map(crop128).map(resize64)\n",
        "#dataset_11 = dataset.map(range01to11).map(crop128).map(resize64)\n",
        "\n",
        "test_img = next(iter(dataset_01))[0]\n",
        "\n",
        "# plt.imshow expects float images to be in (0,1) and int images in (0,255)\n",
        "plt.imshow((test_img.numpy()))\n",
        "\n",
        "f\"{dataset_01.element_spec} in range: {np.min(test_img)} {np.max(test_img)}\"\"\""
      ],
      "execution_count": 66,
      "outputs": [
        {
          "output_type": "execute_result",
          "data": {
            "application/vnd.google.colaboratory.intrinsic+json": {
              "type": "string"
            },
            "text/plain": [
              "'BATCH_SIZE = 16\\n\\n# load image at exact resolution\\ndataset = keras.preprocessing.image_dataset_from_directory(\\n    \"celeba_gan\", label_mode=None, image_size=(218, 178), \\n    batch_size=BATCH_SIZE)\\n\\n# dataset_01 and dataset_11 fit images in the (0,1) or (-1,1) range respectively\\n\\ndataset_01 = dataset.map(conv_range([0,255], [0,1])).map(crop128).map(resize64)\\n#dataset_11 = dataset.map(range01to11).map(crop128).map(resize64)\\n\\ntest_img = next(iter(dataset_01))[0]\\n\\n# plt.imshow expects float images to be in (0,1) and int images in (0,255)\\nplt.imshow((test_img.numpy()))\\n\\nf\"{dataset_01.element_spec} in range: {np.min(test_img)} {np.max(test_img)}'"
            ]
          },
          "metadata": {
            "tags": []
          },
          "execution_count": 66
        }
      ]
    },
    {
      "cell_type": "code",
      "metadata": {
        "id": "xCTYxV38p9W2"
      },
      "source": [
        "class DataSequence(Sequence):\n",
        "    \"\"\"\n",
        "    Keras Sequence object to train a model on larger-than-memory data.\n",
        "    \"\"\"\n",
        "    def __init__(self, df, image_directory, batch_size, mode='train',\n",
        "                 labels = ('Smiling', 'Male'),\n",
        "                 processing_function = lambda x: x):\n",
        "        self.df = df # your pandas dataframe\n",
        "        self.bsz = batch_size # batch size\n",
        "        self.mode = mode # shuffle when in train mode\n",
        "        self.im_dir = image_directory\n",
        "        self.prep_fn = processing_function \n",
        "        self.labels = list(labels)\n",
        "\n",
        "        # Take labels and a list of image locations in memory\n",
        "        self.labels = self.df[self.labels].values\n",
        "        self.im_list = self.df['image_id'].tolist()\n",
        "\n",
        "    def __len__(self):\n",
        "        # compute number of batches to yield\n",
        "        return int(math.ceil(len(self.df) / float(self.bsz)))\n",
        "\n",
        "    def on_epoch_end(self):\n",
        "        # Shuffles indexes after each epoch if in training mode\n",
        "        self.indexes = range(len(self.im_list))\n",
        "        if self.mode == 'train':\n",
        "            self.indexes = random.sample(self.indexes, k=len(self.indexes))\n",
        "\n",
        "    def get_batch_labels(self, idx):\n",
        "        # Fetch a batch of labels\n",
        "        return self.labels[idx * self.bsz: (idx + 1) * self.bsz]\n",
        "\n",
        "    def get_batch_features(self, idx):\n",
        "        # Fetch a batch of inputs\n",
        "        return np.array([plt.imread(os.path.join(self.im_dir,im)) for im in self.im_list[idx * self.bsz: (1 + idx) * self.bsz]])\n",
        "\n",
        "    def __getitem__(self, idx):\n",
        "        #batch_x = resize64(crop128(self.get_batch_features(idx)))\n",
        "        batch_x = self.prep_fn(self.get_batch_features(idx))\n",
        "        batch_y = self.get_batch_labels(idx)\n",
        "        return batch_x, batch_y\n",
        "\n",
        "df=pd.read_csv(r\"/content/celeba_gan/list_attr_celeba01.csv\")\n",
        "directory = \"/content/celeba_gan/img_align_celeba\"\n",
        "BATCH_SIZE = 16\n",
        "LABELS = ('Smiling', 'Male')\n",
        "\n",
        "def preprocess_function(img):\n",
        "    return conv_range((0,255),(0,1))(resize64(crop128(img)))\n",
        "\n",
        "dataset_df = DataSequence(df, directory, BATCH_SIZE, labels=LABELS, \n",
        "                          processing_function =  preprocess_function)"
      ],
      "execution_count": 67,
      "outputs": []
    },
    {
      "cell_type": "code",
      "metadata": {
        "colab": {
          "base_uri": "https://localhost:8080/",
          "height": 540
        },
        "id": "CTdSOou7qRtX",
        "outputId": "c89581ab-a8e9-4e0e-e4e7-58e4e2ad91a2"
      },
      "source": [
        "batch = next(iter(dataset_df))\n",
        "test_img = batch[0][0]\n",
        "\n",
        "plt.imshow(test_img)\n",
        "batch[0].shape, batch[1], \"in range: \",np.min(test_img), np.max(test_img)"
      ],
      "execution_count": 68,
      "outputs": [
        {
          "output_type": "execute_result",
          "data": {
            "text/plain": [
              "(TensorShape([16, 64, 64, 3]), array([[1, 0],\n",
              "        [1, 0],\n",
              "        [0, 1],\n",
              "        [0, 0],\n",
              "        [0, 0],\n",
              "        [0, 0],\n",
              "        [0, 1],\n",
              "        [0, 1],\n",
              "        [1, 0],\n",
              "        [0, 0],\n",
              "        [1, 0],\n",
              "        [1, 1],\n",
              "        [1, 1],\n",
              "        [1, 0],\n",
              "        [0, 1],\n",
              "        [1, 1]]), 'in range: ', 0.00030636787, 1.0)"
            ]
          },
          "metadata": {
            "tags": []
          },
          "execution_count": 68
        },
        {
          "output_type": "display_data",
          "data": {
            "image/png": "[encoded data removed]",
            "text/plain": [
              "<Figure size 432x288 with 1 Axes>"
            ]
          },
          "metadata": {
            "tags": [],
            "needs_background": "light"
          }
        }
      ]
    },
    {
      "cell_type": "markdown",
      "metadata": {
        "id": "tR88BN23cXLJ"
      },
      "source": [
        "# Model"
      ]
    },
    {
      "cell_type": "markdown",
      "metadata": {
        "id": "yZDhzbt6otS_"
      },
      "source": [
        "## Custom Layers"
      ]
    },
    {
      "cell_type": "markdown",
      "metadata": {
        "id": "UK_8lLqo8C76"
      },
      "source": [
        "### Spectral Normalization"
      ]
    },
    {
      "cell_type": "code",
      "metadata": {
        "id": "fRo12Rq_5Q5P"
      },
      "source": [
        "from tensorflow.keras import backend as K\n",
        "\n",
        "#epsilon set according to BIGGAN https://arxiv.org/pdf/1809.11096.pdf\n",
        "\n",
        "def _l2normalizer(v, epsilon=1e-4):\n",
        "    return v / (K.sum(v**2)**0.5 + epsilon)\n",
        "\n",
        "\n",
        "def power_iteration(W, u, rounds=1):\n",
        "    '''\n",
        "    According to the paper, we only need to do power iteration one time.\n",
        "    '''\n",
        "    _u = u\n",
        "\n",
        "    for i in range(rounds):\n",
        "        _v = _l2normalizer(K.dot(_u, W))\n",
        "        _u = _l2normalizer(K.dot(_v, K.transpose(W)))\n",
        "\n",
        "    W_sn = K.sum(K.dot(_u, W) * _v)\n",
        "    return W_sn, _u, _v\n",
        "\n",
        "\"\"\"\n",
        "Convolution 2D with spectral normalization\n",
        "\"\"\"\n",
        "class SNConv2D(Conv2D):\n",
        "    def __init__(self, filters, spectral_normalization=True, **kwargs):\n",
        "        super(SNConv2D, self).__init__(filters, **kwargs)\n",
        "        self.spectral_normalization = spectral_normalization\n",
        "\n",
        "    def build(self, input_shape):\n",
        "        # Create a trainable weight variable for this layer.\n",
        "\n",
        "        self.u = self.add_weight(name='u', shape=(1, self.filters),\n",
        "                                 initializer='uniform', trainable=False)\n",
        "        \n",
        "        super(SNConv2D, self).build(input_shape)\n",
        "        # Be sure to call this at the end\n",
        "\n",
        "    def compute_spectral_normal(self, training=True):\n",
        "        # Spectrally Normalized Weight\n",
        "        if self.spectral_normalization:\n",
        "            # Get kernel tensor shape [kernel_h, kernel_w, in_channels, out_channels]\n",
        "            W_shape = self.kernel.shape.as_list()\n",
        "\n",
        "            # Flatten the Tensor\n",
        "            # [out_channels, N]\n",
        "            W_mat = K.reshape(self.kernel, [W_shape[-1], -1])\n",
        "\n",
        "            W_sn, u, v = power_iteration(W_mat, self.u)\n",
        "\n",
        "            if training:\n",
        "                # Update estimated 1st singular vector\n",
        "                self.u.assign(u)\n",
        "\n",
        "            return self.kernel / W_sn\n",
        "        else:\n",
        "            return self.kernel\n",
        "\n",
        "    def call(self, inputs, training=None):\n",
        "\n",
        "        outputs = K.conv2d(inputs,\n",
        "                           self.compute_spectral_normal(training=training),\n",
        "                           strides=self.strides, padding=self.padding,\n",
        "                           data_format=self.data_format,\n",
        "                           dilation_rate=self.dilation_rate)\n",
        "\n",
        "        if self.use_bias:\n",
        "            outputs = K.bias_add(outputs, self.bias,\n",
        "                                 data_format=self.data_format)\n",
        "\n",
        "        if self.activation is not None:\n",
        "            return self.activation(outputs)\n",
        "        return outputs\n",
        "\n",
        "    def compute_output_shape(self, input_shape):\n",
        "        return super(SNConv2D, self).compute_output_shape(input_shape)\n",
        "\n",
        "\"\"\"\n",
        "Transposed Convolution 2D with spectral normalization\n",
        "\"\"\"\n",
        "class SNConv2DTranspose(Conv2DTranspose):\n",
        "    def __init__(self, spectral_normalization=True, **kwargs):\n",
        "        super(SNConv2DTranspose, self).__init__(**kwargs)\n",
        "        self.spectral_normalization = spectral_normalization\n",
        "\n",
        "    def build(self, input_shape):\n",
        "        # Create a trainable weight variable for this layer.\n",
        "        self.u = self.add_weight(name='u', shape=(1, self.filters),\n",
        "                                 initializer='uniform', trainable=False)\n",
        "        super(SNConv2DTranspose, self).build(input_shape)\n",
        "        # Be sure to call this at the end\n",
        "\n",
        "    def compute_spectral_normal(self, training=True):\n",
        "        # Spectrally Normalized Weight\n",
        "        if self.spectral_normalization:\n",
        "            # Get kernel tensor shape [kernel_h, kernel_w, in_channels, out_channels]\n",
        "            W_shape = self.kernel.shape.as_list()\n",
        "\n",
        "            # Flatten the Tensor\n",
        "            # [out_channels, N]\n",
        "            W_mat = K.reshape(self.kernel, [W_shape[-2], -1])\n",
        "\n",
        "            W_sn, u, v = power_iteration(W_mat, self.u)\n",
        "\n",
        "            if training:\n",
        "                # Update estimated 1st singular vector\n",
        "                self.u.assign(u)\n",
        "\n",
        "            return self.kernel / W_sn\n",
        "        else:\n",
        "            return self.kernel\n",
        "\n",
        "    def call(self, inputs, training=None):\n",
        "        input_shape = K.shape(inputs)\n",
        "        batch_size = input_shape[0]\n",
        "        if self.data_format == 'channels_first':\n",
        "            h_axis, w_axis = 2, 3\n",
        "        else:\n",
        "            h_axis, w_axis = 1, 2\n",
        "\n",
        "        height, width = input_shape[h_axis], input_shape[w_axis]\n",
        "        kernel_h, kernel_w = self.kernel_size\n",
        "        stride_h, stride_w = self.strides\n",
        "        out_pad_h = out_pad_w = None\n",
        "\n",
        "        # Infer the dynamic output shape:\n",
        "        out_height = conv_utils.deconv_output_length(\n",
        "            height, kernel_h, self.padding, stride=stride_h)\n",
        "        out_width = conv_utils.deconv_output_length(\n",
        "            width, kernel_w, self.padding, stride=stride_w)\n",
        "        if self.data_format == 'channels_first':\n",
        "            output_shape = (batch_size, self.filters, out_height, out_width)\n",
        "        else:\n",
        "            output_shape = (batch_size, out_height, out_width, self.filters)\n",
        "\n",
        "        outputs = K.conv2d_transpose(\n",
        "            inputs,\n",
        "            self.compute_spectral_normal(training=training),\n",
        "            output_shape,\n",
        "            self.strides,\n",
        "            padding=self.padding,\n",
        "            data_format=self.data_format\n",
        "        )\n",
        "\n",
        "        if self.use_bias:\n",
        "            outputs = K.bias_add(outputs, self.bias,\n",
        "                                 data_format=self.data_format)\n",
        "\n",
        "        if self.activation is not None:\n",
        "            return self.activation(outputs)\n",
        "        return outputs\n",
        "\n",
        "    def compute_output_shape(self, input_shape):\n",
        "        return super(SNConv2DTranspose, self).compute_output_shape(input_shape)"
      ],
      "execution_count": 69,
      "outputs": []
    },
    {
      "cell_type": "markdown",
      "metadata": {
        "id": "b_svRbfo9ca3"
      },
      "source": [
        "### Pixel Normalization"
      ]
    },
    {
      "cell_type": "code",
      "metadata": {
        "id": "LYM03aR25R1Q"
      },
      "source": [
        "class PixelNormalization(Layer):\n",
        "    def __init__(self, **kwargs):\n",
        "        super(PixelNormalization, self).__init__(**kwargs)\n",
        "\n",
        "    def call(self, inputs):\n",
        "        # Calculate square pixel values\n",
        "        values = inputs**2.0\n",
        "        # Calculate the mean pixel values\n",
        "        mean_values = tf.keras.backend.mean(values, axis=-1, keepdims=True)\n",
        "        # Ensure the mean is not zero\n",
        "        mean_values += 1.0e-8\n",
        "        # Calculate the sqrt of the mean squared value (L2 norm)\n",
        "        l2 = tf.keras.backend.sqrt(mean_values)\n",
        "        # Normalize values by the l2 norm\n",
        "        normalized = inputs / l2\n",
        "        return normalized\n",
        "\n",
        "    def compute_output_shape(self, input_shape):\n",
        "        return input_shape\n",
        "    "
      ],
      "execution_count": 70,
      "outputs": []
    },
    {
      "cell_type": "markdown",
      "metadata": {
        "id": "7U0P_F--9fFv"
      },
      "source": [
        "### Minibatch Standard Deviation"
      ]
    },
    {
      "cell_type": "code",
      "metadata": {
        "id": "G8teOYwQ7bWo"
      },
      "source": [
        "class MinibatchStdev(Layer):\n",
        "    # initialize the layer\n",
        "    def __init__(self, **kwargs):\n",
        "        super(MinibatchStdev, self).__init__(**kwargs)\n",
        "\n",
        "    # perform the operation\n",
        "    def call(self, inputs):\n",
        "        # calculate the mean value for each pixel across channels\n",
        "        mean = tf.keras.backend.mean(inputs, axis=0, keepdims=True)\n",
        "        # calculate the squared differences between pixel values and mean\n",
        "        squ_diffs = tf.keras.backend.square(inputs - mean)\n",
        "        # calculate the average of the squared differences (variance)\n",
        "        mean_sq_diff = tf.keras.backend.mean(squ_diffs, axis=0, keepdims=True)\n",
        "        # add a small value to avoid a blow-up when we calculate stdev\n",
        "        mean_sq_diff += 1e-8\n",
        "        # square root of the variance (stdev)\n",
        "        stdev = tf.keras.backend.sqrt(mean_sq_diff)\n",
        "        # calculate the mean standard deviation across each pixel coord\n",
        "        mean_pix = tf.keras.backend.mean(stdev, keepdims=True)\n",
        "        # scale this up to be the size of one input feature map for each sample\n",
        "        shape = tf.keras.backend.shape(inputs)\n",
        "        output = tf.keras.backend.tile(mean_pix, (shape[0], shape[1], shape[2], 1))\n",
        "        # concatenate with the output\n",
        "        combined = tf.keras.backend.concatenate([inputs, output], axis=-1)\n",
        "        return combined\n",
        "\n",
        "    # define the output shape of the layer\n",
        "    def compute_output_shape(self, input_shape):\n",
        "        # create a copy of the input shape as a list\n",
        "        input_shape = list(input_shape)\n",
        "        # add one to the channel dimension (assume channels-last)\n",
        "        input_shape[-1] += 1\n",
        "        # convert list to a tuple\n",
        "        return tuple(input_shape)"
      ],
      "execution_count": 71,
      "outputs": []
    },
    {
      "cell_type": "markdown",
      "metadata": {
        "id": "_EOUGrgT9iZp"
      },
      "source": [
        "## Define Building Functions"
      ]
    },
    {
      "cell_type": "code",
      "metadata": {
        "colab": {
          "base_uri": "https://localhost:8080/"
        },
        "id": "HJ2c5Sv0WX6r",
        "outputId": "e73fb607-57d6-47f3-daa9-a4d62ee9047f"
      },
      "source": [
        "def define_std_discriminator(n_attributes = 40, wgan=False):\n",
        "  \n",
        "    input = layers.Input(shape=(64, 64, 3))\n",
        "\n",
        "    x = layers.Conv2D(64, kernel_size=4, strides=2, padding=\"same\")(input)\n",
        "    x = layers.LeakyReLU(alpha=0.2)(x)\n",
        "\n",
        "    x = layers.Conv2D(128, kernel_size=4, strides=2, padding=\"same\")(x)\n",
        "    x = layers.LeakyReLU(alpha=0.2)(x)\n",
        "    x = layers.Dropout(0.2)(x)\n",
        "\n",
        "    x = layers.Conv2D(128, kernel_size=4, strides=2, padding=\"same\")(x)\n",
        "    x = layers.LeakyReLU(alpha=0.2)(x)\n",
        "    x = layers.Dropout(0.2)(x)\n",
        "    x = layers.Flatten()(x)\n",
        "\n",
        "    out_realfake = layers.Dense(1)(x)\n",
        "    if wgan:\n",
        "        out_realfake = layers.Activation('tanh',name='tanh_realfake')(out_realfake)\n",
        "    else:\n",
        "        out_realfake = layers.Activation('sigmoid',name='sigmoid_realfake')(out_realfake)\n",
        " \n",
        "    out_label = layers.Dense(n_attributes)(x)\n",
        "\n",
        "    out_label = layers.Activation('sigmoid', name='sigmoid_label')(out_label)\n",
        "\n",
        "    discriminator = keras.models.Model(input, [out_realfake, out_label], \n",
        "                                       name='discriminator'+ ('_wgan' if wgan else ''))\n",
        "\n",
        "    return discriminator\n",
        "\n",
        "def define_std_generator(latent_dim = 128, n_attributes = 40, wgan=False):\n",
        "\n",
        "    input_latent = layers.Input(shape=(latent_dim,))\n",
        "    input_attr = layers.Input(shape=(n_attributes))\n",
        "\n",
        "    x = layers.Concatenate(axis=-1)([input_latent, tf.cast(input_attr, dtype='float32')])\n",
        " \n",
        "    x = layers.Dense(8 * 8 * 128)(x)\n",
        "    x = layers.Reshape((8, 8, 128))(x)\n",
        "    x = layers.Conv2DTranspose(128, kernel_size=4, strides=2, padding=\"same\")(x)\n",
        "    x = layers.LeakyReLU(alpha=0.2)(x)\n",
        "    x = layers.Conv2DTranspose(256, kernel_size=4, strides=2, padding=\"same\")(x)\n",
        "    x = layers.LeakyReLU(alpha=0.2)(x)\n",
        "    x = layers.Conv2DTranspose(512, kernel_size=4, strides=2, padding=\"same\")(x)\n",
        "    x =  layers.LeakyReLU(alpha=0.2)(x)\n",
        "    x = layers.Conv2D(3, kernel_size=5, padding=\"same\")(x)\n",
        "  \n",
        "    if wgan:\n",
        "        x = layers.Activation('tanh',name='tanh')(x)\n",
        "    else:\n",
        "        x = layers.Activation('sigmoid',name='sigmoid')(x)\n",
        "\n",
        "    generator = keras.models.Model([input_latent, input_attr], x, name='generator'+ ('_wgan' if wgan else ''))\n",
        "\n",
        "    return generator\n",
        "\n",
        "discriminator = define_std_discriminator(n_attributes=2)\n",
        "generator = define_std_generator(n_attributes=2)\n",
        "discriminator.summary()\n",
        "generator.summary()"
      ],
      "execution_count": 72,
      "outputs": [
        {
          "output_type": "stream",
          "text": [
            "Model: \"discriminator\"\n",
            "__________________________________________________________________________________________________\n",
            "Layer (type)                    Output Shape         Param #     Connected to                     \n",
            "==================================================================================================\n",
            "input_16 (InputLayer)           [(None, 64, 64, 3)]  0                                            \n",
            "__________________________________________________________________________________________________\n",
            "conv2d_20 (Conv2D)              (None, 32, 32, 64)   3136        input_16[0][0]                   \n",
            "__________________________________________________________________________________________________\n",
            "leaky_re_lu_30 (LeakyReLU)      (None, 32, 32, 64)   0           conv2d_20[0][0]                  \n",
            "__________________________________________________________________________________________________\n",
            "conv2d_21 (Conv2D)              (None, 16, 16, 128)  131200      leaky_re_lu_30[0][0]             \n",
            "__________________________________________________________________________________________________\n",
            "leaky_re_lu_31 (LeakyReLU)      (None, 16, 16, 128)  0           conv2d_21[0][0]                  \n",
            "__________________________________________________________________________________________________\n",
            "dropout_10 (Dropout)            (None, 16, 16, 128)  0           leaky_re_lu_31[0][0]             \n",
            "__________________________________________________________________________________________________\n",
            "conv2d_22 (Conv2D)              (None, 8, 8, 128)    262272      dropout_10[0][0]                 \n",
            "__________________________________________________________________________________________________\n",
            "leaky_re_lu_32 (LeakyReLU)      (None, 8, 8, 128)    0           conv2d_22[0][0]                  \n",
            "__________________________________________________________________________________________________\n",
            "dropout_11 (Dropout)            (None, 8, 8, 128)    0           leaky_re_lu_32[0][0]             \n",
            "__________________________________________________________________________________________________\n",
            "flatten_5 (Flatten)             (None, 8192)         0           dropout_11[0][0]                 \n",
            "__________________________________________________________________________________________________\n",
            "dense_15 (Dense)                (None, 1)            8193        flatten_5[0][0]                  \n",
            "__________________________________________________________________________________________________\n",
            "dense_16 (Dense)                (None, 2)            16386       flatten_5[0][0]                  \n",
            "__________________________________________________________________________________________________\n",
            "sigmoid_realfake (Activation)   (None, 1)            0           dense_15[0][0]                   \n",
            "__________________________________________________________________________________________________\n",
            "sigmoid_label (Activation)      (None, 2)            0           dense_16[0][0]                   \n",
            "==================================================================================================\n",
            "Total params: 421,187\n",
            "Trainable params: 421,187\n",
            "Non-trainable params: 0\n",
            "__________________________________________________________________________________________________\n",
            "Model: \"generator\"\n",
            "__________________________________________________________________________________________________\n",
            "Layer (type)                    Output Shape         Param #     Connected to                     \n",
            "==================================================================================================\n",
            "input_18 (InputLayer)           [(None, 2)]          0                                            \n",
            "__________________________________________________________________________________________________\n",
            "input_17 (InputLayer)           [(None, 128)]        0                                            \n",
            "__________________________________________________________________________________________________\n",
            "tf.cast_25 (TFOpLambda)         (None, 2)            0           input_18[0][0]                   \n",
            "__________________________________________________________________________________________________\n",
            "concatenate_5 (Concatenate)     (None, 130)          0           input_17[0][0]                   \n",
            "                                                                 tf.cast_25[0][0]                 \n",
            "__________________________________________________________________________________________________\n",
            "dense_17 (Dense)                (None, 8192)         1073152     concatenate_5[0][0]              \n",
            "__________________________________________________________________________________________________\n",
            "reshape_5 (Reshape)             (None, 8, 8, 128)    0           dense_17[0][0]                   \n",
            "__________________________________________________________________________________________________\n",
            "conv2d_transpose_15 (Conv2DTran (None, 16, 16, 128)  262272      reshape_5[0][0]                  \n",
            "__________________________________________________________________________________________________\n",
            "leaky_re_lu_33 (LeakyReLU)      (None, 16, 16, 128)  0           conv2d_transpose_15[0][0]        \n",
            "__________________________________________________________________________________________________\n",
            "conv2d_transpose_16 (Conv2DTran (None, 32, 32, 256)  524544      leaky_re_lu_33[0][0]             \n",
            "__________________________________________________________________________________________________\n",
            "leaky_re_lu_34 (LeakyReLU)      (None, 32, 32, 256)  0           conv2d_transpose_16[0][0]        \n",
            "__________________________________________________________________________________________________\n",
            "conv2d_transpose_17 (Conv2DTran (None, 64, 64, 512)  2097664     leaky_re_lu_34[0][0]             \n",
            "__________________________________________________________________________________________________\n",
            "leaky_re_lu_35 (LeakyReLU)      (None, 64, 64, 512)  0           conv2d_transpose_17[0][0]        \n",
            "__________________________________________________________________________________________________\n",
            "conv2d_23 (Conv2D)              (None, 64, 64, 3)    38403       leaky_re_lu_35[0][0]             \n",
            "__________________________________________________________________________________________________\n",
            "sigmoid (Activation)            (None, 64, 64, 3)    0           conv2d_23[0][0]                  \n",
            "==================================================================================================\n",
            "Total params: 3,996,035\n",
            "Trainable params: 3,996,035\n",
            "Non-trainable params: 0\n",
            "__________________________________________________________________________________________________\n"
          ],
          "name": "stdout"
        }
      ]
    },
    {
      "cell_type": "code",
      "metadata": {
        "id": "infXenHC6OWR"
      },
      "source": [
        "# define the standalone discriminator model\n",
        "def define_discriminator(filters=128, kernel_size=4, strides=(2, 2), in_shape=(64,64,3), in_smooth = True, wgan =False):\n",
        "    model = keras.Sequential()\n",
        "    # normal\n",
        "    #model.add(keras.layers.InputLayer(input_shape = in_shape))\n",
        "    #model.add(keras.layers.Lambda(lambda x : x + tf.random.normal(shape=in_shape, mean=0.0, stddev=0.01, dtype=tf.float32)))\n",
        "\n",
        "    model.add(SNConv2D(filters=filters, kernel_size=kernel_size,  strides=strides, padding='same', kernel_initializer=\"orthogonal\", spectral_normalization=True, input_shape=in_shape))\n",
        "    model.add(LeakyReLU(alpha=0.2))\n",
        "    # downsample to 32x32\n",
        "    model.add(SNConv2D(filters=filters, kernel_size=kernel_size, strides=strides, padding='same', kernel_initializer=\"orthogonal\", spectral_normalization=True))\n",
        "    model.add(LeakyReLU(alpha=0.2))\n",
        "    # downsample to 16x16\n",
        "    model.add(SNConv2D(filters=filters, kernel_size=kernel_size, strides=strides, padding='same', kernel_initializer=\"orthogonal\", spectral_normalization=True))\n",
        "    model.add(LeakyReLU(alpha=0.2))\n",
        "    # downsample to 8x8\n",
        "    model.add(SNConv2D(filters=filters, kernel_size=kernel_size, strides=strides, padding='same', kernel_initializer=\"orthogonal\", spectral_normalization=True))\n",
        "    model.add(LeakyReLU(alpha=0.2))\n",
        "    # downsample to 4x4\n",
        "    model.add(SNConv2D(filters=filters, kernel_size=kernel_size, strides=strides, padding='same', kernel_initializer=\"orthogonal\", spectral_normalization=True))\n",
        "    model.add(LeakyReLU(alpha=0.2))\n",
        "    \n",
        "    model.add(MinibatchStdev())\n",
        "    model.add(GlobalAveragePooling2D())\n",
        "    \n",
        "    # classifier\n",
        "    model.add(Flatten())\n",
        "    \n",
        "    model.add(Dropout(0.4))\n",
        "    if wgan:\n",
        "        model.add(Dense(1))\n",
        "    else:\n",
        "        model.add(Dense(1), activation='sigmoid')\n",
        "    # compile model\n",
        "    #opt = Adam(lr=0.0002, beta_1=0.5)\n",
        "    #model.compile(loss='binary_crossentropy', optimizer=opt, metrics=['accuracy'])\n",
        "    return model\n",
        "\n",
        "# define the standalone generator model\n",
        "def define_generator(latent_dim, filters=128, kernel_size=4, strides=(2, 2)):\n",
        "    model = keras.Sequential()\n",
        "    # foundation for 5x5 feature maps\n",
        "    n_nodes = 128 * 4 * 4\n",
        "    model.add(Dense(n_nodes, input_dim=latent_dim))\n",
        "    model.add(LeakyReLU(alpha=0.2))\n",
        "    model.add(Reshape((4, 4, 128)))\n",
        "    \n",
        "    # upsample to 8x8\n",
        "    model.add(SNConv2DTranspose(filters=filters, kernel_size=kernel_size, strides=strides, padding='same', kernel_initializer=\"orthogonal\", spectral_normalization=False))\n",
        "    model.add(PixelNormalization())\n",
        "    model.add(LeakyReLU(alpha=0.2))\n",
        "    \n",
        "    # upsample to 16x16\n",
        "    model.add(SNConv2DTranspose(filters=filters, kernel_size=kernel_size, strides=strides, padding='same', kernel_initializer=\"orthogonal\", spectral_normalization=False))\n",
        "    model.add(PixelNormalization())\n",
        "    model.add(LeakyReLU(alpha=0.2))\n",
        "    \n",
        "    # upsample to 32x32\n",
        "    model.add(SNConv2DTranspose(filters=filters, kernel_size=kernel_size, strides=strides, padding='same', kernel_initializer=\"orthogonal\", spectral_normalization=False))\n",
        "    model.add(PixelNormalization())\n",
        "    model.add(LeakyReLU(alpha=0.2))\n",
        "    \n",
        "    # upsample to 64x64\n",
        "    model.add(SNConv2DTranspose(filters=filters, kernel_size=kernel_size, strides=strides, padding='same', kernel_initializer=\"orthogonal\", spectral_normalization=False))\n",
        "    model.add(PixelNormalization())\n",
        "    model.add(LeakyReLU(alpha=0.2))\n",
        "    \n",
        "    # output layer 64x64x3\n",
        "    model.add(SNConv2D(filters=3, kernel_size=kernel_size, activation='tanh', padding='same', kernel_initializer=\"orthogonal\", spectral_normalization=False))\n",
        "    #model.add(SNConv2D(filters=3, kernel_size=kernel_size, activation='sigmoid', padding='same', kernel_initializer=\"orthogonal\", spectral_normalization=False))\n",
        "    \n",
        "    return model\n",
        "\n"
      ],
      "execution_count": 73,
      "outputs": []
    },
    {
      "cell_type": "markdown",
      "metadata": {
        "id": "miESm-gD5ghL"
      },
      "source": [
        "## Define GAN Class\n",
        "override `train_step`"
      ]
    },
    {
      "cell_type": "code",
      "metadata": {
        "colab": {
          "base_uri": "https://localhost:8080/"
        },
        "id": "FgKFIfptSl9i",
        "outputId": "26e6e7cc-8f9d-4132-978f-6b5f8a2f4350"
      },
      "source": [
        "\n",
        "# disriminator output for realness\n",
        "pred_realfake = np.array([[0],[0],[0],[100000]])\n",
        "label_realfake = np.array([[0],[0],[0],[0.]])\n",
        "\n",
        "#discriminator output for attributes\n",
        "pred_attr = np.array([[1,1],[1,1],[1,1],[1,1.]])\n",
        "label_attr = np.zeros((4,2),dtype='float32')\n",
        "\n",
        "# should be comparable, at initialization\n",
        "loss_fn = tf.keras.losses.BinaryCrossentropy()\n",
        "loss_fn(pred_realfake, label_realfake), loss_fn(pred_attr, label_attr)"
      ],
      "execution_count": 80,
      "outputs": [
        {
          "output_type": "execute_result",
          "data": {
            "text/plain": [
              "(<tf.Tensor: shape=(), dtype=float64, numpy=385623.71875>,\n",
              " <tf.Tensor: shape=(), dtype=float32, numpy=15.424949>)"
            ]
          },
          "metadata": {
            "tags": []
          },
          "execution_count": 80
        }
      ]
    },
    {
      "cell_type": "code",
      "metadata": {
        "id": "Lw5lGLoLBobm"
      },
      "source": [
        "tf.concat([real_attr, real_attr], axis=0)"
      ],
      "execution_count": null,
      "outputs": []
    },
    {
      "cell_type": "code",
      "metadata": {
        "id": "TDGCdwcH5ghL"
      },
      "source": [
        "class ACGAN(keras.Model):\n",
        "    def __init__(self, discriminator, generator, latent_dim, n_attributes, **kwargs):\n",
        "        super(ACGAN, self).__init__(**kwargs)\n",
        "        self.discriminator = discriminator\n",
        "        self.generator = generator\n",
        "        self.latent_dim = latent_dim\n",
        "        self.n_attributes = n_attributes# deprecated, take from data\n",
        "\n",
        "    def compile(self, d_optimizer, g_optimizer, loss_fn):\n",
        "        super(ACGAN, self).compile()\n",
        "        self.d_optimizer = d_optimizer\n",
        "        self.g_optimizer = g_optimizer\n",
        "        self.loss_fn = loss_fn\n",
        "\n",
        "        self.d_loss_metric = keras.metrics.Mean(name=\"d_loss\")\n",
        "        self.g_loss_metric = keras.metrics.Mean(name=\"g_loss\")\n",
        "\n",
        "        self.d_realfake_metric = keras.metrics.Mean(name=\"d_realfake\")#\n",
        "        self.d_attr_metric = keras.metrics.Mean(name=\"d_attr\")#\n",
        "\n",
        "        self.g_realfake_metric = keras.metrics.Mean(name=\"g_realfake\")#\n",
        "        self.g_attr_metric = keras.metrics.Mean(name=\"g_attr\")#\n",
        "\n",
        "    @property\n",
        "    def metrics(self):\n",
        "        return [self.d_loss_metric, self.g_loss_metric]\n",
        "\n",
        "    def train_step(self, data):\n",
        "        real_images, real_attr = data \n",
        "        # Sample random points in the latent space\n",
        "        batch_size = tf.shape(real_images)[0]\n",
        "        \n",
        "        random_latent_vectors = tf.random.normal(shape=(batch_size, self.latent_dim))\n",
        "        #random_attr = tf.random.uniform(shape=(batch_size, self.n_attributes), maxval=2, dtype='int64')\n",
        "\n",
        "        # Decode them to fake images\n",
        "        #generated_images = self.generator([random_latent_vectors, random_attr])\n",
        "        generated_images = self.generator([random_latent_vectors, real_attr])\n",
        "\n",
        "        # Combine them with real images\n",
        "        combined_images = tf.concat([generated_images, real_images], axis=0)\n",
        "\n",
        "        # Assemble labels discriminating real from fake images\n",
        "        labels_realfake = tf.concat(\n",
        "            [tf.ones((batch_size, 1)), tf.zeros((batch_size, 1))], axis=0)\n",
        "\n",
        "        #labels_attr = tf.concat([random_attr, real_attr], axis=0)\n",
        "        # NON HA SENSO LA LOSS SULLA SECONDA PARTE... OPPURE VA INVERTITA IN BASSO\n",
        "        labels_attr = tf.concat([real_attr, real_attr], axis=0)\n",
        "        labels_attr = tf.cast(labels_attr, dtype='float32')\n",
        "\n",
        "        # Add random noise to the labels - important trick!\n",
        "        labels_realfake = labels_realfake + 0.05 * tf.random.uniform(tf.shape(labels_realfake))\n",
        "        #labels_attr = labels_attr + 0.05 * tf.random.uniform(tf.shape(labels_attr))\n",
        "\n",
        "        # Train the discriminator\n",
        "        with tf.GradientTape() as tape:\n",
        "            pred_realfake, pred_attr = self.discriminator(combined_images)\n",
        "\n",
        "            d_loss_realfake = self.loss_fn(labels_realfake, pred_realfake)\n",
        "            #print(f\"loss_fn({labels_realfake}, {pred_realfake})\")\n",
        "            #print('= ',d_loss_realfake)\n",
        "\n",
        "            d_loss_attr = self.loss_fn(labels_attr, pred_attr)#######-1tf.reduce_mean(\n",
        "            #print(f\"loss_fn({labels_attr}, {pred_attr})\")\n",
        "            #print('= ',self.loss_fn(labels_attr, pred_attr))\n",
        "            #print('reduce_mean -> ',d_loss_attr)\n",
        "\n",
        "\n",
        "            #print(f\"d_loss_realfake: {d_loss_realfake} + d_loss_attr: {d_loss_attr}\")\n",
        "            # OPPURE NESSUNA LOSS ATTRIBUTE MENTRE TRAINIAMO IL DISCRIMINATOR?\n",
        "            d_loss = d_loss_realfake + d_loss_attr \n",
        "      \n",
        "        grads = tape.gradient(d_loss, self.discriminator.trainable_weights)\n",
        "        self.d_optimizer.apply_gradients(\n",
        "            zip(grads, self.discriminator.trainable_weights)\n",
        "        )\n",
        "\n",
        "        ## GEN\n",
        "\n",
        "        # Sample random points in the latent space\n",
        "        random_latent_vectors = tf.random.normal(shape=(batch_size, self.latent_dim))\n",
        "        #random_attr = tf.random.uniform(shape=(batch_size, self.n_attributes), maxval=2, dtype='int64')\n",
        "\n",
        "        # using sampled real attributes during entire training step\n",
        "        # Assemble labels that say \"all real images\"\n",
        "        misleading_labels = tf.zeros((batch_size, 1))\n",
        "\n",
        "        ##### SHOULD WE SWITCH ATTRIBUTES?!\n",
        "\n",
        "        # Train the generator (note that we should *not* update the weights\n",
        "        # of the discriminator)!\n",
        "        with tf.GradientTape() as tape:\n",
        "            pred_realfake, pred_attr = self.discriminator(self.generator([random_latent_vectors, real_attr]))\n",
        "            g_loss_realfake = self.loss_fn(misleading_labels, pred_realfake)\n",
        "\n",
        "            #print(f\"loss_fn({misleading_labels}, {pred_realfake})\")\n",
        "            #print('= ',g_loss_realfake)\n",
        "\n",
        "            g_loss_attr = self.loss_fn(real_attr, pred_attr) ##########tf.reduce_mean(\n",
        "            #print(f\"loss_fn({random_attr}, {pred_attr})\")\n",
        "            #print('= ',self.loss_fn(real_attr, pred_attr))\n",
        "            #print('reduce_mean -> ',g_loss_attr)\n",
        "\n",
        "            #print(f\"g_loss_realfake: {g_loss_realfake} + g_loss_attr: {g_loss_attr}\")\n",
        "            g_loss = g_loss_realfake + g_loss_attr\n",
        "\n",
        "        grads = tape.gradient(g_loss, self.generator.trainable_weights)\n",
        "        self.g_optimizer.apply_gradients(zip(grads, self.generator.trainable_weights))\n",
        "\n",
        "        # Update metrics\n",
        "        self.d_loss_metric.update_state(d_loss)\n",
        "        self.g_loss_metric.update_state(g_loss)\n",
        "\n",
        "        self.d_realfake_metric.update_state(d_loss_realfake)\n",
        "        self.d_attr_metric.update_state(d_loss_attr)\n",
        "\n",
        "        self.g_realfake_metric.update_state(g_loss_realfake)\n",
        "        self.g_attr_metric.update_state(g_loss_attr)\n",
        "       \n",
        "        return {\n",
        "            \"d_loss\": self.d_loss_metric.result(),\n",
        "            \"g_loss\": self.g_loss_metric.result(),\n",
        "\n",
        "            \"d_loss_realfake\": self.d_realfake_metric.result(),\n",
        "            \"d_loss_attr\": self.d_attr_metric.result(),\n",
        "            \"g_loss_realfake\": self.g_realfake_metric.result(),\n",
        "            \"g_loss_attr\": self.g_attr_metric.result()\n",
        "\n",
        "        }\n",
        "\n",
        "\n",
        "    def call(self, inputs):\n",
        "        latent, label = inputs\n",
        "        generated_images = self.generator([latent, label])\n",
        "        d_loss = self.discriminator(generated_images)\n",
        "        return generated_images, d_loss\n"
      ],
      "execution_count": 81,
      "outputs": []
    },
    {
      "cell_type": "code",
      "metadata": {
        "id": "kQdXIfxBfgFW"
      },
      "source": [
        "class WGAN(keras.Model):\n",
        "    def __init__(\n",
        "        self,\n",
        "        discriminator,\n",
        "        generator,\n",
        "        latent_dim,\n",
        "        discriminator_extra_steps=3,\n",
        "        gp_weight=10.0,\n",
        "    ):\n",
        "        super(WGAN, self).__init__()\n",
        "        self.discriminator = discriminator\n",
        "        self.generator = generator\n",
        "        self.latent_dim = latent_dim\n",
        "        self.d_steps = discriminator_extra_steps\n",
        "        self.gp_weight = gp_weight\n",
        "\n",
        "    def compile(self, d_optimizer, g_optimizer, d_loss_fn, g_loss_fn):\n",
        "        super(WGAN, self).compile()\n",
        "        self.d_optimizer = d_optimizer\n",
        "        self.g_optimizer = g_optimizer\n",
        "        self.d_loss_fn = d_loss_fn\n",
        "        self.g_loss_fn = g_loss_fn\n",
        "\n",
        "    def gradient_penalty(self, batch_size, real_images, fake_images):\n",
        "        \"\"\" Calculates the gradient penalty.\n",
        "\n",
        "        This loss is calculated on an interpolated image\n",
        "        and added to the discriminator loss.\n",
        "        \"\"\"\n",
        "        # Get the interpolated image\n",
        "        alpha = tf.random.normal([batch_size, 1, 1, 1], 0.0, 1.0)\n",
        "        diff = fake_images - real_images\n",
        "        interpolated = real_images + alpha * diff\n",
        "\n",
        "        with tf.GradientTape() as gp_tape:\n",
        "            gp_tape.watch(interpolated)\n",
        "            # 1. Get the discriminator output for this interpolated image.\n",
        "            pred = self.discriminator(interpolated, training=True)\n",
        "\n",
        "        # 2. Calculate the gradients w.r.t to this interpolated image.\n",
        "        grads = gp_tape.gradient(pred, [interpolated])[0]\n",
        "        # 3. Calculate the norm of the gradients.\n",
        "        norm = tf.sqrt(tf.reduce_sum(tf.square(grads), axis=[1, 2, 3]))\n",
        "        gp = tf.reduce_mean((norm - 1.0) ** 2)\n",
        "        return gp\n",
        "\n",
        "    def train_step(self, real_images):\n",
        "        if isinstance(real_images, tuple):\n",
        "            real_images = real_images[0]\n",
        "\n",
        "        # Get the batch size\n",
        "        batch_size = tf.shape(real_images)[0]\n",
        "\n",
        "        # For each batch, we are going to perform the\n",
        "        # following steps as laid out in the original paper:\n",
        "        # 1. Train the generator and get the generator loss\n",
        "        # 2. Train the discriminator and get the discriminator loss\n",
        "        # 3. Calculate the gradient penalty\n",
        "        # 4. Multiply this gradient penalty with a constant weight factor\n",
        "        # 5. Add the gradient penalty to the discriminator loss\n",
        "        # 6. Return the generator and discriminator losses as a loss dictionary\n",
        "\n",
        "        # Train the discriminator first. The original paper recommends training\n",
        "        # the discriminator for `x` more steps (typically 5) as compared to\n",
        "        # one step of the generator. Here we will train it for 3 extra steps\n",
        "        # as compared to 5 to reduce the training time.\n",
        "        for i in range(self.d_steps):\n",
        "            # Get the latent vector\n",
        "            random_latent_vectors = tf.random.normal(\n",
        "                shape=(batch_size, self.latent_dim)\n",
        "            )\n",
        "            with tf.GradientTape() as tape:\n",
        "                # Generate fake images from the latent vector\n",
        "                fake_images = self.generator(random_latent_vectors, training=True)\n",
        "                # Get the logits for the fake images\n",
        "                fake_logits = self.discriminator(fake_images, training=True)\n",
        "                # Get the logits for the real images\n",
        "                real_logits = self.discriminator(real_images, training=True)\n",
        "\n",
        "                # Calculate the discriminator loss using the fake and real image logits\n",
        "                d_cost = self.d_loss_fn(real_img=real_logits, fake_img=fake_logits)\n",
        "                # Calculate the gradient penalty\n",
        "                gp = self.gradient_penalty(batch_size, real_images, fake_images)\n",
        "                # Add the gradient penalty to the original discriminator loss\n",
        "                d_loss = d_cost + gp * self.gp_weight\n",
        "\n",
        "            # Get the gradients w.r.t the discriminator loss\n",
        "            d_gradient = tape.gradient(d_loss, self.discriminator.trainable_variables)\n",
        "            # Update the weights of the discriminator using the discriminator optimizer\n",
        "            self.d_optimizer.apply_gradients(\n",
        "                zip(d_gradient, self.discriminator.trainable_variables)\n",
        "            )\n",
        "\n",
        "        # Train the generator\n",
        "        # Get the latent vector\n",
        "        random_latent_vectors = tf.random.normal(shape=(batch_size, self.latent_dim))\n",
        "        with tf.GradientTape() as tape:\n",
        "            # Generate fake images using the generator\n",
        "            generated_images = self.generator(random_latent_vectors, training=True)\n",
        "            # Get the discriminator logits for fake images\n",
        "            gen_img_logits = self.discriminator(generated_images, training=True)\n",
        "            # Calculate the generator loss\n",
        "            g_loss = self.g_loss_fn(gen_img_logits)\n",
        "\n",
        "        # Get the gradients w.r.t the generator loss\n",
        "        gen_gradient = tape.gradient(g_loss, self.generator.trainable_variables)\n",
        "        # Update the weights of the generator using the generator optimizer\n",
        "        self.g_optimizer.apply_gradients(\n",
        "            zip(gen_gradient, self.generator.trainable_variables)\n",
        "        )\n",
        "        return {\"d_loss\": d_loss, \"g_loss\": g_loss}\n",
        "        \n",
        "    def call(self, inputs):\n",
        "      \n",
        "        generated_images = self.generator(inputs)\n",
        "        d_loss = self.discriminator(generated_images)\n",
        "        return generated_images, d_loss"
      ],
      "execution_count": 47,
      "outputs": []
    },
    {
      "cell_type": "markdown",
      "metadata": {
        "id": "2hpZ9Cju5ghM"
      },
      "source": [
        "## Create callbacks"
      ]
    },
    {
      "cell_type": "markdown",
      "metadata": {
        "id": "hUCdZvzbbCy1"
      },
      "source": [
        ""
      ]
    },
    {
      "cell_type": "markdown",
      "metadata": {
        "id": "OSMPF5ELnBIv"
      },
      "source": [
        "### Images logger"
      ]
    },
    {
      "cell_type": "code",
      "metadata": {
        "id": "KpWnnjZ7a_MN",
        "colab": {
          "base_uri": "https://localhost:8080/",
          "height": 154
        },
        "outputId": "986d23b3-22c3-434a-ddbf-df64cf90f8bc"
      },
      "source": [
        "class GANMonitor(keras.callbacks.Callback):\n",
        "    def __init__(self, num_img=8, latent_dim=128, **kwargs):\n",
        "        super(GANMonitor, self).__init__(**kwargs)\n",
        "        self.num_img = num_img\n",
        "        self.latent_dim = latent_dim\n",
        "\n",
        "    def on_epoch_end(self, epoch, logs=None):\n",
        "        random_latent_vectors = tf.random.normal(shape=(self.num_img, self.latent_dim))\n",
        "        random_attr = tf.random.uniform(shape=(self.num_img, N_ATTRIBUTES), maxval=2, dtype='int64')\n",
        "\n",
        "        generated_images = self.model.generator((random_latent_vectors, random_attr))\n",
        "\n",
        "        generated_images.numpy()\n",
        "        if IMAGE_RANGE == '11':\n",
        "            generated_images = conv_range((-1,1), (0,1))(generated_images)\n",
        "\n",
        "        if ENABLE_WANDB:\n",
        "            log_images = [wandb.Image(img) for img in generated_images]\n",
        "            wandb.log({f\"Epoch {epoch}\": (log_images)})\n",
        "\n",
        "\"\"\"    def on_batch_end(self, batch, logs=None):\n",
        "\n",
        "        freq = 2000\n",
        "        if (batch+1) % freq == 0:\n",
        "            random_latent_vectors = tf.random.normal(shape=(self.num_img, self.latent_dim))\n",
        "            random_attr = tf.random.uniform(shape=(self.num_img, N_ATTRIBUTES), maxval=2, dtype='int64')\n",
        "\n",
        "            generated_images = self.model.generator((random_latent_vectors, random_attr))\n",
        "            generated_images.numpy()\n",
        "\n",
        "\n",
        "            fig, axes = plt.subplots(1, self.num_img, figsize=(30,30))\n",
        "            for i, axis in enumerate(axes):\n",
        "                axis.axis('off')\n",
        "                axis.title.set_text(f\"{[LABELS[label] for label in random_attr[i]]}\")\n",
        "                if IMAGE_RANGE == '11':\n",
        "                    axis.imshow(range11to01(generated_images[i]))\n",
        "                else:\n",
        "                    axis.imshow(generated_images[i])\n",
        "\n",
        "            fig.set_facecolor((56/255,56/255,56/255))\n",
        "            plt.show()\"\"\""
      ],
      "execution_count": 82,
      "outputs": [
        {
          "output_type": "execute_result",
          "data": {
            "application/vnd.google.colaboratory.intrinsic+json": {
              "type": "string"
            },
            "text/plain": [
              "'    def on_batch_end(self, batch, logs=None):\\n\\n        freq = 2000\\n        if (batch+1) % freq == 0:\\n            random_latent_vectors = tf.random.normal(shape=(self.num_img, self.latent_dim))\\n            random_attr = tf.random.uniform(shape=(self.num_img, N_ATTRIBUTES), maxval=2, dtype=\\'int64\\')\\n\\n            generated_images = self.model.generator((random_latent_vectors, random_attr))\\n            generated_images.numpy()\\n\\n\\n            fig, axes = plt.subplots(1, self.num_img, figsize=(30,30))\\n            for i, axis in enumerate(axes):\\n                axis.axis(\\'off\\')\\n                axis.title.set_text(f\"{[LABELS[label] for label in random_attr[i]]}\")\\n                if IMAGE_RANGE == \\'11\\':\\n                    axis.imshow(range11to01(generated_images[i]))\\n                else:\\n                    axis.imshow(generated_images[i])\\n\\n            fig.set_facecolor((56/255,56/255,56/255))\\n            plt.show()'"
            ]
          },
          "metadata": {
            "tags": []
          },
          "execution_count": 82
        }
      ]
    },
    {
      "cell_type": "markdown",
      "metadata": {
        "id": "6bLvG6V2bbFA"
      },
      "source": [
        "### Model logger"
      ]
    },
    {
      "cell_type": "code",
      "metadata": {
        "id": "yJU9s6nixbc6"
      },
      "source": [
        "# log checkpoint artifacts to wandb\n",
        "\n",
        "SAVE_PATH = 'models/'\n",
        "os.makedirs(SAVE_PATH, exist_ok=True)\n",
        "\n",
        "class WandbLogger(keras.callbacks.Callback):\n",
        "    def __init__(self, model_name, run):\n",
        "        super(WandbLogger, self).__init__()\n",
        "        assert ENABLE_WANDB == True\n",
        "        self.model_name = model_name\n",
        "        self.run = run\n",
        "        \n",
        "    def on_epoch_end(self, epoch, logs=None):\n",
        "\n",
        "        self.model.save(SAVE_PATH + self.model_name, save_format='tf')\n",
        "        self.artifact = wandb.Artifact(self.model_name, type='model')\n",
        "        self.artifact.add_dir(SAVE_PATH)\n",
        "        self.run.log_artifact(self.artifact)\n"
      ],
      "execution_count": 49,
      "outputs": []
    },
    {
      "cell_type": "markdown",
      "metadata": {
        "id": "YaAZrlqRnNe2"
      },
      "source": [
        "### FID Logger"
      ]
    },
    {
      "cell_type": "code",
      "metadata": {
        "id": "RZ085awLWlo-"
      },
      "source": [
        "class FIDLogger(keras.callbacks.Callback):\n",
        "    def __init__(self, real_embeddings, real_labels):\n",
        "        super(FIDLogger, self).__init__()\n",
        "        self.real_embeddings = real_embeddings\n",
        "        self.real_labels = real_labels\n",
        "\n",
        "    def on_epoch_end(self, epoch, logs=None): # end\n",
        "\n",
        "        tf.compat.v1.logging.set_verbosity(tf.compat.v1.logging.ERROR)\n",
        "        generator_prep = define_gen_prep(generator)\n",
        "        tf.compat.v1.logging.set_verbosity(tf.compat.v1.logging.WARN)\n",
        "        \n",
        "        gen_size = 100\n",
        "        assert FID_COUNT % gen_size == 0\n",
        "\n",
        "        generated_embeddings = np.zeros((FID_COUNT, 2048), dtype='float32')\n",
        "\n",
        "        for i in tqdm(range(FID_COUNT//gen_size)):\n",
        "          \n",
        "            batch_embeddings = generator_prep((\n",
        "                tf.random.normal([gen_size, LATENT_DIM]),\n",
        "                tf.constant(np.squeeze(self.real_labels[i*gen_size:(i+1)*gen_size]))))\n",
        "            \n",
        "            generated_embeddings[i*gen_size:(i+1)*gen_size] = batch_embeddings\n",
        "\n",
        "        fid = compute_fid(self.real_embeddings, generated_embeddings)\n",
        "        print(fid)\n",
        "\n",
        "        if ENABLE_WANDB:\n",
        "            wandb.log({'FID': fid})\n",
        "\n",
        "\n",
        "\"\"\"    def on_batch_end(self, batch, logs=None):\n",
        "        tf.compat.v1.logging.set_verbosity(tf.compat.v1.logging.ERROR)\n",
        "        freq = 200\n",
        "        if (batch+1) % freq == 0:\n",
        "            generator_prep = define_gen_prep(self.model.generator)\n",
        "            FID_COUNT = 10000\n",
        "            gen_size = 100\n",
        "            assert FID_COUNT % gen_size == 0\n",
        "\n",
        "            generated_embeddings = np.zeros((FID_COUNT, 2048), dtype='float32')\n",
        "\n",
        "            for i in tqdm(range(FID_COUNT//gen_size)):\n",
        "                batch_embeddings = generator_prep(tf.random.normal([gen_size, LATENT_DIM]))\n",
        "                generated_embeddings[i*gen_size:(i+1)*gen_size] = batch_embeddings\n",
        "\n",
        "            fid = compute_fid(self.real_embeddings, generated_embeddings)\n",
        "            print(fid)\n",
        "        tf.compat.v1.logging.set_verbosity(tf.compat.v1.logging.WARN)\"\"\"\n",
        "\n",
        "def define_gen_prep(generator):\n",
        "\n",
        "    img = generator.output\n",
        "    img = tf.cast(img, tf.float32)\n",
        "    if IMAGE_RANGE == '01':\n",
        "        img = tf.math.multiply(img,2)\n",
        "        img = tf.math.add(img, -1)\n",
        "\n",
        "    img_up = tf.image.resize(img, (229, 229), method='bilinear', antialias=True, name='upsample_BILINEAR')\n",
        "    output_repr = inception_model(img_up)\n",
        "    generator_prep = tf.keras.Model(inputs=generator.inputs, outputs=[output_repr])\n",
        "\n",
        "    return generator_prep\n",
        "\n",
        "def compute_fid(real_embeddings, generated_embeddings):\n",
        "    # compute mean and covariance statistics\n",
        "    mu1, sigma1 = real_embeddings.mean(axis=0), np.cov(real_embeddings, rowvar=False)\n",
        "    mu2, sigma2 = generated_embeddings.mean(axis=0), np.cov(generated_embeddings, rowvar=False)\n",
        "    # compute sum squared difference between means\n",
        "    ssdiff = np.sum((mu1 - mu2)**2.0)\n",
        "    # compute sqrt of product between cov\n",
        "    covmean = linalg.sqrtm(sigma1.dot(sigma2))\n",
        "    # check and correct imaginary numbers from sqrt\n",
        "    if np.iscomplexobj(covmean):\n",
        "      covmean = covmean.real\n",
        "    # compute fid score\n",
        "    fid = ssdiff + np.trace(sigma1 + sigma2 - 2.0 * covmean)\n",
        "    return fid"
      ],
      "execution_count": 50,
      "outputs": []
    },
    {
      "cell_type": "code",
      "metadata": {
        "id": "jxwDwDWtckI2"
      },
      "source": [
        "IMAGE_RANGE = '01' #@param ['01', '11']"
      ],
      "execution_count": 51,
      "outputs": []
    },
    {
      "cell_type": "code",
      "metadata": {
        "id": "Adnl87j8MWGL",
        "colab": {
          "base_uri": "https://localhost:8080/",
          "height": 117,
          "referenced_widgets": [
            "35b16d6478e949dab2894038ad6466ab",
            "6eb597de94564b62a4c5593b083e80bd",
            "0dc687643496484ba1a845b13c47bc37",
            "6cca2ada0ddd4c1c892a9e38893de746",
            "d7b1f5b7b54c431994797534f2d2404c",
            "43da02e787cf4bceb241faba17c0c41c",
            "904d7b1f8613409a856a7654e48d8a63",
            "4278c8fea1d04dbd91ec135d711585ea"
          ]
        },
        "outputId": "ab94ba4b-5187-4fa6-f253-466fb3df57ee"
      },
      "source": [
        "#fid\n",
        "\n",
        "inception_model = InceptionV3(include_top=False, \n",
        "                              weights=\"imagenet\", \n",
        "                              pooling='avg')\n",
        "\n",
        "def define_real_prep():\n",
        "\n",
        "    img = layers.Input(shape=[64,64,3], name='img_input')\n",
        "    img_up = tf.image.resize(img, (229, 229), method='bilinear', antialias=True, name='upsample_BILINEAR')\n",
        "    if IMAGE_RANGE == '01':\n",
        "        img_up = img_up*2 -1\n",
        "\n",
        "    output = inception_model(img_up)\n",
        "\n",
        "    real_prep = tf.keras.Model(inputs=[img], outputs=[output])\n",
        "\n",
        "    return real_prep\n",
        "\n",
        "tf.compat.v1.logging.set_verbosity(tf.compat.v1.logging.ERROR)\n",
        "real_prep = define_real_prep()\n",
        "tf.compat.v1.logging.set_verbosity(tf.compat.v1.logging.WARN)\n",
        "\n",
        "FID_COUNT = 10000\n",
        "real_batch_size = 100\n",
        "\n",
        "fid_real_loader = DataSequence(df, directory, real_batch_size, labels=LABELS, \n",
        "                      processing_function =  preprocess_function)\n",
        "    \n",
        "if IMAGE_RANGE == '11':\n",
        "    raise NotImplementedError\n",
        "    \n",
        "real_embeddings = np.zeros((FID_COUNT, 2048), dtype='float32')\n",
        "real_labels = []\n",
        "for i in tqdm(range(FID_COUNT//real_batch_size)):\n",
        "    batch_img, batch_labels = next(iter(fid_real_loader))\n",
        "    batch_embeddings = real_prep(batch_img)\n",
        "\n",
        "    [real_labels.append(label) for label in batch_labels]\n",
        "    real_embeddings[i*real_batch_size:(i+1)*real_batch_size] = batch_embeddings\n",
        "\n"
      ],
      "execution_count": 52,
      "outputs": [
        {
          "output_type": "stream",
          "text": [
            "Downloading data from https://storage.googleapis.com/tensorflow/keras-applications/inception_v3/inception_v3_weights_tf_dim_ordering_tf_kernels_notop.h5\n",
            "87916544/87910968 [==============================] - 1s 0us/step\n",
            "87924736/87910968 [==============================] - 1s 0us/step\n"
          ],
          "name": "stdout"
        },
        {
          "output_type": "display_data",
          "data": {
            "application/vnd.jupyter.widget-view+json": {
              "model_id": "35b16d6478e949dab2894038ad6466ab",
              "version_minor": 0,
              "version_major": 2
            },
            "text/plain": [
              "HBox(children=(FloatProgress(value=0.0), HTML(value='')))"
            ]
          },
          "metadata": {
            "tags": []
          }
        },
        {
          "output_type": "stream",
          "text": [
            "\n"
          ],
          "name": "stdout"
        }
      ]
    },
    {
      "cell_type": "markdown",
      "metadata": {
        "id": "zTX1EZbYLy2s"
      },
      "source": [
        "# Training"
      ]
    },
    {
      "cell_type": "code",
      "metadata": {
        "colab": {
          "base_uri": "https://localhost:8080/",
          "height": 753,
          "referenced_widgets": [
            "2dc6ef9a462c461ba5fc98c5b02593e7",
            "7af885cd2d74461cbd4bf8a08499ed5c",
            "58e3495eff504ac7985f59a7ae02c8d1",
            "af45c95b51844bc9ba6c2e283463e450",
            "d340bc06f0c44a748255aa4154f1a032",
            "6c6164f1463d478e986a0ef76ce94567",
            "844a1c8dab564b11a789fd5408ef1a5c",
            "7828a11fab7940c68224508eb41d468b"
          ]
        },
        "id": "4gXF5AnjVyQS",
        "outputId": "3a8b07eb-9d77-4d40-c54f-01c429d855fe"
      },
      "source": [
        "ADAM_LR = 0.0001\n",
        "ADAM_B1 = 0.5\n",
        "ADAM_B2 = 0.999\n",
        "BATCH_SIZE = 32\n",
        "N_ATTRIBUTES = 2\n",
        "\n",
        "ENABLE_WANDB = True #@param {type:\"boolean\"}\n",
        "WANDB_RESUME = False #@param {type:\"boolean\"}\n",
        "\n",
        "resume_id = \"21eejnd6\" #@param {type: \"string\"}\n",
        "WANDB_RESUME = (resume_id if WANDB_RESUME else False)\n",
        "\n",
        "project_name = \"GAN\" #@param {type: \"string\"}\n",
        "model_name = \"acgan_std\" #@param {type: \"string\"}\n",
        "experiment_name = \"acgan_std_fixed_train\" #@param {type: \"string\"}\n",
        "run_notes = \"\" #@param {type: \"string\"}\n",
        "\n",
        "assert '-' not in model_name\n",
        "assert ' ' not in model_name\n",
        "\n",
        "from keras.callbacks import ModelCheckpoint\n",
        "if ENABLE_WANDB:\n",
        "    !pip install wandb > /dev/null\n",
        "    !wandb login\n",
        "    import wandb\n",
        "    from wandb.keras import WandbCallback\n",
        "    run = wandb.init(project=project_name, name=experiment_name, resume=WANDB_RESUME)\n",
        "    if run_notes:\n",
        "        wandb.notes = run_notes\n",
        "    wandb.config.batch_size = BATCH_SIZE\n",
        "    wandb.config.adam_lr = ADAM_LR\n",
        "    wandb.config.adam_b1 = ADAM_B1\n",
        "    wandb.config.adam_b2 = ADAM_B2\n",
        "    wandb.config.img_range = IMAGE_RANGE"
      ],
      "execution_count": 83,
      "outputs": [
        {
          "output_type": "stream",
          "text": [
            "\u001b[34m\u001b[1mwandb\u001b[0m: Currently logged in as: \u001b[33mbuio\u001b[0m (use `wandb login --relogin` to force relogin)\n"
          ],
          "name": "stdout"
        },
        {
          "output_type": "display_data",
          "data": {
            "text/html": [
              "Finishing last run (ID:3aggjur1) before initializing another..."
            ],
            "text/plain": [
              "<IPython.core.display.HTML object>"
            ]
          },
          "metadata": {
            "tags": []
          }
        },
        {
          "output_type": "display_data",
          "data": {
            "text/html": [
              "<br/>Waiting for W&B process to finish, PID 934<br/>Program ended successfully."
            ],
            "text/plain": [
              "<IPython.core.display.HTML object>"
            ]
          },
          "metadata": {
            "tags": []
          }
        },
        {
          "output_type": "display_data",
          "data": {
            "application/vnd.jupyter.widget-view+json": {
              "model_id": "2dc6ef9a462c461ba5fc98c5b02593e7",
              "version_minor": 0,
              "version_major": 2
            },
            "text/plain": [
              "VBox(children=(Label(value=' 786.14MB of 786.14MB uploaded (17.47MB deduped)\\r'), FloatProgress(value=1.0, max…"
            ]
          },
          "metadata": {
            "tags": []
          }
        },
        {
          "output_type": "display_data",
          "data": {
            "text/html": [
              "Find user logs for this run at: <code>/content/wandb/run-20210531_122544-3aggjur1/logs/debug.log</code>"
            ],
            "text/plain": [
              "<IPython.core.display.HTML object>"
            ]
          },
          "metadata": {
            "tags": []
          }
        },
        {
          "output_type": "display_data",
          "data": {
            "text/html": [
              "Find internal logs for this run at: <code>/content/wandb/run-20210531_122544-3aggjur1/logs/debug-internal.log</code>"
            ],
            "text/plain": [
              "<IPython.core.display.HTML object>"
            ]
          },
          "metadata": {
            "tags": []
          }
        },
        {
          "output_type": "display_data",
          "data": {
            "text/html": [
              "<h3>Run summary:</h3><br/><style>\n",
              "    table.wandb td:nth-child(1) { padding: 0 10px; text-align: right }\n",
              "    </style><table class=\"wandb\">\n",
              "<tr><td>d_loss</td><td>-38243.00391</td></tr><tr><td>g_loss</td><td>489.43353</td></tr><tr><td>_runtime</td><td>18879</td></tr><tr><td>_timestamp</td><td>1622482827</td></tr><tr><td>_step</td><td>19454</td></tr><tr><td>epoch</td><td>14</td></tr><tr><td>FID</td><td>654.72993</td></tr></table>"
            ],
            "text/plain": [
              "<IPython.core.display.HTML object>"
            ]
          },
          "metadata": {
            "tags": []
          }
        },
        {
          "output_type": "display_data",
          "data": {
            "text/html": [
              "<h3>Run history:</h3><br/><style>\n",
              "    table.wandb td:nth-child(1) { padding: 0 10px; text-align: right }\n",
              "    </style><table class=\"wandb\">\n",
              "<tr><td>d_loss</td><td>█████████████████████▇▇▇▇▇▇▆▆▆▆▅▅▅▄▄▃▂▂▁</td></tr><tr><td>g_loss</td><td>▁▁▁▁▁▁▁▁▁▁▁▁▁▁▁▁▁▁▂▂▂▂▂▂▃▃▃▃▃▄▄▄▄▄▅▅▅▆▇█</td></tr><tr><td>_runtime</td><td>▁▁▁▁▂▂▂▂▂▃▃▃▃▃▃▄▄▄▄▄▅▅▅▅▅▅▆▆▆▆▆▇▇▇▇▇▇███</td></tr><tr><td>_timestamp</td><td>▁▁▁▁▂▂▂▂▂▃▃▃▃▃▃▄▄▄▄▄▅▅▅▅▅▅▆▆▆▆▆▇▇▇▇▇▇███</td></tr><tr><td>_step</td><td>▁▁▁▁▂▂▂▂▂▃▃▃▃▃▃▄▄▄▄▄▅▅▅▅▅▅▆▆▆▆▆▆▇▇▇▇▇███</td></tr><tr><td>epoch</td><td>▁▁▂▃▃▃▄▅▅▅▆▇▇▇█</td></tr><tr><td>FID</td><td>▁▁▃▄▅▇█▆▆▇▇▇█▇█</td></tr></table><br/>"
            ],
            "text/plain": [
              "<IPython.core.display.HTML object>"
            ]
          },
          "metadata": {
            "tags": []
          }
        },
        {
          "output_type": "display_data",
          "data": {
            "text/html": [
              "Synced 5 W&B file(s), 121 media file(s), 50 artifact file(s) and 0 other file(s)"
            ],
            "text/plain": [
              "<IPython.core.display.HTML object>"
            ]
          },
          "metadata": {
            "tags": []
          }
        },
        {
          "output_type": "display_data",
          "data": {
            "text/html": [
              "\n",
              "                    <br/>Synced <strong style=\"color:#cdcd00\">acgan_std_fixed_train</strong>: <a href=\"https://wandb.ai/buio/GAN/runs/3aggjur1\" target=\"_blank\">https://wandb.ai/buio/GAN/runs/3aggjur1</a><br/>\n",
              "                "
            ],
            "text/plain": [
              "<IPython.core.display.HTML object>"
            ]
          },
          "metadata": {
            "tags": []
          }
        },
        {
          "output_type": "display_data",
          "data": {
            "text/html": [
              "...Successfully finished last run (ID:3aggjur1). Initializing new run:<br/><br/>"
            ],
            "text/plain": [
              "<IPython.core.display.HTML object>"
            ]
          },
          "metadata": {
            "tags": []
          }
        },
        {
          "output_type": "display_data",
          "data": {
            "text/html": [
              "\n",
              "                Tracking run with wandb version 0.10.31<br/>\n",
              "                Syncing run <strong style=\"color:#cdcd00\">acgan_std_fixed_train</strong> to <a href=\"https://wandb.ai\" target=\"_blank\">Weights & Biases</a> <a href=\"https://docs.wandb.com/integrations/jupyter.html\" target=\"_blank\">(Documentation)</a>.<br/>\n",
              "                Project page: <a href=\"https://wandb.ai/buio/GAN\" target=\"_blank\">https://wandb.ai/buio/GAN</a><br/>\n",
              "                Run page: <a href=\"https://wandb.ai/buio/GAN/runs/31a9kjrp\" target=\"_blank\">https://wandb.ai/buio/GAN/runs/31a9kjrp</a><br/>\n",
              "                Run data is saved locally in <code>/content/wandb/run-20210531_214925-31a9kjrp</code><br/><br/>\n",
              "            "
            ],
            "text/plain": [
              "<IPython.core.display.HTML object>"
            ]
          },
          "metadata": {
            "tags": []
          }
        }
      ]
    },
    {
      "cell_type": "markdown",
      "metadata": {
        "id": "nlEl_Qbm-CO4"
      },
      "source": [
        "## Build the WGAN Model"
      ]
    },
    {
      "cell_type": "code",
      "metadata": {
        "id": "G0TDtPUHgn2n"
      },
      "source": [
        "if False:\n",
        "    # Instantiate the optimizer for both networks\n",
        "    # (learning_rate=0.0002, beta_1=0.5 are recommended)\n",
        "    generator_optimizer = keras.optimizers.Adam(\n",
        "        learning_rate=0.0002, beta_1=0.5, beta_2=0.9\n",
        "    )\n",
        "    discriminator_optimizer = keras.optimizers.Adam(\n",
        "        learning_rate=0.0002, beta_1=0.5, beta_2=0.9\n",
        "    )\n",
        "\n",
        "    # Define the loss functions for the discriminator,\n",
        "    # which should be (fake_loss - real_loss).\n",
        "    # We will add the gradient penalty later to this loss function.\n",
        "    def discriminator_loss(real_img, fake_img):\n",
        "        real_loss = tf.reduce_mean(real_img)\n",
        "        fake_loss = tf.reduce_mean(fake_img)\n",
        "        return fake_loss - real_loss\n",
        "\n",
        "\n",
        "    # Define the loss functions for the generator.\n",
        "    def generator_loss(fake_img):\n",
        "        return -tf.reduce_mean(fake_img)\n",
        "\n",
        "    LATENT_DIM = 128\n",
        "\n",
        "    discriminator = define_discriminator(wgan=True)\n",
        "    generator = define_generator(latent_dim = LATENT_DIM)\n",
        "\n",
        "    # Instantiate the WGAN model.\n",
        "    wgan = WGAN(\n",
        "        discriminator=discriminator,\n",
        "        generator=generator,\n",
        "        latent_dim=LATENT_DIM,\n",
        "        discriminator_extra_steps=3,\n",
        "    )\n",
        "\n",
        "    # Compile the WGAN model.\n",
        "    wgan.compile(\n",
        "        d_optimizer=discriminator_optimizer,\n",
        "        g_optimizer=generator_optimizer,\n",
        "        g_loss_fn=generator_loss,\n",
        "        d_loss_fn=discriminator_loss,\n",
        "    )\n",
        "\n",
        "\n",
        "    # build model for saving\n",
        "    images, d_loss = wgan.predict(tf.random.normal(shape=(1, LATENT_DIM)))\n",
        "    plt.imshow(images[0])\n",
        "    print(images.shape, d_loss)\n",
        "    wgan.save('models/'+model_name+experiment_name, save_format='tf')\n"
      ],
      "execution_count": null,
      "outputs": []
    },
    {
      "cell_type": "markdown",
      "metadata": {
        "id": "627UA8yuH9M_"
      },
      "source": [
        "## Build the ACGAN Model"
      ]
    },
    {
      "cell_type": "code",
      "metadata": {
        "colab": {
          "base_uri": "https://localhost:8080/"
        },
        "id": "Hq3HjDpiRkyY",
        "outputId": "6546afc7-24d2-47f6-c49c-8ac21e112147"
      },
      "source": [
        "LATENT_DIM = 128\n",
        "\n",
        "discriminator = define_std_discriminator(n_attributes=N_ATTRIBUTES)\n",
        "generator = define_std_generator(latent_dim=LATENT_DIM, n_attributes=N_ATTRIBUTES)\n",
        "\n",
        "acgan = ACGAN(discriminator, generator, latent_dim=LATENT_DIM, n_attributes=N_ATTRIBUTES)\n",
        "\n",
        "acgan.compile(\n",
        "    d_optimizer=keras.optimizers.Adam(learning_rate=ADAM_LR, beta_1=ADAM_B1, beta_2 = ADAM_B2),\n",
        "    g_optimizer=keras.optimizers.Adam(learning_rate=ADAM_LR, beta_1=ADAM_B1, beta_2 = ADAM_B2),\n",
        "    loss_fn=keras.losses.BinaryCrossentropy()#label_smoothing=0.1)\n",
        ")\n",
        "\n",
        "# build model for saving\n",
        "\n",
        "random_latent_vectors = tf.random.normal(shape=(1, 128))\n",
        "random_attr = tf.random.uniform(shape=(1, 2), maxval=2, dtype='int64')\n",
        "\n",
        "images, d_loss = acgan.predict((random_latent_vectors, random_attr))\n",
        "print(images.shape, d_loss, np.min(images), np.max(images))\n",
        "acgan.save('models/'+model_name+experiment_name, save_format='tf')"
      ],
      "execution_count": 84,
      "outputs": [
        {
          "output_type": "stream",
          "text": [
            "WARNING:tensorflow:5 out of the last 5 calls to <function Model.make_predict_function.<locals>.predict_function at 0x7f9d606e8f80> triggered tf.function retracing. Tracing is expensive and the excessive number of tracings could be due to (1) creating @tf.function repeatedly in a loop, (2) passing tensors with different shapes, (3) passing Python objects instead of tensors. For (1), please define your @tf.function outside of the loop. For (2), @tf.function has experimental_relax_shapes=True option that relaxes argument shapes that can avoid unnecessary retracing. For (3), please refer to https://www.tensorflow.org/guide/function#controlling_retracing and https://www.tensorflow.org/api_docs/python/tf/function for  more details.\n",
            "(1, 64, 64, 3) [array([[0.50249964]], dtype=float32), array([[0.5023597 , 0.52296716]], dtype=float32)] 0.4926034 0.50508285\n"
          ],
          "name": "stdout"
        }
      ]
    },
    {
      "cell_type": "markdown",
      "metadata": {
        "id": "fgT4VqgKJx-7"
      },
      "source": [
        "## Train"
      ]
    },
    {
      "cell_type": "code",
      "metadata": {
        "colab": {
          "base_uri": "https://localhost:8080/"
        },
        "id": "AgmKY6jDdvjv",
        "outputId": "abc95acf-c240-4abb-a10a-77769ccc31c4"
      },
      "source": [
        "if WANDB_RESUME:\n",
        "    run_name = 'buio/GAN/'+ model_name + experiment_name\n",
        "    artifact_run = run_name +':latest'\n",
        "\n",
        "    artifact = run.use_artifact(artifact_run, type='model')\n",
        "    artifact_dir = artifact.download()\n",
        "    acgan.load_weights(os.path.join(artifact_dir, model_name + experiment_name))\n"
      ],
      "execution_count": 71,
      "outputs": [
        {
          "output_type": "stream",
          "text": [
            "\u001b[34m\u001b[1mwandb\u001b[0m: Downloading large artifact acganacgan_chollet_params:latest, 68.62MB. 8 files... Done. 0:0:0\n"
          ],
          "name": "stderr"
        }
      ]
    },
    {
      "cell_type": "code",
      "metadata": {
        "colab": {
          "base_uri": "https://localhost:8080/",
          "height": 422,
          "referenced_widgets": [
            "468ac7f2109d473e9f25ac7d47384d9d",
            "32a734d2ec1844f6826662dd3f718fea",
            "e6ce0bb360e9416dafac097c3a79239a",
            "54fa36be2931419386e5541abae9d0e7",
            "7c939aadebb2478890617df178b4da9c",
            "5f3ca42cf5d94126b9a3a8cc3d2bb6e9",
            "97b4fbfb42354333b3a7885228c1e463",
            "52c65a9ffd834f97a1ce950fb0db60b2",
            "4decd1a3377b45db8bc0158a6e402a58",
            "428097e2dfe94705aa4a9ba6b39f999d",
            "0662f49e1fd345c08025fad632635b87",
            "48d0eb444b1b44058b4051843b7e960d",
            "c7ce83b1bf304eecbe1d5fdc0aca8a8d",
            "86b748d1dd724f2b987df9835cedb97c",
            "d0475640ee254fae9c6cce292a7950b6",
            "6c5e17560913453d99bbb1b598300005",
            "d9ce18f0df3247cbbdd2623b41524e49",
            "9bcf183c03c94a22923d7ac7299b25d6",
            "2311c360e1b1463a83a2d1e89ca62dfa",
            "916db396ddb84d26899b185b65e497b7",
            "a0e66c8781a14da085e3510e90c38367",
            "0a4fa479591b44f39613adeef52d8ce0",
            "e61798198b474033933c49af13c2212e",
            "ceb8067d29454e4794744c3bf1cead79"
          ]
        },
        "id": "LaES7uhMhfk-",
        "outputId": "3bafa80b-1e99-41ee-b4d1-47b76d419382"
      },
      "source": [
        "epochs = 200  # In practice, use ~100 epochs\n",
        "\n",
        "acgan.fit(dataset_df, epochs=epochs, \n",
        "        #initial_epoch=9, \n",
        "        #steps_per_epoch=20,\n",
        "        callbacks=[\n",
        "            WandbCallback(log_batch_frequency=10, verbose=1),\n",
        "            GANMonitor(num_img=8, latent_dim=LATENT_DIM),\n",
        "            WandbLogger(model_name+experiment_name, run=run),\n",
        "            FIDLogger(real_embeddings, real_labels)\n",
        "            ]\n",
        ")"
      ],
      "execution_count": null,
      "outputs": [
        {
          "output_type": "stream",
          "text": [
            "Epoch 1/200\n",
            "12663/12663 [==============================] - 1099s 87ms/step - d_loss: 0.8448 - g_loss: 0.8189 - d_loss_realfake: 0.6906 - d_loss_attr: 0.2253 - g_loss_realfake: 0.8075 - g_loss_attr: 0.0974\n"
          ],
          "name": "stdout"
        },
        {
          "output_type": "stream",
          "text": [
            "\u001b[34m\u001b[1mwandb\u001b[0m: Adding directory to artifact (./models)... Done. 1.4s\n"
          ],
          "name": "stderr"
        },
        {
          "output_type": "display_data",
          "data": {
            "application/vnd.jupyter.widget-view+json": {
              "model_id": "468ac7f2109d473e9f25ac7d47384d9d",
              "version_minor": 0,
              "version_major": 2
            },
            "text/plain": [
              "HBox(children=(FloatProgress(value=0.0), HTML(value='')))"
            ]
          },
          "metadata": {
            "tags": []
          }
        },
        {
          "output_type": "stream",
          "text": [
            "\n",
            "305.2555862259417\n",
            "Epoch 2/200\n",
            "12663/12663 [==============================] - 1098s 87ms/step - d_loss: 0.7889 - g_loss: 0.7646 - d_loss_realfake: 0.6999 - d_loss_attr: 0.1289 - g_loss_realfake: 0.7775 - g_loss_attr: 0.0254\n"
          ],
          "name": "stdout"
        },
        {
          "output_type": "stream",
          "text": [
            "\u001b[34m\u001b[1mwandb\u001b[0m: Adding directory to artifact (./models)... Done. 1.7s\n"
          ],
          "name": "stderr"
        },
        {
          "output_type": "display_data",
          "data": {
            "application/vnd.jupyter.widget-view+json": {
              "model_id": "4decd1a3377b45db8bc0158a6e402a58",
              "version_minor": 0,
              "version_major": 2
            },
            "text/plain": [
              "HBox(children=(FloatProgress(value=0.0), HTML(value='')))"
            ]
          },
          "metadata": {
            "tags": []
          }
        },
        {
          "output_type": "stream",
          "text": [
            "\n",
            "231.73259498890428\n",
            "Epoch 3/200\n",
            "12663/12663 [==============================] - 1093s 86ms/step - d_loss: 0.7749 - g_loss: 0.7582 - d_loss_realfake: 0.6997 - d_loss_attr: 0.1095 - g_loss_realfake: 0.7680 - g_loss_attr: 0.0175\n"
          ],
          "name": "stdout"
        },
        {
          "output_type": "stream",
          "text": [
            "\u001b[34m\u001b[1mwandb\u001b[0m: Adding directory to artifact (./models)... Done. 1.7s\n"
          ],
          "name": "stderr"
        },
        {
          "output_type": "display_data",
          "data": {
            "application/vnd.jupyter.widget-view+json": {
              "model_id": "d9ce18f0df3247cbbdd2623b41524e49",
              "version_minor": 0,
              "version_major": 2
            },
            "text/plain": [
              "HBox(children=(FloatProgress(value=0.0), HTML(value='')))"
            ]
          },
          "metadata": {
            "tags": []
          }
        },
        {
          "output_type": "stream",
          "text": [
            "\n",
            "217.3493282709306\n",
            "Epoch 4/200\n",
            " 4966/12663 [==========>...................] - ETA: 11:02 - d_loss: 0.7696 - g_loss: 0.7566 - d_loss_realfake: 0.6993 - d_loss_attr: 0.1016 - g_loss_realfake: 0.7645 - g_loss_attr: 0.0146"
          ],
          "name": "stdout"
        }
      ]
    },
    {
      "cell_type": "code",
      "metadata": {
        "id": "iCtU1iUOww74"
      },
      "source": [
        "tf.compat.v1.logging.set_verbosity(tf.compat.v1.logging.WARN)\n",
        "tf.compat.v1.logging.get_verbosity()"
      ],
      "execution_count": null,
      "outputs": []
    },
    {
      "cell_type": "code",
      "metadata": {
        "id": "K8cMrL0UT8o_"
      },
      "source": [
        "for i in range(19):\n",
        "  plt.imshow(gan.generator(tf.random.normal(shape=(1, LATENT_DIM)))[0])\n",
        "  plt.show()"
      ],
      "execution_count": null,
      "outputs": []
    },
    {
      "cell_type": "code",
      "metadata": {
        "id": "pUy0jgOv7FWE"
      },
      "source": [
        "# load model\n",
        "\n",
        "artifact = run.use_artifact('buio/GAN/gan_models:v1', type='model')\n",
        "artifact_dir = artifact.download()\n",
        "\n",
        "run.join()\n",
        "\n",
        "print('\\n', artifact_dir)\n",
        "models = os.listdir(artifact_dir)\n",
        "generators = [model for model in models if 'generator' in model]\n",
        "discriminators = [model for model in models if 'discriminator' in model]\n",
        "\n",
        "def run_num(run_name):\n",
        "    return int(run_name.strip('h5').strip('.').split('_')[-1])\n",
        "\n",
        "generators.sort(key=run_num)\n",
        "discriminators.sort(key=run_num)\n",
        "print(*generators,sep='\\n')"
      ],
      "execution_count": null,
      "outputs": []
    },
    {
      "cell_type": "code",
      "metadata": {
        "id": "yQaCqC7dAHnl"
      },
      "source": [
        "# ri-populate model\n",
        "generator = tf.keras.models.load_model(artifact_dir+'/'+generators[-1])\n",
        "discriminator = tf.keras.models.load_model(artifact_dir+'/'+discriminators[-1])\n",
        "\n",
        "gan = GAN(discriminator=discriminator, generator=generator, latent_dim=latent_dim)\n",
        "gan.compile(\n",
        "    d_optimizer=keras.optimizers.Adam(learning_rate=0.0001),\n",
        "    g_optimizer=keras.optimizers.Adam(learning_rate=0.0001),\n",
        "    loss_fn=keras.losses.BinaryCrossentropy(),\n",
        ")\n",
        "gan.fit(dataset, epochs=1, steps_per_epoch=2)\n"
      ],
      "execution_count": null,
      "outputs": []
    },
    {
      "cell_type": "markdown",
      "metadata": {
        "id": "qgYeq3MGlNLn"
      },
      "source": [
        "# Losses\n"
      ]
    },
    {
      "cell_type": "code",
      "metadata": {
        "id": "clcRu8NkZpWK"
      },
      "source": [
        "# Example 1: (batch_size = 1, number of samples = 4)\n",
        "y_true = [0, 1, 0, 0]\n",
        "y_pred = [0.1, 0.9, 0.1, 0.1]\n",
        "bce = tf.keras.losses.BinaryCrossentropy(label_smoothing=0.00)\n",
        "bce(y_true, y_pred).numpy()\n"
      ],
      "execution_count": null,
      "outputs": []
    },
    {
      "cell_type": "code",
      "metadata": {
        "id": "IDkxf73naLuc"
      },
      "source": [
        "bce([0]*16,discriminator(next(iter(dataset)))[:,0]).numpy()"
      ],
      "execution_count": null,
      "outputs": []
    },
    {
      "cell_type": "markdown",
      "metadata": {
        "id": "fxsZj8XX5ghQ"
      },
      "source": [
        "Some of the last generated images around epoch 30\n",
        "(results keep improving after that):\n",
        "\n",
        "![results](https://i.imgur.com/h5MtQZ7l.png)"
      ]
    }
  ]
}