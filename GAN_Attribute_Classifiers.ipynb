{
  "nbformat": 4,
  "nbformat_minor": 0,
  "metadata": {
    "accelerator": "GPU",
    "colab": {
      "name": "GAN Attribute Classifiers.ipynb",
      "provenance": [],
      "collapsed_sections": [],
      "toc_visible": true,
      "authorship_tag": "ABX9TyNWHGccXBOh6rVbWHD1+1QQ",
      "include_colab_link": true
    },
    "kernelspec": {
      "display_name": "Python 3",
      "name": "python3"
    },
    "language_info": {
      "name": "python"
    },
    "widgets": {
      "application/vnd.jupyter.widget-state+json": {
        "8ed0fb22e6234a36a6e12d33fd436807": {
          "model_module": "@jupyter-widgets/controls",
          "model_name": "VBoxModel",
          "model_module_version": "1.5.0",
          "state": {
            "_dom_classes": [],
            "_model_module": "@jupyter-widgets/controls",
            "_model_module_version": "1.5.0",
            "_model_name": "VBoxModel",
            "_view_count": null,
            "_view_module": "@jupyter-widgets/controls",
            "_view_module_version": "1.5.0",
            "_view_name": "VBoxView",
            "box_style": "",
            "children": [
              "IPY_MODEL_8577a65ea501430ea37775d3d7acdf73",
              "IPY_MODEL_417798cfcff341a6860a818eee483089"
            ],
            "layout": "IPY_MODEL_3a159da083c546a588fa17bb85540ab2"
          }
        },
        "8577a65ea501430ea37775d3d7acdf73": {
          "model_module": "@jupyter-widgets/controls",
          "model_name": "LabelModel",
          "model_module_version": "1.5.0",
          "state": {
            "_dom_classes": [],
            "_model_module": "@jupyter-widgets/controls",
            "_model_module_version": "1.5.0",
            "_model_name": "LabelModel",
            "_view_count": null,
            "_view_module": "@jupyter-widgets/controls",
            "_view_module_version": "1.5.0",
            "_view_name": "LabelView",
            "description": "",
            "description_tooltip": null,
            "layout": "IPY_MODEL_4ec22d12041f44b6a7d7ebf9fadd7ae6",
            "placeholder": "​",
            "style": "IPY_MODEL_a43d9e648eab40daa3c3866e9126f922",
            "value": " 0.01MB of 0.01MB uploaded (0.00MB deduped)\r"
          }
        },
        "417798cfcff341a6860a818eee483089": {
          "model_module": "@jupyter-widgets/controls",
          "model_name": "FloatProgressModel",
          "model_module_version": "1.5.0",
          "state": {
            "_dom_classes": [],
            "_model_module": "@jupyter-widgets/controls",
            "_model_module_version": "1.5.0",
            "_model_name": "FloatProgressModel",
            "_view_count": null,
            "_view_module": "@jupyter-widgets/controls",
            "_view_module_version": "1.5.0",
            "_view_name": "ProgressView",
            "bar_style": "",
            "description": "",
            "description_tooltip": null,
            "layout": "IPY_MODEL_3394877da0c84f44845e17908975801c",
            "max": 1,
            "min": 0,
            "orientation": "horizontal",
            "style": "IPY_MODEL_0b7230cf587045cb8228597a6b92a5b9",
            "value": 1
          }
        },
        "3a159da083c546a588fa17bb85540ab2": {
          "model_module": "@jupyter-widgets/base",
          "model_name": "LayoutModel",
          "model_module_version": "1.2.0",
          "state": {
            "_model_module": "@jupyter-widgets/base",
            "_model_module_version": "1.2.0",
            "_model_name": "LayoutModel",
            "_view_count": null,
            "_view_module": "@jupyter-widgets/base",
            "_view_module_version": "1.2.0",
            "_view_name": "LayoutView",
            "align_content": null,
            "align_items": null,
            "align_self": null,
            "border": null,
            "bottom": null,
            "display": null,
            "flex": null,
            "flex_flow": null,
            "grid_area": null,
            "grid_auto_columns": null,
            "grid_auto_flow": null,
            "grid_auto_rows": null,
            "grid_column": null,
            "grid_gap": null,
            "grid_row": null,
            "grid_template_areas": null,
            "grid_template_columns": null,
            "grid_template_rows": null,
            "height": null,
            "justify_content": null,
            "justify_items": null,
            "left": null,
            "margin": null,
            "max_height": null,
            "max_width": null,
            "min_height": null,
            "min_width": null,
            "object_fit": null,
            "object_position": null,
            "order": null,
            "overflow": null,
            "overflow_x": null,
            "overflow_y": null,
            "padding": null,
            "right": null,
            "top": null,
            "visibility": null,
            "width": null
          }
        },
        "4ec22d12041f44b6a7d7ebf9fadd7ae6": {
          "model_module": "@jupyter-widgets/base",
          "model_name": "LayoutModel",
          "model_module_version": "1.2.0",
          "state": {
            "_model_module": "@jupyter-widgets/base",
            "_model_module_version": "1.2.0",
            "_model_name": "LayoutModel",
            "_view_count": null,
            "_view_module": "@jupyter-widgets/base",
            "_view_module_version": "1.2.0",
            "_view_name": "LayoutView",
            "align_content": null,
            "align_items": null,
            "align_self": null,
            "border": null,
            "bottom": null,
            "display": null,
            "flex": null,
            "flex_flow": null,
            "grid_area": null,
            "grid_auto_columns": null,
            "grid_auto_flow": null,
            "grid_auto_rows": null,
            "grid_column": null,
            "grid_gap": null,
            "grid_row": null,
            "grid_template_areas": null,
            "grid_template_columns": null,
            "grid_template_rows": null,
            "height": null,
            "justify_content": null,
            "justify_items": null,
            "left": null,
            "margin": null,
            "max_height": null,
            "max_width": null,
            "min_height": null,
            "min_width": null,
            "object_fit": null,
            "object_position": null,
            "order": null,
            "overflow": null,
            "overflow_x": null,
            "overflow_y": null,
            "padding": null,
            "right": null,
            "top": null,
            "visibility": null,
            "width": null
          }
        },
        "a43d9e648eab40daa3c3866e9126f922": {
          "model_module": "@jupyter-widgets/controls",
          "model_name": "DescriptionStyleModel",
          "model_module_version": "1.5.0",
          "state": {
            "_model_module": "@jupyter-widgets/controls",
            "_model_module_version": "1.5.0",
            "_model_name": "DescriptionStyleModel",
            "_view_count": null,
            "_view_module": "@jupyter-widgets/base",
            "_view_module_version": "1.2.0",
            "_view_name": "StyleView",
            "description_width": ""
          }
        },
        "3394877da0c84f44845e17908975801c": {
          "model_module": "@jupyter-widgets/base",
          "model_name": "LayoutModel",
          "model_module_version": "1.2.0",
          "state": {
            "_model_module": "@jupyter-widgets/base",
            "_model_module_version": "1.2.0",
            "_model_name": "LayoutModel",
            "_view_count": null,
            "_view_module": "@jupyter-widgets/base",
            "_view_module_version": "1.2.0",
            "_view_name": "LayoutView",
            "align_content": null,
            "align_items": null,
            "align_self": null,
            "border": null,
            "bottom": null,
            "display": null,
            "flex": null,
            "flex_flow": null,
            "grid_area": null,
            "grid_auto_columns": null,
            "grid_auto_flow": null,
            "grid_auto_rows": null,
            "grid_column": null,
            "grid_gap": null,
            "grid_row": null,
            "grid_template_areas": null,
            "grid_template_columns": null,
            "grid_template_rows": null,
            "height": null,
            "justify_content": null,
            "justify_items": null,
            "left": null,
            "margin": null,
            "max_height": null,
            "max_width": null,
            "min_height": null,
            "min_width": null,
            "object_fit": null,
            "object_position": null,
            "order": null,
            "overflow": null,
            "overflow_x": null,
            "overflow_y": null,
            "padding": null,
            "right": null,
            "top": null,
            "visibility": null,
            "width": null
          }
        },
        "0b7230cf587045cb8228597a6b92a5b9": {
          "model_module": "@jupyter-widgets/controls",
          "model_name": "ProgressStyleModel",
          "model_module_version": "1.5.0",
          "state": {
            "_model_module": "@jupyter-widgets/controls",
            "_model_module_version": "1.5.0",
            "_model_name": "ProgressStyleModel",
            "_view_count": null,
            "_view_module": "@jupyter-widgets/base",
            "_view_module_version": "1.2.0",
            "_view_name": "StyleView",
            "bar_color": null,
            "description_width": ""
          }
        },
        "c33a5c24e1f7431bb42460b49ca7268e": {
          "model_module": "@jupyter-widgets/controls",
          "model_name": "VBoxModel",
          "model_module_version": "1.5.0",
          "state": {
            "_dom_classes": [],
            "_model_module": "@jupyter-widgets/controls",
            "_model_module_version": "1.5.0",
            "_model_name": "VBoxModel",
            "_view_count": null,
            "_view_module": "@jupyter-widgets/controls",
            "_view_module_version": "1.5.0",
            "_view_name": "VBoxView",
            "box_style": "",
            "children": [
              "IPY_MODEL_7ee9b459a60f4333a68ac2b2f47c518a",
              "IPY_MODEL_2a72324d26414f4fa3ad45b46e17d77a"
            ],
            "layout": "IPY_MODEL_b212742357db451dba7eb6488116eccb"
          }
        },
        "7ee9b459a60f4333a68ac2b2f47c518a": {
          "model_module": "@jupyter-widgets/controls",
          "model_name": "LabelModel",
          "model_module_version": "1.5.0",
          "state": {
            "_dom_classes": [],
            "_model_module": "@jupyter-widgets/controls",
            "_model_module_version": "1.5.0",
            "_model_name": "LabelModel",
            "_view_count": null,
            "_view_module": "@jupyter-widgets/controls",
            "_view_module_version": "1.5.0",
            "_view_name": "LabelView",
            "description": "",
            "description_tooltip": null,
            "layout": "IPY_MODEL_21b72b0d40924645b11875407102279e",
            "placeholder": "​",
            "style": "IPY_MODEL_f33a2d6ba2c7452b9d409deaa80a6b6d",
            "value": " 57.11MB of 57.11MB uploaded (0.00MB deduped)\r"
          }
        },
        "2a72324d26414f4fa3ad45b46e17d77a": {
          "model_module": "@jupyter-widgets/controls",
          "model_name": "FloatProgressModel",
          "model_module_version": "1.5.0",
          "state": {
            "_dom_classes": [],
            "_model_module": "@jupyter-widgets/controls",
            "_model_module_version": "1.5.0",
            "_model_name": "FloatProgressModel",
            "_view_count": null,
            "_view_module": "@jupyter-widgets/controls",
            "_view_module_version": "1.5.0",
            "_view_name": "ProgressView",
            "bar_style": "",
            "description": "",
            "description_tooltip": null,
            "layout": "IPY_MODEL_47a189fa5ee4495191b43170b4919427",
            "max": 1,
            "min": 0,
            "orientation": "horizontal",
            "style": "IPY_MODEL_6158949811014597849d083447d038e8",
            "value": 1
          }
        },
        "b212742357db451dba7eb6488116eccb": {
          "model_module": "@jupyter-widgets/base",
          "model_name": "LayoutModel",
          "model_module_version": "1.2.0",
          "state": {
            "_model_module": "@jupyter-widgets/base",
            "_model_module_version": "1.2.0",
            "_model_name": "LayoutModel",
            "_view_count": null,
            "_view_module": "@jupyter-widgets/base",
            "_view_module_version": "1.2.0",
            "_view_name": "LayoutView",
            "align_content": null,
            "align_items": null,
            "align_self": null,
            "border": null,
            "bottom": null,
            "display": null,
            "flex": null,
            "flex_flow": null,
            "grid_area": null,
            "grid_auto_columns": null,
            "grid_auto_flow": null,
            "grid_auto_rows": null,
            "grid_column": null,
            "grid_gap": null,
            "grid_row": null,
            "grid_template_areas": null,
            "grid_template_columns": null,
            "grid_template_rows": null,
            "height": null,
            "justify_content": null,
            "justify_items": null,
            "left": null,
            "margin": null,
            "max_height": null,
            "max_width": null,
            "min_height": null,
            "min_width": null,
            "object_fit": null,
            "object_position": null,
            "order": null,
            "overflow": null,
            "overflow_x": null,
            "overflow_y": null,
            "padding": null,
            "right": null,
            "top": null,
            "visibility": null,
            "width": null
          }
        },
        "21b72b0d40924645b11875407102279e": {
          "model_module": "@jupyter-widgets/base",
          "model_name": "LayoutModel",
          "model_module_version": "1.2.0",
          "state": {
            "_model_module": "@jupyter-widgets/base",
            "_model_module_version": "1.2.0",
            "_model_name": "LayoutModel",
            "_view_count": null,
            "_view_module": "@jupyter-widgets/base",
            "_view_module_version": "1.2.0",
            "_view_name": "LayoutView",
            "align_content": null,
            "align_items": null,
            "align_self": null,
            "border": null,
            "bottom": null,
            "display": null,
            "flex": null,
            "flex_flow": null,
            "grid_area": null,
            "grid_auto_columns": null,
            "grid_auto_flow": null,
            "grid_auto_rows": null,
            "grid_column": null,
            "grid_gap": null,
            "grid_row": null,
            "grid_template_areas": null,
            "grid_template_columns": null,
            "grid_template_rows": null,
            "height": null,
            "justify_content": null,
            "justify_items": null,
            "left": null,
            "margin": null,
            "max_height": null,
            "max_width": null,
            "min_height": null,
            "min_width": null,
            "object_fit": null,
            "object_position": null,
            "order": null,
            "overflow": null,
            "overflow_x": null,
            "overflow_y": null,
            "padding": null,
            "right": null,
            "top": null,
            "visibility": null,
            "width": null
          }
        },
        "f33a2d6ba2c7452b9d409deaa80a6b6d": {
          "model_module": "@jupyter-widgets/controls",
          "model_name": "DescriptionStyleModel",
          "model_module_version": "1.5.0",
          "state": {
            "_model_module": "@jupyter-widgets/controls",
            "_model_module_version": "1.5.0",
            "_model_name": "DescriptionStyleModel",
            "_view_count": null,
            "_view_module": "@jupyter-widgets/base",
            "_view_module_version": "1.2.0",
            "_view_name": "StyleView",
            "description_width": ""
          }
        },
        "47a189fa5ee4495191b43170b4919427": {
          "model_module": "@jupyter-widgets/base",
          "model_name": "LayoutModel",
          "model_module_version": "1.2.0",
          "state": {
            "_model_module": "@jupyter-widgets/base",
            "_model_module_version": "1.2.0",
            "_model_name": "LayoutModel",
            "_view_count": null,
            "_view_module": "@jupyter-widgets/base",
            "_view_module_version": "1.2.0",
            "_view_name": "LayoutView",
            "align_content": null,
            "align_items": null,
            "align_self": null,
            "border": null,
            "bottom": null,
            "display": null,
            "flex": null,
            "flex_flow": null,
            "grid_area": null,
            "grid_auto_columns": null,
            "grid_auto_flow": null,
            "grid_auto_rows": null,
            "grid_column": null,
            "grid_gap": null,
            "grid_row": null,
            "grid_template_areas": null,
            "grid_template_columns": null,
            "grid_template_rows": null,
            "height": null,
            "justify_content": null,
            "justify_items": null,
            "left": null,
            "margin": null,
            "max_height": null,
            "max_width": null,
            "min_height": null,
            "min_width": null,
            "object_fit": null,
            "object_position": null,
            "order": null,
            "overflow": null,
            "overflow_x": null,
            "overflow_y": null,
            "padding": null,
            "right": null,
            "top": null,
            "visibility": null,
            "width": null
          }
        },
        "6158949811014597849d083447d038e8": {
          "model_module": "@jupyter-widgets/controls",
          "model_name": "ProgressStyleModel",
          "model_module_version": "1.5.0",
          "state": {
            "_model_module": "@jupyter-widgets/controls",
            "_model_module_version": "1.5.0",
            "_model_name": "ProgressStyleModel",
            "_view_count": null,
            "_view_module": "@jupyter-widgets/base",
            "_view_module_version": "1.2.0",
            "_view_name": "StyleView",
            "bar_color": null,
            "description_width": ""
          }
        }
      }
    }
  },
  "cells": [
    {
      "cell_type": "markdown",
      "metadata": {
        "id": "view-in-github",
        "colab_type": "text"
      },
      "source": [
        "<a href=\"https://colab.research.google.com/github/buoi/conditional-face-GAN/blob/main/GAN_Attribute_Classifiers.ipynb\" target=\"_parent\"><img src=\"https://colab.research.google.com/assets/colab-badge.svg\" alt=\"Open In Colab\"/></a>"
      ]
    },
    {
      "cell_type": "markdown",
      "metadata": {
        "id": "ioP51dr476D0"
      },
      "source": [
        "# Setup"
      ]
    },
    {
      "cell_type": "code",
      "metadata": {
        "colab": {
          "base_uri": "https://localhost:8080/"
        },
        "id": "5BpGFXC5pBSU",
        "outputId": "a6d2c227-2860-4ed7-8464-a3bbd270a81f"
      },
      "source": [
        "_, gpu_name  = !nvidia-smi --query-gpu=gpu_name --format=csv\n",
        "\n",
        "if gpu_name == 'Tesla T4':\n",
        "    from tensorflow.keras import mixed_precision\n",
        "\n",
        "    print(\"good gpu\")\n",
        "    policy = mixed_precision.Policy('mixed_float16')\n",
        "    mixed_precision.set_global_policy(policy)\n",
        "\n",
        "!nvidia-smi -L"
      ],
      "execution_count": null,
      "outputs": [
        {
          "name": "stdout",
          "output_type": "stream",
          "text": [
            "GPU 0: Tesla P100-PCIE-16GB (UUID: GPU-a6024aa7-282e-30d8-b467-6d6c7b97c5f9)\n"
          ]
        }
      ]
    },
    {
      "cell_type": "code",
      "metadata": {
        "id": "WkAlD03UW6dY"
      },
      "source": [
        "import numpy as np\n",
        "from scipy import linalg\n",
        "import matplotlib.pyplot as plt\n",
        "\n",
        "import tensorflow as tf\n",
        "from tensorflow import keras\n",
        "from tensorflow.keras import layers\n",
        "from keras.applications.inception_v3 import InceptionV3, preprocess_input\n",
        "import tensorflow.keras.backend as K\n",
        "\n",
        "import os\n",
        "import gdown\n",
        "from zipfile import ZipFile #chose this or !unzip\n",
        "\n",
        "from tqdm.notebook import tqdm\n",
        "from time import time\n",
        "import pandas as pd\n",
        "import random\n",
        "import math"
      ],
      "execution_count": null,
      "outputs": []
    },
    {
      "cell_type": "markdown",
      "metadata": {
        "id": "3kbuDuH25ghI"
      },
      "source": [
        "## Download CelebA data\n",
        "\n",
        "We'll use face images from the CelebA dataset, resized to 64x64."
      ]
    },
    {
      "cell_type": "code",
      "metadata": {
        "colab": {
          "base_uri": "https://localhost:8080/"
        },
        "id": "_VNPNSKA5ghI",
        "outputId": "ffe01a95-77f3-48a6-ff37-a36f5a1469a5"
      },
      "source": [
        "try:\n",
        "    os.makedirs(\"celeba_gan\")\n",
        "    url = \"https://drive.google.com/uc?id=1O7m1010EJjLE5QxLZiM9Fpjs7Oj6e684\"\n",
        "    output = \"celeba_gan/img_align_celeba.zip\"\n",
        "    gdown.download(url, output, quiet=True)\n",
        "\n",
        "    with ZipFile(\"celeba_gan/img_align_celeba.zip\", \"r\") as zipobj:\n",
        "        zipobj.extractall(\"celeba_gan\")\n",
        "        \n",
        "except FileExistsError:\n",
        "    print(\"Dataset Already downloaded\")\n",
        "\n",
        "#Download labels from public github, they ahve been processed in a 0,1 csv file\n",
        "!wget -q -O \"/content/celeba_gan/list_attr_celeba01.csv.zip\" \"https://github.com/buoi/conditional-face-GAN/blob/main/list_attr_celeba01.csv.zip?raw=true\" \n",
        "!unzip -o \"/content/celeba_gan/list_attr_celeba01.csv.zip\" -d \"/content/celeba_gan\""
      ],
      "execution_count": null,
      "outputs": [
        {
          "name": "stdout",
          "output_type": "stream",
          "text": [
            "Dataset Already downloaded\n",
            "Archive:  /content/celeba_gan/list_attr_celeba01.csv.zip\n",
            "  inflating: /content/celeba_gan/list_attr_celeba01.csv  \n",
            "  inflating: /content/celeba_gan/__MACOSX/._list_attr_celeba01.csv  \n"
          ]
        }
      ]
    },
    {
      "cell_type": "code",
      "metadata": {
        "id": "hrNtJiTZS9QN"
      },
      "source": [
        "\n",
        "\n",
        "def f1_metric_logits(y_true, y_pred):\n",
        "    y_pred = K.round(keras.activations.sigmoid(y_pred))\n",
        "    tp = K.sum(K.cast(y_true*y_pred, 'float'), axis=0)\n",
        "    tn = K.sum(K.cast((1-y_true)*(1-y_pred), 'float'), axis=0)\n",
        "    fp = K.sum(K.cast((1-y_true)*y_pred, 'float'), axis=0)\n",
        "    fn = K.sum(K.cast(y_true*(1-y_pred), 'float'), axis=0)\n",
        "\n",
        "    p = tp / (tp + fp + K.epsilon())\n",
        "    r = tp / (tp + fn + K.epsilon())\n",
        "\n",
        "    f1 = 2*p*r / (p+r+K.epsilon())\n",
        "    f1 = tf.where(tf.math.is_nan(f1), tf.zeros_like(f1), f1)\n",
        "    return K.mean(f1)\n",
        "\n",
        "\n",
        "def f1_metric(y_true, y_pred):\n",
        "    y_pred = K.round(y_pred)\n",
        "    tp = K.sum(K.cast(y_true*y_pred, 'float'), axis=0)\n",
        "    tn = K.sum(K.cast((1-y_true)*(1-y_pred), 'float'), axis=0)\n",
        "    fp = K.sum(K.cast((1-y_true)*y_pred, 'float'), axis=0)\n",
        "    fn = K.sum(K.cast(y_true*(1-y_pred), 'float'), axis=0)\n",
        "\n",
        "    p = tp / (tp + fp + K.epsilon())\n",
        "    r = tp / (tp + fn + K.epsilon())\n",
        "\n",
        "    f1 = 2*p*r / (p+r+K.epsilon())\n",
        "    f1 = tf.where(tf.math.is_nan(f1), tf.zeros_like(f1), f1)\n",
        "    return K.mean(f1)\n",
        "\n",
        "\n",
        "def weighted_bce_from_logits(y_true, y_pred):\n",
        "\n",
        "    #inverted_frequency weighting\n",
        "    pos_weight= (1-attribute_frequency)*2\n",
        "    y_true = tf.cast(y_true,'float32')\n",
        "    bce = tf.nn.weighted_cross_entropy_with_logits(y_true, y_pred, pos_weight=pos_weight)\n",
        "    #weighted_bce = attribute_frequency*(1-y_true) *bce\n",
        "    #print(bce, weighted_bce)\n",
        "    return K.mean(bce,axis=-1)\n"
      ],
      "execution_count": null,
      "outputs": []
    },
    {
      "cell_type": "code",
      "metadata": {
        "id": "oo6MbUVmnehl"
      },
      "source": [
        "# image utils functions\n",
        "\n",
        "def conv_range(in_range=(-1,1), out_range=(0,255)):\n",
        "    \"\"\" Returns range conversion function\"\"\"\n",
        "\n",
        "    # compute means and spans once\n",
        "    in_mean, out_mean = np.mean(in_range), np.mean(out_range)\n",
        "    in_span, out_span = np.ptp(in_range), np.ptp(out_range)\n",
        "\n",
        "    # return function\n",
        "    def convert_img_range(in_img):\n",
        "        out_img = (in_img - in_mean) / in_span\n",
        "        out_img = out_img * out_span + out_mean\n",
        "        return out_img\n",
        "\n",
        "    return convert_img_range\n",
        "\n",
        "\n",
        "def crop128(img):\n",
        "    #return img[:, 77:141, 57:121]# 64,64 center crop\n",
        "    return img[:, 45:173, 25:153] # 128,128 center crop\n",
        "\n",
        "\n",
        "def resize64(img):\n",
        "    return tf.image.resize(img, (64,64), antialias=True)"
      ],
      "execution_count": null,
      "outputs": []
    },
    {
      "cell_type": "markdown",
      "metadata": {
        "id": "VuEK76uSS9QM"
      },
      "source": [
        "# Train 64x64 Attribute Classifier"
      ]
    },
    {
      "cell_type": "code",
      "metadata": {
        "colab": {
          "base_uri": "https://localhost:8080/",
          "height": 381
        },
        "id": "0WO2104NnsGh",
        "outputId": "d8a037f1-9b10-4279-9487-cc1cdac668a1"
      },
      "source": [
        "#@title Build Dataset {form-width: \"35%\", display-mode: \"both\" }\n",
        "NUMBER_OF_ATTRIBUTES = \"2\" #@param [0, 2, 10, 12, 40]\n",
        "N_ATTRIBUTES = int(NUMBER_OF_ATTRIBUTES)\n",
        "\n",
        "IMAGE_RANGE = '11'\n",
        "\n",
        "BATCH_SIZE =  64#@param {type: \"number\"}\n",
        "if N_ATTRIBUTES == 2:\n",
        "    LABELS = [\"Male\", \"Smiling\"]\n",
        "\n",
        "elif N_ATTRIBUTES == 10:\n",
        "    LABELS = [\n",
        "          \"Mouth_Slightly_Open\", \"Wearing_Lipstick\", \"High_Cheekbones\", \"Male\", \"Smiling\", \n",
        "          \"Heavy_Makeup\", \"Wavy_Hair\", \"Oval_Face\", \"Pointy_Nose\", \"Arched_Eyebrows\"]\n",
        "\n",
        "elif N_ATTRIBUTES == 12:\n",
        "    LABELS = ['Wearing_Lipstick','Mouth_Slightly_Open','Male','Smiling',\n",
        "              'High_Cheekbones','Heavy_Makeup','Attractive','Young',\n",
        "              'No_Beard','Black_Hair','Arched_Eyebrows','Big_Nose']\n",
        "elif N_ATTRIBUTES == 40:\n",
        "    LABELS = [\n",
        "            '5_o_Clock_Shadow', 'Arched_Eyebrows', 'Attractive',\n",
        "            'Bags_Under_Eyes', 'Bald', 'Bangs', 'Big_Lips', 'Big_Nose',\n",
        "            'Black_Hair', 'Blond_Hair', 'Blurry', 'Brown_Hair', 'Bushy_Eyebrows',\n",
        "            'Chubby', 'Double_Chin', 'Eyeglasses', 'Goatee', 'Gray_Hair',\n",
        "            'Heavy_Makeup', 'High_Cheekbones', 'Male', 'Mouth_Slightly_Open',\n",
        "            'Mustache', 'Narrow_Eyes', 'No_Beard', 'Oval_Face', 'Pale_Skin',\n",
        "            'Pointy_Nose', 'Receding_Hairline', 'Rosy_Cheeks', 'Sideburns',\n",
        "            'Smiling', 'Straight_Hair', 'Wavy_Hair', 'Wearing_Earrings',\n",
        "            'Wearing_Hat', 'Wearing_Lipstick', 'Wearing_Necklace',\n",
        "            'Wearing_Necktie', 'Young']\n",
        "\n",
        "else:\n",
        "    LABELS = [\"Male\", \"Smiling\"]# just for dataset creation\n",
        " \n",
        "\n",
        "# Take labels and a list of image locations in memory\n",
        "df = pd.read_csv(r\"/content/celeba_gan/list_attr_celeba01.csv\")\n",
        "im_list = df['image_id'].tolist()\n",
        "\n",
        "\n",
        "# load image at exact resolution\n",
        "dataset_train = keras.preprocessing.image_dataset_from_directory(\n",
        "    \"celeba_gan\", label_mode=\"int\", \n",
        "    labels = df[LABELS].values.tolist(),\n",
        "    image_size=(218, 178), \n",
        "    batch_size=BATCH_SIZE,\n",
        "    validation_split=0.1, subset='training',seed=11)\n",
        "\n",
        "dataset_val = keras.preprocessing.image_dataset_from_directory(\n",
        "    \"celeba_gan\", label_mode=\"int\", \n",
        "    labels = df[LABELS].values.tolist(),\n",
        "    image_size=(218, 178), \n",
        "    batch_size=BATCH_SIZE,\n",
        "    validation_split=0.1, subset='validation',seed=11)\n",
        "\n",
        "dataset_train.shuffle(200000)\n",
        "dataset_val.shuffle(30000)\n",
        "FID_COUNT = 10000\n",
        "val_batch_size = 200\n",
        "assert FID_COUNT%val_batch_size ==0\n",
        "val_batch_n = FID_COUNT//val_batch_size\n",
        "\n",
        "#rebatch to divisor of 10000\n",
        "dataset_val = dataset_val.unbatch().batch(val_batch_size)\n",
        "#take 10000 samples, 100 batches \n",
        "\n",
        "def preprocess(dataset):\n",
        "    # extract the center crop\n",
        "    dataset = dataset.map(lambda x,y: (crop128(x),y) )\n",
        "    # resize\n",
        "    dataset = dataset.map(lambda x,y: (resize64(x),y) )\n",
        "    # convert image range\n",
        "    dataset = dataset.map(lambda x,y: (conv_range([0,255], [-1,1])(x),y) )\n",
        "    \n",
        "    return dataset\n",
        "\n",
        "dataset_train = preprocess(dataset_train)\n",
        "dataset_val = preprocess(dataset_val)\n",
        "\n",
        "if N_ATTRIBUTES !=0: \n",
        "\n",
        "    batch_img, batch_labels = next(iter(dataset_train))\n",
        "    plt.title('\\n'.join([(1-label)*'Not_'+LABELS[i]+' •'*int(label) for i,label in enumerate(batch_labels[0])]))\n",
        "\n",
        "else: # remove labels\n",
        "    dataset_train = dataset_train.map(lambda x,y: x)\n",
        "    dataset_val = dataset_val.map(lambda x,y: x)\n",
        "    batch_img = next(iter(dataset_train))\n",
        "    \n",
        "plt.imshow(batch_img[0].numpy()/2+0.5)\n",
        "\n",
        "print(\"image in range: \", np.min(batch_img), np.max(batch_img))"
      ],
      "execution_count": null,
      "outputs": [
        {
          "name": "stdout",
          "output_type": "stream",
          "text": [
            "Found 202599 files belonging to 2 classes.\n",
            "Using 182340 files for training.\n",
            "Found 202599 files belonging to 2 classes.\n",
            "Using 20259 files for validation.\n",
            "image in range:  -1.0 1.0000004\n"
          ]
        },
        {
          "data": {
            "image/png": "[encoded data removed]",
            "text/plain": [
              "<Figure size 432x288 with 1 Axes>"
            ]
          },
          "metadata": {},
          "output_type": "display_data"
        }
      ]
    },
    {
      "cell_type": "code",
      "metadata": {
        "colab": {
          "base_uri": "https://localhost:8080/",
          "height": 607
        },
        "id": "71hzB1gkkr9N",
        "outputId": "1f3c5013-b87d-446a-a213-149494536e3a"
      },
      "source": [
        "attribute_cumsums = np.sum(df[LABELS].values, axis=0)\n",
        "\n",
        "attribute_frequency = attribute_cumsums/df[LABELS].values.shape[0]\n",
        "# shows how much each attribute deviates from being 50%\n",
        "freq_sorted, labels_sorted  = zip(*sorted(zip(attribute_frequency, LABELS)))\n",
        "freq_sorted = np.array(freq_sorted)\n",
        "\n",
        "plt.figure(figsize=(8,10))\n",
        "plt.title(\"Attribute Frequencies\")\n",
        "plt.yticks(np.arange(N_ATTRIBUTES),labels=labels_sorted, fontsize=10)\n",
        "plt.axvline(x=0.5)\n",
        "plt.barh(np.arange(N_ATTRIBUTES), freq_sorted);"
      ],
      "execution_count": null,
      "outputs": [
        {
          "data": {
            "image/png": "[encoded data removed]",
            "text/plain": [
              "<Figure size 576x720 with 1 Axes>"
            ]
          },
          "metadata": {},
          "output_type": "display_data"
        }
      ]
    },
    {
      "cell_type": "code",
      "metadata": {
        "colab": {
          "base_uri": "https://localhost:8080/",
          "height": 472,
          "referenced_widgets": [
            "8ed0fb22e6234a36a6e12d33fd436807",
            "8577a65ea501430ea37775d3d7acdf73",
            "417798cfcff341a6860a818eee483089",
            "3a159da083c546a588fa17bb85540ab2",
            "4ec22d12041f44b6a7d7ebf9fadd7ae6",
            "a43d9e648eab40daa3c3866e9126f922",
            "3394877da0c84f44845e17908975801c",
            "0b7230cf587045cb8228597a6b92a5b9"
          ]
        },
        "id": "50Uzxom0S9QN",
        "outputId": "65c837b7-d541-4d21-c1fd-36fa5f61120f"
      },
      "source": [
        "ENABLE_WANDB = True #@param {type:\"boolean\"}\n",
        "WANDB_RESUME = False #@param {type:\"boolean\"}\n",
        "\n",
        "resume_id = \"\" #@param {type: \"string\"}\n",
        "WANDB_RESUME = (resume_id if WANDB_RESUME else False)\n",
        "\n",
        "project_name = \"GAN\" #@param {type: \"string\"}\n",
        "model_name = \"mobilenet_2attr_weighted\" #@param {type: \"string\"}\n",
        "experiment_name = \"mobilenet_2attr_weighted\" #@param {type: \"string\"}\n",
        "\n",
        "assert '-' not in model_name\n",
        "assert ' ' not in model_name\n",
        "\n",
        "if ENABLE_WANDB:\n",
        "    !pip install wandb > /dev/null\n",
        "    !wandb login\n",
        "    import wandb\n",
        "    from wandb.keras import WandbCallback\n",
        "    run = wandb.init(project=project_name, \n",
        "                     name=experiment_name, \n",
        "                     resume=WANDB_RESUME)\n",
        "    "
      ],
      "execution_count": null,
      "outputs": [
        {
          "name": "stdout",
          "output_type": "stream",
          "text": [
            "\u001b[34m\u001b[1mwandb\u001b[0m: Currently logged in as: \u001b[33mbuio\u001b[0m (use `wandb login --relogin` to force relogin)\n"
          ]
        },
        {
          "data": {
            "text/html": [
              "Finishing last run (ID:14a0mng3) before initializing another..."
            ],
            "text/plain": [
              "<IPython.core.display.HTML object>"
            ]
          },
          "metadata": {},
          "output_type": "display_data"
        },
        {
          "data": {
            "text/html": [
              "<br/>Waiting for W&B process to finish, PID 537... <strong style=\"color:green\">(success).</strong>"
            ],
            "text/plain": [
              "<IPython.core.display.HTML object>"
            ]
          },
          "metadata": {},
          "output_type": "display_data"
        },
        {
          "data": {
            "application/vnd.jupyter.widget-view+json": {
              "model_id": "8ed0fb22e6234a36a6e12d33fd436807",
              "version_major": 2,
              "version_minor": 0
            },
            "text/plain": [
              "VBox(children=(Label(value=' 0.00MB of 0.00MB uploaded (0.00MB deduped)\\r'), FloatProgress(value=1.0, max=1.0)…"
            ]
          },
          "metadata": {},
          "output_type": "display_data"
        },
        {
          "data": {
            "text/html": [
              "<style>\n",
              "    table.wandb td:nth-child(1) { padding: 0 10px; text-align: right }\n",
              "    .wandb-row { display: flex; flex-direction: row; flex-wrap: wrap; width: 100% }\n",
              "    .wandb-col { display: flex; flex-direction: column; flex-basis: 100%; flex: 1; padding: 10px; }\n",
              "    </style>\n",
              "<div class=\"wandb-row\"><div class=\"wandb-col\">\n",
              "<h3>Run history:</h3><br/><table class=\"wandb\"><tr><td>binary_accuracy</td><td>▁▂▂▂▃▃▄▄▄▅▅▅▅▅▆▆▆▆▆▆▆▇▇▇▇▇▇▇▇▇▇█████████</td></tr><tr><td>f1_metric_logits</td><td>▁▃▄▅▆▆▆▆▇▇▇▇▇▇▇▇▇▇▇▇▇▇██████████████████</td></tr><tr><td>loss</td><td>█▅▅▄▄▃▃▃▃▃▃▂▂▂▂▂▂▂▂▂▂▂▂▂▁▁▁▁▁▁▁▁▁▁▁▁▁▁▁▁</td></tr></table><br/></div><div class=\"wandb-col\">\n",
              "<h3>Run summary:</h3><br/><table class=\"wandb\"><tr><td>binary_accuracy</td><td>0.71092</td></tr><tr><td>f1_metric_logits</td><td>0.69284</td></tr><tr><td>loss</td><td>0.55236</td></tr></table>\n",
              "</div></div>\n",
              "Synced 5 W&B file(s), 1 media file(s), 0 artifact file(s) and 0 other file(s)\n",
              "<br/>Synced <strong style=\"color:#cdcd00\">mobilenet_2attr_weighted</strong>: <a href=\"https://wandb.ai/buio/GAN/runs/14a0mng3\" target=\"_blank\">https://wandb.ai/buio/GAN/runs/14a0mng3</a><br/>\n",
              "Find logs at: <code>./wandb/run-20211020_215705-14a0mng3/logs</code><br/>\n"
            ],
            "text/plain": [
              "<IPython.core.display.HTML object>"
            ]
          },
          "metadata": {},
          "output_type": "display_data"
        },
        {
          "data": {
            "text/html": [
              "Successfully finished last run (ID:14a0mng3). Initializing new run:<br/>"
            ],
            "text/plain": [
              "<IPython.core.display.HTML object>"
            ]
          },
          "metadata": {},
          "output_type": "display_data"
        },
        {
          "data": {
            "text/html": [
              "\n",
              "                    Syncing run <strong><a href=\"https://wandb.ai/buio/GAN/runs/2ckbukxu\" target=\"_blank\">mobilenet_2attr_weighted</a></strong> to <a href=\"https://wandb.ai/buio/GAN\" target=\"_blank\">Weights & Biases</a> (<a href=\"https://docs.wandb.com/integrations/jupyter.html\" target=\"_blank\">docs</a>).<br/>\n",
              "\n",
              "                "
            ],
            "text/plain": [
              "<IPython.core.display.HTML object>"
            ]
          },
          "metadata": {},
          "output_type": "display_data"
        }
      ]
    },
    {
      "cell_type": "code",
      "metadata": {
        "id": "1b3j41SZS9QN"
      },
      "source": [
        "from wandb.keras import WandbCallback"
      ],
      "execution_count": null,
      "outputs": []
    },
    {
      "cell_type": "code",
      "metadata": {
        "colab": {
          "base_uri": "https://localhost:8080/"
        },
        "id": "zUy8-uyWS9QO",
        "outputId": "65be7bf8-6cf0-41a8-c302-fe00a9f1d921"
      },
      "source": [
        "SHAPE =(64,64,3)\n",
        "\n",
        "feature_extractor = tf.keras.applications.MobileNetV2(\n",
        "    include_top=False,\n",
        "    weights=\"imagenet\",\n",
        "    input_shape = SHAPE,\n",
        "    pooling='avg'\n",
        ")\n",
        "# do just transfer learning\n",
        "feature_extractor.trainable = False\n",
        "\n",
        "img_in = layers.Input(shape = SHAPE, name='img_input')\n",
        "#img_up = tf.image.resize(img_in, (128, 128), method='bilinear', antialias=True, name='upsample_BILINEAR')\n",
        "img_repr = feature_extractor(img_in)\n",
        "img_repr = tf.keras.layers.Flatten()(img_repr)\n",
        "\n",
        "classifier = layers.Dense(N_ATTRIBUTES, activation='linear', \n",
        "                          name='classifier')(img_repr)\n",
        "                          \n",
        "attr_class = keras.Model(inputs=[img_in], outputs=[classifier])\n",
        "\n",
        "optim = keras.optimizers.Adam(learning_rate=0.0002)\n",
        "attr_class.compile(optim, weighted_bce_from_logits, \n",
        "                   metrics = ['binary_accuracy', f1_metric_logits] )\n",
        "es_callback = tf.keras.callbacks.EarlyStopping(\n",
        "    monitor=\"val_loss\",\n",
        "    patience=2,\n",
        "    mode=\"auto\",\n",
        ")\n",
        "\n",
        "attr_class.summary()\n",
        "\n",
        "attr_class.fit(dataset_train, validation_data=dataset_val, epochs=10, \n",
        "               callbacks =[es_callback, WandbCallback(log_batch_frequency=10, verbose=1)])"
      ],
      "execution_count": null,
      "outputs": [
        {
          "name": "stdout",
          "output_type": "stream",
          "text": [
            "WARNING:tensorflow:`input_shape` is undefined or non-square, or `rows` is not in [96, 128, 160, 192, 224]. Weights for input shape (224, 224) will be loaded as the default.\n",
            "Model: \"model_2\"\n",
            "_________________________________________________________________\n",
            "Layer (type)                 Output Shape              Param #   \n",
            "=================================================================\n",
            "img_input (InputLayer)       [(None, 64, 64, 3)]       0         \n",
            "_________________________________________________________________\n",
            "mobilenetv2_1.00_224 (Functi (None, 1280)              2257984   \n",
            "_________________________________________________________________\n",
            "flatten_2 (Flatten)          (None, 1280)              0         \n",
            "_________________________________________________________________\n",
            "classifier (Dense)           (None, 2)                 2562      \n",
            "=================================================================\n",
            "Total params: 2,260,546\n",
            "Trainable params: 2,562\n",
            "Non-trainable params: 2,257,984\n",
            "_________________________________________________________________\n",
            "Epoch 1/10\n",
            "2850/2850 [==============================] - 246s 85ms/step - loss: 0.4647 - binary_accuracy: 0.7754 - f1_metric_logits: 0.7643 - val_loss: 0.4246 - val_binary_accuracy: 0.7993 - val_f1_metric_logits: 0.7908\n",
            "Epoch 00000: val_loss improved from inf to 0.42461, saving model to /content/wandb/run-20211020_215858-2ckbukxu/files/model-best.h5\n"
          ]
        },
        {
          "name": "stderr",
          "output_type": "stream",
          "text": [
            "/usr/local/lib/python3.7/dist-packages/keras/utils/generic_utils.py:497: CustomMaskWarning: Custom mask layers require a config and must override get_config. When loading, the custom mask layer must be passed to the custom_objects argument.\n",
            "  category=CustomMaskWarning)\n"
          ]
        },
        {
          "name": "stdout",
          "output_type": "stream",
          "text": [
            "Epoch 2/10\n",
            "2850/2850 [==============================] - 240s 84ms/step - loss: 0.4165 - binary_accuracy: 0.8063 - f1_metric_logits: 0.7951 - val_loss: 0.4118 - val_binary_accuracy: 0.8129 - val_f1_metric_logits: 0.8029\n",
            "Epoch 00001: val_loss improved from 0.42461 to 0.41182, saving model to /content/wandb/run-20211020_215858-2ckbukxu/files/model-best.h5\n",
            "Epoch 3/10\n",
            "2850/2850 [==============================] - 259s 91ms/step - loss: 0.4068 - binary_accuracy: 0.8117 - f1_metric_logits: 0.8005 - val_loss: 0.4071 - val_binary_accuracy: 0.8164 - val_f1_metric_logits: 0.8051\n",
            "Epoch 00002: val_loss improved from 0.41182 to 0.40710, saving model to /content/wandb/run-20211020_215858-2ckbukxu/files/model-best.h5\n",
            "Epoch 4/10\n",
            "2850/2850 [==============================] - 260s 91ms/step - loss: 0.4026 - binary_accuracy: 0.8145 - f1_metric_logits: 0.8023 - val_loss: 0.4043 - val_binary_accuracy: 0.8167 - val_f1_metric_logits: 0.8039\n",
            "Epoch 00003: val_loss improved from 0.40710 to 0.40426, saving model to /content/wandb/run-20211020_215858-2ckbukxu/files/model-best.h5\n",
            "Epoch 5/10\n",
            "2850/2850 [==============================] - 258s 91ms/step - loss: 0.4001 - binary_accuracy: 0.8155 - f1_metric_logits: 0.8039 - val_loss: 0.4031 - val_binary_accuracy: 0.8152 - val_f1_metric_logits: 0.8023\n",
            "Epoch 00004: val_loss improved from 0.40426 to 0.40310, saving model to /content/wandb/run-20211020_215858-2ckbukxu/files/model-best.h5\n",
            "Epoch 6/10\n",
            "2850/2850 [==============================] - 254s 89ms/step - loss: 0.3987 - binary_accuracy: 0.8168 - f1_metric_logits: 0.8049 - val_loss: 0.4033 - val_binary_accuracy: 0.8190 - val_f1_metric_logits: 0.8059\n",
            "Epoch 7/10\n",
            "2850/2850 [==============================] - 257s 90ms/step - loss: 0.3978 - binary_accuracy: 0.8173 - f1_metric_logits: 0.8052 - val_loss: 0.4030 - val_binary_accuracy: 0.8147 - val_f1_metric_logits: 0.8021\n",
            "Epoch 00006: val_loss improved from 0.40310 to 0.40296, saving model to /content/wandb/run-20211020_215858-2ckbukxu/files/model-best.h5\n",
            "Epoch 8/10\n",
            "2850/2850 [==============================] - 236s 83ms/step - loss: 0.3972 - binary_accuracy: 0.8175 - f1_metric_logits: 0.8057 - val_loss: 0.4018 - val_binary_accuracy: 0.8174 - val_f1_metric_logits: 0.8040\n",
            "Epoch 00007: val_loss improved from 0.40296 to 0.40178, saving model to /content/wandb/run-20211020_215858-2ckbukxu/files/model-best.h5\n",
            "Epoch 9/10\n",
            "2850/2850 [==============================] - 256s 90ms/step - loss: 0.3968 - binary_accuracy: 0.8177 - f1_metric_logits: 0.8057 - val_loss: 0.4031 - val_binary_accuracy: 0.8190 - val_f1_metric_logits: 0.8058\n",
            "Epoch 10/10\n",
            "2850/2850 [==============================] - 236s 83ms/step - loss: 0.3964 - binary_accuracy: 0.8180 - f1_metric_logits: 0.8063 - val_loss: 0.4021 - val_binary_accuracy: 0.8164 - val_f1_metric_logits: 0.8030\n"
          ]
        },
        {
          "data": {
            "text/plain": [
              "<keras.callbacks.History at 0x7f82202ffb90>"
            ]
          },
          "execution_count": 24,
          "metadata": {},
          "output_type": "execute_result"
        }
      ]
    },
    {
      "cell_type": "code",
      "metadata": {
        "colab": {
          "base_uri": "https://localhost:8080/"
        },
        "id": "eYIpGnYMS9QO",
        "outputId": "9053fb3d-ecc2-45cf-e825-a7611ce66e4a"
      },
      "source": [
        "# fine tuning of entire network with 1/10 lr\n",
        "for layer in attr_class.layers:\n",
        "    layer.trainable = True\n",
        "\n",
        "es_callback = tf.keras.callbacks.EarlyStopping(\n",
        "    monitor=\"val_loss\",\n",
        "    patience=1,\n",
        "    mode=\"auto\",\n",
        ")\n",
        "attr_class.summary()\n",
        "\n",
        "#keep same optimizer with modified LR\n",
        "optim.learning_rate = 0.00002\n",
        "attr_class.compile(optim, \n",
        "                   weighted_bce_from_logits, \n",
        "                   metrics = ['binary_accuracy', f1_metric_logits] )\n",
        "\n",
        "attr_class.fit(dataset_train, validation_data=dataset_val, epochs=10, \n",
        "               callbacks = [es_callback, WandbCallback(log_batch_frequency=10, verbose=1)])"
      ],
      "execution_count": null,
      "outputs": [
        {
          "name": "stdout",
          "output_type": "stream",
          "text": [
            "Model: \"model_2\"\n",
            "_________________________________________________________________\n",
            "Layer (type)                 Output Shape              Param #   \n",
            "=================================================================\n",
            "img_input (InputLayer)       [(None, 64, 64, 3)]       0         \n",
            "_________________________________________________________________\n",
            "mobilenetv2_1.00_224 (Functi (None, 1280)              2257984   \n",
            "_________________________________________________________________\n",
            "flatten_2 (Flatten)          (None, 1280)              0         \n",
            "_________________________________________________________________\n",
            "classifier (Dense)           (None, 2)                 2562      \n",
            "=================================================================\n",
            "Total params: 2,260,546\n",
            "Trainable params: 2,226,434\n",
            "Non-trainable params: 34,112\n",
            "_________________________________________________________________\n",
            "Epoch 1/10\n",
            "2850/2850 [==============================] - 284s 97ms/step - loss: 0.3298 - binary_accuracy: 0.8578 - f1_metric_logits: 0.8455 - val_loss: 0.2417 - val_binary_accuracy: 0.9096 - val_f1_metric_logits: 0.8994\n",
            "Epoch 00000: val_loss improved from 0.40178 to 0.24168, saving model to /content/wandb/run-20211020_215858-2ckbukxu/files/model-best.h5\n"
          ]
        },
        {
          "name": "stderr",
          "output_type": "stream",
          "text": [
            "/usr/local/lib/python3.7/dist-packages/keras/utils/generic_utils.py:497: CustomMaskWarning: Custom mask layers require a config and must override get_config. When loading, the custom mask layer must be passed to the custom_objects argument.\n",
            "  category=CustomMaskWarning)\n"
          ]
        },
        {
          "name": "stdout",
          "output_type": "stream",
          "text": [
            "Epoch 2/10\n",
            "2850/2850 [==============================] - 295s 103ms/step - loss: 0.2093 - binary_accuracy: 0.9141 - f1_metric_logits: 0.9072 - val_loss: 0.1800 - val_binary_accuracy: 0.9289 - val_f1_metric_logits: 0.9221\n",
            "Epoch 00001: val_loss improved from 0.24168 to 0.18004, saving model to /content/wandb/run-20211020_215858-2ckbukxu/files/model-best.h5\n",
            "Epoch 3/10\n",
            "2850/2850 [==============================] - 280s 98ms/step - loss: 0.1721 - binary_accuracy: 0.9302 - f1_metric_logits: 0.9247 - val_loss: 0.1592 - val_binary_accuracy: 0.9360 - val_f1_metric_logits: 0.9300\n",
            "Epoch 00002: val_loss improved from 0.18004 to 0.15922, saving model to /content/wandb/run-20211020_215858-2ckbukxu/files/model-best.h5\n",
            "Epoch 4/10\n",
            "2850/2850 [==============================] - 298s 104ms/step - loss: 0.1482 - binary_accuracy: 0.9399 - f1_metric_logits: 0.9352 - val_loss: 0.1586 - val_binary_accuracy: 0.9364 - val_f1_metric_logits: 0.9316\n",
            "Epoch 00003: val_loss improved from 0.15922 to 0.15862, saving model to /content/wandb/run-20211020_215858-2ckbukxu/files/model-best.h5\n",
            "Epoch 5/10\n",
            "2850/2850 [==============================] - 280s 98ms/step - loss: 0.1313 - binary_accuracy: 0.9464 - f1_metric_logits: 0.9431 - val_loss: 0.1473 - val_binary_accuracy: 0.9407 - val_f1_metric_logits: 0.9363\n",
            "Epoch 00004: val_loss improved from 0.15862 to 0.14729, saving model to /content/wandb/run-20211020_215858-2ckbukxu/files/model-best.h5\n",
            "Epoch 6/10\n",
            "2850/2850 [==============================] - 280s 98ms/step - loss: 0.1173 - binary_accuracy: 0.9525 - f1_metric_logits: 0.9491 - val_loss: 0.1450 - val_binary_accuracy: 0.9425 - val_f1_metric_logits: 0.9378\n",
            "Epoch 00005: val_loss improved from 0.14729 to 0.14500, saving model to /content/wandb/run-20211020_215858-2ckbukxu/files/model-best.h5\n",
            "Epoch 7/10\n",
            "2850/2850 [==============================] - 279s 98ms/step - loss: 0.1047 - binary_accuracy: 0.9577 - f1_metric_logits: 0.9550 - val_loss: 0.1481 - val_binary_accuracy: 0.9424 - val_f1_metric_logits: 0.9375\n"
          ]
        },
        {
          "data": {
            "text/plain": [
              "<keras.callbacks.History at 0x7f82202f4a50>"
            ]
          },
          "execution_count": 25,
          "metadata": {},
          "output_type": "execute_result"
        }
      ]
    },
    {
      "cell_type": "code",
      "metadata": {
        "colab": {
          "base_uri": "https://localhost:8080/"
        },
        "id": "6e1E97B4S9QO",
        "outputId": "bc30b5a6-10cf-4245-b5a2-2be6bf0bf43f"
      },
      "source": [
        "SAVE_PATH = 'models/'\n",
        "os.makedirs(SAVE_PATH, exist_ok=True)\n",
        "\n",
        "attr_class.save(SAVE_PATH + model_name, save_format='tf')\n",
        "artifact = wandb.Artifact(model_name, type='model')\n",
        "artifact.add_dir(SAVE_PATH)\n",
        "run.log_artifact(artifact)"
      ],
      "execution_count": null,
      "outputs": [
        {
          "name": "stdout",
          "output_type": "stream",
          "text": [
            "INFO:tensorflow:Assets written to: models/mobilenet_2attr_weighted/assets\n"
          ]
        },
        {
          "name": "stderr",
          "output_type": "stream",
          "text": [
            "/usr/local/lib/python3.7/dist-packages/keras/utils/generic_utils.py:497: CustomMaskWarning: Custom mask layers require a config and must override get_config. When loading, the custom mask layer must be passed to the custom_objects argument.\n",
            "  category=CustomMaskWarning)\n",
            "\u001b[34m\u001b[1mwandb\u001b[0m: Adding directory to artifact (./models)... Done. 0.5s\n"
          ]
        },
        {
          "data": {
            "text/plain": [
              "<wandb.sdk.wandb_artifacts.Artifact at 0x7f811e1ead10>"
            ]
          },
          "execution_count": 26,
          "metadata": {},
          "output_type": "execute_result"
        }
      ]
    },
    {
      "cell_type": "code",
      "metadata": {
        "colab": {
          "base_uri": "https://localhost:8080/",
          "height": 614,
          "referenced_widgets": [
            "c33a5c24e1f7431bb42460b49ca7268e",
            "7ee9b459a60f4333a68ac2b2f47c518a",
            "2a72324d26414f4fa3ad45b46e17d77a",
            "b212742357db451dba7eb6488116eccb",
            "21b72b0d40924645b11875407102279e",
            "f33a2d6ba2c7452b9d409deaa80a6b6d",
            "47a189fa5ee4495191b43170b4919427",
            "6158949811014597849d083447d038e8"
          ]
        },
        "id": "b1NDEvuBS9QO",
        "outputId": "04819802-5fc1-4765-d033-10b7710a45fc"
      },
      "source": [
        "run.finish()"
      ],
      "execution_count": null,
      "outputs": [
        {
          "data": {
            "text/html": [
              "<br/>Waiting for W&B process to finish, PID 647... <strong style=\"color:green\">(success).</strong>"
            ],
            "text/plain": [
              "<IPython.core.display.HTML object>"
            ]
          },
          "metadata": {},
          "output_type": "display_data"
        },
        {
          "data": {
            "application/vnd.jupyter.widget-view+json": {
              "model_id": "c33a5c24e1f7431bb42460b49ca7268e",
              "version_major": 2,
              "version_minor": 0
            },
            "text/plain": [
              "VBox(children=(Label(value=' 57.05MB of 57.05MB uploaded (0.00MB deduped)\\r'), FloatProgress(value=1.0, max=1.…"
            ]
          },
          "metadata": {},
          "output_type": "display_data"
        },
        {
          "data": {
            "text/html": [
              "<style>\n",
              "    table.wandb td:nth-child(1) { padding: 0 10px; text-align: right }\n",
              "    .wandb-row { display: flex; flex-direction: row; flex-wrap: wrap; width: 100% }\n",
              "    .wandb-col { display: flex; flex-direction: column; flex-basis: 100%; flex: 1; padding: 10px; }\n",
              "    </style>\n",
              "<div class=\"wandb-row\"><div class=\"wandb-col\">\n",
              "<h3>Run history:</h3><br/><table class=\"wandb\"><tr><td>binary_accuracy</td><td>▁▂▂▃▃▄▄▄▄▄▄▄▄▄▄▄▄▄▄▄▄▄▄▄▃▅▆▇▇▇▇▇▇███████</td></tr><tr><td>epoch</td><td>▁▂▃▃▄▅▆▆▇█▁▂▃▃▄▅▆</td></tr><tr><td>f1_metric_logits</td><td>▁▂▃▃▃▄▄▄▄▄▄▄▄▄▄▄▄▄▄▄▄▄▄▄▃▄▆▇▇▇▇▇▇███████</td></tr><tr><td>loss</td><td>█▇▇▆▆▆▆▆▆▆▆▆▆▆▆▆▆▆▆▆▆▆▆▆▆▅▃▃▂▂▂▂▂▂▁▁▁▁▁▁</td></tr><tr><td>val_binary_accuracy</td><td>▁▂▂▂▂▂▂▂▂▂▆▇█████</td></tr><tr><td>val_f1_metric_logits</td><td>▁▂▂▂▂▂▂▂▂▂▆▇█████</td></tr><tr><td>val_loss</td><td>███▇▇▇▇▇▇▇▃▂▁▁▁▁▁</td></tr></table><br/></div><div class=\"wandb-col\">\n",
              "<h3>Run summary:</h3><br/><table class=\"wandb\"><tr><td>best_epoch</td><td>5</td></tr><tr><td>best_val_loss</td><td>0.145</td></tr><tr><td>binary_accuracy</td><td>0.9577</td></tr><tr><td>epoch</td><td>6</td></tr><tr><td>f1_metric_logits</td><td>0.95498</td></tr><tr><td>loss</td><td>0.10466</td></tr><tr><td>val_binary_accuracy</td><td>0.94245</td></tr><tr><td>val_f1_metric_logits</td><td>0.93749</td></tr><tr><td>val_loss</td><td>0.14813</td></tr></table>\n",
              "</div></div>\n",
              "Synced 5 W&B file(s), 1 media file(s), 4 artifact file(s) and 2 other file(s)\n",
              "<br/>Synced <strong style=\"color:#cdcd00\">mobilenet_2attr_weighted</strong>: <a href=\"https://wandb.ai/buio/GAN/runs/2ckbukxu\" target=\"_blank\">https://wandb.ai/buio/GAN/runs/2ckbukxu</a><br/>\n",
              "Find logs at: <code>./wandb/run-20211020_215858-2ckbukxu/logs</code><br/>\n"
            ],
            "text/plain": [
              "<IPython.core.display.HTML object>"
            ]
          },
          "metadata": {},
          "output_type": "display_data"
        }
      ]
    },
    {
      "cell_type": "markdown",
      "metadata": {
        "id": "erCaemSZLRo4"
      },
      "source": [
        "# Train 218x178 Attribute Classifier"
      ]
    },
    {
      "cell_type": "code",
      "metadata": {
        "colab": {
          "base_uri": "https://localhost:8080/"
        },
        "id": "CYVYprJmTdjD",
        "outputId": "29c3fe57-5c62-4cbd-ba17-0a0c58a6cc27"
      },
      "source": [
        "#@title Build Dataset {form-width: \"35%\", display-mode: \"both\" }\n",
        "NUMBER_OF_ATTRIBUTES = \"40\" #@param [0, 2, 10, 12, 40]\n",
        "N_ATTRIBUTES = int(NUMBER_OF_ATTRIBUTES)\n",
        "\n",
        "IMAGE_RANGE = '11'\n",
        "\n",
        "BATCH_SIZE =  64#@param {type: \"number\"}\n",
        "if N_ATTRIBUTES == 2:\n",
        "    LABELS = [\"Male\", \"Smiling\"]\n",
        "\n",
        "elif N_ATTRIBUTES == 10:\n",
        "    LABELS = [\n",
        "          \"Mouth_Slightly_Open\", \"Wearing_Lipstick\", \"High_Cheekbones\", \"Male\", \"Smiling\", \n",
        "          \"Heavy_Makeup\", \"Wavy_Hair\", \"Oval_Face\", \"Pointy_Nose\", \"Arched_Eyebrows\"]\n",
        "\n",
        "elif N_ATTRIBUTES == 12:\n",
        "    LABELS = ['Wearing_Lipstick','Mouth_Slightly_Open','Male','Smiling',\n",
        "              'High_Cheekbones','Heavy_Makeup','Attractive','Young',\n",
        "              'No_Beard','Black_Hair','Arched_Eyebrows','Big_Nose']\n",
        "elif N_ATTRIBUTES == 40:\n",
        "    LABELS = [\n",
        "            '5_o_Clock_Shadow', 'Arched_Eyebrows', 'Attractive',\n",
        "            'Bags_Under_Eyes', 'Bald', 'Bangs', 'Big_Lips', 'Big_Nose',\n",
        "            'Black_Hair', 'Blond_Hair', 'Blurry', 'Brown_Hair', 'Bushy_Eyebrows',\n",
        "            'Chubby', 'Double_Chin', 'Eyeglasses', 'Goatee', 'Gray_Hair',\n",
        "            'Heavy_Makeup', 'High_Cheekbones', 'Male', 'Mouth_Slightly_Open',\n",
        "            'Mustache', 'Narrow_Eyes', 'No_Beard', 'Oval_Face', 'Pale_Skin',\n",
        "            'Pointy_Nose', 'Receding_Hairline', 'Rosy_Cheeks', 'Sideburns',\n",
        "            'Smiling', 'Straight_Hair', 'Wavy_Hair', 'Wearing_Earrings',\n",
        "            'Wearing_Hat', 'Wearing_Lipstick', 'Wearing_Necklace',\n",
        "            'Wearing_Necktie', 'Young']\n",
        "\n",
        "else:\n",
        "    LABELS = [\"Male\", \"Smiling\"]# just for dataset creation\n",
        " \n",
        "\n",
        "# Take labels and a list of image locations in memory\n",
        "df = pd.read_csv(r\"/content/celeba_gan/list_attr_celeba01.csv\")\n",
        "im_list = df['image_id'].tolist()\n",
        "\n",
        "\n",
        "# load image at exact resolution\n",
        "dataset_train = keras.preprocessing.image_dataset_from_directory(\n",
        "    \"celeba_gan\", label_mode=\"int\", \n",
        "    labels = df[LABELS].values.tolist(),\n",
        "    image_size=(218, 178), \n",
        "    batch_size=BATCH_SIZE,\n",
        "    validation_split=0.1, subset='training',seed=11)\n",
        "\n",
        "dataset_val = keras.preprocessing.image_dataset_from_directory(\n",
        "    \"celeba_gan\", label_mode=\"int\", \n",
        "    labels = df[LABELS].values.tolist(),\n",
        "    image_size=(218, 178), \n",
        "    batch_size=BATCH_SIZE,\n",
        "    validation_split=0.1, subset='validation',seed=11)\n",
        "\n",
        "dataset_train.shuffle(200000)\n",
        "dataset_val.shuffle(30000)\n",
        "FID_COUNT = 10000\n",
        "val_batch_size = 200\n",
        "assert FID_COUNT%val_batch_size ==0\n",
        "val_batch_n = FID_COUNT//val_batch_size\n",
        "\n",
        "#rebatch to divisor of 10000\n",
        "dataset_val = dataset_val.unbatch().batch(val_batch_size)\n",
        "#take 10000 samples, 100 batches \n",
        "\n",
        "def preprocess(dataset):\n",
        "    # extract the center crop\n",
        "    #dataset = dataset.map(lambda x,y: (crop128(x),y) )\n",
        "    # resize\n",
        "    # dataset = dataset.map(lambda x,y: (resize64(x),y) )\n",
        "    # convert image range\n",
        "    dataset = dataset.map(lambda x,y: (conv_range([0,255], [-1,1])(x),y) )\n",
        "    \n",
        "    return dataset\n",
        "\n",
        "dataset_train = preprocess(dataset_train)\n",
        "dataset_val = preprocess(dataset_val)\n",
        "\n",
        "if N_ATTRIBUTES !=0: \n",
        "\n",
        "    batch_img, batch_labels = next(iter(dataset_train))\n",
        "    plt.title('\\n'.join([(1-label)*'Not_'+LABELS[i]+' •'*int(label) for i,label in enumerate(batch_labels[0])]))\n",
        "\n",
        "else: # remove labels\n",
        "    dataset_train = dataset_train.map(lambda x,y: x)\n",
        "    dataset_val = dataset_val.map(lambda x,y: x)\n",
        "    batch_img = next(iter(dataset_train))\n",
        "    \n",
        "plt.imshow(batch_img[0].numpy()/2+0.5)\n",
        "\n",
        "print(\"image in range: \", np.min(batch_img), np.max(batch_img))"
      ],
      "execution_count": null,
      "outputs": [
        {
          "name": "stdout",
          "output_type": "stream",
          "text": [
            "Found 202599 files belonging to 2 classes.\n",
            "Using 182340 files for training.\n",
            "Found 202599 files belonging to 2 classes.\n",
            "Using 20259 files for validation.\n",
            "image in range:  -1.0 1.0\n"
          ]
        },
        {
          "data": {
            "image/png": "[encoded data removed]",
            "text/plain": [
              "<Figure size 432x288 with 1 Axes>"
            ]
          },
          "metadata": {},
          "output_type": "display_data"
        }
      ]
    },
    {
      "cell_type": "code",
      "metadata": {
        "colab": {
          "base_uri": "https://localhost:8080/"
        },
        "id": "fvgNZuHFUJvC",
        "outputId": "a7feecec-7997-491f-d612-2236dfa1f9f2"
      },
      "source": [
        "attribute_cumsums = np.sum(df[LABELS].values, axis=0)\n",
        "\n",
        "attribute_frequency = attribute_cumsums/df[LABELS].values.shape[0]\n",
        "# shows how much each attribute deviates from being 50%\n",
        "freq_sorted, labels_sorted  = zip(*sorted(zip(attribute_frequency, LABELS)))\n",
        "freq_sorted = np.array(freq_sorted)\n",
        "\n",
        "plt.figure(figsize=(8,10))\n",
        "plt.title(\"Attribute Frequencies\")\n",
        "plt.yticks(np.arange(N_ATTRIBUTES),labels=labels_sorted, fontsize=10)\n",
        "plt.axvline(x=0.5)\n",
        "plt.barh(np.arange(N_ATTRIBUTES), freq_sorted);"
      ],
      "execution_count": null,
      "outputs": [
        {
          "data": {
            "image/png": "[encoded data removed]",
            "text/plain": [
              "<Figure size 576x720 with 1 Axes>"
            ]
          },
          "metadata": {},
          "output_type": "display_data"
        }
      ]
    },
    {
      "cell_type": "code",
      "metadata": {
        "id": "s2KkgL7mqK1b"
      },
      "source": [
        "feature_extractor = tf.keras.applications.MobileNetV2(\n",
        "    include_top=False,\n",
        "    weights=\"imagenet\",\n",
        "    input_shape = (224,224,3),\n",
        "    pooling='avg'\n",
        ")"
      ],
      "execution_count": null,
      "outputs": []
    },
    {
      "cell_type": "code",
      "metadata": {
        "colab": {
          "base_uri": "https://localhost:8080/"
        },
        "id": "p4CQdJfTsX8i",
        "outputId": "ece6a5db-dbb4-4351-9c48-00e069c0f421"
      },
      "source": [
        "input_shape = (218,178,3)\n",
        "target_shape= (224,224,3)\n",
        "\n",
        "h,w,_ = input_shape\n",
        "\n",
        "halfh = (target_shape[0]-h)/2\n",
        "halfw = (target_shape[1]-w)/2\n",
        "\n",
        "padup, paddown = int(np.ceil(halfh)), int(np.floor(halfh))\n",
        "padleft, padright = int(np.ceil(halfw)), int(np.floor(halfw))\n",
        "\n",
        "img_up = tf.pad(batch_img, [[0,0],[padup,paddown],[padleft,padright],[0,0]],constant_values=-1)\n",
        "plt.imshow(img_up[0]*0.5+0.5)\n"
      ],
      "execution_count": null,
      "outputs": [
        {
          "data": {
            "text/plain": [
              "<matplotlib.image.AxesImage at 0x7fa0e61f9e90>"
            ]
          },
          "execution_count": 15,
          "metadata": {},
          "output_type": "execute_result"
        },
        {
          "data": {
            "image/png": "[encoded data removed]",
            "text/plain": [
              "<Figure size 432x288 with 1 Axes>"
            ]
          },
          "metadata": {},
          "output_type": "display_data"
        }
      ]
    },
    {
      "cell_type": "code",
      "metadata": {
        "colab": {
          "background_save": true
        },
        "id": "xGoX17tRttXE",
        "outputId": "936d327b-dde8-48b8-ba4a-65fc191476de"
      },
      "source": [
        "ENABLE_WANDB = True #@param {type:\"boolean\"}\n",
        "WANDB_RESUME = False #@param {type:\"boolean\"}\n",
        "\n",
        "resume_id = \"\" #@param {type: \"string\"}\n",
        "WANDB_RESUME = (resume_id if WANDB_RESUME else False)\n",
        "\n",
        "project_name = \"GAN\" #@param {type: \"string\"}\n",
        "model_name = \"mobilenet_40attr_218x178_weighted\" #@param {type: \"string\"}\n",
        "experiment_name = \"mobilenet_40attr_218x178_weighted\" #@param {type: \"string\"}\n",
        "\n",
        "assert '-' not in model_name\n",
        "assert ' ' not in model_name\n",
        "\n",
        "if ENABLE_WANDB:\n",
        "    !pip install wandb > /dev/null\n",
        "    !wandb login\n",
        "    import wandb\n",
        "    from wandb.keras import WandbCallback\n",
        "    run = wandb.init(project=project_name, \n",
        "                     name=experiment_name, \n",
        "                     resume=WANDB_RESUME)\n",
        "    "
      ],
      "execution_count": null,
      "outputs": [
        {
          "name": "stdout",
          "output_type": "stream",
          "text": [
            "\u001b[34m\u001b[1mwandb\u001b[0m: Currently logged in as: \u001b[33mbuio\u001b[0m (use `wandb login --relogin` to force relogin)\n"
          ]
        },
        {
          "name": "stderr",
          "output_type": "stream",
          "text": [
            "\u001b[34m\u001b[1mwandb\u001b[0m: Currently logged in as: \u001b[33mbuio\u001b[0m (use `wandb login --relogin` to force relogin)\n"
          ]
        },
        {
          "data": {
            "text/html": [
              "\n",
              "                    Syncing run <strong><a href=\"https://wandb.ai/buio/GAN/runs/zd9xh3kq\" target=\"_blank\">mobilenet_40attr_218x178_weighted</a></strong> to <a href=\"https://wandb.ai/buio/GAN\" target=\"_blank\">Weights & Biases</a> (<a href=\"https://docs.wandb.com/integrations/jupyter.html\" target=\"_blank\">docs</a>).<br/>\n",
              "\n",
              "                "
            ],
            "text/plain": [
              "<IPython.core.display.HTML object>"
            ]
          },
          "metadata": {},
          "output_type": "display_data"
        }
      ]
    },
    {
      "cell_type": "code",
      "metadata": {
        "colab": {
          "background_save": true
        },
        "id": "FDl1m_MOuNcH"
      },
      "source": [
        "from wandb.keras import WandbCallback"
      ],
      "execution_count": null,
      "outputs": []
    },
    {
      "cell_type": "code",
      "metadata": {
        "id": "sT-k_SpZsh1U",
        "colab": {
          "base_uri": "https://localhost:8080/"
        },
        "outputId": "11e0428c-68da-4203-f79c-5f3b2183fd35"
      },
      "source": [
        "SHAPE =(218,178,3)\n",
        "# do just transfer learning\n",
        "feature_extractor.trainable = False\n",
        "\n",
        "img_in = layers.Input(shape=SHAPE, name='img_input')\n",
        "\n",
        "#img_up = tf.image.resize(img_in, (229, 229), method='bilinear', antialias=True, name='upsample_BILINEAR')\n",
        "#img_up = tf.image.resize(img_in, (128, 128), method='bilinear', antialias=True, name='upsample_BILINEAR')\n",
        "#img_up = tf.pad(img_in, [[0,0],[padup,paddown],[padleft,padright],[0,0]],constant_values=-1)\n",
        "img_up = tf.keras.layers.ZeroPadding2D([(padup,paddown),(padleft,padright)])(img_in)\n",
        "\n",
        "img_repr = feature_extractor(img_up)\n",
        "img_repr = tf.keras.layers.Flatten()(img_repr)\n",
        "classifier = layers.Dense(N_ATTRIBUTES, activation='linear', name='classifier')(img_repr)\n",
        "attr_class = keras.Model(inputs=[img_in], outputs=[classifier])\n",
        "\n",
        "optim = keras.optimizers.Adam(learning_rate=0.0002)\n",
        "attr_class.compile(optim, weighted_bce_from_logits, metrics = ['binary_accuracy', f1_metric_logits] )\n",
        "\n",
        "es_callback = tf.keras.callbacks.EarlyStopping(\n",
        "    monitor=\"val_loss\",\n",
        "    patience=2,\n",
        "    mode=\"auto\",\n",
        ")\n",
        "\n",
        "attr_class.summary()\n",
        "attr_class.fit(dataset_train, validation_data=dataset_val, epochs=10, callbacks =[es_callback, WandbCallback(log_batch_frequency=10, verbose=1)])"
      ],
      "execution_count": 18,
      "outputs": [
        {
          "output_type": "stream",
          "name": "stdout",
          "text": [
            "Model: \"model\"\n",
            "_________________________________________________________________\n",
            "Layer (type)                 Output Shape              Param #   \n",
            "=================================================================\n",
            "img_input (InputLayer)       [(None, 218, 178, 3)]     0         \n",
            "_________________________________________________________________\n",
            "zero_padding2d (ZeroPadding2 (None, 224, 224, 3)       0         \n",
            "_________________________________________________________________\n",
            "mobilenetv2_1.00_224 (Functi (None, 1280)              2257984   \n",
            "_________________________________________________________________\n",
            "flatten (Flatten)            (None, 1280)              0         \n",
            "_________________________________________________________________\n",
            "classifier (Dense)           (None, 40)                51240     \n",
            "=================================================================\n",
            "Total params: 2,309,224\n",
            "Trainable params: 51,240\n",
            "Non-trainable params: 2,257,984\n",
            "_________________________________________________________________\n",
            "Epoch 1/10\n",
            "2850/2850 [==============================] - 264s 91ms/step - loss: 0.3783 - binary_accuracy: 0.8583 - f1_metric_logits: 0.4715 - val_loss: 0.3505 - val_binary_accuracy: 0.8678 - val_f1_metric_logits: 0.5510\n",
            "Epoch 00000: val_loss improved from inf to 0.35045, saving model to /content/wandb/run-20211021_102024-zd9xh3kq/files/model-best.h5\n"
          ]
        },
        {
          "output_type": "stream",
          "name": "stderr",
          "text": [
            "/usr/local/lib/python3.7/dist-packages/keras/utils/generic_utils.py:497: CustomMaskWarning: Custom mask layers require a config and must override get_config. When loading, the custom mask layer must be passed to the custom_objects argument.\n",
            "  category=CustomMaskWarning)\n"
          ]
        },
        {
          "output_type": "stream",
          "name": "stdout",
          "text": [
            "Epoch 2/10\n",
            "2850/2850 [==============================] - 239s 84ms/step - loss: 0.3431 - binary_accuracy: 0.8711 - f1_metric_logits: 0.5501 - val_loss: 0.3400 - val_binary_accuracy: 0.8722 - val_f1_metric_logits: 0.5785\n",
            "Epoch 00001: val_loss improved from 0.35045 to 0.33995, saving model to /content/wandb/run-20211021_102024-zd9xh3kq/files/model-best.h5\n",
            "Epoch 3/10\n",
            "2850/2850 [==============================] - 236s 83ms/step - loss: 0.3358 - binary_accuracy: 0.8739 - f1_metric_logits: 0.5652 - val_loss: 0.3356 - val_binary_accuracy: 0.8737 - val_f1_metric_logits: 0.5885\n",
            "Epoch 00002: val_loss improved from 0.33995 to 0.33559, saving model to /content/wandb/run-20211021_102024-zd9xh3kq/files/model-best.h5\n",
            "Epoch 4/10\n",
            "2850/2850 [==============================] - 237s 83ms/step - loss: 0.3319 - binary_accuracy: 0.8754 - f1_metric_logits: 0.5728 - val_loss: 0.3331 - val_binary_accuracy: 0.8747 - val_f1_metric_logits: 0.5946\n",
            "Epoch 00003: val_loss improved from 0.33559 to 0.33311, saving model to /content/wandb/run-20211021_102024-zd9xh3kq/files/model-best.h5\n",
            "Epoch 5/10\n",
            "2850/2850 [==============================] - 237s 83ms/step - loss: 0.3293 - binary_accuracy: 0.8763 - f1_metric_logits: 0.5778 - val_loss: 0.3317 - val_binary_accuracy: 0.8748 - val_f1_metric_logits: 0.5957\n",
            "Epoch 00004: val_loss improved from 0.33311 to 0.33172, saving model to /content/wandb/run-20211021_102024-zd9xh3kq/files/model-best.h5\n",
            "Epoch 6/10\n",
            "2850/2850 [==============================] - 238s 83ms/step - loss: 0.3275 - binary_accuracy: 0.8770 - f1_metric_logits: 0.5812 - val_loss: 0.3302 - val_binary_accuracy: 0.8760 - val_f1_metric_logits: 0.5996\n",
            "Epoch 00005: val_loss improved from 0.33172 to 0.33015, saving model to /content/wandb/run-20211021_102024-zd9xh3kq/files/model-best.h5\n",
            "Epoch 7/10\n",
            "2850/2850 [==============================] - 238s 83ms/step - loss: 0.3261 - binary_accuracy: 0.8775 - f1_metric_logits: 0.5837 - val_loss: 0.3296 - val_binary_accuracy: 0.8759 - val_f1_metric_logits: 0.5996\n",
            "Epoch 00006: val_loss improved from 0.33015 to 0.32962, saving model to /content/wandb/run-20211021_102024-zd9xh3kq/files/model-best.h5\n",
            "Epoch 8/10\n",
            "2850/2850 [==============================] - 238s 83ms/step - loss: 0.3251 - binary_accuracy: 0.8779 - f1_metric_logits: 0.5857 - val_loss: 0.3290 - val_binary_accuracy: 0.8761 - val_f1_metric_logits: 0.6013\n",
            "Epoch 00007: val_loss improved from 0.32962 to 0.32903, saving model to /content/wandb/run-20211021_102024-zd9xh3kq/files/model-best.h5\n",
            "Epoch 9/10\n",
            "2850/2850 [==============================] - 239s 84ms/step - loss: 0.3242 - binary_accuracy: 0.8782 - f1_metric_logits: 0.5879 - val_loss: 0.3284 - val_binary_accuracy: 0.8766 - val_f1_metric_logits: 0.6020\n",
            "Epoch 00008: val_loss improved from 0.32903 to 0.32841, saving model to /content/wandb/run-20211021_102024-zd9xh3kq/files/model-best.h5\n",
            "Epoch 10/10\n",
            "2850/2850 [==============================] - 238s 83ms/step - loss: 0.3235 - binary_accuracy: 0.8784 - f1_metric_logits: 0.5892 - val_loss: 0.3281 - val_binary_accuracy: 0.8772 - val_f1_metric_logits: 0.6054\n",
            "Epoch 00009: val_loss improved from 0.32841 to 0.32805, saving model to /content/wandb/run-20211021_102024-zd9xh3kq/files/model-best.h5\n"
          ]
        },
        {
          "output_type": "execute_result",
          "data": {
            "text/plain": [
              "<keras.callbacks.History at 0x7fa1724328d0>"
            ]
          },
          "metadata": {},
          "execution_count": 18
        }
      ]
    },
    {
      "cell_type": "code",
      "metadata": {
        "id": "HPff2XmWDXfO",
        "colab": {
          "base_uri": "https://localhost:8080/"
        },
        "outputId": "4486b23f-529e-45d9-98bd-8bd11a565e8a"
      },
      "source": [
        "# fine tuning of entire network with 1/10 lr\n",
        "for layer in attr_class.layers:\n",
        "    layer.trainable = True\n",
        "\n",
        "es_callback = tf.keras.callbacks.EarlyStopping(\n",
        "    monitor=\"val_loss\",\n",
        "    patience=1,\n",
        "    mode=\"auto\",\n",
        ")\n",
        "\n",
        "attr_class.summary()\n",
        "\n",
        "optim.learning_rate = 0.00002\n",
        "\n",
        "attr_class.compile(optim, \n",
        "                   weighted_bce_from_logits, \n",
        "                   metrics = ['binary_accuracy', f1_metric_logits] )\n",
        "\n",
        "attr_class.fit(dataset_train, validation_data=dataset_val, epochs=10, \n",
        "               callbacks = [es_callback, WandbCallback(log_batch_frequency=10, verbose=1)])"
      ],
      "execution_count": 19,
      "outputs": [
        {
          "output_type": "stream",
          "name": "stdout",
          "text": [
            "Model: \"model\"\n",
            "_________________________________________________________________\n",
            "Layer (type)                 Output Shape              Param #   \n",
            "=================================================================\n",
            "img_input (InputLayer)       [(None, 218, 178, 3)]     0         \n",
            "_________________________________________________________________\n",
            "zero_padding2d (ZeroPadding2 (None, 224, 224, 3)       0         \n",
            "_________________________________________________________________\n",
            "mobilenetv2_1.00_224 (Functi (None, 1280)              2257984   \n",
            "_________________________________________________________________\n",
            "flatten (Flatten)            (None, 1280)              0         \n",
            "_________________________________________________________________\n",
            "classifier (Dense)           (None, 40)                51240     \n",
            "=================================================================\n",
            "Total params: 2,309,224\n",
            "Trainable params: 2,275,112\n",
            "Non-trainable params: 34,112\n",
            "_________________________________________________________________\n",
            "Epoch 1/10\n",
            "   6/2850 [..............................] - ETA: 15:18 - loss: 0.5285 - binary_accuracy: 0.8079 - f1_metric_logits: 0.3689WARNING:tensorflow:Callback method `on_train_batch_end` is slow compared to the batch time (batch time: 0.0924s vs `on_train_batch_end` time: 0.1925s). Check your callbacks.\n",
            "2850/2850 [==============================] - 959s 334ms/step - loss: 0.2768 - binary_accuracy: 0.8982 - f1_metric_logits: 0.6559 - val_loss: 0.2561 - val_binary_accuracy: 0.9076 - val_f1_metric_logits: 0.6999\n",
            "Epoch 00000: val_loss improved from 0.32805 to 0.25607, saving model to /content/wandb/run-20211021_102024-zd9xh3kq/files/model-best.h5\n"
          ]
        },
        {
          "output_type": "stream",
          "name": "stderr",
          "text": [
            "/usr/local/lib/python3.7/dist-packages/keras/utils/generic_utils.py:497: CustomMaskWarning: Custom mask layers require a config and must override get_config. When loading, the custom mask layer must be passed to the custom_objects argument.\n",
            "  category=CustomMaskWarning)\n"
          ]
        },
        {
          "output_type": "stream",
          "name": "stdout",
          "text": [
            "Epoch 2/10\n",
            "2850/2850 [==============================] - 930s 326ms/step - loss: 0.2458 - binary_accuracy: 0.9094 - f1_metric_logits: 0.6993 - val_loss: 0.2422 - val_binary_accuracy: 0.9113 - val_f1_metric_logits: 0.7215\n",
            "Epoch 00001: val_loss improved from 0.25607 to 0.24219, saving model to /content/wandb/run-20211021_102024-zd9xh3kq/files/model-best.h5\n",
            "Epoch 3/10\n",
            "2850/2850 [==============================] - 932s 327ms/step - loss: 0.2352 - binary_accuracy: 0.9133 - f1_metric_logits: 0.7148 - val_loss: 0.2364 - val_binary_accuracy: 0.9132 - val_f1_metric_logits: 0.7283\n",
            "Epoch 00002: val_loss improved from 0.24219 to 0.23638, saving model to /content/wandb/run-20211021_102024-zd9xh3kq/files/model-best.h5\n",
            "Epoch 4/10\n",
            "2850/2850 [==============================] - 933s 327ms/step - loss: 0.2282 - binary_accuracy: 0.9158 - f1_metric_logits: 0.7251 - val_loss: 0.2334 - val_binary_accuracy: 0.9141 - val_f1_metric_logits: 0.7320\n",
            "Epoch 00003: val_loss improved from 0.23638 to 0.23342, saving model to /content/wandb/run-20211021_102024-zd9xh3kq/files/model-best.h5\n",
            "Epoch 5/10\n",
            "2850/2850 [==============================] - 938s 329ms/step - loss: 0.2228 - binary_accuracy: 0.9178 - f1_metric_logits: 0.7332 - val_loss: 0.2314 - val_binary_accuracy: 0.9147 - val_f1_metric_logits: 0.7365\n",
            "Epoch 00004: val_loss improved from 0.23342 to 0.23142, saving model to /content/wandb/run-20211021_102024-zd9xh3kq/files/model-best.h5\n",
            "Epoch 6/10\n",
            "2850/2850 [==============================] - 933s 327ms/step - loss: 0.2182 - binary_accuracy: 0.9194 - f1_metric_logits: 0.7399 - val_loss: 0.2313 - val_binary_accuracy: 0.9147 - val_f1_metric_logits: 0.7368\n",
            "Epoch 00005: val_loss improved from 0.23142 to 0.23127, saving model to /content/wandb/run-20211021_102024-zd9xh3kq/files/model-best.h5\n",
            "Epoch 7/10\n",
            "2850/2850 [==============================] - 933s 327ms/step - loss: 0.2141 - binary_accuracy: 0.9209 - f1_metric_logits: 0.7451 - val_loss: 0.2303 - val_binary_accuracy: 0.9153 - val_f1_metric_logits: 0.7401\n",
            "Epoch 00006: val_loss improved from 0.23127 to 0.23029, saving model to /content/wandb/run-20211021_102024-zd9xh3kq/files/model-best.h5\n",
            "Epoch 8/10\n",
            "2850/2850 [==============================] - 932s 327ms/step - loss: 0.2102 - binary_accuracy: 0.9223 - f1_metric_logits: 0.7516 - val_loss: 0.2305 - val_binary_accuracy: 0.9152 - val_f1_metric_logits: 0.7398\n"
          ]
        },
        {
          "output_type": "execute_result",
          "data": {
            "text/plain": [
              "<keras.callbacks.History at 0x7fa1725513d0>"
            ]
          },
          "metadata": {},
          "execution_count": 19
        }
      ]
    },
    {
      "cell_type": "code",
      "metadata": {
        "id": "HeZvWTq-Rw6I"
      },
      "source": [
        "SAVE_PATH = 'models/'\n",
        "os.makedirs(SAVE_PATH, exist_ok=True)\n",
        "\n",
        "attr_class.save(SAVE_PATH + model_name, save_format='tf')\n",
        "artifact = wandb.Artifact(model_name, type='model')\n",
        "artifact.add_dir(SAVE_PATH)\n",
        "run.log_artifact(artifact)"
      ],
      "execution_count": null,
      "outputs": []
    },
    {
      "cell_type": "code",
      "metadata": {
        "id": "_46KC4BISHpl",
        "colab": {
          "base_uri": "https://localhost:8080/",
          "height": 651,
          "referenced_widgets": [
            "2ac5bdd9e1714c99b6b63a272eff5a08"
          ]
        },
        "outputId": "7897db70-b515-4f28-8b85-8f2bc94f092f"
      },
      "source": [
        "run.finish()"
      ],
      "execution_count": 21,
      "outputs": [
        {
          "data": {
            "text/html": [
              "<br/>Waiting for W&B process to finish, PID 506... <strong style=\"color:green\">(success).</strong>"
            ],
            "text/plain": [
              "<IPython.core.display.HTML object>"
            ]
          },
          "metadata": {},
          "output_type": "display_data"
        },
        {
          "data": {
            "application/vnd.jupyter.widget-view+json": {
              "model_id": "2ac5bdd9e1714c99b6b63a272eff5a08",
              "version_major": 2,
              "version_minor": 0
            },
            "text/plain": [
              "VBox(children=(Label(value=' 58.16MB of 58.16MB uploaded (0.00MB deduped)\\r'), FloatProgress(value=1.0, max=1.…"
            ]
          },
          "metadata": {},
          "output_type": "display_data"
        },
        {
          "data": {
            "text/html": [
              "<style>\n",
              "    table.wandb td:nth-child(1) { padding: 0 10px; text-align: right }\n",
              "    .wandb-row { display: flex; flex-direction: row; flex-wrap: wrap; width: 100% }\n",
              "    .wandb-col { display: flex; flex-direction: column; flex-basis: 100%; flex: 1; padding: 10px; }\n",
              "    </style>\n",
              "<div class=\"wandb-row\"><div class=\"wandb-col\">\n",
              "<h3>Run history:</h3><br/><table class=\"wandb\"><tr><td>binary_accuracy</td><td>▁▂▄▄▄▄▄▄▄▄▄▄▄▄▄▄▄▄▄▄▄▄▄▆▆▇▇▇▇▇▇█████████</td></tr><tr><td>epoch</td><td>▁▂▃▃▄▅▆▆▇█▁▂▃▃▄▅▆▆</td></tr><tr><td>f1_metric_logits</td><td>▁▃▄▄▅▅▅▅▅▅▅▅▅▅▅▅▅▅▅▅▅▅▅▆▆▇▇▇▇▇██████████</td></tr><tr><td>loss</td><td>█▇▅▅▅▅▅▅▅▅▅▅▅▅▅▅▅▅▅▅▅▅▅▄▃▂▂▂▂▂▂▁▁▁▁▁▁▁▁▁</td></tr><tr><td>val_binary_accuracy</td><td>▁▂▂▂▂▂▂▂▂▂▇▇██████</td></tr><tr><td>val_f1_metric_logits</td><td>▁▂▂▃▃▃▃▃▃▃▇▇██████</td></tr><tr><td>val_loss</td><td>█▇▇▇▇▇▇▇▇▇▃▂▁▁▁▁▁▁</td></tr></table><br/></div><div class=\"wandb-col\">\n",
              "<h3>Run summary:</h3><br/><table class=\"wandb\"><tr><td>best_epoch</td><td>6</td></tr><tr><td>best_val_loss</td><td>0.23029</td></tr><tr><td>binary_accuracy</td><td>0.92228</td></tr><tr><td>epoch</td><td>7</td></tr><tr><td>f1_metric_logits</td><td>0.7516</td></tr><tr><td>loss</td><td>0.21016</td></tr><tr><td>val_binary_accuracy</td><td>0.91521</td></tr><tr><td>val_f1_metric_logits</td><td>0.73978</td></tr><tr><td>val_loss</td><td>0.23048</td></tr></table>\n",
              "</div></div>\n",
              "Synced 5 W&B file(s), 1 media file(s), 4 artifact file(s) and 2 other file(s)\n",
              "<br/>Synced <strong style=\"color:#cdcd00\">mobilenet_40attr_218x178_weighted</strong>: <a href=\"https://wandb.ai/buio/GAN/runs/zd9xh3kq\" target=\"_blank\">https://wandb.ai/buio/GAN/runs/zd9xh3kq</a><br/>\n",
              "Find logs at: <code>./wandb/run-20211021_102024-zd9xh3kq/logs</code><br/>\n"
            ],
            "text/plain": [
              "<IPython.core.display.HTML object>"
            ]
          },
          "metadata": {},
          "output_type": "display_data"
        }
      ]
    },
    {
      "cell_type": "markdown",
      "metadata": {
        "id": "eE5bXcH-7_WF"
      },
      "source": [
        "# Load Trained Classifier"
      ]
    },
    {
      "cell_type": "code",
      "metadata": {
        "id": "HOVQqaWjKeTY"
      },
      "source": [
        "#@title Load Multilabel Classifier Model{form-width: \"30%\", display-mode: \"both\" }\n",
        "\n",
        "#refactor to attribute accuracy logger\n",
        "ENABLE_LOAD = True #@param {type:\"boolean\"}\n",
        "\n",
        "if N_ATTRIBUTES == 2:\n",
        "    resume_id = \"2hxg7lvr\"\n",
        "    model_name = experiment_name = \"mobilenet_2attr\"\n",
        "elif N_ATTRIBUTES == 10:\n",
        "    resume_id = \"3pxaxlw4\"\n",
        "    model_name = experiment_name = \"mobilenet_10attr\"\n",
        "elif N_ATTRIBUTES == 40:\n",
        "    resume_id = \"joo3ui3c\"\n",
        "    model_name = experiment_name = \"mobilenet_40attr\"\n",
        "\n",
        "else:\n",
        "    print(\"N_ATTRIBUTES=\", N_ATTRIBUTES, \"skipping classifier load\")\n",
        "    ENABLE_LOAD = False\n",
        "\n",
        "print(\"Using:\",N_ATTRIBUTES,\"attributes\")\n",
        "\n",
        "if ENABLE_LOAD:\n",
        "    WANDB_MODE='online'\n",
        "    project_name = \"GAN\"\n",
        "    !pip install wandb > /dev/null\n",
        "    !wandb online\n",
        "    import wandb\n",
        "    from wandb.keras import WandbCallback\n",
        "    run = wandb.init(project=project_name, \n",
        "                     name=experiment_name, \n",
        "                     id=resume_id, resume=True)\n",
        "\n",
        "    run_name = 'buio/GAN/'+ model_name\n",
        "    artifact_run = run_name +':latest'\n",
        "\n",
        "    artifact = run.use_artifact(artifact_run, type='model')\n",
        "    artifact_dir = artifact.download()\n",
        "    attribute_classifier = tf.keras.models.load_model(os.path.join(artifact_dir, model_name))\n",
        "\n",
        "    attribute_classifier.compile(loss=keras.losses.BinaryCrossentropy(), metrics='binary_accuracy')\n",
        "    #loss, gen_attr_accuracy = attribute_classifier.evaluate(dataset_df)\n",
        "    #gen_attr_accuracy\n",
        "\n",
        "    run.finish()"
      ],
      "execution_count": null,
      "outputs": []
    },
    {
      "cell_type": "code",
      "metadata": {
        "id": "jnUTFpohREp1"
      },
      "source": [
        "pred_attr = np.zeros((len(dataset_val)*BATCH_SIZE, N_ATTRIBUTES))\n",
        "real_attr = np.zeros_like(pred_attr)\n",
        "\n",
        "print(real_attr.shape)\n",
        "for i,(batch_images, batch_attr) in tqdm(enumerate(dataset_val)):\n",
        "    batch_len = len(batch_images)\n",
        "\n",
        "    pred_attr[i*batch_len:(i+1)*batch_len] = attribute_classifier.predict(batch_images)\n",
        "    real_attr[i*batch_len:(i+1)*batch_len] = batch_attr\n",
        "\n"
      ],
      "execution_count": null,
      "outputs": []
    },
    {
      "cell_type": "code",
      "metadata": {
        "id": "jVzER2P_T9ir"
      },
      "source": [
        "matches = np.zeros_like(pred_attr, dtype='int')\n",
        "# discretize predictions\n",
        "pred_attr[pred_attr>0.5] =1\n",
        "pred_attr[pred_attr!=1] = 0\n",
        "\n",
        "# compute accuracy: matches/total\n",
        "matches[pred_attr == real_attr] = 1\n",
        "matches.shape\n",
        "total_matches = np.sum(matches, axis=0)\n",
        "\n",
        "attribute_accuracy = total_matches/(len(dataset_val)*BATCH_SIZE)\n",
        "\n",
        "# compute precision: true positives/ total retrieved positives: how valid\n",
        "true_positives = pred_attr * matches\n",
        "attribute_precision = np.sum(true_positives,axis=0) / np.sum(pred_attr,axis=0)\n",
        "\n",
        "# compute recall: true positives/total positives : how complete\n",
        "attribute_recall =  np.sum(true_positives,axis=0)/ np.sum(real_attr,axis=0)\n",
        "\n",
        "attribute_f1_score = 2*attribute_precision*attribute_recall/(attribute_precision+attribute_recall)\n",
        "\n",
        "# shows how much each attribute is well predicted\n",
        "def barplot_metric(metric, title):\n",
        "\n",
        "    metric_sorted, labels_sorted  = zip(*sorted(zip(metric, LABELS)))\n",
        "    metric_sorted = np.array(acc_sorted)\n",
        "\n",
        "    plt.figure(figsize=(8,10))\n",
        "    plt.title(title)\n",
        "    plt.yticks(np.arange(N_ATTRIBUTES),labels=labels_sorted, fontsize=10)\n",
        "    plt.axvline(x=0.9)\n",
        "    plt.barh(np.arange(N_ATTRIBUTES), metric_sorted);\n",
        "    plt.show()\n",
        "    return labels_sorted[:-11:-1]\n",
        "\n",
        "aa = barplot_metric(attribute_accuracy, \"Attribute Accuracy\")\n",
        "pp = barplot_metric(attribute_precision,\"Attribute Precision\")\n",
        "rr = barplot_metric(attribute_recall, \"Attribute Recall\")\n",
        "f1 = barplot_metric(attribute_f1_score, \"Attribute F1-score\")\n",
        "\n",
        "aa = set(aa)\n",
        "pp = set(pp)\n",
        "rr = set(rr)\n",
        "\n",
        "# Male, Eyeglasses"
      ],
      "execution_count": null,
      "outputs": []
    }
  ]
}